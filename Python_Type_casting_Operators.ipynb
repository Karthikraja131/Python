{
  "cells": [
    {
      "cell_type": "markdown",
      "metadata": {
        "id": "view-in-github",
        "colab_type": "text"
      },
      "source": [
        "<a href=\"https://colab.research.google.com/github/Karthikraja131/Python/blob/main/Python_Type_casting_Operators.ipynb\" target=\"_parent\"><img src=\"https://colab.research.google.com/assets/colab-badge.svg\" alt=\"Open In Colab\"/></a>"
      ]
    },
    {
      "cell_type": "markdown",
      "metadata": {
        "id": "lg3Iz8f0x66O"
      },
      "source": [
        "##Type casting\n",
        "It is a process of converting a variable from one data type to another in Python."
      ]
    },
    {
      "cell_type": "code",
      "execution_count": null,
      "metadata": {
        "colab": {
          "base_uri": "https://localhost:8080/"
        },
        "id": "cPjpkMpQvzuS",
        "outputId": "520d30ff-b143-4e55-e17c-33d4994fd023"
      },
      "outputs": [
        {
          "output_type": "stream",
          "name": "stdout",
          "text": [
            "123\n",
            "123\n",
            "1\n",
            "0\n",
            "10\n"
          ]
        }
      ],
      "source": [
        "# int() Type casting\n",
        "\n",
        "print(int(123.45))\n",
        "print(int(123.789641122321))\n",
        "print(int(True))\n",
        "print(int(False))\n",
        "print((int(\"10\")))"
      ]
    },
    {
      "cell_type": "code",
      "execution_count": null,
      "metadata": {
        "colab": {
          "base_uri": "https://localhost:8080/"
        },
        "id": "TV48VD7jwepj",
        "outputId": "eba6acda-3e91-4257-85ac-153c7c7f4ea0"
      },
      "outputs": [
        {
          "output_type": "stream",
          "name": "stdout",
          "text": [
            "10.0\n",
            "1.0\n",
            "0.0\n",
            "20.0\n",
            "20.5\n"
          ]
        }
      ],
      "source": [
        "# float()\n",
        "\n",
        "print(float(10))\n",
        "print(float(True))\n",
        "print(float(False))\n",
        "print(float(\"20\"))\n",
        "print(float(\"20.5\"))\n"
      ]
    },
    {
      "cell_type": "code",
      "execution_count": null,
      "metadata": {
        "colab": {
          "base_uri": "https://localhost:8080/",
          "height": 141
        },
        "id": "igdUqe2e40wa",
        "outputId": "32f21287-872b-4a84-c4e0-4b7e21a74f04"
      },
      "outputs": [
        {
          "output_type": "error",
          "ename": "ValueError",
          "evalue": "could not convert string to float: 'Karhtik'",
          "traceback": [
            "\u001b[0;31m---------------------------------------------------------------------------\u001b[0m",
            "\u001b[0;31mValueError\u001b[0m                                Traceback (most recent call last)",
            "\u001b[0;32m<ipython-input-3-eaf946abf087>\u001b[0m in \u001b[0;36m<cell line: 1>\u001b[0;34m()\u001b[0m\n\u001b[0;32m----> 1\u001b[0;31m \u001b[0mprint\u001b[0m\u001b[0;34m(\u001b[0m\u001b[0mfloat\u001b[0m\u001b[0;34m(\u001b[0m\u001b[0;34m'Karhtik'\u001b[0m\u001b[0;34m)\u001b[0m\u001b[0;34m)\u001b[0m\u001b[0;34m\u001b[0m\u001b[0;34m\u001b[0m\u001b[0m\n\u001b[0m",
            "\u001b[0;31mValueError\u001b[0m: could not convert string to float: 'Karhtik'"
          ]
        }
      ],
      "source": [
        "#print(float('Karhtik'))"
      ]
    },
    {
      "cell_type": "code",
      "execution_count": null,
      "metadata": {
        "id": "aOlWYcUIwerr"
      },
      "outputs": [],
      "source": []
    },
    {
      "cell_type": "markdown",
      "source": [
        "## bool\n",
        "Bools (True/False) in Python are like tiny decision-makers. They control program flow based on conditions:\n",
        "\n",
        "**If/else:** Choose between code blocks based on True/False.\n",
        "**Loops:** Loop while something is True, stop when False.\n",
        "**Comparisons:** Check if values are equal, greater/less than, etc. (True/False result).\n",
        "**Checking flags/states:** Keep track of program status (on/off, done/not done)."
      ],
      "metadata": {
        "id": "GNRbocRTISTc"
      }
    },
    {
      "cell_type": "markdown",
      "source": [],
      "metadata": {
        "id": "G4KUg-E3IPUZ"
      }
    },
    {
      "cell_type": "code",
      "execution_count": null,
      "metadata": {
        "colab": {
          "base_uri": "https://localhost:8080/"
        },
        "id": "PJVmsX5Ozpg4",
        "outputId": "d57d499a-9d4a-4c0c-e4e9-dffd2de2c71f"
      },
      "outputs": [
        {
          "output_type": "stream",
          "name": "stdout",
          "text": [
            "False\n",
            "True\n",
            "False\n",
            "True\n",
            "True\n",
            "False\n",
            "True\n",
            "True\n",
            "True\n",
            "True\n",
            "False\n"
          ]
        }
      ],
      "source": [
        "print(bool(0))\n",
        "print(bool(1))\n",
        "print(bool(0.0))\n",
        "print(bool(5))\n",
        "print(bool(0.5))\n",
        "print(bool(\"\"))\n",
        "print(bool(\"Hi\"))\n",
        "print(bool(\"True\"))\n",
        "print(bool(\"False\"))\n",
        "print(bool(\" \"))\n",
        "print(bool(False))     # bool value"
      ]
    },
    {
      "cell_type": "code",
      "execution_count": null,
      "metadata": {
        "id": "nqVLZBLGzpjW"
      },
      "outputs": [],
      "source": [
        "# Str"
      ]
    },
    {
      "cell_type": "code",
      "execution_count": null,
      "metadata": {
        "id": "bB9wvXvmweul",
        "colab": {
          "base_uri": "https://localhost:8080/"
        },
        "outputId": "e95047c1-a0db-441f-e492-4f5ced8ebd48"
      },
      "outputs": [
        {
          "output_type": "stream",
          "name": "stdout",
          "text": [
            "10\n",
            "10.5\n",
            "True\n"
          ]
        }
      ],
      "source": [
        "print(str(10))\n",
        "print(str(10.5))\n",
        "print(str(True))"
      ]
    },
    {
      "cell_type": "code",
      "execution_count": null,
      "metadata": {
        "id": "fqlikBhIwfAp",
        "colab": {
          "base_uri": "https://localhost:8080/",
          "height": 106
        },
        "outputId": "165f6d35-7381-4cb2-fca2-fcd4098f0ced"
      },
      "outputs": [
        {
          "output_type": "error",
          "ename": "SyntaxError",
          "evalue": "invalid syntax. Perhaps you forgot a comma? (<ipython-input-8-23609889f4d3>, line 1)",
          "traceback": [
            "\u001b[0;36m  File \u001b[0;32m\"<ipython-input-8-23609889f4d3>\"\u001b[0;36m, line \u001b[0;32m1\u001b[0m\n\u001b[0;31m    print(str(10.0.0.27))\u001b[0m\n\u001b[0m              ^\u001b[0m\n\u001b[0;31mSyntaxError\u001b[0m\u001b[0;31m:\u001b[0m invalid syntax. Perhaps you forgot a comma?\n"
          ]
        }
      ],
      "source": [
        "#print(str(10.0.0.27))"
      ]
    },
    {
      "cell_type": "code",
      "execution_count": null,
      "metadata": {
        "id": "pexKEJBmwfKc"
      },
      "outputs": [],
      "source": [
        "# Python dynamically typed programming language\n",
        "# int float complex bool str"
      ]
    },
    {
      "cell_type": "code",
      "source": [
        "# To check the type\n",
        "\n",
        "no = 5.0\n",
        "name = 'Karthik'\n",
        "karthik = True\n",
        "value = 1\n",
        "\n",
        "\n",
        "print(type(no))\n",
        "print(type(name))\n",
        "print(type(karthik))\n",
        "print(type(value))"
      ],
      "metadata": {
        "colab": {
          "base_uri": "https://localhost:8080/"
        },
        "id": "aewfweGnEE6i",
        "outputId": "9f30e22e-bdcb-4412-9b42-6b86a13b9862"
      },
      "execution_count": null,
      "outputs": [
        {
          "output_type": "stream",
          "name": "stdout",
          "text": [
            "<class 'float'>\n",
            "<class 'str'>\n",
            "<class 'bool'>\n",
            "<class 'int'>\n"
          ]
        }
      ]
    },
    {
      "cell_type": "markdown",
      "source": [
        "From the above result are showing the class why because In the Python everything will be class. we will see it later"
      ],
      "metadata": {
        "id": "DvJEIKyEGKVS"
      }
    },
    {
      "cell_type": "markdown",
      "source": [
        "## id\n",
        "\n",
        "* Returns a unique identifier for an object, typically its memory address.\n",
        "* Useful for identifying object identity, which is distinct from object value."
      ],
      "metadata": {
        "id": "uqS5kfh4Oegr"
      }
    },
    {
      "cell_type": "code",
      "source": [
        "print(id(no))\n",
        "print(id(name))\n",
        "print(id(karthik))\n",
        "print(id(value))"
      ],
      "metadata": {
        "id": "I77qXmZjEFGo",
        "colab": {
          "base_uri": "https://localhost:8080/"
        },
        "outputId": "579c92ed-97a4-49bb-8ca8-1513dff46952"
      },
      "execution_count": null,
      "outputs": [
        {
          "output_type": "stream",
          "name": "stdout",
          "text": [
            "136482386652432\n",
            "136482131300592\n",
            "94749873083424\n",
            "136482680488176\n"
          ]
        }
      ]
    },
    {
      "cell_type": "code",
      "source": [
        "state1 ='Karnataka'\n",
        "state2 = 'Karnataka'\n",
        "\n",
        "\n",
        "print(id(state1))\n",
        "print(id(state2))\n"
      ],
      "metadata": {
        "colab": {
          "base_uri": "https://localhost:8080/"
        },
        "id": "Il6hVIvxOaYV",
        "outputId": "a06531b7-9696-47e5-d745-341e9b0d7e0b"
      },
      "execution_count": null,
      "outputs": [
        {
          "output_type": "stream",
          "name": "stdout",
          "text": [
            "136482131296944\n",
            "136482131296944\n"
          ]
        }
      ]
    },
    {
      "cell_type": "markdown",
      "source": [
        "see the both Memory address are same.   it is used as memory efficient."
      ],
      "metadata": {
        "id": "MAw-8yk4Ri_M"
      }
    },
    {
      "cell_type": "code",
      "source": [
        "# now see the results the state1 have changed the memory id,\n",
        "#it won't change the existing memory, it will create the new memory\n",
        "state1 ='tamilnadu'\n",
        "state2 = 'Karnataka'\n",
        "\n",
        "print(id(state1))\n",
        "print(id(state2))"
      ],
      "metadata": {
        "id": "isfqENcRRfrM",
        "colab": {
          "base_uri": "https://localhost:8080/"
        },
        "outputId": "1bfc4e44-bfad-49de-d216-7357fefd2956"
      },
      "execution_count": null,
      "outputs": [
        {
          "output_type": "stream",
          "name": "stdout",
          "text": [
            "136482385622832\n",
            "136482131296944\n"
          ]
        }
      ]
    },
    {
      "cell_type": "markdown",
      "source": [
        "## Immutability\n",
        "\n",
        "* Immutable - not changeable\n",
        "*Mutable  - changeable\n",
        "* Immutability in Python refers to the concept of objects that cannot be changed after creation. This means once their value is set, it remains fixed throughout the program's execution.\n",
        "\n",
        "* **Immutable types:** Built-in data types like **int, float, bool, str, tuple, and frozenset** are immutable.\n",
        "\n",
        "\n",
        "* **Mutable types:** **list, dict, and custom classes** without proper protection are mutable.\n",
        "\n",
        "* Once we create an object in Python, we cannot change it. if we try to change that, a new object will be created inside memory."
      ],
      "metadata": {
        "id": "CmEK0Sf1PV4r"
      }
    },
    {
      "cell_type": "markdown",
      "source": [
        "# Constants:\n",
        "* In the other programming languages there is constant key word(final/constant).\n",
        "\n",
        "* In Python there is **no Constant**\n",
        "\n",
        "* In Python the developers write a constant as In the **Capital letters**\n",
        "(eg: INTEEST_RATE = 5 )\n",
        "but we change it."
      ],
      "metadata": {
        "id": "I-6tE_VK-TX5"
      }
    },
    {
      "cell_type": "markdown",
      "source": [
        "## Escape Characters Sequences\n",
        "\n",
        "* \\t : tab\n",
        "* \\n : next line/new line\n",
        "* print(\"I\\'m Karthikraja\")  see its output, if we want quates,  we can use the back slash"
      ],
      "metadata": {
        "id": "S9QRfZT__Nyc"
      }
    },
    {
      "cell_type": "code",
      "source": [
        "print(\"Hi Hello\")\n",
        "print(\"Hi\\tHello\")\n",
        "print(\"Hi\\nHello\")\n",
        "print(\"Hi\\Hello\")\n",
        "print(\"I\\'m Karthikraja\")"
      ],
      "metadata": {
        "colab": {
          "base_uri": "https://localhost:8080/"
        },
        "id": "8RhpMXu86xIF",
        "outputId": "5efd8f5a-4d35-4118-fe17-6b60297e5260"
      },
      "execution_count": null,
      "outputs": [
        {
          "output_type": "stream",
          "name": "stdout",
          "text": [
            "Hi Hello\n",
            "Hi\tHello\n",
            "Hi\n",
            "Hello\n",
            "Hi\\Hello\n",
            "I'm Karthikraja\n"
          ]
        }
      ]
    },
    {
      "cell_type": "markdown",
      "source": [
        "## Operators\n",
        "* Arithmatic operators + - * / % // **\n",
        "* Relational Operators > >= < <=\n",
        "* Equality Operators ==  !=\n",
        "* Logical Operators and or not\n",
        "* Bitwise operators & ^ | ~ >> <<\n",
        "* Membership Operator   in not in"
      ],
      "metadata": {
        "id": "BwCmN9I_BbuZ"
      }
    },
    {
      "cell_type": "code",
      "source": [
        "# Arithmatic operators\n",
        "print(10+5)  # Addition\n",
        "print(10-5)   # Subtraction\n",
        "print(10*5)  # multiplication\n",
        "print(10/5)  # Division\n",
        "print(10//5)   # Floor division  ( 5 is exactly two times)\n",
        "print(10/3)\n",
        "print(10//3)   # Floor division  ( 3 is exactly Three times in the 10)\n",
        "print(10%4)   # Modulus ( it prints the Remainder value of division. (O.P: 2))\n",
        "print(10%3)    # Modulus ( it prints the Remainder value of division. (O.P: 1))\n",
        "print(10**2)  # Exponentiation (power)\n",
        "print(10**3)  # Exponentiation (power)\n",
        "print(3**2)   # Exponentiation (power)"
      ],
      "metadata": {
        "colab": {
          "base_uri": "https://localhost:8080/"
        },
        "id": "Fqvjp_2w7HhV",
        "outputId": "5db1e271-527f-48f9-f51a-cc6e5d44663a"
      },
      "execution_count": null,
      "outputs": [
        {
          "output_type": "stream",
          "name": "stdout",
          "text": [
            "15\n",
            "5\n",
            "50\n",
            "2.0\n",
            "2\n",
            "3.3333333333333335\n",
            "3\n",
            "2\n",
            "1\n",
            "100\n",
            "1000\n",
            "9\n"
          ]
        }
      ]
    },
    {
      "cell_type": "code",
      "source": [
        "# Relational Operators\n",
        "\n",
        "print(10>5)\n",
        "print(5>10)\n",
        "print(10>=10)\n",
        "print(10>10)\n",
        "\n",
        "print(10<5)\n",
        "print(5<10)\n",
        "print(10<=10)\n",
        "print(10<10)"
      ],
      "metadata": {
        "colab": {
          "base_uri": "https://localhost:8080/"
        },
        "id": "7VzOTuXn7Hkz",
        "outputId": "2084fb6c-3cf3-4c91-c326-54abb282acda"
      },
      "execution_count": null,
      "outputs": [
        {
          "output_type": "stream",
          "name": "stdout",
          "text": [
            "True\n",
            "False\n",
            "True\n",
            "False\n",
            "False\n",
            "True\n",
            "True\n",
            "False\n"
          ]
        }
      ]
    },
    {
      "cell_type": "code",
      "source": [
        "name1= 'karthik'   # assignment operator\n",
        "name2='karthik'\n",
        "\n",
        "print(name1>name2)\n",
        "print(name1<name2)\n",
        "print(name1<=name2)\n",
        "print(name1>=name2)\n",
        "print(name1==name2)\n",
        "\n",
        "name3= 'raja'\n",
        "\n",
        "print(name1>name3)\n",
        "print(name3>name1)      # the string for the relational operation initially works on the Albhabetic sequence. and length of the string.\n",
        "print(name3>=name1)\n",
        "print(name3==name1)"
      ],
      "metadata": {
        "colab": {
          "base_uri": "https://localhost:8080/"
        },
        "id": "utjrmh7mGj8B",
        "outputId": "e0e4a741-efae-4fef-8352-0fac86ad3bde"
      },
      "execution_count": null,
      "outputs": [
        {
          "output_type": "stream",
          "name": "stdout",
          "text": [
            "False\n",
            "False\n",
            "True\n",
            "True\n",
            "True\n",
            "False\n",
            "True\n",
            "True\n",
            "False\n"
          ]
        }
      ]
    },
    {
      "cell_type": "code",
      "source": [
        "name1='abc'\n",
        "name2='abcd'\n",
        "name3= 'bacd'\n",
        "print(name1<name2)\n",
        "print(name2>name3)\n",
        "print(name2<name3)"
      ],
      "metadata": {
        "colab": {
          "base_uri": "https://localhost:8080/"
        },
        "id": "KnuzKHHpGj_i",
        "outputId": "e3a2a2e7-8e01-47b7-82ec-40ef44d331f6"
      },
      "execution_count": null,
      "outputs": [
        {
          "output_type": "stream",
          "name": "stdout",
          "text": [
            "True\n",
            "False\n",
            "True\n"
          ]
        }
      ]
    },
    {
      "cell_type": "code",
      "source": [
        "# Chaining of Operators\n",
        "\n",
        "print(10<20<30)\n",
        "print(10<20>30)\n",
        "print(10>20>30)\n",
        "print(10<20<30<40<50)"
      ],
      "metadata": {
        "colab": {
          "base_uri": "https://localhost:8080/"
        },
        "id": "2WmcyaIZ7H4U",
        "outputId": "9e4cec40-2580-4ce3-897a-ce9a14af28dd"
      },
      "execution_count": null,
      "outputs": [
        {
          "output_type": "stream",
          "name": "stdout",
          "text": [
            "True\n",
            "False\n",
            "False\n",
            "True\n"
          ]
        }
      ]
    },
    {
      "cell_type": "code",
      "source": [
        "# Equality operators\n",
        "\n",
        "print(10==20)      # comparing operator\n",
        "print(10!=20)\n",
        "print(10==20==30)\n",
        "print(10!=20!=30)"
      ],
      "metadata": {
        "colab": {
          "base_uri": "https://localhost:8080/"
        },
        "id": "sbZgQtggx5br",
        "outputId": "60145eac-4f1d-4b86-c3fb-200c16681f4d"
      },
      "execution_count": null,
      "outputs": [
        {
          "output_type": "stream",
          "name": "stdout",
          "text": [
            "False\n",
            "True\n",
            "False\n",
            "True\n"
          ]
        }
      ]
    },
    {
      "cell_type": "code",
      "source": [
        "# Logical Operators\n",
        "# is base on bitwise operator, it needs logical concepts\n",
        "\n",
        "print(5 and 6)  # if both side have non zero it will give the second value.\n",
        "print(0 and 5)  # if there is one zero also it will give 0.\n",
        "print(1 and 5)\n",
        "print(5 and 1)  # if both side have non zero it will give the second value.\n",
        "print(0 and 0)  # if there is one zero or both side zero also it will give 0\n",
        "print(6 and 5)"
      ],
      "metadata": {
        "id": "7NhIJhuAyf6Z",
        "colab": {
          "base_uri": "https://localhost:8080/"
        },
        "outputId": "b52ea780-fca4-4c7b-93f7-e927f399eeef"
      },
      "execution_count": null,
      "outputs": [
        {
          "output_type": "stream",
          "name": "stdout",
          "text": [
            "6\n",
            "0\n",
            "5\n",
            "1\n",
            "0\n",
            "5\n"
          ]
        }
      ]
    },
    {
      "cell_type": "code",
      "source": [
        "print(5 or 6)\n",
        "print(6 or 5)\n",
        "print(0 or 5)  # If there is one value if other is zero also it will give value\n",
        "print(1 or 5)  # it will give first value\n",
        "print(5 or 1)\n",
        "print(0 or 0)   # If there is both side Zero in 0"
      ],
      "metadata": {
        "colab": {
          "base_uri": "https://localhost:8080/"
        },
        "id": "_0k9PMARb1J6",
        "outputId": "6395ad04-a95f-4168-ee86-f498e7bb3ed3"
      },
      "execution_count": null,
      "outputs": [
        {
          "output_type": "stream",
          "name": "stdout",
          "text": [
            "5\n",
            "6\n",
            "5\n",
            "1\n",
            "5\n",
            "0\n"
          ]
        }
      ]
    },
    {
      "cell_type": "code",
      "source": [
        "a = True\n",
        "b= not a\n",
        "print(b)"
      ],
      "metadata": {
        "id": "qq8ufca5yf-l",
        "colab": {
          "base_uri": "https://localhost:8080/"
        },
        "outputId": "ba5d6106-1053-4abd-91dc-308b1e4b996f"
      },
      "execution_count": null,
      "outputs": [
        {
          "output_type": "stream",
          "name": "stdout",
          "text": [
            "False\n"
          ]
        }
      ]
    },
    {
      "cell_type": "code",
      "source": [
        "a = False\n",
        "b= not a\n",
        "print(b)"
      ],
      "metadata": {
        "id": "_ZR0E9UZygAp",
        "colab": {
          "base_uri": "https://localhost:8080/"
        },
        "outputId": "a9861e4c-24b6-4211-cfc5-217aed1ad646"
      },
      "execution_count": null,
      "outputs": [
        {
          "output_type": "stream",
          "name": "stdout",
          "text": [
            "True\n"
          ]
        }
      ]
    },
    {
      "cell_type": "markdown",
      "source": [
        "##Bitwise Operators\n",
        "* **&**  Bitwise AND \t**Usecase:** Checking if specific bits are set, masking bits, extracting specific bits, creating bit flags.\n",
        "* | Pipe\n",
        "* ^   cap\n",
        "* ~  tild\n",
        "* <<  left shift\n",
        "* right shift >>"
      ],
      "metadata": {
        "id": "ArvzXTAuPGFM"
      }
    },
    {
      "cell_type": "code",
      "source": [
        "print(5 & 6)      # These concepts  needs the logical operation and binaries.\n",
        "print(5|6)\n",
        "print(5^6)\n",
        "print(5>>6)\n",
        "print(6<<5)"
      ],
      "metadata": {
        "colab": {
          "base_uri": "https://localhost:8080/"
        },
        "id": "N-e09QIMN18v",
        "outputId": "de0c484e-753b-439e-cc8d-053bffbe757d"
      },
      "execution_count": null,
      "outputs": [
        {
          "output_type": "stream",
          "name": "stdout",
          "text": [
            "4\n",
            "7\n",
            "3\n",
            "0\n",
            "192\n"
          ]
        }
      ]
    },
    {
      "cell_type": "code",
      "source": [
        "# Membership Operator   in not in\n",
        "\n",
        "sentence = \" Bangalore is the capital of Karnataka\"\n",
        "print('Bangalore' in sentence)\n",
        "print('Bangalore' not in sentence)\n",
        "print('bangalore' in sentence)"
      ],
      "metadata": {
        "id": "a1CJvcoAN7wb",
        "colab": {
          "base_uri": "https://localhost:8080/"
        },
        "outputId": "92b76042-80c9-468f-8b2f-0ceeb4b807c1"
      },
      "execution_count": 2,
      "outputs": [
        {
          "output_type": "stream",
          "name": "stdout",
          "text": [
            "True\n",
            "False\n",
            "False\n"
          ]
        }
      ]
    },
    {
      "cell_type": "code",
      "source": [
        "Learnt =['Tamil','English','Hindi','Kannada','Telugu','Malayalam']\n",
        "print('Tamil' in Learnt)"
      ],
      "metadata": {
        "colab": {
          "base_uri": "https://localhost:8080/"
        },
        "id": "DzZxgC2WID6n",
        "outputId": "4b24441b-1904-42ce-ba10-7471d18cf460"
      },
      "execution_count": 5,
      "outputs": [
        {
          "output_type": "stream",
          "name": "stdout",
          "text": [
            "True\n"
          ]
        }
      ]
    },
    {
      "cell_type": "code",
      "source": [],
      "metadata": {
        "id": "sZaWxxtMN7yq"
      },
      "execution_count": null,
      "outputs": []
    },
    {
      "cell_type": "code",
      "source": [],
      "metadata": {
        "id": "iyRzZ44gN71D"
      },
      "execution_count": null,
      "outputs": []
    },
    {
      "cell_type": "code",
      "source": [],
      "metadata": {
        "id": "pqRfs7fVN747"
      },
      "execution_count": null,
      "outputs": []
    },
    {
      "cell_type": "code",
      "source": [],
      "metadata": {
        "id": "cY706nctN8Az"
      },
      "execution_count": null,
      "outputs": []
    }
  ],
  "metadata": {
    "colab": {
      "provenance": [],
      "authorship_tag": "ABX9TyNMFEbJ/NwNvsuelGsz7xxf",
      "include_colab_link": true
    },
    "kernelspec": {
      "display_name": "Python 3",
      "name": "python3"
    },
    "language_info": {
      "name": "python"
    }
  },
  "nbformat": 4,
  "nbformat_minor": 0
}