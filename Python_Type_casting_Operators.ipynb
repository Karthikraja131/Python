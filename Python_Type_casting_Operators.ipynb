{
  "nbformat": 4,
  "nbformat_minor": 0,
  "metadata": {
    "colab": {
      "provenance": [],
      "toc_visible": true,
      "authorship_tag": "ABX9TyOS/tU5KSs/Lh7pIZL94IWK",
      "include_colab_link": true
    },
    "kernelspec": {
      "name": "python3",
      "display_name": "Python 3"
    },
    "language_info": {
      "name": "python"
    }
  },
  "cells": [
    {
      "cell_type": "markdown",
      "metadata": {
        "id": "view-in-github",
        "colab_type": "text"
      },
      "source": [
        "<a href=\"https://colab.research.google.com/github/Karthikraja131/Python/blob/main/Python_Type_casting_Operators.ipynb\" target=\"_parent\"><img src=\"https://colab.research.google.com/assets/colab-badge.svg\" alt=\"Open In Colab\"/></a>"
      ]
    },
    {
      "cell_type": "markdown",
      "source": [
        "##Type casting\n",
        "It is a process of converting a variable from one data type to another in Python."
      ],
      "metadata": {
        "id": "lg3Iz8f0x66O"
      }
    },
    {
      "cell_type": "code",
      "execution_count": 1,
      "metadata": {
        "colab": {
          "base_uri": "https://localhost:8080/"
        },
        "id": "cPjpkMpQvzuS",
        "outputId": "9086aa91-825b-4304-a69e-7c3c42b19c6a"
      },
      "outputs": [
        {
          "output_type": "stream",
          "name": "stdout",
          "text": [
            "123\n",
            "123\n",
            "1\n",
            "0\n",
            "10\n"
          ]
        }
      ],
      "source": [
        "# int() Type casting\n",
        "\n",
        "print(int(123.45))\n",
        "print(int(123.789641122321))\n",
        "print(int(True))\n",
        "print(int(False))\n",
        "print((int(\"10\")))"
      ]
    },
    {
      "cell_type": "code",
      "source": [
        "# float()\n",
        "\n",
        "print(float(10))\n",
        "print(float(True))\n",
        "print(float(False))\n",
        "print(float(\"20\"))\n",
        "print(float(\"20.5\"))\n"
      ],
      "metadata": {
        "colab": {
          "base_uri": "https://localhost:8080/"
        },
        "id": "TV48VD7jwepj",
        "outputId": "fc3461ab-21e6-4e88-c435-d9b5b6aec1f7"
      },
      "execution_count": 4,
      "outputs": [
        {
          "output_type": "stream",
          "name": "stdout",
          "text": [
            "10.0\n",
            "1.0\n",
            "0.0\n",
            "20.0\n",
            "20.5\n"
          ]
        }
      ]
    },
    {
      "cell_type": "code",
      "source": [
        "print(float('Karhtik'))"
      ],
      "metadata": {
        "colab": {
          "base_uri": "https://localhost:8080/",
          "height": 141
        },
        "id": "igdUqe2e40wa",
        "outputId": "48b962e7-9bb7-4413-9587-7e2d9d8385f8"
      },
      "execution_count": 5,
      "outputs": [
        {
          "output_type": "error",
          "ename": "ValueError",
          "evalue": "could not convert string to float: 'Karhtik'",
          "traceback": [
            "\u001b[0;31m---------------------------------------------------------------------------\u001b[0m",
            "\u001b[0;31mValueError\u001b[0m                                Traceback (most recent call last)",
            "\u001b[0;32m<ipython-input-5-eaf946abf087>\u001b[0m in \u001b[0;36m<cell line: 1>\u001b[0;34m()\u001b[0m\n\u001b[0;32m----> 1\u001b[0;31m \u001b[0mprint\u001b[0m\u001b[0;34m(\u001b[0m\u001b[0mfloat\u001b[0m\u001b[0;34m(\u001b[0m\u001b[0;34m'Karhtik'\u001b[0m\u001b[0;34m)\u001b[0m\u001b[0;34m)\u001b[0m\u001b[0;34m\u001b[0m\u001b[0;34m\u001b[0m\u001b[0m\n\u001b[0m",
            "\u001b[0;31mValueError\u001b[0m: could not convert string to float: 'Karhtik'"
          ]
        }
      ]
    },
    {
      "cell_type": "code",
      "source": [
        "#bool\n",
        "\n",
        "\n",
        "\n",
        "\n"
      ],
      "metadata": {
        "id": "aOlWYcUIwerr"
      },
      "execution_count": 2,
      "outputs": []
    },
    {
      "cell_type": "code",
      "source": [
        "print(bool(0))\n",
        "print(bool(1))\n",
        "print(bool(0.0))\n",
        "print(bool(5))\n",
        "print(bool(0.5))\n",
        "print(bool(\"\"))\n",
        "print(bool(\"Hi\"))\n",
        "print(bool(\"True\"))\n",
        "print(bool(\"False\"))"
      ],
      "metadata": {
        "id": "PJVmsX5Ozpg4",
        "colab": {
          "base_uri": "https://localhost:8080/"
        },
        "outputId": "6eef9653-8ac7-4c18-ec2c-35f60390cf4f"
      },
      "execution_count": 7,
      "outputs": [
        {
          "output_type": "stream",
          "name": "stdout",
          "text": [
            "False\n",
            "True\n",
            "False\n",
            "True\n",
            "True\n",
            "False\n",
            "True\n",
            "True\n",
            "True\n"
          ]
        }
      ]
    },
    {
      "cell_type": "code",
      "source": [
        "A"
      ],
      "metadata": {
        "id": "nqVLZBLGzpjW"
      },
      "execution_count": 2,
      "outputs": []
    },
    {
      "cell_type": "code",
      "source": [],
      "metadata": {
        "id": "bB9wvXvmweul"
      },
      "execution_count": 2,
      "outputs": []
    },
    {
      "cell_type": "code",
      "source": [],
      "metadata": {
        "id": "fqlikBhIwfAp"
      },
      "execution_count": 2,
      "outputs": []
    },
    {
      "cell_type": "code",
      "source": [],
      "metadata": {
        "id": "pexKEJBmwfKc"
      },
      "execution_count": 2,
      "outputs": []
    }
  ]
}