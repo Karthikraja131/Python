{
  "cells": [
    {
      "cell_type": "markdown",
      "metadata": {
        "id": "view-in-github",
        "colab_type": "text"
      },
      "source": [
        "<a href=\"https://colab.research.google.com/github/Karthikraja131/Python/blob/main/Python_Type_casting_Operators.ipynb\" target=\"_parent\"><img src=\"https://colab.research.google.com/assets/colab-badge.svg\" alt=\"Open In Colab\"/></a>"
      ]
    },
    {
      "cell_type": "markdown",
      "metadata": {
        "id": "lg3Iz8f0x66O"
      },
      "source": [
        "##Type casting\n",
        "It is a process of converting a variable from one data type to another in Python."
      ]
    },
    {
      "cell_type": "code",
      "execution_count": null,
      "metadata": {
        "colab": {
          "base_uri": "https://localhost:8080/"
        },
        "id": "cPjpkMpQvzuS",
        "outputId": "9086aa91-825b-4304-a69e-7c3c42b19c6a"
      },
      "outputs": [
        {
          "name": "stdout",
          "output_type": "stream",
          "text": [
            "123\n",
            "123\n",
            "1\n",
            "0\n",
            "10\n"
          ]
        }
      ],
      "source": [
        "# int() Type casting\n",
        "\n",
        "print(int(123.45))\n",
        "print(int(123.789641122321))\n",
        "print(int(True))\n",
        "print(int(False))\n",
        "print((int(\"10\")))"
      ]
    },
    {
      "cell_type": "code",
      "execution_count": null,
      "metadata": {
        "colab": {
          "base_uri": "https://localhost:8080/"
        },
        "id": "TV48VD7jwepj",
        "outputId": "fc3461ab-21e6-4e88-c435-d9b5b6aec1f7"
      },
      "outputs": [
        {
          "name": "stdout",
          "output_type": "stream",
          "text": [
            "10.0\n",
            "1.0\n",
            "0.0\n",
            "20.0\n",
            "20.5\n"
          ]
        }
      ],
      "source": [
        "# float()\n",
        "\n",
        "print(float(10))\n",
        "print(float(True))\n",
        "print(float(False))\n",
        "print(float(\"20\"))\n",
        "print(float(\"20.5\"))\n"
      ]
    },
    {
      "cell_type": "code",
      "execution_count": null,
      "metadata": {
        "colab": {
          "base_uri": "https://localhost:8080/",
          "height": 141
        },
        "id": "igdUqe2e40wa",
        "outputId": "48b962e7-9bb7-4413-9587-7e2d9d8385f8"
      },
      "outputs": [
        {
          "ename": "ValueError",
          "evalue": "could not convert string to float: 'Karhtik'",
          "output_type": "error",
          "traceback": [
            "\u001b[0;31m---------------------------------------------------------------------------\u001b[0m",
            "\u001b[0;31mValueError\u001b[0m                                Traceback (most recent call last)",
            "\u001b[0;32m<ipython-input-5-eaf946abf087>\u001b[0m in \u001b[0;36m<cell line: 1>\u001b[0;34m()\u001b[0m\n\u001b[0;32m----> 1\u001b[0;31m \u001b[0mprint\u001b[0m\u001b[0;34m(\u001b[0m\u001b[0mfloat\u001b[0m\u001b[0;34m(\u001b[0m\u001b[0;34m'Karhtik'\u001b[0m\u001b[0;34m)\u001b[0m\u001b[0;34m)\u001b[0m\u001b[0;34m\u001b[0m\u001b[0;34m\u001b[0m\u001b[0m\n\u001b[0m",
            "\u001b[0;31mValueError\u001b[0m: could not convert string to float: 'Karhtik'"
          ]
        }
      ],
      "source": [
        "print(float('Karhtik'))"
      ]
    },
    {
      "cell_type": "code",
      "execution_count": null,
      "metadata": {
        "id": "aOlWYcUIwerr"
      },
      "outputs": [],
      "source": []
    },
    {
      "cell_type": "markdown",
      "source": [
        "## bool\n",
        "Bools (True/False) in Python are like tiny decision-makers. They control program flow based on conditions:\n",
        "\n",
        "**If/else:** Choose between code blocks based on True/False.\n",
        "**Loops:** Loop while something is True, stop when False.\n",
        "**Comparisons:** Check if values are equal, greater/less than, etc. (True/False result).\n",
        "**Checking flags/states:** Keep track of program status (on/off, done/not done)."
      ],
      "metadata": {
        "id": "GNRbocRTISTc"
      }
    },
    {
      "cell_type": "markdown",
      "source": [],
      "metadata": {
        "id": "G4KUg-E3IPUZ"
      }
    },
    {
      "cell_type": "code",
      "execution_count": null,
      "metadata": {
        "colab": {
          "background_save": true,
          "base_uri": "https://localhost:8080/"
        },
        "id": "PJVmsX5Ozpg4",
        "outputId": "6eea665c-494b-4610-8eaf-2d733ef5709b"
      },
      "outputs": [
        {
          "name": "stdout",
          "output_type": "stream",
          "text": [
            "False\n",
            "True\n",
            "False\n",
            "True\n",
            "True\n",
            "False\n",
            "True\n",
            "True\n",
            "True\n",
            "True\n",
            "False\n"
          ]
        }
      ],
      "source": [
        "print(bool(0))\n",
        "print(bool(1))\n",
        "print(bool(0.0))\n",
        "print(bool(5))\n",
        "print(bool(0.5))\n",
        "print(bool(\"\"))\n",
        "print(bool(\"Hi\"))\n",
        "print(bool(\"True\"))\n",
        "print(bool(\"False\"))\n",
        "print(bool(\" \"))\n",
        "print(bool(False))     # bool value"
      ]
    },
    {
      "cell_type": "code",
      "execution_count": null,
      "metadata": {
        "id": "nqVLZBLGzpjW"
      },
      "outputs": [],
      "source": [
        "# Str"
      ]
    },
    {
      "cell_type": "code",
      "execution_count": 9,
      "metadata": {
        "id": "bB9wvXvmweul",
        "colab": {
          "base_uri": "https://localhost:8080/"
        },
        "outputId": "557c0ef0-9059-4f3a-acf1-83f5d53d4737"
      },
      "outputs": [
        {
          "output_type": "stream",
          "name": "stdout",
          "text": [
            "10\n",
            "10.5\n",
            "True\n"
          ]
        }
      ],
      "source": [
        "print(str(10))\n",
        "print(str(10.5))\n",
        "print(str(True))"
      ]
    },
    {
      "cell_type": "code",
      "execution_count": 8,
      "metadata": {
        "id": "fqlikBhIwfAp",
        "colab": {
          "base_uri": "https://localhost:8080/",
          "height": 106
        },
        "outputId": "65886311-8b5e-4122-b508-22fde5ced70d"
      },
      "outputs": [
        {
          "output_type": "error",
          "ename": "SyntaxError",
          "evalue": "invalid syntax. Perhaps you forgot a comma? (<ipython-input-8-23609889f4d3>, line 1)",
          "traceback": [
            "\u001b[0;36m  File \u001b[0;32m\"<ipython-input-8-23609889f4d3>\"\u001b[0;36m, line \u001b[0;32m1\u001b[0m\n\u001b[0;31m    print(str(10.0.0.27))\u001b[0m\n\u001b[0m              ^\u001b[0m\n\u001b[0;31mSyntaxError\u001b[0m\u001b[0;31m:\u001b[0m invalid syntax. Perhaps you forgot a comma?\n"
          ]
        }
      ],
      "source": [
        "print(str(10.0.0.27))"
      ]
    },
    {
      "cell_type": "code",
      "execution_count": null,
      "metadata": {
        "id": "pexKEJBmwfKc"
      },
      "outputs": [],
      "source": [
        "# Python dynamically typed programming language\n",
        "# int float complex bool str"
      ]
    },
    {
      "cell_type": "code",
      "source": [
        "# To check the type\n",
        "\n",
        "no = 5.0\n",
        "name = 'Karthik'\n",
        "karthik = True\n",
        "value = 1\n",
        "\n",
        "\n",
        "print(type(no))\n",
        "print(type(name))\n",
        "print(type(karthik))\n",
        "print(type(value))"
      ],
      "metadata": {
        "colab": {
          "base_uri": "https://localhost:8080/"
        },
        "id": "aewfweGnEE6i",
        "outputId": "fc2aceca-f099-4c9a-bd5e-34c615307c85"
      },
      "execution_count": 11,
      "outputs": [
        {
          "output_type": "stream",
          "name": "stdout",
          "text": [
            "<class 'float'>\n",
            "<class 'str'>\n",
            "<class 'bool'>\n",
            "<class 'int'>\n"
          ]
        }
      ]
    },
    {
      "cell_type": "markdown",
      "source": [
        "From the above result are showing the class why because In the Python everything will be class. we will see it later"
      ],
      "metadata": {
        "id": "DvJEIKyEGKVS"
      }
    },
    {
      "cell_type": "code",
      "source": [],
      "metadata": {
        "id": "AR2lRCvEEE9L"
      },
      "execution_count": null,
      "outputs": []
    },
    {
      "cell_type": "code",
      "source": [],
      "metadata": {
        "id": "I77qXmZjEFGo"
      },
      "execution_count": null,
      "outputs": []
    }
  ],
  "metadata": {
    "colab": {
      "provenance": [],
      "authorship_tag": "ABX9TyN8tYXkDg892fQoxXpi7lnB",
      "include_colab_link": true
    },
    "kernelspec": {
      "display_name": "Python 3",
      "name": "python3"
    },
    "language_info": {
      "name": "python"
    }
  },
  "nbformat": 4,
  "nbformat_minor": 0
}