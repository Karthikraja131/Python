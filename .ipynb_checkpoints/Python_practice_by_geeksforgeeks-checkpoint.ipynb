{
 "cells": [
  {
   "cell_type": "raw",
   "id": "4dd196ac",
   "metadata": {},
   "source": [
    "# Python program to add two numbers\n"
   ]
  },
  {
   "cell_type": "code",
   "execution_count": 6,
   "id": "9b2e171c",
   "metadata": {},
   "outputs": [
    {
     "name": "stdout",
     "output_type": "stream",
     "text": [
      "The sum of num1 5 and num2 9 is : 14\n"
     ]
    }
   ],
   "source": [
    "num1= 5\n",
    "num2= 9\n",
    "sum=(num1+num2)\n",
    "print('The sum of num1 {0} and num2 {1} is : {2}'.format(num1,num2,sum))"
   ]
  },
  {
   "cell_type": "code",
   "execution_count": 12,
   "id": "a6c9c469",
   "metadata": {},
   "outputs": [
    {
     "name": "stdout",
     "output_type": "stream",
     "text": [
      "Enter the value of num1:5\n",
      "\n",
      " Enter the value of num2 :9\n",
      "The sum of num1 is 5 and num2 : 9 is : 14 \n"
     ]
    }
   ],
   "source": [
    "num1= int(input('Enter the value of num1:'))\n",
    "num2=int(input('\\n Enter the value of num2 :'))\n",
    "sum=(num1+num2)\n",
    "print('The sum of num1 is {0} and num2 : {1} is : {2} '.format(num1,num2,sum))"
   ]
  },
  {
   "cell_type": "code",
   "execution_count": null,
   "id": "d50d05de",
   "metadata": {},
   "outputs": [],
   "source": []
  },
  {
   "cell_type": "code",
   "execution_count": 36,
   "id": "20465044",
   "metadata": {},
   "outputs": [
    {
     "name": "stdout",
     "output_type": "stream",
     "text": [
      "Enter the num1:5\n",
      "Enter the num2:9\n",
      "14\n"
     ]
    }
   ],
   "source": [
    "def add(num1,num2):\n",
    "    sum = (num1+num2)\n",
    "    print(sum)\n",
    "a= int(input('Enter the num1:'))\n",
    "b=int(input('Enter the num2:'))\n",
    "add(num1,num2)"
   ]
  },
  {
   "cell_type": "code",
   "execution_count": 17,
   "id": "a8304107",
   "metadata": {},
   "outputs": [
    {
     "name": "stdout",
     "output_type": "stream",
     "text": [
      "14\n"
     ]
    }
   ],
   "source": [
    "add(num1,num2)"
   ]
  },
  {
   "cell_type": "code",
   "execution_count": 37,
   "id": "8baa68e9",
   "metadata": {},
   "outputs": [
    {
     "name": "stdout",
     "output_type": "stream",
     "text": [
      "Enter the num1:5\n",
      "Enter the num2:6\n",
      "11\n"
     ]
    }
   ],
   "source": [
    "def add(num1,num2):\n",
    "    a= int(input('Enter the num1:'))\n",
    "    b=int(input('Enter the num2:'))\n",
    "    print(a+b)\n",
    "add(num1,num2)"
   ]
  },
  {
   "cell_type": "code",
   "execution_count": null,
   "id": "6d45fabf",
   "metadata": {},
   "outputs": [],
   "source": []
  },
  {
   "cell_type": "code",
   "execution_count": null,
   "id": "da04db89",
   "metadata": {},
   "outputs": [],
   "source": []
  }
 ],
 "metadata": {
  "kernelspec": {
   "display_name": "Python 3 (ipykernel)",
   "language": "python",
   "name": "python3"
  },
  "language_info": {
   "codemirror_mode": {
    "name": "ipython",
    "version": 3
   },
   "file_extension": ".py",
   "mimetype": "text/x-python",
   "name": "python",
   "nbconvert_exporter": "python",
   "pygments_lexer": "ipython3",
   "version": "3.8.10"
  }
 },
 "nbformat": 4,
 "nbformat_minor": 5
}
