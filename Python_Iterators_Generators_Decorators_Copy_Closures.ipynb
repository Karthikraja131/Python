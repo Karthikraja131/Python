{
  "nbformat": 4,
  "nbformat_minor": 0,
  "metadata": {
    "colab": {
      "provenance": [],
      "authorship_tag": "ABX9TyOEnAsRgMAgE4mfOOCypa3y",
      "include_colab_link": true
    },
    "kernelspec": {
      "name": "python3",
      "display_name": "Python 3"
    },
    "language_info": {
      "name": "python"
    }
  },
  "cells": [
    {
      "cell_type": "markdown",
      "metadata": {
        "id": "view-in-github",
        "colab_type": "text"
      },
      "source": [
        "<a href=\"https://colab.research.google.com/github/Karthikraja131/Python/blob/main/Python_Iterators_Generators_Decorators_Copy_Closures.ipynb\" target=\"_parent\"><img src=\"https://colab.research.google.com/assets/colab-badge.svg\" alt=\"Open In Colab\"/></a>"
      ]
    },
    {
      "cell_type": "markdown",
      "source": [
        "\n",
        "## **🧠 Description**\n",
        "\n",
        "A **Python Iterator** is an object that enables you to traverse through a sequence of items **one at a time**, without needing to access them by index. It uses the **iterator protocol**, which requires two methods:\n",
        "\n",
        "* `__iter__()` → Returns the iterator object itself\n",
        "* `__next__()` → Returns the next item; raises `StopIteration` when finished\n",
        "\n",
        "This mechanism powers most of Python’s `for` loops under the hood.\n",
        "\n",
        "---\n",
        "\n",
        "### **⚙️ Types of Iterators**\n",
        "\n",
        "1. **Built-in Iterators**\n",
        "\n",
        "   * Lists, tuples, dictionaries, strings, sets—all are *iterables* that return an iterator when passed to `iter()`.\n",
        "   * Example:\n",
        "\n",
        "     ```python\n",
        "     my_list = [1, 2, 3]\n",
        "     it = iter(my_list)\n",
        "     next(it)  # → 1\n",
        "     ```\n",
        "\n",
        "2. **Custom Iterators**\n",
        "\n",
        "   * You can define your own class that implements `__iter__()` and `__next__()`.\n",
        "   * Useful for complex iteration patterns.\n",
        "   * Example:\n",
        "\n",
        "     ```python\n",
        "     class Countdown:\n",
        "         def __init__(self, start):\n",
        "             self.num = start\n",
        "         def __iter__(self):\n",
        "             return self\n",
        "         def __next__(self):\n",
        "             if self.num <= 0:\n",
        "                 raise StopIteration\n",
        "             self.num -= 1\n",
        "             return self.num + 1\n",
        "     ```\n",
        "\n",
        "---\n",
        "\n",
        "### **🔢 Values & Ranges**\n",
        "\n",
        "* No strict range, but iterators return **one value at a time** in sequence.\n",
        "* You control the range based on how many elements you allow before raising `StopIteration`.\n",
        "* Typically used when:\n",
        "\n",
        "  * You want sequential access.\n",
        "  * You don’t need to store the full dataset in memory.\n",
        "\n",
        "---\n",
        "\n",
        "### **🌍 Real-World Use Cases**\n",
        "\n",
        "| Use Case                            | Description                                              |\n",
        "| ----------------------------------- | -------------------------------------------------------- |\n",
        "| Reading files line-by-line          | File objects are iterators that yield one line at a time |\n",
        "| Streaming data (e.g. logs)          | Read records lazily without loading the entire stream    |\n",
        "| Implementing custom data containers | Build classes that users can loop over                   |\n",
        "| Memory-sensitive tasks              | Process data without needing to store everything         |\n",
        "\n",
        "---\n",
        "\n",
        "### **✅ Advantages**\n",
        "\n",
        "* **Memory Efficient**: Only one item is held in memory at a time.\n",
        "* **Custom Logic**: Build flexible looping behavior.\n",
        "* **Foundation of Python Loops**: Powers `for`, comprehensions, etc.\n",
        "* **Works With Any Iterable**: Can wrap built-in collections.\n",
        "\n",
        "---\n",
        "\n",
        "### **⚠️ Disadvantages**\n",
        "\n",
        "* **One-time Use**: Once consumed, can't rewind.\n",
        "* **Manual Handling**: Custom iterators require more boilerplate (`__iter__`, `__next__`, etc.).\n",
        "* **Less Intuitive for Beginners**: Especially when handling `StopIteration` manually.\n",
        "\n",
        "---\n",
        "\n",
        "### **🤝 Peer Alternatives**\n",
        "\n",
        "| Alternative               | When to Use                                                    |\n",
        "| ------------------------- | -------------------------------------------------------------- |\n",
        "| **Generators**            | When you need simpler syntax & lazy evaluation                 |\n",
        "| **List Comprehensions**   | When memory is not a concern, and you need all results upfront |\n",
        "| **Generator Expressions** | Compact, lazy one-liners                                       |\n",
        "| **Async Iterators**       | For I/O-heavy or real-time asynchronous tasks                  |\n",
        "\n",
        "---\n"
      ],
      "metadata": {
        "id": "1MkDP5I3lj6Y"
      }
    },
    {
      "cell_type": "code",
      "source": [
        "import builtins\n",
        "dir(builtins)"
      ],
      "metadata": {
        "colab": {
          "base_uri": "https://localhost:8080/"
        },
        "id": "YUYk4ejrnSsE",
        "outputId": "e623de78-ef3f-4494-fc2a-a0f82ef758e4"
      },
      "execution_count": null,
      "outputs": [
        {
          "output_type": "execute_result",
          "data": {
            "text/plain": [
              "['ArithmeticError',\n",
              " 'AssertionError',\n",
              " 'AttributeError',\n",
              " 'BaseException',\n",
              " 'BaseExceptionGroup',\n",
              " 'BlockingIOError',\n",
              " 'BrokenPipeError',\n",
              " 'BufferError',\n",
              " 'BytesWarning',\n",
              " 'ChildProcessError',\n",
              " 'ConnectionAbortedError',\n",
              " 'ConnectionError',\n",
              " 'ConnectionRefusedError',\n",
              " 'ConnectionResetError',\n",
              " 'DeprecationWarning',\n",
              " 'EOFError',\n",
              " 'Ellipsis',\n",
              " 'EncodingWarning',\n",
              " 'EnvironmentError',\n",
              " 'Exception',\n",
              " 'ExceptionGroup',\n",
              " 'False',\n",
              " 'FileExistsError',\n",
              " 'FileNotFoundError',\n",
              " 'FloatingPointError',\n",
              " 'FutureWarning',\n",
              " 'GeneratorExit',\n",
              " 'IOError',\n",
              " 'ImportError',\n",
              " 'ImportWarning',\n",
              " 'IndentationError',\n",
              " 'IndexError',\n",
              " 'InterruptedError',\n",
              " 'IsADirectoryError',\n",
              " 'KeyError',\n",
              " 'KeyboardInterrupt',\n",
              " 'LookupError',\n",
              " 'MemoryError',\n",
              " 'ModuleNotFoundError',\n",
              " 'NameError',\n",
              " 'None',\n",
              " 'NotADirectoryError',\n",
              " 'NotImplemented',\n",
              " 'NotImplementedError',\n",
              " 'OSError',\n",
              " 'OverflowError',\n",
              " 'PendingDeprecationWarning',\n",
              " 'PermissionError',\n",
              " 'ProcessLookupError',\n",
              " 'RecursionError',\n",
              " 'ReferenceError',\n",
              " 'ResourceWarning',\n",
              " 'RuntimeError',\n",
              " 'RuntimeWarning',\n",
              " 'StopAsyncIteration',\n",
              " 'StopIteration',\n",
              " 'SyntaxError',\n",
              " 'SyntaxWarning',\n",
              " 'SystemError',\n",
              " 'SystemExit',\n",
              " 'TabError',\n",
              " 'TimeoutError',\n",
              " 'True',\n",
              " 'TypeError',\n",
              " 'UnboundLocalError',\n",
              " 'UnicodeDecodeError',\n",
              " 'UnicodeEncodeError',\n",
              " 'UnicodeError',\n",
              " 'UnicodeTranslateError',\n",
              " 'UnicodeWarning',\n",
              " 'UserWarning',\n",
              " 'ValueError',\n",
              " 'Warning',\n",
              " 'ZeroDivisionError',\n",
              " '__IPYTHON__',\n",
              " '__build_class__',\n",
              " '__debug__',\n",
              " '__doc__',\n",
              " '__import__',\n",
              " '__loader__',\n",
              " '__name__',\n",
              " '__package__',\n",
              " '__pybind11_internals_v4_gcc_libstdcpp_cxxabi1014__',\n",
              " '__spec__',\n",
              " 'abs',\n",
              " 'aiter',\n",
              " 'all',\n",
              " 'anext',\n",
              " 'any',\n",
              " 'ascii',\n",
              " 'bin',\n",
              " 'bool',\n",
              " 'breakpoint',\n",
              " 'bytearray',\n",
              " 'bytes',\n",
              " 'callable',\n",
              " 'chr',\n",
              " 'classmethod',\n",
              " 'compile',\n",
              " 'complex',\n",
              " 'copyright',\n",
              " 'credits',\n",
              " 'delattr',\n",
              " 'dict',\n",
              " 'dir',\n",
              " 'display',\n",
              " 'divmod',\n",
              " 'enumerate',\n",
              " 'eval',\n",
              " 'exec',\n",
              " 'execfile',\n",
              " 'filter',\n",
              " 'float',\n",
              " 'format',\n",
              " 'frozenset',\n",
              " 'get_ipython',\n",
              " 'getattr',\n",
              " 'globals',\n",
              " 'hasattr',\n",
              " 'hash',\n",
              " 'help',\n",
              " 'hex',\n",
              " 'id',\n",
              " 'input',\n",
              " 'int',\n",
              " 'isinstance',\n",
              " 'issubclass',\n",
              " 'iter',\n",
              " 'len',\n",
              " 'license',\n",
              " 'list',\n",
              " 'locals',\n",
              " 'map',\n",
              " 'max',\n",
              " 'memoryview',\n",
              " 'min',\n",
              " 'next',\n",
              " 'object',\n",
              " 'oct',\n",
              " 'open',\n",
              " 'ord',\n",
              " 'pow',\n",
              " 'print',\n",
              " 'property',\n",
              " 'range',\n",
              " 'repr',\n",
              " 'reversed',\n",
              " 'round',\n",
              " 'runfile',\n",
              " 'set',\n",
              " 'setattr',\n",
              " 'slice',\n",
              " 'sorted',\n",
              " 'staticmethod',\n",
              " 'str',\n",
              " 'sum',\n",
              " 'super',\n",
              " 'tuple',\n",
              " 'type',\n",
              " 'vars',\n",
              " 'zip']"
            ]
          },
          "metadata": {},
          "execution_count": 2
        }
      ]
    },
    {
      "cell_type": "code",
      "source": [
        "help(iter)"
      ],
      "metadata": {
        "colab": {
          "base_uri": "https://localhost:8080/"
        },
        "id": "m_jqY3m8vdsq",
        "outputId": "ea5123be-fb27-4ac3-dc62-760da34ecece"
      },
      "execution_count": null,
      "outputs": [
        {
          "output_type": "stream",
          "name": "stdout",
          "text": [
            "Help on built-in function iter in module builtins:\n",
            "\n",
            "iter(...)\n",
            "    iter(iterable) -> iterator\n",
            "    iter(callable, sentinel) -> iterator\n",
            "    \n",
            "    Get an iterator from an object.  In the first form, the argument must\n",
            "    supply its own iterator, or be a sequence.\n",
            "    In the second form, the callable is called until it returns the sentinel.\n",
            "\n"
          ]
        }
      ]
    },
    {
      "cell_type": "code",
      "source": [
        "my_list = [1,2,3,4,5,6]\n",
        "for i in my_list:\n",
        "  print(i)"
      ],
      "metadata": {
        "colab": {
          "base_uri": "https://localhost:8080/"
        },
        "id": "r4XioSDgiTd7",
        "outputId": "53976255-dc20-41bb-b509-e9bc3535055d"
      },
      "execution_count": null,
      "outputs": [
        {
          "output_type": "stream",
          "name": "stdout",
          "text": [
            "1\n",
            "2\n",
            "3\n",
            "4\n",
            "5\n",
            "6\n"
          ]
        }
      ]
    },
    {
      "cell_type": "code",
      "source": [
        "type(my_list)"
      ],
      "metadata": {
        "colab": {
          "base_uri": "https://localhost:8080/"
        },
        "id": "XvMk1In3m0HK",
        "outputId": "5ed424ef-9a94-4302-8f4b-35a8b229c507"
      },
      "execution_count": null,
      "outputs": [
        {
          "output_type": "execute_result",
          "data": {
            "text/plain": [
              "list"
            ]
          },
          "metadata": {},
          "execution_count": 9
        }
      ]
    },
    {
      "cell_type": "code",
      "source": [
        "print(my_list)"
      ],
      "metadata": {
        "colab": {
          "base_uri": "https://localhost:8080/"
        },
        "id": "_IjJap53m5Zq",
        "outputId": "cabd6a15-ee63-4f35-c8b3-c46b367061ee"
      },
      "execution_count": null,
      "outputs": [
        {
          "output_type": "stream",
          "name": "stdout",
          "text": [
            "[1, 2, 3, 4, 5, 6]\n"
          ]
        }
      ]
    },
    {
      "cell_type": "code",
      "source": [
        "##  Iterator\n",
        "my_list = [1,2,3,4,5,6]\n",
        "iterator = iter(my_list)\n",
        "print(iterator)\n",
        "print(type(iterator))\n",
        "type(iterator)\n"
      ],
      "metadata": {
        "colab": {
          "base_uri": "https://localhost:8080/"
        },
        "id": "IMoZRVrGm9QJ",
        "outputId": "71b054f1-02ab-4720-e35b-26cb44cc5a57"
      },
      "execution_count": null,
      "outputs": [
        {
          "output_type": "stream",
          "name": "stdout",
          "text": [
            "<list_iterator object at 0x7d1f4435a380>\n",
            "<class 'list_iterator'>\n"
          ]
        },
        {
          "output_type": "execute_result",
          "data": {
            "text/plain": [
              "list_iterator"
            ]
          },
          "metadata": {},
          "execution_count": 4
        }
      ]
    },
    {
      "cell_type": "code",
      "source": [
        "# Iterate through all elements\n",
        "# Need to use the `next()` fucntion\n",
        "\n",
        "next(iterator)"
      ],
      "metadata": {
        "colab": {
          "base_uri": "https://localhost:8080/"
        },
        "id": "hGbIodkCvvLh",
        "outputId": "0c73b7ec-c5d0-46c4-a316-82d8068b004c"
      },
      "execution_count": null,
      "outputs": [
        {
          "output_type": "execute_result",
          "data": {
            "text/plain": [
              "1"
            ]
          },
          "metadata": {},
          "execution_count": 5
        }
      ]
    },
    {
      "cell_type": "code",
      "source": [
        "next(iterator)"
      ],
      "metadata": {
        "colab": {
          "base_uri": "https://localhost:8080/"
        },
        "id": "mrNY6BLYhudy",
        "outputId": "f298d6e3-4158-4cf9-a740-4820242ad9ae"
      },
      "execution_count": null,
      "outputs": [
        {
          "output_type": "execute_result",
          "data": {
            "text/plain": [
              "2"
            ]
          },
          "metadata": {},
          "execution_count": 6
        }
      ]
    },
    {
      "cell_type": "code",
      "source": [
        "next(iterator)"
      ],
      "metadata": {
        "colab": {
          "base_uri": "https://localhost:8080/"
        },
        "id": "nhQAGvjPhuhH",
        "outputId": "179e77bd-7371-4990-c249-75af70260133"
      },
      "execution_count": null,
      "outputs": [
        {
          "output_type": "execute_result",
          "data": {
            "text/plain": [
              "3"
            ]
          },
          "metadata": {},
          "execution_count": 7
        }
      ]
    },
    {
      "cell_type": "code",
      "source": [
        "next(iterator)"
      ],
      "metadata": {
        "colab": {
          "base_uri": "https://localhost:8080/"
        },
        "id": "ogAAsvrdhujU",
        "outputId": "be9b8a02-b566-4c5b-edbf-3777d4810599"
      },
      "execution_count": null,
      "outputs": [
        {
          "output_type": "execute_result",
          "data": {
            "text/plain": [
              "4"
            ]
          },
          "metadata": {},
          "execution_count": 8
        }
      ]
    },
    {
      "cell_type": "code",
      "source": [
        "next(iterator)"
      ],
      "metadata": {
        "colab": {
          "base_uri": "https://localhost:8080/"
        },
        "id": "dMGcU86Ji4T-",
        "outputId": "0babb268-417a-4175-adc5-967e9e68e436"
      },
      "execution_count": null,
      "outputs": [
        {
          "output_type": "execute_result",
          "data": {
            "text/plain": [
              "5"
            ]
          },
          "metadata": {},
          "execution_count": 9
        }
      ]
    },
    {
      "cell_type": "code",
      "source": [
        "next(iterator)"
      ],
      "metadata": {
        "colab": {
          "base_uri": "https://localhost:8080/"
        },
        "id": "b94UVNF2i4XX",
        "outputId": "da26ef6f-a636-44e6-e7e8-bf180000bbed"
      },
      "execution_count": null,
      "outputs": [
        {
          "output_type": "execute_result",
          "data": {
            "text/plain": [
              "6"
            ]
          },
          "metadata": {},
          "execution_count": 10
        }
      ]
    },
    {
      "cell_type": "code",
      "source": [
        "next(iterator)"
      ],
      "metadata": {
        "colab": {
          "base_uri": "https://localhost:8080/",
          "height": 141
        },
        "id": "IsD5LCHzi7bo",
        "outputId": "f22e70df-2df9-40dc-dffd-25591a6e41fb"
      },
      "execution_count": null,
      "outputs": [
        {
          "output_type": "error",
          "ename": "StopIteration",
          "evalue": "",
          "traceback": [
            "\u001b[0;31m---------------------------------------------------------------------------\u001b[0m",
            "\u001b[0;31mStopIteration\u001b[0m                             Traceback (most recent call last)",
            "\u001b[0;32m/tmp/ipython-input-11-4235178104.py\u001b[0m in \u001b[0;36m<cell line: 0>\u001b[0;34m()\u001b[0m\n\u001b[0;32m----> 1\u001b[0;31m \u001b[0mnext\u001b[0m\u001b[0;34m(\u001b[0m\u001b[0miterator\u001b[0m\u001b[0;34m)\u001b[0m\u001b[0;34m\u001b[0m\u001b[0;34m\u001b[0m\u001b[0m\n\u001b[0m",
            "\u001b[0;31mStopIteration\u001b[0m: "
          ]
        }
      ]
    },
    {
      "cell_type": "code",
      "source": [
        "my_list = [1,2,3,4,5,6]\n",
        "iterator = iter(my_list)"
      ],
      "metadata": {
        "id": "0AQgtLbIi72T"
      },
      "execution_count": null,
      "outputs": []
    },
    {
      "cell_type": "code",
      "source": [
        "try:\n",
        "  print(next(iterator))\n",
        "except StopIteration:\n",
        "  print(\"Hey There are no elements in the loop\")"
      ],
      "metadata": {
        "colab": {
          "base_uri": "https://localhost:8080/"
        },
        "id": "UuX6XNSkjsnC",
        "outputId": "062bc194-527c-46ff-dbb9-345a4cbd8877"
      },
      "execution_count": null,
      "outputs": [
        {
          "output_type": "stream",
          "name": "stdout",
          "text": [
            "Hey There are no elements in the loop\n"
          ]
        }
      ]
    },
    {
      "cell_type": "code",
      "source": [
        "#  String Iterator\n",
        "string = 'AI Engineer'\n",
        "string_iterator = iter(string)\n",
        "print(next(string_iterator))\n",
        "print(next(string_iterator))"
      ],
      "metadata": {
        "colab": {
          "base_uri": "https://localhost:8080/"
        },
        "id": "Hg4K8Fz3kH6a",
        "outputId": "1fa8ec6e-ac46-445e-ca74-0a220c886d97"
      },
      "execution_count": null,
      "outputs": [
        {
          "output_type": "stream",
          "name": "stdout",
          "text": [
            "A\n",
            "I\n"
          ]
        }
      ]
    },
    {
      "cell_type": "markdown",
      "source": [],
      "metadata": {
        "id": "vKfIxnuoktzx"
      }
    },
    {
      "cell_type": "markdown",
      "source": [
        "\n",
        "## **Python Generators**\n",
        "\n",
        "#### **🧠 Description**\n",
        "\n",
        "Generators are special iterators in Python that let you iterate over data **lazily**—one item at a time—without loading everything into memory at once. They are built using the `yield` keyword and automatically handle the internal state between calls.\n",
        "\n",
        "They’re perfect for handling **big data**, **infinite streams**, or **performance-sensitive loops**.\n",
        "\n",
        "---\n",
        "\n",
        "### **⚙️ Types of Generators**\n",
        "\n",
        "1. **Generator Functions**\n",
        "\n",
        "   * Defined with a `def` and at least one `yield` inside.\n",
        "   * They return a generator object when called.\n",
        "   * Example:\n",
        "\n",
        "     ```python\n",
        "     def count_up_to(n):\n",
        "         i = 1\n",
        "         while i <= n:\n",
        "             yield i\n",
        "             i += 1\n",
        "     ```\n",
        "\n",
        "2. **Generator Expressions**\n",
        "\n",
        "   * Look like list comprehensions but use parentheses.\n",
        "   * Example:\n",
        "\n",
        "     ```python\n",
        "     squares = (x*x for x in range(10))\n",
        "     ```\n",
        "\n",
        "---\n",
        "\n",
        "### **🔢 Values, Ranges & Behavior**\n",
        "\n",
        "* You don’t define value *ranges* like constants here, but the **range of data** depends on your logic (e.g., from 0 to infinity).\n",
        "* Generators return one value at a time with `yield`.\n",
        "* Use `next()` to get the next item.\n",
        "* When done, raises `StopIteration`.\n",
        "\n",
        "---\n",
        "\n",
        "### **✅ Optimal Usage**\n",
        "\n",
        "* Use when you need to:\n",
        "\n",
        "  * Process data one piece at a time\n",
        "  * Avoid memory overload (e.g., millions of rows)\n",
        "  * Stream or filter real-time data\n",
        "  * Work with pipelines or coroutines\n",
        "\n",
        "---\n",
        "\n",
        "### **🌍 Real-World Use Cases**\n",
        "\n",
        "| Use Case                               | Description                                     |\n",
        "| -------------------------------------- | ----------------------------------------------- |\n",
        "| Reading huge files                     | Yield one line at a time to avoid memory load   |\n",
        "| Streaming data from APIs               | Pull one record at a time, ideal for pagination |\n",
        "| Implementing infinite sequences        | Generate data like Fibonacci or timestamps      |\n",
        "| ETL pipelines (Extract/Transform/Load) | Process large datasets in steps                 |\n",
        "\n",
        "---\n",
        "\n",
        "### **💎 Advantages**\n",
        "\n",
        "* **Memory Efficient**: Doesn’t store all items in memory.\n",
        "* **Clean Code**: Easy to write and read lazy logic.\n",
        "* **Infinite Sequences**: No need to predefine limits.\n",
        "* **Pause/Resume Capability**: Maintains state between calls.\n",
        "\n",
        "---\n",
        "\n",
        "### **⚠️ Disadvantages**\n",
        "\n",
        "* **Single Pass Only**: Once exhausted, can't reuse without recreating.\n",
        "* **No Built-in Length or Indexing**: Can’t use `len()` or indexing.\n",
        "* **Harder to Debug**: Because of the paused state.\n",
        "* **Not Always Intuitive**: Especially for beginners.\n",
        "\n",
        "---\n",
        "\n",
        "### **🤝 Peer Alternatives**\n",
        "\n",
        "| Alternative               | When to Use                            |\n",
        "| ------------------------- | -------------------------------------- |\n",
        "| **Iterators (Manual)**    | For custom complex iteration logic     |\n",
        "| **List Comprehensions**   | When data size is small & one-shot use |\n",
        "| **Generator Expressions** | Short one-liners for simple sequences  |\n",
        "| **Async Generators**      | For non-blocking I/O or real-time data |\n",
        "\n",
        "---\n",
        "\n"
      ],
      "metadata": {
        "id": "VXqSZoQ2kt3P"
      }
    },
    {
      "cell_type": "code",
      "source": [
        "def square(a):\n",
        "  for i in range(3):\n",
        "    yield(i**2)"
      ],
      "metadata": {
        "id": "EAZsx4SplOOs"
      },
      "execution_count": null,
      "outputs": []
    },
    {
      "cell_type": "code",
      "source": [
        "print(square(2))"
      ],
      "metadata": {
        "colab": {
          "base_uri": "https://localhost:8080/"
        },
        "id": "buPa9KDylORY",
        "outputId": "e3da2320-0302-4965-9b5a-721edf068781"
      },
      "execution_count": null,
      "outputs": [
        {
          "output_type": "stream",
          "name": "stdout",
          "text": [
            "<generator object square at 0x7d1f44231700>\n"
          ]
        }
      ]
    },
    {
      "cell_type": "code",
      "source": [
        "for i in square(3):\n",
        "  print(i)"
      ],
      "metadata": {
        "colab": {
          "base_uri": "https://localhost:8080/"
        },
        "id": "hcQ0oXJklOUX",
        "outputId": "bf8a89a3-acaf-4d0c-de64-13b0b6adf9e0"
      },
      "execution_count": null,
      "outputs": [
        {
          "output_type": "stream",
          "name": "stdout",
          "text": [
            "0\n",
            "1\n",
            "4\n"
          ]
        }
      ]
    },
    {
      "cell_type": "code",
      "source": [
        "a = square(3)\n",
        "print(a)  # It became generator object"
      ],
      "metadata": {
        "colab": {
          "base_uri": "https://localhost:8080/"
        },
        "id": "BMm_aXniqh9W",
        "outputId": "69f7d31e-bc5c-4063-fce0-d5bc518b80f3"
      },
      "execution_count": null,
      "outputs": [
        {
          "output_type": "stream",
          "name": "stdout",
          "text": [
            "<generator object square at 0x7d1f44233850>\n"
          ]
        }
      ]
    },
    {
      "cell_type": "code",
      "source": [
        "#Automatically implement the iterator protocol (__iter__() and __next__()).\n",
        "next(a)"
      ],
      "metadata": {
        "colab": {
          "base_uri": "https://localhost:8080/"
        },
        "id": "hYuOHjddq0a8",
        "outputId": "412b699c-0b12-4ad0-c269-3c5385381c89"
      },
      "execution_count": null,
      "outputs": [
        {
          "output_type": "execute_result",
          "data": {
            "text/plain": [
              "1"
            ]
          },
          "metadata": {},
          "execution_count": 44
        }
      ]
    },
    {
      "cell_type": "code",
      "source": [
        "next(a)"
      ],
      "metadata": {
        "colab": {
          "base_uri": "https://localhost:8080/",
          "height": 141
        },
        "id": "XyHlzzq4rE62",
        "outputId": "2c680164-e77f-4525-ee7d-0dd978c4ec70"
      },
      "execution_count": null,
      "outputs": [
        {
          "output_type": "error",
          "ename": "StopIteration",
          "evalue": "",
          "traceback": [
            "\u001b[0;31m---------------------------------------------------------------------------\u001b[0m",
            "\u001b[0;31mStopIteration\u001b[0m                             Traceback (most recent call last)",
            "\u001b[0;32m/tmp/ipython-input-46-1242322984.py\u001b[0m in \u001b[0;36m<cell line: 0>\u001b[0;34m()\u001b[0m\n\u001b[0;32m----> 1\u001b[0;31m \u001b[0mnext\u001b[0m\u001b[0;34m(\u001b[0m\u001b[0ma\u001b[0m\u001b[0;34m)\u001b[0m\u001b[0;34m\u001b[0m\u001b[0;34m\u001b[0m\u001b[0m\n\u001b[0m",
            "\u001b[0;31mStopIteration\u001b[0m: "
          ]
        }
      ]
    },
    {
      "cell_type": "code",
      "source": [
        "# another example\n",
        "\n",
        "def my_generator():\n",
        "  yield 1\n",
        "  yield 2\n",
        "  yield 3"
      ],
      "metadata": {
        "id": "vcHt9cZorH1N"
      },
      "execution_count": null,
      "outputs": []
    },
    {
      "cell_type": "code",
      "source": [
        "gen = my_generator()\n",
        "gen"
      ],
      "metadata": {
        "colab": {
          "base_uri": "https://localhost:8080/"
        },
        "id": "8Idz5Y3urovo",
        "outputId": "20ba750b-5498-464a-8fb0-cd91354760a3"
      },
      "execution_count": null,
      "outputs": [
        {
          "output_type": "execute_result",
          "data": {
            "text/plain": [
              "<generator object my_generator at 0x7d1f442521f0>"
            ]
          },
          "metadata": {},
          "execution_count": 57
        }
      ]
    },
    {
      "cell_type": "code",
      "source": [
        "next(gen)"
      ],
      "metadata": {
        "colab": {
          "base_uri": "https://localhost:8080/"
        },
        "id": "zGAC2uI4royU",
        "outputId": "7aadb1c2-68c8-4bdc-9075-8ca5dd8f0ee2"
      },
      "execution_count": null,
      "outputs": [
        {
          "output_type": "execute_result",
          "data": {
            "text/plain": [
              "1"
            ]
          },
          "metadata": {},
          "execution_count": 50
        }
      ]
    },
    {
      "cell_type": "code",
      "source": [
        "next(gen)"
      ],
      "metadata": {
        "colab": {
          "base_uri": "https://localhost:8080/"
        },
        "id": "pI0dXCuiro0-",
        "outputId": "0fb366ec-57ae-40c7-c315-8a0bca74fa0d"
      },
      "execution_count": null,
      "outputs": [
        {
          "output_type": "execute_result",
          "data": {
            "text/plain": [
              "2"
            ]
          },
          "metadata": {},
          "execution_count": 51
        }
      ]
    },
    {
      "cell_type": "code",
      "source": [
        "next(gen)"
      ],
      "metadata": {
        "colab": {
          "base_uri": "https://localhost:8080/"
        },
        "id": "ur_p55iqr1Ug",
        "outputId": "5f89f1e8-3dce-4675-edbe-86aa6a7e56c0"
      },
      "execution_count": null,
      "outputs": [
        {
          "output_type": "execute_result",
          "data": {
            "text/plain": [
              "3"
            ]
          },
          "metadata": {},
          "execution_count": 52
        }
      ]
    },
    {
      "cell_type": "code",
      "source": [
        "next(gen)"
      ],
      "metadata": {
        "colab": {
          "base_uri": "https://localhost:8080/",
          "height": 141
        },
        "id": "TBl6v0akr2NA",
        "outputId": "273a02ba-a76f-41c3-a14d-b478b6dd5376"
      },
      "execution_count": null,
      "outputs": [
        {
          "output_type": "error",
          "ename": "StopIteration",
          "evalue": "",
          "traceback": [
            "\u001b[0;31m---------------------------------------------------------------------------\u001b[0m",
            "\u001b[0;31mStopIteration\u001b[0m                             Traceback (most recent call last)",
            "\u001b[0;32m/tmp/ipython-input-53-4293081279.py\u001b[0m in \u001b[0;36m<cell line: 0>\u001b[0;34m()\u001b[0m\n\u001b[0;32m----> 1\u001b[0;31m \u001b[0mnext\u001b[0m\u001b[0;34m(\u001b[0m\u001b[0mgen\u001b[0m\u001b[0;34m)\u001b[0m\u001b[0;34m\u001b[0m\u001b[0;34m\u001b[0m\u001b[0m\n\u001b[0m",
            "\u001b[0;31mStopIteration\u001b[0m: "
          ]
        }
      ]
    },
    {
      "cell_type": "markdown",
      "source": [
        "#Python Decorator"
      ],
      "metadata": {
        "id": "0P6Xi5nvtGVq"
      }
    },
    {
      "cell_type": "markdown",
      "source": [
        "Excellent — let’s go step by step for **Decorators in Python**\n",
        "**Definition → Types → Syntax → Values & Behaviors → Real-world Use Cases → Advantages → Disadvantages → Peer Alternatives**, and more with examples.\n",
        "\n",
        "---\n",
        "\n",
        "# 🧩 1. Description — What is a Decorator?\n",
        "\n",
        "A **decorator** in Python is a **higher-order function** that takes another function or class as input, **adds functionality to it**, and returns it — *without changing its original code*.\n",
        "\n",
        "> **In simple words:** A decorator “wraps” another function to extend or modify its behavior.\n",
        "\n",
        "---\n",
        "\n",
        "### 🔹 Example (Basic Syntax)\n",
        "\n",
        "```python\n",
        "def decorator(func):\n",
        "    def wrapper():\n",
        "        print(\"Before function call\")\n",
        "        func()\n",
        "        print(\"After function call\")\n",
        "    return wrapper\n",
        "\n",
        "@decorator\n",
        "def greet():\n",
        "    print(\"Hello!\")\n",
        "\n",
        "greet()\n",
        "```\n",
        "\n",
        "**Output:**\n",
        "\n",
        "```\n",
        "Before function call\n",
        "Hello!\n",
        "After function call\n",
        "```\n",
        "\n",
        "Here, `@decorator` is shorthand for:\n",
        "\n",
        "```python\n",
        "greet = decorator(greet)\n",
        "```\n",
        "\n",
        "---\n",
        "\n",
        "## ⚙️ 2. Components & Structure\n",
        "\n",
        "Every decorator typically has **three layers:**\n",
        "\n",
        "1. **Decorator function** — the outer function.\n",
        "2. **Wrapper function** — inner function that adds extra code.\n",
        "3. **Original function** — the function being decorated.\n",
        "\n",
        "---\n",
        "\n",
        "### 🧠 Function Anatomy\n",
        "\n",
        "```python\n",
        "def decorator(func):          # 1️⃣ Outer decorator\n",
        "    def wrapper(*args, **kwargs):  # 2️⃣ Inner wrapper\n",
        "        # Add behavior before\n",
        "        result = func(*args, **kwargs)\n",
        "        # Add behavior after\n",
        "        return result\n",
        "    return wrapper             # 3️⃣ Return wrapper\n",
        "```\n",
        "\n",
        "---\n",
        "\n",
        "## 🧩 3. Types of Decorators\n",
        "\n",
        "| Type                        | Description                                                                  | Example         |\n",
        "| --------------------------- | ---------------------------------------------------------------------------- | --------------- |\n",
        "| **Function Decorator**      | Decorates a normal function                                                  | `@my_decorator` |\n",
        "| **Parameterized Decorator** | Accepts arguments itself                                                     | `@repeat(n=3)`  |\n",
        "| **Class Decorator**         | Decorates classes                                                            | `@add_repr`     |\n",
        "| **Built-in Decorators**     | Python-provided decorators like `@staticmethod`, `@classmethod`, `@property` |                 |\n",
        "\n",
        "---\n",
        "\n",
        "### 🔹 Function Decorator Example\n",
        "\n",
        "```python\n",
        "def log_call(func):\n",
        "    def wrapper(*args, **kwargs):\n",
        "        print(f\"Calling {func.__name__} with {args} {kwargs}\")\n",
        "        return func(*args, **kwargs)\n",
        "    return wrapper\n",
        "\n",
        "@log_call\n",
        "def add(a, b):\n",
        "    return a + b\n",
        "\n",
        "print(add(3, 4))\n",
        "```\n",
        "\n",
        "---\n",
        "\n",
        "### 🔹 Parameterized Decorator Example\n",
        "\n",
        "```python\n",
        "def repeat(n):\n",
        "    def decorator(func):\n",
        "        def wrapper(*args, **kwargs):\n",
        "            for _ in range(n):\n",
        "                func(*args, **kwargs)\n",
        "        return wrapper\n",
        "    return decorator\n",
        "\n",
        "@repeat(3)\n",
        "def say_hello():\n",
        "    print(\"Hello!\")\n",
        "\n",
        "say_hello()\n",
        "```\n",
        "\n",
        "**Output:**\n",
        "\n",
        "```\n",
        "Hello!\n",
        "Hello!\n",
        "Hello!\n",
        "```\n",
        "\n",
        "---\n",
        "\n",
        "### 🔹 Class Decorator Example\n",
        "\n",
        "```python\n",
        "def add_repr(cls):\n",
        "    cls.__repr__ = lambda self: f\"<{cls.__name__}({self.__dict__})>\"\n",
        "    return cls\n",
        "\n",
        "@add_repr\n",
        "class Person:\n",
        "    def __init__(self, name, age):\n",
        "        self.name = name\n",
        "        self.age = age\n",
        "\n",
        "print(Person(\"John\", 25))\n",
        "```\n",
        "\n",
        "**Output:**\n",
        "\n",
        "```\n",
        "<Person({'name': 'John', 'age': 25})>\n",
        "```\n",
        "\n",
        "---\n",
        "\n",
        "### 🔹 Built-in Decorators\n",
        "\n",
        "| Decorator       | Usage                                 | Example         |\n",
        "| --------------- | ------------------------------------- | --------------- |\n",
        "| `@staticmethod` | Defines a static method (no `self`)   | Utility methods |\n",
        "| `@classmethod`  | Defines a class method (takes `cls`)  | Factory methods |\n",
        "| `@property`     | Turns method into read-only attribute | Getters/Setters |\n",
        "\n",
        "**Example:**\n",
        "\n",
        "```python\n",
        "class Circle:\n",
        "    def __init__(self, radius):\n",
        "        self._r = radius\n",
        "\n",
        "    @property\n",
        "    def area(self):\n",
        "        return 3.14 * self._r ** 2\n",
        "```\n",
        "\n",
        "---\n",
        "\n",
        "## 🔧 4. Values, Arguments & Ranges\n",
        "\n",
        "| Item                            | Description                                   | Common Values        |\n",
        "| ------------------------------- | --------------------------------------------- | -------------------- |\n",
        "| `*args, **kwargs`               | Used in wrappers to accept variable args      | Any                  |\n",
        "| `n` in parameterized decorators | Used for repeat counts, retries, etc.         | `1–10` typically     |\n",
        "| Return type                     | Usually returns the wrapper or class          | Callable or instance |\n",
        "| Function name & docstring       | Wrapped unless preserved by `functools.wraps` | –                    |\n",
        "\n",
        "### ⚠️ Use `functools.wraps` to preserve metadata\n",
        "\n",
        "```python\n",
        "from functools import wraps\n",
        "\n",
        "def my_decorator(func):\n",
        "    @wraps(func)\n",
        "    def wrapper(*args, **kwargs):\n",
        "        print(\"Before call\")\n",
        "        return func(*args, **kwargs)\n",
        "    return wrapper\n",
        "```\n",
        "\n",
        "---\n",
        "\n",
        "## 🌍 5. Real-World Use Cases\n",
        "\n",
        "| Scenario                  | Example Decorator                                   |\n",
        "| ------------------------- | --------------------------------------------------- |\n",
        "| **Logging**               | Log function calls or arguments                     |\n",
        "| **Authentication**        | Check user permissions before running function      |\n",
        "| **Caching**               | Store results to avoid recomputation (`@lru_cache`) |\n",
        "| **Retry Logic**           | Automatically retry failed network calls            |\n",
        "| **Timing**                | Measure execution time                              |\n",
        "| **Validation**            | Validate inputs before function runs                |\n",
        "| **Framework-level hooks** | Flask/Django route decorators (`@app.route`)        |\n",
        "\n",
        "### 🔹 Example: Timing Decorator\n",
        "\n",
        "```python\n",
        "import time\n",
        "\n",
        "def timing(func):\n",
        "    def wrapper(*args, **kwargs):\n",
        "        start = time.perf_counter()\n",
        "        value = func(*args, **kwargs)\n",
        "        end = time.perf_counter()\n",
        "        print(f\"{func.__name__} took {end - start:.4f}s\")\n",
        "        return value\n",
        "    return wrapper\n",
        "\n",
        "@timing\n",
        "def slow_function():\n",
        "    time.sleep(1)\n",
        "\n",
        "slow_function()\n",
        "```\n",
        "\n",
        "---\n",
        "\n",
        "## 💡 6. Advantages\n",
        "\n",
        "✅ **Code Reuse** — Write cross-cutting logic once (logging, timing, caching).\n",
        "✅ **Separation of Concerns** — Keeps core logic clean and focused.\n",
        "✅ **Enhanced Readability** — `@decorator` clearly shows modifications.\n",
        "✅ **DRY Principle** — Don’t repeat yourself; reuse wrappers easily.\n",
        "✅ **Powerful in Frameworks** — Used in Flask, FastAPI, Django, etc.\n",
        "\n",
        "---\n",
        "\n",
        "## ⚠️ 7. Disadvantages\n",
        "\n",
        "❌ **Can be confusing for beginners** — Because of nested closures.\n",
        "❌ **Harder Debugging** — Errors can be masked by wrapper.\n",
        "❌ **Overuse leads to clutter** — Too many layers obscure control flow.\n",
        "❌ **Metadata loss** — Without `@wraps`, function name, docstring lost.\n",
        "❌ **Order matters** — Multiple decorators stack from bottom to top.\n",
        "\n",
        "Example:\n",
        "\n",
        "```python\n",
        "@dec1\n",
        "@dec2\n",
        "def f(): ...\n",
        "# Equivalent to f = dec1(dec2(f))\n",
        "```\n",
        "\n",
        "---\n",
        "\n",
        "## ⚖️ 8. Peer / Related Alternatives\n",
        "\n",
        "| Concept                               | Description                            | When to Use                                     |\n",
        "| ------------------------------------- | -------------------------------------- | ----------------------------------------------- |\n",
        "| **Context Managers** (`with`)         | Manage setup/teardown of resources     | When you need temporary behavior within a block |\n",
        "| **Higher-Order Functions**            | Pass functions manually instead of `@` | When you want explicit control                  |\n",
        "| **Class Wrappers / Mixins**           | Modify behavior via inheritance        | When you need persistent state                  |\n",
        "| **Metaclasses**                       | Modify classes dynamically             | For framework-level logic                       |\n",
        "| **Aspect-Oriented Programming (AOP)** | More powerful cross-cutting approach   | In complex enterprise architectures             |\n",
        "\n",
        "---\n",
        "\n",
        "## 🧰 9. Built-in Useful Decorators (Standard Library)\n",
        "\n",
        "| Decorator                                    | From          | Description                                 |\n",
        "| -------------------------------------------- | ------------- | ------------------------------------------- |\n",
        "| `@functools.lru_cache(maxsize=None)`         | `functools`   | Cache results                               |\n",
        "| `@functools.cache`                           | `functools`   | Simpler cache (3.9+)                        |\n",
        "| `@functools.singledispatch`                  | `functools`   | Generic function dispatch                   |\n",
        "| `@dataclasses.dataclass`                     | `dataclasses` | Auto-generates `__init__`, `__repr__`, etc. |\n",
        "| `@property`, `@classmethod`, `@staticmethod` | built-in      | For OOP method types                        |\n",
        "\n",
        "---\n",
        "\n",
        "## 🔄 10. Real Framework Examples\n",
        "\n",
        "### Flask route decorator\n",
        "\n",
        "```python\n",
        "@app.route('/home')\n",
        "def home():\n",
        "    return \"Welcome Home!\"\n",
        "```\n",
        "\n",
        "→ Internally registers `home()` with Flask’s routing system.\n",
        "\n",
        "### FastAPI route decorator\n",
        "\n",
        "```python\n",
        "@app.get(\"/items/{item_id}\")\n",
        "async def read_item(item_id: int):\n",
        "    return {\"item_id\": item_id}\n",
        "```\n",
        "\n",
        "### pytest decorator\n",
        "\n",
        "```python\n",
        "@pytest.mark.asyncio\n",
        "async def test_api_call():\n",
        "    ...\n",
        "```\n",
        "\n",
        "---\n",
        "\n",
        "## 🧭 11. Best Practices\n",
        "\n",
        "✅ Always use `@wraps(func)` to preserve metadata.\n",
        "✅ Avoid changing input/output unless necessary.\n",
        "✅ Keep wrapper lightweight — no heavy computations.\n",
        "✅ Clearly name your decorators to indicate purpose.\n",
        "✅ Document expected parameters & side effects.\n",
        "✅ Use nested decorators carefully (order matters).\n",
        "\n",
        "---\n",
        "\n",
        "## 🧪 12. Example — Retry Decorator (Practical Use)\n",
        "\n",
        "```python\n",
        "import time\n",
        "from functools import wraps\n",
        "\n",
        "def retry(times):\n",
        "    def decorator(func):\n",
        "        @wraps(func)\n",
        "        def wrapper(*args, **kwargs):\n",
        "            for i in range(times):\n",
        "                try:\n",
        "                    return func(*args, **kwargs)\n",
        "                except Exception as e:\n",
        "                    print(f\"Attempt {i+1} failed: {e}\")\n",
        "                    time.sleep(1)\n",
        "            raise Exception(f\"Failed after {times} retries\")\n",
        "        return wrapper\n",
        "    return decorator\n",
        "\n",
        "@retry(3)\n",
        "def connect():\n",
        "    raise ConnectionError(\"Network down\")\n",
        "\n",
        "connect()\n",
        "```\n",
        "\n",
        "---\n",
        "\n",
        "## 🧠 13. Summary Table\n",
        "\n",
        "| Concept                 | Description                                | Example                      |\n",
        "| ----------------------- | ------------------------------------------ | ---------------------------- |\n",
        "| Decorator               | Function that wraps another function/class | `@my_decorator`              |\n",
        "| Wrapper                 | Inner function adding extra behavior       | `def wrapper():`             |\n",
        "| Parameterized Decorator | Decorator with arguments                   | `@retry(3)`                  |\n",
        "| Built-in Decorator      | Provided by Python                         | `@property`, `@staticmethod` |\n",
        "| Class Decorator         | Modifies a class                           | `@add_repr`                  |\n",
        "| Library Decorators      | Used by frameworks                         | `@app.route`, `@pytest.mark` |\n",
        "\n",
        "---\n",
        "\n",
        "Would you like me to continue next with a **visual diagram** of how decorators wrap functions (step-by-step flow from call → wrapper → function), or would you prefer a **hands-on project-style example** (like building a mini Flask-like decorator framework)?\n"
      ],
      "metadata": {
        "id": "uqJBtjhRsk-U"
      }
    },
    {
      "cell_type": "markdown",
      "source": [],
      "metadata": {
        "id": "MdYlCaILslWa"
      }
    }
  ]
}