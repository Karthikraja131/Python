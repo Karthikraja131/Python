{
 "cells": [
  {
   "cell_type": "markdown",
   "id": "921b0fda",
   "metadata": {},
   "source": [
    "# Python "
   ]
  },
  {
   "cell_type": "raw",
   "id": "21ddc118",
   "metadata": {},
   "source": [
    "# Python usess \n",
    "\"\"\" \n",
    "* Web applicatoins\n",
    "* Mobile applications \n",
    "* Games \n",
    "* DB\n",
    "* Networking programming\n",
    "* Data Science / Machine learning\n",
    "\"\"\"    \n",
    "# Advantages of Python\n",
    "\n",
    "* Simple\n",
    "* Open source and free\n",
    "* Platform indipendence( Linux/windows) Python virtual machine.\n",
    "* Portability\n",
    "* Dynamically typed ( no need to specify Data types eg: int,float etc)\n",
    "* Multiparadigm\n",
    "* Huge Libraries and Modules.\n",
    "\n",
    "\n",
    "\n",
    "\n",
    "\n"
   ]
  },
  {
   "cell_type": "code",
   "execution_count": 4,
   "id": "3009fd7b",
   "metadata": {},
   "outputs": [
    {
     "name": "stdout",
     "output_type": "stream",
     "text": [
      "120\n"
     ]
    }
   ],
   "source": [
    "# examples for python lybrary and module\n",
    "import math \n",
    "math.factorial(5)\n",
    "result= math.factorial(5)\n",
    "print(result)"
   ]
  },
  {
   "cell_type": "raw",
   "id": "19536b98",
   "metadata": {},
   "source": [
    "'''External modules examples\n",
    "*selinium\n",
    "*beutiful soup\n",
    "*pandas\n",
    "*numpy\n",
    "'''"
   ]
  },
  {
   "cell_type": "raw",
   "id": "0fabe591",
   "metadata": {},
   "source": [
    "# Flavaurs of Python \n",
    " this means the other languages co ordinating with python.\n",
    "\n",
    "*pypy (high performance python)\n",
    "*jypython (it can run in Java virtual machine )\n",
    "*cython ( it con run with C language)\n",
    "*IronPython and etc etc ( this is with C#)\n",
    "*Ruby python\n",
    "*Anaconda python( large set of Data processing)\n"
   ]
  },
  {
   "cell_type": "code",
   "execution_count": null,
   "id": "eb96fcbd",
   "metadata": {},
   "outputs": [],
   "source": []
  }
 ],
 "metadata": {
  "kernelspec": {
   "display_name": "Python 3 (ipykernel)",
   "language": "python",
   "name": "python3"
  },
  "language_info": {
   "codemirror_mode": {
    "name": "ipython",
    "version": 3
   },
   "file_extension": ".py",
   "mimetype": "text/x-python",
   "name": "python",
   "nbconvert_exporter": "python",
   "pygments_lexer": "ipython3",
   "version": "3.8.10"
  }
 },
 "nbformat": 4,
 "nbformat_minor": 5
}
