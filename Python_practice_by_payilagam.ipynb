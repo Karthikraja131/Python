{
 "cells": [
  {
   "cell_type": "markdown",
   "id": "921b0fda",
   "metadata": {},
   "source": [
    "# Python "
   ]
  },
  {
   "cell_type": "raw",
   "id": "21ddc118",
   "metadata": {},
   "source": [
    "# Python usess \n",
    "\"\"\" \n",
    "* Web applicatoins\n",
    "* Mobile applications \n",
    "* Games \n",
    "* DB\n",
    "* Networking programming\n",
    "* Data Science / Machine learning\n",
    "\"\"\"    \n",
    "# Advantages of Python\n",
    "\n",
    "* Simple\n",
    "* Open source and free\n",
    "* Platform indipendence( Linux/windows) Python virtual machine.\n",
    "* Portability\n",
    "* Dynamically typed ( no need to specify Data types eg: int,float etc)\n",
    "* Multiparadigm\n",
    "* Huge Libraries and Modules.\n",
    "\n",
    "\n",
    "\n",
    "\n",
    "\n"
   ]
  },
  {
   "cell_type": "code",
   "execution_count": 4,
   "id": "3009fd7b",
   "metadata": {},
   "outputs": [
    {
     "name": "stdout",
     "output_type": "stream",
     "text": [
      "120\n"
     ]
    }
   ],
   "source": [
    "# examples for python lybrary and module\n",
    "import math \n",
    "math.factorial(5)\n",
    "result= math.factorial(5)\n",
    "print(result)"
   ]
  },
  {
   "cell_type": "raw",
   "id": "19536b98",
   "metadata": {},
   "source": [
    "'''External modules examples\n",
    "*selinium\n",
    "*beutiful soup\n",
    "*pandas\n",
    "*numpy\n",
    "'''"
   ]
  },
  {
   "cell_type": "raw",
   "id": "0fabe591",
   "metadata": {},
   "source": [
    "# Flavaurs of Python \n",
    " this means the other languages co ordinating with python.\n",
    "\n",
    "*pypy (high performance python)\n",
    "*jypython (it can run in Java virtual machine )\n",
    "*cython ( it con run with C language)\n",
    "*IronPython and etc etc ( this is with C#)\n",
    "*Ruby python\n",
    "*Anaconda python( large set of Data processing)\n"
   ]
  },
  {
   "cell_type": "code",
   "execution_count": 2,
   "id": "eb96fcbd",
   "metadata": {},
   "outputs": [
    {
     "name": "stdout",
     "output_type": "stream",
     "text": [
      "This is my first programme\n",
      "My name is Karthikraja\n"
     ]
    }
   ],
   "source": [
    "# First programme\n",
    "print('This is my first programme')\n",
    "print('My name is Karthikraja')\n",
    "\n"
   ]
  },
  {
   "cell_type": "code",
   "execution_count": 8,
   "id": "e7e8726d",
   "metadata": {},
   "outputs": [
    {
     "name": "stdout",
     "output_type": "stream",
     "text": [
      "8\n",
      "40\n",
      "11\n",
      "14\n",
      "14\n",
      "30\n",
      "35\n"
     ]
    }
   ],
   "source": [
    "print(5+3)\n",
    "print(5*8) # Multiplication\n",
    "print(5+2*3) # BODMAS \n",
    "print(2**3+2*3)\n",
    "print((2**3)+2*3)\n",
    "print((2**3+2)*3)\n",
    "print((5+2)*5)"
   ]
  },
  {
   "cell_type": "code",
   "execution_count": 6,
   "id": "08e037cd",
   "metadata": {},
   "outputs": [
    {
     "name": "stdout",
     "output_type": "stream",
     "text": [
      "33.333333333333336\n",
      "97\n",
      "33\n",
      "6\n",
      "8\n",
      "2\n",
      "1\n",
      "0\n"
     ]
    }
   ],
   "source": [
    "print(100/3) # Division\n",
    "print(100-3) # Subtraction\n",
    "print(100//3) # Floor division\n",
    "print(2*3) # Multilpication\n",
    "print(2**3) # Exponentiation\n",
    "print(100%7) # Modulus ( result will be remainder)\n",
    "print(100%9)\n",
    "print(100%2)"
   ]
  },
  {
   "cell_type": "code",
   "execution_count": 26,
   "id": "32afe315",
   "metadata": {},
   "outputs": [
    {
     "name": "stdout",
     "output_type": "stream",
     "text": [
      "5\n",
      "Karthikraja\n",
      "Karthikraja\n",
      "5\n",
      "6\n",
      "3\n",
      "1\n",
      "2\n",
      "9\n",
      "8\n"
     ]
    }
   ],
   "source": [
    "# Identifiers - Variables - Reference variables \n",
    "# Rules for identifiers\n",
    "\"\"\" \n",
    "* Alphabets - small/capital\n",
    "* Numbers are allowed (but after start with alphabets)\n",
    "* Only under score (_) is allowed remaining special charector is not allowed\n",
    "* Space is not allowed\n",
    "* Case sensitive\n",
    "* No limitation (we can write any length)\n",
    "* Reserved words in python should not be used for indentifiers\n",
    "* _,__ starting -->  is called as private variables\n",
    "* majic methods --> __add__ ( already defined functions)\n",
    "\"\"\"\n",
    "\n",
    "door_no = 5   # = --> Assignment operators \n",
    "print(door_no)\n",
    "name= 'Karthikraja'\n",
    "print(name)\n",
    "name=\"Karthikraja\"\n",
    "print(name)\n",
    "tamil1= 5\n",
    "print(tamil1)\n",
    "tamil2= 6\n",
    "print(tamil2)\n",
    "tamil_1 = 3\n",
    "print(tamil_1)\n",
    "TAMIL2= 1\n",
    "print(TAMIL2)\n",
    "_tamil=2        # private variables\n",
    "print(_tamil)\n",
    "#  2tamil=7\n",
    "#  print(2tamil)\n",
    "__tamil = 9\n",
    "print(__tamil)   # private variables\n",
    "_tamil_=8\n",
    "print(_tamil_)"
   ]
  },
  {
   "cell_type": "code",
   "execution_count": 40,
   "id": "6384985e",
   "metadata": {
    "scrolled": true
   },
   "outputs": [
    {
     "data": {
      "text/plain": [
       "['False',\n",
       " 'None',\n",
       " 'True',\n",
       " 'and',\n",
       " 'as',\n",
       " 'assert',\n",
       " 'async',\n",
       " 'await',\n",
       " 'break',\n",
       " 'class',\n",
       " 'continue',\n",
       " 'def',\n",
       " 'del',\n",
       " 'elif',\n",
       " 'else',\n",
       " 'except',\n",
       " 'finally',\n",
       " 'for',\n",
       " 'from',\n",
       " 'global',\n",
       " 'if',\n",
       " 'import',\n",
       " 'in',\n",
       " 'is',\n",
       " 'lambda',\n",
       " 'nonlocal',\n",
       " 'not',\n",
       " 'or',\n",
       " 'pass',\n",
       " 'raise',\n",
       " 'return',\n",
       " 'try',\n",
       " 'while',\n",
       " 'with',\n",
       " 'yield']"
      ]
     },
     "execution_count": 40,
     "metadata": {},
     "output_type": "execute_result"
    }
   ],
   "source": [
    "# Python Reserved words \n",
    "\"\"\" \n",
    "In python there are 33 reserved words ( Eg: True, Falsej, None \n",
    "and, or, not, is \n",
    "if, elif,else\n",
    "while, for, break,continue,return, yeild, in \n",
    "try, except, finally, raise, assert )\n",
    "\"\"\"\n",
    "import keyword\n",
    "keyword.kwlist\n"
   ]
  },
  {
   "cell_type": "code",
   "execution_count": 1,
   "id": "6ef94c3b",
   "metadata": {},
   "outputs": [
    {
     "data": {
      "text/plain": [
       "'\\nDynamically typed prigramming and it is called as Duck typed programming language\\n( because we never menstion data types before variables ) explicitly in python.\\nPython will automatically their corresponding data types based on what we menstion the datas.\\n* In python tere are 14 inbuilt data types are present.( eg: int, float, complex,str,bool, bytes,bytearray\\n range,list, set,forezenset, tuple, dict,None ).\\n '"
      ]
     },
     "execution_count": 1,
     "metadata": {},
     "output_type": "execute_result"
    }
   ],
   "source": [
    "# Data Types\n",
    "\"\"\"\n",
    "Dynamically typed prigramming and it is called as Duck typed programming language\n",
    "( because we never menstion data types before variables ) explicitly in python.\n",
    "Python will automatically their corresponding data types based on what we menstion the datas.\n",
    "* In python tere are 14 inbuilt data types are present.( eg: int, float, complex,str,bool, bytes,bytearray\n",
    " range,list, set,forezenset, tuple, dict,None ).\n",
    " \"\"\"\n"
   ]
  },
  {
   "cell_type": "code",
   "execution_count": 9,
   "id": "55d2c3fa",
   "metadata": {},
   "outputs": [
    {
     "name": "stdout",
     "output_type": "stream",
     "text": [
      "5\n",
      "<class 'int'>\n",
      "5.5\n",
      "<class 'float'>\n",
      "True\n",
      "<class 'bool'>\n",
      "Karthikraja\n",
      "<class 'str'>\n",
      "karthikraja\n",
      "<class 'str'>\n",
      "['karthikraja', 1, 5.5, True, [('karthik', 'raja')]]\n",
      "<class 'list'>\n",
      "<class 'tuple'>\n",
      "<class 'dict'>\n"
     ]
    }
   ],
   "source": [
    "karthik = 5\n",
    "print(karthik)\n",
    "print(type(karthik))  # \"type\" function is used to print Data type of the variable to be used.\n",
    "\n",
    "no=5.5\n",
    "print(no)\n",
    "print(type(no))\n",
    "\n",
    "result= True\n",
    "print(result)\n",
    "print(type(result))\n",
    "\n",
    "words = \"Karthikraja\" # strings can specify single quates and double quates.\n",
    "word='karthikraja'\n",
    "print(words)\n",
    "print(type(words))\n",
    "print(word)\n",
    "print(type(word))\n",
    "\n",
    "first_list=['karthikraja', 1, 5.5, True, [(\"karthik\", \"raja\")] ]\n",
    "print(first_list)\n",
    "print(type(first_list))\n",
    "\n",
    "first_tuple=()\n",
    "print(type(first_tuple))\n",
    "\n",
    "first_dict= {}\n",
    "print(type(first_dict))\n",
    "\n",
    "\n",
    "\n"
   ]
  },
  {
   "cell_type": "code",
   "execution_count": 25,
   "id": "9f448ceb",
   "metadata": {},
   "outputs": [
    {
     "name": "stdout",
     "output_type": "stream",
     "text": [
      "10\n",
      "9788896\n",
      "20\n",
      "9789216\n",
      "7\n",
      "5.54434\n",
      "6\n",
      "5.54\n",
      "5.544\n"
     ]
    }
   ],
   "source": [
    "# id\n",
    "  # it gives  the address of the data types\n",
    "\n",
    "no = 10\n",
    "print(no)\n",
    "print(id(no))\n",
    "\n",
    "no2= 20 \n",
    "print(no2)\n",
    "print( id(no2))\n",
    "\n",
    "\n",
    "\n",
    "## like this python have many inbuilt functions we can learn linmply search in Google.\n",
    "# * len()\n",
    "name=\"karthik\"\n",
    "print(len(name))\n",
    "\n",
    "# * round()\n",
    "no=5.54434\n",
    "print(no)\n",
    "\n",
    "print(round(no))\n",
    "print(round(no,2))\n",
    "print(round(no,3))\n"
   ]
  },
  {
   "cell_type": "code",
   "execution_count": 34,
   "id": "2d7dbc46",
   "metadata": {},
   "outputs": [
    {
     "name": "stdout",
     "output_type": "stream",
     "text": [
      "233\n",
      "5\n",
      "9\n",
      "510\n",
      "502\n",
      "30570\n",
      "18\n",
      "188\n"
     ]
    }
   ],
   "source": [
    "# Integer data type --> int\n",
    "# * Decimal form  --> normal numbers( eg: 123,3,34)\n",
    "# * Binary form   --> zero's and one's\n",
    "# * Octal form    --> it is Base 8.--> it should be 0,1,2,3,4,5,6,7\n",
    "# * Hexadecimal form  --> --> it is Base 16.--> it should be 0,1,2,3,4,5,6,7,8,9 and A,B,C,D,E,F\n",
    "\n",
    "# * Decimal form --> normal numbers( eg: 123,3,34)\n",
    "\n",
    "no= 233\n",
    "\n",
    "print(no)\n",
    "\n",
    "# * Binary form   --> zero's and one's\n",
    "\n",
    "no = 0B0101   # --> we should menstion 0B or 0b in back of binary numbers \n",
    "print(no)     #---> result will be normal number which is the equlant of binary number.\n",
    "\n",
    "no= 0b1001\n",
    "print(no)\n",
    "\n",
    "# * Octal form    --> it is Base 8.--> it should be 0,1,2,3,4,5,6,7\n",
    "\n",
    "no= 0o776   # --> we should menstion 0o or 0O in back of binary numbers \n",
    "print(no)\n",
    "\n",
    "no2=0O766\n",
    "print(no2)\n",
    "\n",
    "\n",
    "# * Hexadecimal form  -->  it is Base 16.--> it should be 0,1,2,3,4,5,6,7,8,9 and A,B,C,D,E,F\n",
    "\n",
    "no= 0x776A   # --> we should menstion 0x or 0X in back of binary numbers.\n",
    "print(no)\n",
    "\n",
    "no2=0X12\n",
    "print(no2)\n",
    "no3=0XBC\n",
    "print(no3)\n",
    "\n",
    "\n"
   ]
  },
  {
   "cell_type": "code",
   "execution_count": 1,
   "id": "a8f90c8f",
   "metadata": {},
   "outputs": [
    {
     "name": "stdout",
     "output_type": "stream",
     "text": [
      "0b10100\n",
      "0o24\n",
      "0x14\n"
     ]
    }
   ],
   "source": [
    "# Function\n",
    "\n",
    "#bin()\n",
    "\n",
    "no=bin(20)\n",
    "print(no)\n",
    "\n",
    "#oct()\n",
    "\n",
    "no=oct(20)\n",
    "print(no)\n",
    "\n",
    "#hex()\n",
    "\n",
    "no=hex(20)\n",
    "print(no)\n",
    "\n",
    "\n",
    "\n",
    "\n"
   ]
  },
  {
   "cell_type": "code",
   "execution_count": 3,
   "id": "f71460dc",
   "metadata": {},
   "outputs": [
    {
     "name": "stdout",
     "output_type": "stream",
     "text": [
      "5.2344554543434345\n"
     ]
    }
   ],
   "source": [
    "## FLOAT DATATYPE --> float ( any length of number can be saved)\n",
    "no= 5.2344554543434343334\n",
    "print(no)\n",
    "\n",
    "\n",
    "\n",
    "\n"
   ]
  },
  {
   "cell_type": "code",
   "execution_count": null,
   "id": "6e766a26",
   "metadata": {},
   "outputs": [],
   "source": []
  },
  {
   "cell_type": "code",
   "execution_count": null,
   "id": "03b01911",
   "metadata": {},
   "outputs": [],
   "source": []
  }
 ],
 "metadata": {
  "kernelspec": {
   "display_name": "Python 3 (ipykernel)",
   "language": "python",
   "name": "python3"
  },
  "language_info": {
   "codemirror_mode": {
    "name": "ipython",
    "version": 3
   },
   "file_extension": ".py",
   "mimetype": "text/x-python",
   "name": "python",
   "nbconvert_exporter": "python",
   "pygments_lexer": "ipython3",
   "version": "3.8.10"
  },
  "vscode": {
   "interpreter": {
    "hash": "90b8737c7a9ddd828bdaab52d7c8d857d72a379c61f033296fdf353115b4373c"
   }
  }
 },
 "nbformat": 4,
 "nbformat_minor": 5
}
