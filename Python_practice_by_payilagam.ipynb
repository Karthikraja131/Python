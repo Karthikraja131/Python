{
 "cells": [
  {
   "cell_type": "markdown",
   "id": "921b0fda",
   "metadata": {},
   "source": [
    "# Python "
   ]
  },
  {
   "cell_type": "raw",
   "id": "21ddc118",
   "metadata": {},
   "source": [
    "# Python usess \n",
    "\"\"\" \n",
    "* Web applicatoins\n",
    "* Mobile applications \n",
    "* Games \n",
    "* DB\n",
    "* Networking programming\n",
    "* Data Science / Machine learning\n",
    "\"\"\"    \n",
    "# Advantages of Python\n",
    "\n",
    "* Simple\n",
    "* Open source and free\n",
    "* Platform indipendence( Linux/windows) Python virtual machine.\n",
    "* Portability\n",
    "* Dynamically typed ( no need to specify Data types eg: int,float etc)\n",
    "* Multiparadigm\n",
    "* Huge Libraries and Modules.\n",
    "\n",
    "\n",
    "\n",
    "\n",
    "\n"
   ]
  },
  {
   "cell_type": "code",
   "execution_count": 4,
   "id": "3009fd7b",
   "metadata": {},
   "outputs": [
    {
     "name": "stdout",
     "output_type": "stream",
     "text": [
      "120\n"
     ]
    }
   ],
   "source": [
    "# examples for python lybrary and module\n",
    "import math \n",
    "math.factorial(5)\n",
    "result= math.factorial(5)\n",
    "print(result)"
   ]
  },
  {
   "cell_type": "raw",
   "id": "19536b98",
   "metadata": {},
   "source": [
    "'''External modules examples\n",
    "*selinium\n",
    "*beutiful soup\n",
    "*pandas\n",
    "*numpy\n",
    "'''"
   ]
  },
  {
   "cell_type": "raw",
   "id": "0fabe591",
   "metadata": {},
   "source": [
    "# Flavaurs of Python \n",
    " this means the other languages co ordinating with python.\n",
    "\n",
    "*pypy (high performance python)\n",
    "*jypython (it can run in Java virtual machine )\n",
    "*cython ( it con run with C language)\n",
    "*IronPython and etc etc ( this is with C#)\n",
    "*Ruby python\n",
    "*Anaconda python( large set of Data processing)\n"
   ]
  },
  {
   "cell_type": "code",
   "execution_count": 2,
   "id": "eb96fcbd",
   "metadata": {},
   "outputs": [
    {
     "name": "stdout",
     "output_type": "stream",
     "text": [
      "This is my first programme\n",
      "My name is Karthikraja\n"
     ]
    }
   ],
   "source": [
    "# First programme\n",
    "print('This is my first programme')\n",
    "print('My name is Karthikraja')\n",
    "\n"
   ]
  },
  {
   "cell_type": "code",
   "execution_count": 8,
   "id": "e7e8726d",
   "metadata": {},
   "outputs": [
    {
     "name": "stdout",
     "output_type": "stream",
     "text": [
      "8\n",
      "40\n",
      "11\n",
      "14\n",
      "14\n",
      "30\n",
      "35\n"
     ]
    }
   ],
   "source": [
    "print(5+3)\n",
    "print(5*8) # Multiplication\n",
    "print(5+2*3) # BODMAS \n",
    "print(2**3+2*3)\n",
    "print((2**3)+2*3)\n",
    "print((2**3+2)*3)\n",
    "print((5+2)*5)"
   ]
  },
  {
   "cell_type": "code",
   "execution_count": 6,
   "id": "08e037cd",
   "metadata": {},
   "outputs": [
    {
     "name": "stdout",
     "output_type": "stream",
     "text": [
      "33.333333333333336\n",
      "97\n",
      "33\n",
      "6\n",
      "8\n",
      "2\n",
      "1\n",
      "0\n"
     ]
    }
   ],
   "source": [
    "print(100/3) # Division\n",
    "print(100-3) # Subtraction\n",
    "print(100//3) # Floor division\n",
    "print(2*3) # Multilpication\n",
    "print(2**3) # Exponentiation\n",
    "print(100%7) # Modulus ( result will be remainder)\n",
    "print(100%9)\n",
    "print(100%2)"
   ]
  },
  {
   "cell_type": "code",
   "execution_count": 26,
   "id": "32afe315",
   "metadata": {},
   "outputs": [
    {
     "name": "stdout",
     "output_type": "stream",
     "text": [
      "5\n",
      "Karthikraja\n",
      "Karthikraja\n",
      "5\n",
      "6\n",
      "3\n",
      "1\n",
      "2\n",
      "9\n",
      "8\n"
     ]
    }
   ],
   "source": [
    "# Identifiers - Variables - Reference variables \n",
    "# Rules for identifiers\n",
    "\"\"\" \n",
    "* Alphabets - small/capital\n",
    "* Numbers are allowed (but after start with alphabets)\n",
    "* Only under score (_) is allowed remaining special charector is not allowed\n",
    "* Space is not allowed\n",
    "* Case sensitive\n",
    "* No limitation (we can write any length)\n",
    "* Reserved words in python should not be used for indentifiers\n",
    "* _,__ starting -->  is called as private variables\n",
    "* majic methods --> __add__ ( already defined functions)\n",
    "\"\"\"\n",
    "\n",
    "door_no = 5   # = --> Assignment operators \n",
    "print(door_no)\n",
    "name= 'Karthikraja'\n",
    "print(name)\n",
    "name=\"Karthikraja\"\n",
    "print(name)\n",
    "tamil1= 5\n",
    "print(tamil1)\n",
    "tamil2= 6\n",
    "print(tamil2)\n",
    "tamil_1 = 3\n",
    "print(tamil_1)\n",
    "TAMIL2= 1\n",
    "print(TAMIL2)\n",
    "_tamil=2        # private variables\n",
    "print(_tamil)\n",
    "#  2tamil=7\n",
    "#  print(2tamil)\n",
    "__tamil = 9\n",
    "print(__tamil)   # private variables\n",
    "_tamil_=8\n",
    "print(_tamil_)"
   ]
  },
  {
   "cell_type": "code",
   "execution_count": 40,
   "id": "6384985e",
   "metadata": {
    "scrolled": true
   },
   "outputs": [
    {
     "data": {
      "text/plain": [
       "['False',\n",
       " 'None',\n",
       " 'True',\n",
       " 'and',\n",
       " 'as',\n",
       " 'assert',\n",
       " 'async',\n",
       " 'await',\n",
       " 'break',\n",
       " 'class',\n",
       " 'continue',\n",
       " 'def',\n",
       " 'del',\n",
       " 'elif',\n",
       " 'else',\n",
       " 'except',\n",
       " 'finally',\n",
       " 'for',\n",
       " 'from',\n",
       " 'global',\n",
       " 'if',\n",
       " 'import',\n",
       " 'in',\n",
       " 'is',\n",
       " 'lambda',\n",
       " 'nonlocal',\n",
       " 'not',\n",
       " 'or',\n",
       " 'pass',\n",
       " 'raise',\n",
       " 'return',\n",
       " 'try',\n",
       " 'while',\n",
       " 'with',\n",
       " 'yield']"
      ]
     },
     "execution_count": 40,
     "metadata": {},
     "output_type": "execute_result"
    }
   ],
   "source": [
    "# Python Reserved words \n",
    "\"\"\" \n",
    "In python there are 33 reserved words ( Eg: True, Falsej, None \n",
    "and, or, not, is \n",
    "if, elif,else\n",
    "while, for, break,continue,return, yeild, in \n",
    "try, except, finally, raise, assert )\n",
    "\"\"\"\n",
    "import keyword\n",
    "keyword.kwlist\n"
   ]
  },
  {
   "cell_type": "code",
   "execution_count": null,
   "id": "6ef94c3b",
   "metadata": {},
   "outputs": [],
   "source": [
    "# Data Types\n",
    "\"\"\"\n",
    "Dynamically typed prigramming and it is called as Duck typed programming language\n",
    "( because we never menstion data types before variables ) explicitly in python.\n",
    "Python will automatically their corresponding data types based on what we menstion the datas.\n",
    "* In python tere are 14 inbuilt data types are present.( eg: int, float, complex,str,bool, bytes,bytearray\n",
    " range,list, set,forezenset, tuple, dict,None ).\n"
   ]
  }
 ],
 "metadata": {
  "kernelspec": {
   "display_name": "Python 3 (ipykernel)",
   "language": "python",
   "name": "python3"
  },
  "language_info": {
   "codemirror_mode": {
    "name": "ipython",
    "version": 3
   },
   "file_extension": ".py",
   "mimetype": "text/x-python",
   "name": "python",
   "nbconvert_exporter": "python",
   "pygments_lexer": "ipython3",
   "version": "3.8.10"
  }
 },
 "nbformat": 4,
 "nbformat_minor": 5
}
