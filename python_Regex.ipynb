{
  "nbformat": 4,
  "nbformat_minor": 0,
  "metadata": {
    "colab": {
      "provenance": [],
      "authorship_tag": "ABX9TyPGDIohyhaEfgCO4Ob8Tb7Z",
      "include_colab_link": true
    },
    "kernelspec": {
      "name": "python3",
      "display_name": "Python 3"
    },
    "language_info": {
      "name": "python"
    }
  },
  "cells": [
    {
      "cell_type": "markdown",
      "metadata": {
        "id": "view-in-github",
        "colab_type": "text"
      },
      "source": [
        "<a href=\"https://colab.research.google.com/github/Karthikraja131/Python/blob/main/python_Regex.ipynb\" target=\"_parent\"><img src=\"https://colab.research.google.com/assets/colab-badge.svg\" alt=\"Open In Colab\"/></a>"
      ]
    },
    {
      "cell_type": "markdown",
      "source": [
        "## Regex\n",
        "* Regex, short for Regular Expressions, is a powerful tool used in computer science and programming for searching, manipulating, and validating strings of text based on patterns.\n",
        "\n",
        "* In Python, the **re** module provides support for regular expressions.\n",
        "\n",
        "* **Pattern Matching:**  Regular expressions define a pattern that can be used to match character combinations in strings.\n",
        " For example, **\\d matches any digit, \\w matches any alphanumeric character, and . matches any character except a newline.\n",
        "\n",
        " * **Special Characters:** Regular expressions use special characters to represent different types of patterns. For example, **^** matches the start of a string, **$** matches the end of a string, * matches zero or more occurrences of the preceding character, **+** matches one or more occurrences, and **?** matches zero or one occurrence.\n",
        "\n",
        " * **Character Classes:** Character classes allow you to match specific sets of characters. For example, **[a-z]** matches any lowercase letter, **[0-9]** matches any digit, and **[^a-z]** matches any character that is not a lowercase letter.\n",
        "\n",
        " * **Quantifiers:** Quantifiers specify **how many occurrences** of a character or group should be matched. For example, **{n}** matches exactly n occurrences, **{n,}** matches at least n occurrences, and **{n,m}** matches between n and m occurrences.\n",
        "\n",
        " * **Grouping and Capturing:** Parentheses **()** are used to group characters together, and also for capturing groups. Capturing groups allow you to extract parts of a matched string.\n",
        "\n",
        " * **Flags:** Flags modify the behavior of regular expressions. For example, the re.IGNORECASE flag can be used to perform case-insensitive matching.\n",
        "\n"
      ],
      "metadata": {
        "id": "G0ympfwNnetE"
      }
    },
    {
      "cell_type": "markdown",
      "source": [
        "\n",
        "[a-z]  - a to z\n",
        "\n",
        "[A-Z]  -  A to Z\n",
        "\n",
        "[a-cA-C0-9]  - a to c, A to C and 0 to 9\n",
        "\n",
        "{ }  - number of occurances\n",
        "\n",
        "{4}  - 4 occurances\n",
        "\n",
        "{4,6}  - 4 to 6 occurances\n",
        "\n",
        "r'  - raw data\n",
        "\n",
        "\\d  - digits\n",
        "\n",
        "\\w  - AlphaNumeric"
      ],
      "metadata": {
        "id": "d2dfw6sKLVEV"
      }
    },
    {
      "cell_type": "markdown",
      "source": [
        "## Pro Tips\n",
        "\n",
        "* If one condition is passed and if there is other condition also to be processed to pass further, we can go for the nested loops."
      ],
      "metadata": {
        "id": "jdbNytaMDRHZ"
      }
    },
    {
      "cell_type": "markdown",
      "source": [
        "# To find the Mobile number pattern from the\n",
        "\n",
        "given string.\n",
        "\n",
        "```\n",
        "# This is formatted as code\n",
        "```\n",
        "\n"
      ],
      "metadata": {
        "id": "Ukx1GXdBqZ0b"
      }
    },
    {
      "cell_type": "code",
      "source": [
        "import re\n",
        "\n",
        "mobileNumberPattern = re.compile(\"(0|91)?[6-9][0-9]{9}\")\n",
        "result=mobileNumberPattern.search(\"My mobine number is 8825417088\")\n",
        "print(result)\n",
        "\n",
        "# (0|91)? is used to find the first '0' or(|) '91' ? is if they present one time or none.\n",
        "# [6-9] is used to find the First one digit is from 6 to 9.\n",
        "# [0-9]{9} is used to find the next 9 digits from 0 to 9."
      ],
      "metadata": {
        "id": "wdTPjfMWneVi",
        "colab": {
          "base_uri": "https://localhost:8080/"
        },
        "outputId": "07963e15-5591-461d-e303-2e79708a2eee"
      },
      "execution_count": null,
      "outputs": [
        {
          "output_type": "stream",
          "name": "stdout",
          "text": [
            "<re.Match object; span=(20, 30), match='8825417088'>\n"
          ]
        }
      ]
    },
    {
      "cell_type": "markdown",
      "source": [
        "* To find the Mobile number pattern from the given string by using function"
      ],
      "metadata": {
        "id": "9aPXiBtBIJSt"
      }
    },
    {
      "cell_type": "code",
      "execution_count": null,
      "metadata": {
        "id": "pj5I9Iq8m-YV",
        "colab": {
          "base_uri": "https://localhost:8080/"
        },
        "outputId": "9d11191d-5fd2-462f-b3d8-a6b6a9857c7f"
      },
      "outputs": [
        {
          "output_type": "stream",
          "name": "stdout",
          "text": [
            "Enter the sentence:My mobile number is 8852417088\n",
            "<re.Match object; span=(20, 30), match='8852417088'>\n",
            "No is present\n"
          ]
        }
      ],
      "source": [
        "import re\n",
        "def mobileNumberPresent(text):\n",
        "  mnoPattern = re.compile(\"(0|91)?[6-9][0-9]{9}\")\n",
        "  return mnoPattern.search(text)\n",
        "\n",
        "sentence = input(\"Enter the sentence:\")\n",
        "result = mobileNumberPresent(sentence)\n",
        "print(result)\n",
        "if result==None:\n",
        "  print(\"No is not present\")\n",
        "else:\n",
        "  print(\"No is present\")\n"
      ]
    },
    {
      "cell_type": "markdown",
      "source": [
        "Another structure"
      ],
      "metadata": {
        "id": "LnpAqp_2K8vL"
      }
    },
    {
      "cell_type": "code",
      "source": [
        "import re\n",
        "def mobileNumberPresent(text):\n",
        "  mnoPattern = re.compile(\"\\d{3}-\\d{3}-\\d{4}\")\n",
        "  return mnoPattern.search(text)\n",
        "\n",
        "sentence = input(\"Enter the sentence:\")\n",
        "result = mobileNumberPresent(sentence)\n",
        "if result==None:\n",
        "  print(\"No is not present\")\n",
        "else:\n",
        "  print(\"No is present\")"
      ],
      "metadata": {
        "id": "3gaEt5vMnJUt",
        "colab": {
          "base_uri": "https://localhost:8080/"
        },
        "outputId": "ac2a6b92-f4b2-4054-969b-9b81d84faaa7"
      },
      "execution_count": null,
      "outputs": [
        {
          "output_type": "stream",
          "name": "stdout",
          "text": [
            "Enter the sentence:123-321-5436\n",
            "No is present\n"
          ]
        }
      ]
    },
    {
      "cell_type": "markdown",
      "source": [
        "To find the telephone number for different locations\n",
        "\n",
        "9144-22590000 : Chennai\n",
        "\n",
        "91462-2521234  : Tirunalveli\n",
        "\n",
        "9140-23456789  : Hydrabad\n",
        "\n",
        "914562-212121   : Sivakasi\n",
        "\n",
        "Obsurve the tele numbers first part is 4 to 6 digits stainting 91 and there is hyphen and then 6 to 8 digits but staritng 1 to 9."
      ],
      "metadata": {
        "id": "H_3kpY8peD76"
      }
    },
    {
      "cell_type": "code",
      "source": [
        "import re\n",
        "def telePhoneNumber(text):\n",
        "  telePattern = re.compile(r'((91)[0-9]{2,4})-([1-9][0-9]{5,8})')\n",
        "  return telePattern.search(text)\n",
        "sentence = input('Enter the tele phone number: ')\n",
        "result= telePhoneNumber(sentence)\n",
        "print(result)\n",
        "if result == None:\n",
        "  print(\"Tele Phone Number is not present \")\n",
        "else:\n",
        "  print(\"Tele Phone Number is present \")\n"
      ],
      "metadata": {
        "id": "tJYc2okJnJWj",
        "colab": {
          "base_uri": "https://localhost:8080/"
        },
        "outputId": "b04439de-ef43-4e71-c37f-c4e35f91fc0b"
      },
      "execution_count": null,
      "outputs": [
        {
          "output_type": "stream",
          "name": "stdout",
          "text": [
            "Enter the tele phone number: my mobile number is 8825417080\n",
            "None\n",
            "Tele Phone Number is not present \n"
          ]
        }
      ]
    },
    {
      "cell_type": "markdown",
      "source": [
        "*  re.groups()   : it gives the values as seperate groups as per compile."
      ],
      "metadata": {
        "id": "PiePWtqiTwwL"
      }
    },
    {
      "cell_type": "code",
      "source": [
        "import re\n",
        "def telePhoneNumber(text):\n",
        "  telePattern = re.compile(r'(91)((\\d){2,4})-([1-9][0-9]{5,8})')\n",
        "  result= telePattern.search(text)\n",
        "  print(result.groups())\n",
        "  return result\n",
        "text= \"My telePhone number is   911252-521129\"\n",
        "presentNumber=  telePhoneNumber(text)\n",
        "#print(presentNumber.groups())\n",
        "print(presentNumber.group(1))\n",
        "print(presentNumber.group(2))\n",
        "print(presentNumber.group(3))\n",
        "print(presentNumber.group(4))\n",
        "print(presentNumber.groups(1))\n",
        "\n"
      ],
      "metadata": {
        "colab": {
          "base_uri": "https://localhost:8080/"
        },
        "id": "F24_pdMkUL7Y",
        "outputId": "8a0df866-f206-4c0e-8e24-cddbb14633aa"
      },
      "execution_count": null,
      "outputs": [
        {
          "output_type": "stream",
          "name": "stdout",
          "text": [
            "91\n",
            "1252\n",
            "2\n",
            "521129\n",
            "('91', '1252', '2', '521129')\n"
          ]
        }
      ]
    },
    {
      "cell_type": "markdown",
      "source": [
        "What if there are morethan One Mobile number.\n",
        "\n",
        "re.findall()"
      ],
      "metadata": {
        "id": "k4qvDehs1XES"
      }
    },
    {
      "cell_type": "code",
      "source": [
        "import re\n",
        "\n",
        "def isMobileNumbers(text):\n",
        "  pattern = re.compile(r\"(91[6-9][0-9]{9})\")\n",
        "  number=pattern.findall(text)\n",
        "  print(type(number))\n",
        "  print((number))\n",
        "  return number\n",
        "\n",
        "\n",
        "sentence=\" My mobile numburs are 8825417088,918880251241 and 918015219426\"\n",
        "result=isMobileNumbers(sentence)\n",
        "#print(result)\n",
        "for numbers in result:\n",
        "  print(numbers)"
      ],
      "metadata": {
        "id": "xYVi7jHLTcDw",
        "colab": {
          "base_uri": "https://localhost:8080/"
        },
        "outputId": "bb1eb263-69c8-45a8-9307-58d0626afabe"
      },
      "execution_count": null,
      "outputs": [
        {
          "output_type": "stream",
          "name": "stdout",
          "text": [
            "<class 'list'>\n",
            "['918880251241', '918015219426']\n",
            "918880251241\n",
            "918015219426\n"
          ]
        }
      ]
    },
    {
      "cell_type": "markdown",
      "source": [
        "To find the Birthday pattern"
      ],
      "metadata": {
        "id": "iYp57O1TJHd7"
      }
    },
    {
      "cell_type": "code",
      "source": [
        "import re\n",
        "\n",
        "def Bdy(text):\n",
        "  pattern = re.compile(r'([0-3]?[0-9])/([0-1][0-2])/([0-2][0-9]{3})')\n",
        "  Bdy = pattern.findall(text)\n",
        "  return Bdy\n",
        "\n",
        "\n",
        "sentence = input(\"Enter the text for Bdy finding : \")\n",
        "print(sentence)\n",
        "#for Bdy in sentence:\n",
        "#  print(Bdy)"
      ],
      "metadata": {
        "id": "eLYOXRPsTfKP",
        "colab": {
          "base_uri": "https://localhost:8080/"
        },
        "outputId": "33e13f68-9b01-4c02-9036-aa8a364bab6d"
      },
      "execution_count": null,
      "outputs": [
        {
          "output_type": "stream",
          "name": "stdout",
          "text": [
            "Enter the text for Bdy finding : 31/05/1995\n",
            "31/05/1995\n"
          ]
        }
      ]
    },
    {
      "cell_type": "code",
      "source": [
        "# Validate the given date\n",
        "import re\n",
        "\n",
        "datePattern = re.compile(r'([0-3][0-9])/([0-1][0-9])/((\\d){4})')\n",
        "dateFound = datePattern.search(\"My birth date is 31/02/1995\")\n",
        "if not dateFound is None:\n",
        "  print(dateFound.groups())\n",
        "  day = dateFound.group(1)\n",
        "  month = dateFound.group(2)\n",
        "  year = dateFound.group(3)\n",
        "  print(day)\n",
        "  print(month)\n",
        "  print(year)\n",
        "\n",
        "  if (month) in [\"01\",\"03\",\"05\",\"07\",\"08\",\"10\",\"12\"]:\n",
        "    if int(day) >31:\n",
        "      print(\"Invalid date and it can't be morethan 31 for the months : Jan, Mar, May, July, Agust, Oct and Dec \")\n",
        "  elif month in ['04','06','09','11']:\n",
        "    if day >30:\n",
        "      print(\"Invalid date and it can't be morethan 30 for the months : April, June, Sep and Nov\" )\n",
        "  else:\n",
        "    if int(day) >29:\n",
        "      y=int(year)\n",
        "      if not ((y%4==0) and (y%100==0) and (y%400==0)):\n",
        "        print(\"Invalid date and it can't be morethan 28 for the Feb\")\n",
        "else:\n",
        "  print(\"Invalid date\")\n",
        "\n",
        "\n"
      ],
      "metadata": {
        "id": "_Q_P02Y-RQ05",
        "colab": {
          "base_uri": "https://localhost:8080/"
        },
        "outputId": "e7fe66de-3800-46ba-efac-fdb5811824ad"
      },
      "execution_count": 2,
      "outputs": [
        {
          "output_type": "stream",
          "name": "stdout",
          "text": [
            "('31', '02', '1995', '5')\n",
            "31\n",
            "02\n",
            "1995\n",
            "Invalid date and it can't be morethan 28 for the Feb\n"
          ]
        }
      ]
    },
    {
      "cell_type": "markdown",
      "source": [
        "** Password Checker **\n",
        "* Password should be min 8 char\n",
        "\n",
        "* It should atleast one Capital letter\n",
        "\n",
        "* It should be atleast one Numeric value\n"
      ],
      "metadata": {
        "id": "8L0a8fg649Ln"
      }
    },
    {
      "cell_type": "code",
      "source": [
        "import re\n",
        "\n",
        "def PasswordChecker(password):\n",
        "  if len(password)<8:\n",
        "    print(\"The password should be minimum 8 Charectors\")\n",
        "  else:\n",
        "    if re.search('[a-z]',password) and re.search('[A-Z]',password) and re.search('[0-9]',password):\n",
        "       print(\"Strong Password\")\n",
        "    else:\n",
        "      print(\"Password should have Both combination of upper lower characters and Numeric values \")\n",
        "\n",
        "\n",
        "password= 'Raja1235'\n",
        "PasswordChecker(password)\n",
        "\n",
        "\n"
      ],
      "metadata": {
        "id": "kHrtg3ZdRQiD",
        "colab": {
          "base_uri": "https://localhost:8080/"
        },
        "outputId": "8f4b69bd-ac42-4df7-fc17-73f5c95d2bb4"
      },
      "execution_count": 16,
      "outputs": [
        {
          "output_type": "stream",
          "name": "stdout",
          "text": [
            "Strong Password\n"
          ]
        }
      ]
    },
    {
      "cell_type": "code",
      "source": [],
      "metadata": {
        "id": "DUcsO4RbRRbm"
      },
      "execution_count": 4,
      "outputs": []
    },
    {
      "cell_type": "code",
      "source": [],
      "metadata": {
        "id": "QL9YFhONRRYz"
      },
      "execution_count": null,
      "outputs": []
    },
    {
      "cell_type": "code",
      "source": [],
      "metadata": {
        "id": "GpsstWrKRRNO"
      },
      "execution_count": null,
      "outputs": []
    },
    {
      "cell_type": "code",
      "source": [],
      "metadata": {
        "id": "L0_48Qe1RRAC"
      },
      "execution_count": null,
      "outputs": []
    },
    {
      "cell_type": "markdown",
      "source": [],
      "metadata": {
        "id": "w6_4Pv16RQxm"
      }
    },
    {
      "cell_type": "code",
      "source": [],
      "metadata": {
        "id": "XNFwbW5fnJss"
      },
      "execution_count": null,
      "outputs": []
    }
  ]
}