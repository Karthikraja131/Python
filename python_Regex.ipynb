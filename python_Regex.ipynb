{
  "nbformat": 4,
  "nbformat_minor": 0,
  "metadata": {
    "colab": {
      "provenance": [],
      "authorship_tag": "ABX9TyOOvkuVHgAX8TOOFV0FMmdB",
      "include_colab_link": true
    },
    "kernelspec": {
      "name": "python3",
      "display_name": "Python 3"
    },
    "language_info": {
      "name": "python"
    }
  },
  "cells": [
    {
      "cell_type": "markdown",
      "metadata": {
        "id": "view-in-github",
        "colab_type": "text"
      },
      "source": [
        "<a href=\"https://colab.research.google.com/github/Karthikraja131/Python/blob/main/python_Regex.ipynb\" target=\"_parent\"><img src=\"https://colab.research.google.com/assets/colab-badge.svg\" alt=\"Open In Colab\"/></a>"
      ]
    },
    {
      "cell_type": "markdown",
      "source": [
        "## Regex\n",
        "* Regex, short for Regular Expressions, is a powerful tool used in computer science and programming for searching, manipulating, and validating strings of text based on patterns.\n",
        "\n",
        "* In Python, the **re** module provides support for regular expressions.\n",
        "\n",
        "* **Pattern Matching:**  Regular expressions define a pattern that can be used to match character combinations in strings.\n",
        " For example, **\\d matches any digit, \\w matches any alphanumeric character, and . matches any character except a newline.\n",
        "\n",
        " * **Special Characters:** Regular expressions use special characters to represent different types of patterns. For example, **^** matches the start of a string, **$** matches the end of a string, * matches zero or more occurrences of the preceding character, **+** matches one or more occurrences, and **?** matches zero or one occurrence.\n",
        "\n",
        " * **Character Classes:** Character classes allow you to match specific sets of characters. For example, **[a-z]** matches any lowercase letter, **[0-9]** matches any digit, and **[^a-z]** matches any character that is not a lowercase letter.\n",
        "\n",
        " * **Quantifiers:** Quantifiers specify **how many occurrences** of a character or group should be matched. For example, **{n}** matches exactly n occurrences, **{n,}** matches at least n occurrences, and **{n,m}** matches between n and m occurrences.\n",
        "\n",
        " * **Grouping and Capturing:** Parentheses **()** are used to group characters together, and also for capturing groups. Capturing groups allow you to extract parts of a matched string.\n",
        "\n",
        " * **Flags:** Flags modify the behavior of regular expressions. For example, the re.IGNORECASE flag can be used to perform case-insensitive matching.\n",
        "\n"
      ],
      "metadata": {
        "id": "G0ympfwNnetE"
      }
    },
    {
      "cell_type": "markdown",
      "source": [
        "\n",
        "[a-z]  - a to z\n",
        "\n",
        "[A-Z]  -  A to Z\n",
        "\n",
        "[a-cA-C0-9]  - a to c, A to C and 0 to 9\n",
        "\n",
        "{ }  - number of occurances\n",
        "\n",
        "{4}  - 4 occurances\n",
        "\n",
        "{4,6}  - 4 to 6 occurances\n",
        "\n",
        "r'  - raw data\n",
        "\n",
        "\\d  - digits\n",
        "\n",
        "\\w  - AlphaNumeric"
      ],
      "metadata": {
        "id": "d2dfw6sKLVEV"
      }
    },
    {
      "cell_type": "markdown",
      "source": [
        "# To find the Mobile number pattern from the\n",
        "\n",
        "given string.\n",
        "\n",
        "```\n",
        "# This is formatted as code\n",
        "```\n",
        "\n"
      ],
      "metadata": {
        "id": "Ukx1GXdBqZ0b"
      }
    },
    {
      "cell_type": "code",
      "source": [
        "import re\n",
        "\n",
        "mobileNumberPattern = re.compile(\"(0|91)?[6-9][0-9]{9}\")\n",
        "result=mobileNumberPattern.search(\"My mobine number is 8825417088\")\n",
        "print(result)\n",
        "\n",
        "# (0|91)? is used to find the first '0' or(|) '91' ? is if they present one time or none.\n",
        "# [6-9] is used to find the First one digit is from 6 to 9.\n",
        "# [0-9]{9} is used to find the next 9 digits from 0 to 9."
      ],
      "metadata": {
        "id": "wdTPjfMWneVi",
        "colab": {
          "base_uri": "https://localhost:8080/"
        },
        "outputId": "07963e15-5591-461d-e303-2e79708a2eee"
      },
      "execution_count": 5,
      "outputs": [
        {
          "output_type": "stream",
          "name": "stdout",
          "text": [
            "<re.Match object; span=(20, 30), match='8825417088'>\n"
          ]
        }
      ]
    },
    {
      "cell_type": "markdown",
      "source": [
        "* To find the Mobile number pattern from the given string by using function"
      ],
      "metadata": {
        "id": "9aPXiBtBIJSt"
      }
    },
    {
      "cell_type": "code",
      "execution_count": 7,
      "metadata": {
        "id": "pj5I9Iq8m-YV",
        "colab": {
          "base_uri": "https://localhost:8080/"
        },
        "outputId": "9d11191d-5fd2-462f-b3d8-a6b6a9857c7f"
      },
      "outputs": [
        {
          "output_type": "stream",
          "name": "stdout",
          "text": [
            "Enter the sentence:My mobile number is 8852417088\n",
            "<re.Match object; span=(20, 30), match='8852417088'>\n",
            "No is present\n"
          ]
        }
      ],
      "source": [
        "import re\n",
        "def mobileNumberPresent(text):\n",
        "  mnoPattern = re.compile(\"(0|91)?[6-9][0-9]{9}\")\n",
        "  return mnoPattern.search(text)\n",
        "\n",
        "sentence = input(\"Enter the sentence:\")\n",
        "result = mobileNumberPresent(sentence)\n",
        "print(result)\n",
        "if result==None:\n",
        "  print(\"No is not present\")\n",
        "else:\n",
        "  print(\"No is present\")\n"
      ]
    },
    {
      "cell_type": "markdown",
      "source": [
        "Another structure"
      ],
      "metadata": {
        "id": "LnpAqp_2K8vL"
      }
    },
    {
      "cell_type": "code",
      "source": [
        "import re\n",
        "def mobileNumberPresent(text):\n",
        "  mnoPattern = re.compile(\"\\d{3}-\\d{3}-\\d{4}\")\n",
        "  return mnoPattern.search(text)\n",
        "\n",
        "sentence = input(\"Enter the sentence:\")\n",
        "result = mobileNumberPresent(sentence)\n",
        "if result==None:\n",
        "  print(\"No is not present\")\n",
        "else:\n",
        "  print(\"No is present\")"
      ],
      "metadata": {
        "id": "3gaEt5vMnJUt",
        "colab": {
          "base_uri": "https://localhost:8080/"
        },
        "outputId": "ac2a6b92-f4b2-4054-969b-9b81d84faaa7"
      },
      "execution_count": null,
      "outputs": [
        {
          "output_type": "stream",
          "name": "stdout",
          "text": [
            "Enter the sentence:123-321-5436\n",
            "No is present\n"
          ]
        }
      ]
    },
    {
      "cell_type": "markdown",
      "source": [
        "To find the telephone number for different locations\n",
        "\n",
        "9144-22590000 : Chennai\n",
        "\n",
        "91462-2521234  : Tirunalveli\n",
        "\n",
        "9140-23456789  : Hydrabad\n",
        "\n",
        "914562-212121   : Sivakasi\n",
        "\n",
        "Obsurve the tele numbers first part is 4 to 6 digits stainting 91 and there is hyphen and then 6 to 8 digits but staritng 1 to 9."
      ],
      "metadata": {
        "id": "H_3kpY8peD76"
      }
    },
    {
      "cell_type": "code",
      "source": [
        "import re\n",
        "def telePhoneNumber(text):\n",
        "  telePattern = re.compile(r'((91)[0-9]{2,4})-([1-9][0-9]{5,8})')\n",
        "  return telePattern.search(text)\n",
        "sentence = input('Enter the tele phone number: ')\n",
        "result= telePhoneNumber(sentence)\n",
        "print(result)\n",
        "if result == None:\n",
        "  print(\"Tele Phone Number is not present \")\n",
        "else:\n",
        "  print(\"Tele Phone Number is present \")\n"
      ],
      "metadata": {
        "id": "tJYc2okJnJWj",
        "colab": {
          "base_uri": "https://localhost:8080/"
        },
        "outputId": "26b57093-b271-49d0-faf2-9db1177f1945"
      },
      "execution_count": 9,
      "outputs": [
        {
          "output_type": "stream",
          "name": "stdout",
          "text": [
            "Enter the tele phone number: My telePhone number is   91125-88521470\n",
            "<re.Match object; span=(25, 39), match='91125-88521470'>\n",
            "Tele Phone Number is present \n"
          ]
        }
      ]
    },
    {
      "cell_type": "markdown",
      "source": [
        "*  re.groups()   : it gives the values as seperate groups as per compile."
      ],
      "metadata": {
        "id": "PiePWtqiTwwL"
      }
    },
    {
      "cell_type": "code",
      "source": [
        "import re\n",
        "def telePhoneNumber(text):\n",
        "  telePattern = re.compile(r'((91)((\\d){2,4}))-([1-9][0-9]{5,8})')\n",
        "  result= telePattern.search(text)\n",
        "  return result.groups()\n",
        "text= \"My telePhone number is   911252-521129\"\n",
        "presentNumber=  telePhoneNumber(text)\n",
        "print(presentNumber)\n"
      ],
      "metadata": {
        "colab": {
          "base_uri": "https://localhost:8080/"
        },
        "id": "F24_pdMkUL7Y",
        "outputId": "f1a50ff7-91ba-4b34-fa80-27ad3e9e0e53"
      },
      "execution_count": 23,
      "outputs": [
        {
          "output_type": "stream",
          "name": "stdout",
          "text": [
            "('911252', '91', '1252', '2', '521129')\n"
          ]
        }
      ]
    },
    {
      "cell_type": "code",
      "source": [],
      "metadata": {
        "id": "xYVi7jHLTcDw"
      },
      "execution_count": 9,
      "outputs": []
    },
    {
      "cell_type": "code",
      "source": [],
      "metadata": {
        "id": "eLYOXRPsTfKP"
      },
      "execution_count": null,
      "outputs": []
    },
    {
      "cell_type": "code",
      "source": [],
      "metadata": {
        "id": "3_POcfbYnJZZ"
      },
      "execution_count": 9,
      "outputs": []
    },
    {
      "cell_type": "code",
      "source": [],
      "metadata": {
        "id": "_Q_P02Y-RQ05"
      },
      "execution_count": null,
      "outputs": []
    },
    {
      "cell_type": "code",
      "source": [],
      "metadata": {
        "id": "kHrtg3ZdRQiD"
      },
      "execution_count": null,
      "outputs": []
    },
    {
      "cell_type": "code",
      "source": [],
      "metadata": {
        "id": "XNFwbW5fnJss"
      },
      "execution_count": null,
      "outputs": []
    }
  ]
}