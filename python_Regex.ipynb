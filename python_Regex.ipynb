{
  "nbformat": 4,
  "nbformat_minor": 0,
  "metadata": {
    "colab": {
      "provenance": [],
      "authorship_tag": "ABX9TyMDUpjRMtCWEzE2rDpacL6x",
      "include_colab_link": true
    },
    "kernelspec": {
      "name": "python3",
      "display_name": "Python 3"
    },
    "language_info": {
      "name": "python"
    }
  },
  "cells": [
    {
      "cell_type": "markdown",
      "metadata": {
        "id": "view-in-github",
        "colab_type": "text"
      },
      "source": [
        "<a href=\"https://colab.research.google.com/github/Karthikraja131/Python/blob/main/python_Regex.ipynb\" target=\"_parent\"><img src=\"https://colab.research.google.com/assets/colab-badge.svg\" alt=\"Open In Colab\"/></a>"
      ]
    },
    {
      "cell_type": "markdown",
      "source": [
        "## Regex\n",
        "* Regex, short for Regular Expressions, is a powerful tool used in computer science and programming for searching, manipulating, and validating strings of text based on patterns.\n",
        "\n",
        "* In Python, the **re** module provides support for regular expressions.\n",
        "\n",
        "* **Pattern Matching:**  Regular expressions define a pattern that can be used to match character combinations in strings.\n",
        " For example, **\\d matches any digit, \\w matches any alphanumeric character, and . matches any character except a newline.\n",
        "\n",
        " * **Special Characters:** Regular expressions use special characters to represent different types of patterns. For example, **^** matches the start of a string, **$** matches the end of a string, * matches zero or more occurrences of the preceding character, **+** matches one or more occurrences, and **?** matches zero or one occurrence.\n",
        "\n",
        " * **Character Classes:** Character classes allow you to match specific sets of characters. For example, **[a-z]** matches any lowercase letter, **[0-9]** matches any digit, and **[^a-z]** matches any character that is not a lowercase letter.\n",
        "\n",
        " * **Quantifiers:** Quantifiers specify **how many occurrences** of a character or group should be matched. For example, **{n}** matches exactly n occurrences, **{n,}** matches at least n occurrences, and **{n,m}** matches between n and m occurrences.\n",
        "\n",
        " * **Grouping and Capturing: Parentheses ()**  are used to group characters together, and also for capturing groups. Capturing groups allow you to extract parts of a matched string.\n",
        "\n",
        " * **Flags:** Flags modify the behavior of regular expressions. For example, the re.IGNORECASE flag can be used to perform case-insensitive matching.\n",
        "\n"
      ],
      "metadata": {
        "id": "G0ympfwNnetE"
      }
    },
    {
      "cell_type": "markdown",
      "source": [
        "\n",
        "[a-z]  - a to z\n",
        "\n",
        "[A-Z]  -  A to Z\n",
        "\n",
        "[a-cA-C0-9]  - a to c, A to C and 0 to 9\n",
        "\n",
        "{ }  - number of occurances\n",
        "\n",
        "{4}  - 4 occurances\n",
        "\n",
        "{4,6}  - 4 to 6 occurances\n",
        "\n",
        "r'  - raw data\n",
        "\n",
        "\\s  - space\n",
        "\n",
        "\\d  - digits\n",
        "\n",
        "\\w  - AlphaNumeric"
      ],
      "metadata": {
        "id": "d2dfw6sKLVEV"
      }
    },
    {
      "cell_type": "markdown",
      "source": [
        "##Important Functions\n",
        "\n",
        "The Python `re` module provides support for regular expressions. Some of the important functions in the `re` module are:\n",
        "\n",
        "**1. `re.compile(pattern, flags=0)`:** This function compiles a regular expression **pattern** into a regular expression object, which can then be **used for matching.**\n",
        "\n",
        "**2. `re.search(pattern, string, flags=0)`:** This function searches for the **first occurrence of a pattern** within a string and **returns a match object if found. It returns `None` if no match is found.**\n",
        "\n",
        "**3. `re.match(pattern, string, flags=0)`:** This function **matches a pattern only at the beginning of the string.** It returns a match object if the pattern is found at the start of the string; otherwise, it returns `None`.\n",
        "\n",
        "**4. `re.findall(pattern, string, flags=0)`:** This function **finds all occurrences** of a pattern in a string and returns them as a list of strings.\n",
        "\n",
        "**5. `re.finditer(pattern, string, flags=0)`:** This function finds all occurrences of a pattern in a string and **returns an iterator** that yields match objects for each match.\n",
        "\n",
        "**6. `re.sub(pattern, repl, string, count=0, flags=0)`:** This function **replaces occurrences of a pattern in a string with a replacement string** (`repl`). The `count` parameter specifies the maximum number of substitutions to perform (default is 0, meaning all occurrences will be replaced).\n",
        "\n",
        "**7. `re.split(pattern, string, maxsplit=0, flags=0)`:** This function splits a string into substrings using a regular expression pattern as the delimiter. The `maxsplit` parameter specifies the maximum number of splits to perform.\n",
        "\n",
        "These are some of the key functions in the `re` module for working with regular expressions in Python. Regular expressions offer powerful tools for pattern matching and text manipulation tasks."
      ],
      "metadata": {
        "id": "nUIpZQroEUEt"
      }
    },
    {
      "cell_type": "markdown",
      "source": [
        "## Pro Tips\n",
        "\n",
        "* If one condition is passed and if there is other condition also to be processed to pass further, we can go for the nested loops."
      ],
      "metadata": {
        "id": "jdbNytaMDRHZ"
      }
    },
    {
      "cell_type": "markdown",
      "source": [
        "# To find the Mobile number pattern from the\n",
        "\n",
        "given string.\n",
        "\n",
        "```\n",
        "# This is formatted as code\n",
        "```\n",
        "\n"
      ],
      "metadata": {
        "id": "Ukx1GXdBqZ0b"
      }
    },
    {
      "cell_type": "code",
      "source": [
        "import re\n",
        "\n",
        "mobileNumberPattern = re.compile(\"(0|91)?[6-9][0-9]{9}\")\n",
        "result=mobileNumberPattern.search(\"My mobine number is 8825417088\")\n",
        "print(result)\n",
        "\n",
        "# (0|91)? is used to find the first '0' or(|) '91' ? is if they present one time or none.\n",
        "# [6-9] is used to find the First one digit is from 6 to 9.\n",
        "# [0-9]{9} is used to find the next 9 digits from 0 to 9."
      ],
      "metadata": {
        "id": "wdTPjfMWneVi",
        "colab": {
          "base_uri": "https://localhost:8080/"
        },
        "outputId": "07963e15-5591-461d-e303-2e79708a2eee"
      },
      "execution_count": null,
      "outputs": [
        {
          "output_type": "stream",
          "name": "stdout",
          "text": [
            "<re.Match object; span=(20, 30), match='8825417088'>\n"
          ]
        }
      ]
    },
    {
      "cell_type": "markdown",
      "source": [
        "* To find the Mobile number pattern from the given string by using function"
      ],
      "metadata": {
        "id": "9aPXiBtBIJSt"
      }
    },
    {
      "cell_type": "code",
      "execution_count": null,
      "metadata": {
        "id": "pj5I9Iq8m-YV",
        "colab": {
          "base_uri": "https://localhost:8080/"
        },
        "outputId": "9d11191d-5fd2-462f-b3d8-a6b6a9857c7f"
      },
      "outputs": [
        {
          "output_type": "stream",
          "name": "stdout",
          "text": [
            "Enter the sentence:My mobile number is 8852417088\n",
            "<re.Match object; span=(20, 30), match='8852417088'>\n",
            "No is present\n"
          ]
        }
      ],
      "source": [
        "import re\n",
        "def mobileNumberPresent(text):\n",
        "  mnoPattern = re.compile(\"(0|91)?[6-9][0-9]{9}\")\n",
        "  return mnoPattern.search(text)\n",
        "\n",
        "sentence = input(\"Enter the sentence:\")\n",
        "result = mobileNumberPresent(sentence)\n",
        "print(result)\n",
        "if result==None:\n",
        "  print(\"No is not present\")\n",
        "else:\n",
        "  print(\"No is present\")\n"
      ]
    },
    {
      "cell_type": "markdown",
      "source": [
        "Another structure"
      ],
      "metadata": {
        "id": "LnpAqp_2K8vL"
      }
    },
    {
      "cell_type": "code",
      "source": [
        "import re\n",
        "def mobileNumberPresent(text):\n",
        "  mnoPattern = re.compile(\"\\d{3}-\\d{3}-\\d{4}\")\n",
        "  return mnoPattern.search(text)\n",
        "\n",
        "sentence = input(\"Enter the sentence:\")\n",
        "result = mobileNumberPresent(sentence)\n",
        "if result==None:\n",
        "  print(\"No is not present\")\n",
        "else:\n",
        "  print(\"No is present\")"
      ],
      "metadata": {
        "id": "3gaEt5vMnJUt",
        "colab": {
          "base_uri": "https://localhost:8080/"
        },
        "outputId": "ac2a6b92-f4b2-4054-969b-9b81d84faaa7"
      },
      "execution_count": null,
      "outputs": [
        {
          "output_type": "stream",
          "name": "stdout",
          "text": [
            "Enter the sentence:123-321-5436\n",
            "No is present\n"
          ]
        }
      ]
    },
    {
      "cell_type": "markdown",
      "source": [
        "To find the telephone number for different locations\n",
        "\n",
        "9144-22590000 : Chennai\n",
        "\n",
        "91462-2521234  : Tirunalveli\n",
        "\n",
        "9140-23456789  : Hydrabad\n",
        "\n",
        "914562-212121   : Sivakasi\n",
        "\n",
        "Obsurve the tele numbers first part is 4 to 6 digits stainting 91 and there is hyphen and then 6 to 8 digits but staritng 1 to 9."
      ],
      "metadata": {
        "id": "H_3kpY8peD76"
      }
    },
    {
      "cell_type": "code",
      "source": [
        "import re\n",
        "def telePhoneNumber(text):\n",
        "  telePattern = re.compile(r'((91)[0-9]{2,4})-([1-9][0-9]{5,8})')\n",
        "  return telePattern.search(text)\n",
        "sentence = input('Enter the tele phone number: ')\n",
        "result= telePhoneNumber(sentence)\n",
        "print(result)\n",
        "if result == None:\n",
        "  print(\"Tele Phone Number is not present \")\n",
        "else:\n",
        "  print(\"Tele Phone Number is present \")\n"
      ],
      "metadata": {
        "id": "tJYc2okJnJWj",
        "colab": {
          "base_uri": "https://localhost:8080/"
        },
        "outputId": "b04439de-ef43-4e71-c37f-c4e35f91fc0b"
      },
      "execution_count": null,
      "outputs": [
        {
          "output_type": "stream",
          "name": "stdout",
          "text": [
            "Enter the tele phone number: my mobile number is 8825417080\n",
            "None\n",
            "Tele Phone Number is not present \n"
          ]
        }
      ]
    },
    {
      "cell_type": "markdown",
      "source": [
        "*  re.groups()   : it gives the values as seperate groups as per compile."
      ],
      "metadata": {
        "id": "PiePWtqiTwwL"
      }
    },
    {
      "cell_type": "code",
      "source": [
        "import re\n",
        "def telePhoneNumber(text):\n",
        "  telePattern = re.compile(r'(91)((\\d){2,4})-([1-9][0-9]{5,8})')\n",
        "  result= telePattern.search(text)\n",
        "  print(result.groups())\n",
        "  return result\n",
        "text= \"My telePhone number is   911252-521129\"\n",
        "presentNumber=  telePhoneNumber(text)\n",
        "#print(presentNumber.groups())\n",
        "print(presentNumber.group(1))\n",
        "print(presentNumber.group(2))\n",
        "print(presentNumber.group(3))\n",
        "print(presentNumber.group(4))\n",
        "print(presentNumber.groups(1))\n",
        "\n"
      ],
      "metadata": {
        "colab": {
          "base_uri": "https://localhost:8080/"
        },
        "id": "F24_pdMkUL7Y",
        "outputId": "8a0df866-f206-4c0e-8e24-cddbb14633aa"
      },
      "execution_count": null,
      "outputs": [
        {
          "output_type": "stream",
          "name": "stdout",
          "text": [
            "91\n",
            "1252\n",
            "2\n",
            "521129\n",
            "('91', '1252', '2', '521129')\n"
          ]
        }
      ]
    },
    {
      "cell_type": "markdown",
      "source": [
        "What if there are morethan One Mobile number.\n",
        "\n",
        "re.findall()"
      ],
      "metadata": {
        "id": "k4qvDehs1XES"
      }
    },
    {
      "cell_type": "code",
      "source": [
        "import re\n",
        "\n",
        "def isMobileNumbers(text):\n",
        "  pattern = re.compile(r\"(91[6-9][0-9]{9})\")\n",
        "  number=pattern.findall(text)\n",
        "  print(type(number))\n",
        "  print((number))\n",
        "  return number\n",
        "\n",
        "\n",
        "sentence=\" My mobile numburs are 8825417088,918880251241 and 918015219426\"\n",
        "result=isMobileNumbers(sentence)\n",
        "#print(result)\n",
        "for numbers in result:\n",
        "  print(numbers)"
      ],
      "metadata": {
        "id": "xYVi7jHLTcDw",
        "colab": {
          "base_uri": "https://localhost:8080/"
        },
        "outputId": "bb1eb263-69c8-45a8-9307-58d0626afabe"
      },
      "execution_count": null,
      "outputs": [
        {
          "output_type": "stream",
          "name": "stdout",
          "text": [
            "<class 'list'>\n",
            "['918880251241', '918015219426']\n",
            "918880251241\n",
            "918015219426\n"
          ]
        }
      ]
    },
    {
      "cell_type": "markdown",
      "source": [
        "To find the Birthday pattern"
      ],
      "metadata": {
        "id": "iYp57O1TJHd7"
      }
    },
    {
      "cell_type": "code",
      "source": [
        "import re\n",
        "\n",
        "def Bdy(text):\n",
        "  pattern = re.compile(r'([0-3]?[0-9])/([0-1][0-2])/([0-2][0-9]{3})')\n",
        "  Bdy = pattern.findall(text)\n",
        "  return Bdy\n",
        "\n",
        "\n",
        "sentence = input(\"Enter the text for Bdy finding : \")\n",
        "print(sentence)\n",
        "#for Bdy in sentence:\n",
        "#  print(Bdy)"
      ],
      "metadata": {
        "id": "eLYOXRPsTfKP",
        "colab": {
          "base_uri": "https://localhost:8080/"
        },
        "outputId": "33e13f68-9b01-4c02-9036-aa8a364bab6d"
      },
      "execution_count": null,
      "outputs": [
        {
          "output_type": "stream",
          "name": "stdout",
          "text": [
            "Enter the text for Bdy finding : 31/05/1995\n",
            "31/05/1995\n"
          ]
        }
      ]
    },
    {
      "cell_type": "code",
      "source": [
        "# Validate the given date\n",
        "import re\n",
        "\n",
        "datePattern = re.compile(r'([0-3][0-9])/([0-1][0-9])/((\\d){4})')\n",
        "dateFound = datePattern.search(\"My birth date is 31/02/1995\")\n",
        "if not dateFound is None:\n",
        "  print(dateFound.groups())\n",
        "  day = dateFound.group(1)\n",
        "  month = dateFound.group(2)\n",
        "  year = dateFound.group(3)\n",
        "  print(day)\n",
        "  print(month)\n",
        "  print(year)\n",
        "\n",
        "  if (month) in [\"01\",\"03\",\"05\",\"07\",\"08\",\"10\",\"12\"]:\n",
        "    if int(day) >31:\n",
        "      print(\"Invalid date and it can't be morethan 31 for the months : Jan, Mar, May, July, Agust, Oct and Dec \")\n",
        "  elif month in ['04','06','09','11']:\n",
        "    if day >30:\n",
        "      print(\"Invalid date and it can't be morethan 30 for the months : April, June, Sep and Nov\" )\n",
        "  else:\n",
        "    if int(day) >29:\n",
        "      y=int(year)\n",
        "      if not ((y%4==0) and (y%100==0) and (y%400==0)):\n",
        "        print(\"Invalid date and it can't be morethan 28 for the Feb\")\n",
        "else:\n",
        "  print(\"Invalid date\")\n",
        "\n",
        "\n"
      ],
      "metadata": {
        "id": "_Q_P02Y-RQ05",
        "colab": {
          "base_uri": "https://localhost:8080/"
        },
        "outputId": "e7fe66de-3800-46ba-efac-fdb5811824ad"
      },
      "execution_count": null,
      "outputs": [
        {
          "output_type": "stream",
          "name": "stdout",
          "text": [
            "('31', '02', '1995', '5')\n",
            "31\n",
            "02\n",
            "1995\n",
            "Invalid date and it can't be morethan 28 for the Feb\n"
          ]
        }
      ]
    },
    {
      "cell_type": "markdown",
      "source": [
        "**Password Checker**\n",
        "* Password should be min 8 char\n",
        "\n",
        "* It should atleast one Capital letter\n",
        "\n",
        "* It should be atleast one Numeric value\n"
      ],
      "metadata": {
        "id": "8L0a8fg649Ln"
      }
    },
    {
      "cell_type": "code",
      "source": [
        "import re\n",
        "\n",
        "def PasswordChecker(password):\n",
        "  if len(password)<8:\n",
        "    print(\"The password should be minimum 8 Charectors\")\n",
        "  else:\n",
        "    if re.search('[a-z]',password) and re.search('[A-Z]',password) and re.search('[0-9]',password):\n",
        "       print(\"Strong Password\")\n",
        "    else:\n",
        "      print(\"Password should have Both combination of upper lower characters and Numeric values \")\n",
        "\n",
        "\n",
        "password= 'Raja1235'\n",
        "PasswordChecker(password)"
      ],
      "metadata": {
        "id": "kHrtg3ZdRQiD",
        "colab": {
          "base_uri": "https://localhost:8080/"
        },
        "outputId": "696616de-115d-4b13-ce08-c54a4e45adbd"
      },
      "execution_count": null,
      "outputs": [
        {
          "output_type": "stream",
          "name": "stdout",
          "text": [
            "Strong Password\n"
          ]
        }
      ]
    },
    {
      "cell_type": "code",
      "source": [
        "\n",
        "def PasswordChecker(password):\n",
        "  if len(password)<8:\n",
        "    print(\"The password should be minimum 8 Charectors\")\n",
        "  else:\n",
        "    if re.search('[a-z]',password) and re.search('[A-Z]',password) and re.search('[0-9]',password):\n",
        "       print(\"Strong Password\")\n",
        "    else:\n",
        "      print(\"Password should have Both combination of upper lower characters and Numeric values \")\n",
        "\n",
        "\n",
        "password= 'raja5231'\n",
        "PasswordChecker(password)\n"
      ],
      "metadata": {
        "id": "DUcsO4RbRRbm",
        "colab": {
          "base_uri": "https://localhost:8080/"
        },
        "outputId": "5706b341-4d8f-4791-edad-9049cec7c7b6"
      },
      "execution_count": null,
      "outputs": [
        {
          "output_type": "stream",
          "name": "stdout",
          "text": [
            "Password should have Both combination of upper lower characters and Numeric values \n"
          ]
        }
      ]
    },
    {
      "cell_type": "markdown",
      "source": [
        "**Word counter**\n",
        "\n",
        "```\n",
        "# This is formatted as code\n",
        "```\n",
        "\n"
      ],
      "metadata": {
        "id": "Qzh5HsqW9PgR"
      }
    },
    {
      "cell_type": "code",
      "source": [
        "import re\n",
        "def WordCounter(sentence):\n",
        "  pattern=re.compile(r'\\s')           # \\s = space\n",
        "  count=pattern.findall(sentence)\n",
        "  return len(count)+1\n",
        "\n",
        "paragraph = \"My name is Karthikraja, i am doind Data scientist Job\"\n",
        "result= WordCounter(paragraph)\n",
        "print(\"The Paragraph contains the\",result,\"number of words\")"
      ],
      "metadata": {
        "id": "QL9YFhONRRYz",
        "colab": {
          "base_uri": "https://localhost:8080/"
        },
        "outputId": "910f73e2-c18c-4aff-c089-7bfc62041b68"
      },
      "execution_count": null,
      "outputs": [
        {
          "output_type": "stream",
          "name": "stdout",
          "text": [
            "The Paragraph contains the 10 number of words\n"
          ]
        }
      ]
    },
    {
      "cell_type": "markdown",
      "source": [
        "**Sentence Counter**"
      ],
      "metadata": {
        "id": "nObrVE69B06Z"
      }
    },
    {
      "cell_type": "code",
      "source": [
        "import re\n",
        "def SentenceCounter(sentence):               #3\n",
        "  pattern = re.compile(r'\\.')               #4\n",
        "  count = pattern.findall(sentence)         #5\n",
        "  return len(count)                         #6\n",
        "\n",
        "paragraph = \" I like to do AI models because i love data science. I also like the civil Engineer.\"    #1\n",
        "result = SentenceCounter(paragraph)     #2\n",
        "print(\"The total number of Paragraph is\",result)    #7"
      ],
      "metadata": {
        "id": "GpsstWrKRRNO",
        "colab": {
          "base_uri": "https://localhost:8080/"
        },
        "outputId": "8fab5375-8b9a-46c4-8ee6-f2134a3bafa1"
      },
      "execution_count": 1,
      "outputs": [
        {
          "output_type": "stream",
          "name": "stdout",
          "text": [
            "The total number of Paragraph is 2\n"
          ]
        }
      ]
    },
    {
      "cell_type": "markdown",
      "source": [
        "##Function sub##\n",
        "* re.sub(pattern, repl, string, count=0, flags=0): This function replaces occurrences of a pattern in a string with a replacement string (repl). The count parameter specifies the maximum number of substitutions to perform (default is 0, meaning all occurrences will be replaced).*italicized text*"
      ],
      "metadata": {
        "id": "w6Yx-mHBbsQg"
      }
    },
    {
      "cell_type": "code",
      "source": [
        "#By using sub function\n",
        "import re\n",
        "result = re.sub('[a-z]','$',\"1a2b3c4d5e\")\n",
        "print(result)"
      ],
      "metadata": {
        "id": "7se07N7fCv9b",
        "colab": {
          "base_uri": "https://localhost:8080/"
        },
        "outputId": "ab0028e7-6c37-408f-9a26-5dd290778f25"
      },
      "execution_count": 2,
      "outputs": [
        {
          "output_type": "stream",
          "name": "stdout",
          "text": [
            "1$2$3$4$5$\n"
          ]
        }
      ]
    },
    {
      "cell_type": "code",
      "source": [
        "# using count flag\n",
        "import re\n",
        "result = re.sub('[a-z]','$',\"1a2b3c4d5e\",count=2)\n",
        "print(result)"
      ],
      "metadata": {
        "id": "L0_48Qe1RRAC",
        "colab": {
          "base_uri": "https://localhost:8080/"
        },
        "outputId": "8cae4085-e38f-43f7-c1dd-12debe74b09e"
      },
      "execution_count": 3,
      "outputs": [
        {
          "output_type": "stream",
          "name": "stdout",
          "text": [
            "1$2$3c4d5e\n"
          ]
        }
      ]
    },
    {
      "cell_type": "code",
      "source": [
        "# using a text variable\n",
        "import re\n",
        "text = '1ka2r3th4thi5k6ra7ja'\n",
        "result = re.sub('[a-z]','$',text)\n",
        "print(result)"
      ],
      "metadata": {
        "id": "XNFwbW5fnJss",
        "colab": {
          "base_uri": "https://localhost:8080/"
        },
        "outputId": "c1611449-ada2-4231-afcb-6e5987b78119"
      },
      "execution_count": 6,
      "outputs": [
        {
          "output_type": "stream",
          "name": "stdout",
          "text": [
            "1$$2$3$$4$$$5$6$$7$$\n"
          ]
        }
      ]
    },
    {
      "cell_type": "code",
      "source": [
        "# using a text variable\n",
        "import re\n",
        "text = '1ka2r3th4thi5k6ra7ja'\n",
        "result = re.sub('[a-z]','@',text)\n",
        "print(result)"
      ],
      "metadata": {
        "colab": {
          "base_uri": "https://localhost:8080/"
        },
        "id": "CPj2hEd_dCQP",
        "outputId": "56ae4384-7c25-4341-c326-849fd95bb80b"
      },
      "execution_count": 9,
      "outputs": [
        {
          "output_type": "stream",
          "name": "stdout",
          "text": [
            "1@@2@3@@4@@@5@6@@7@@\n"
          ]
        }
      ]
    },
    {
      "cell_type": "markdown",
      "source": [
        "## Usig subn function##\n"
      ],
      "metadata": {
        "id": "JbYN1MC4d-Ta"
      }
    },
    {
      "cell_type": "code",
      "source": [
        "#By using 'subn' function\n",
        "import re\n",
        "result = re.subn('[a-z]','$',\"1a2b3c4d5e\")       # so it will give replaced number of the count.\n",
        "print(result)"
      ],
      "metadata": {
        "colab": {
          "base_uri": "https://localhost:8080/"
        },
        "id": "WUMSYpE-eGu4",
        "outputId": "d55d78ce-6993-4968-88ee-e700b7027a79"
      },
      "execution_count": 10,
      "outputs": [
        {
          "output_type": "stream",
          "name": "stdout",
          "text": [
            "('1$2$3$4$5$', 5)\n"
          ]
        }
      ]
    },
    {
      "cell_type": "code",
      "source": [
        "print(result[0])\n",
        "print(result[1])"
      ],
      "metadata": {
        "colab": {
          "base_uri": "https://localhost:8080/"
        },
        "id": "TbsYMJ4pdn6f",
        "outputId": "e12f8080-8345-4d40-ad89-6107c28e392d"
      },
      "execution_count": 14,
      "outputs": [
        {
          "output_type": "stream",
          "name": "stdout",
          "text": [
            "1$2$3$4$5$\n",
            "5\n"
          ]
        }
      ]
    },
    {
      "cell_type": "markdown",
      "source": [
        "##split function\n",
        "\n",
        "*  re.split(pattern, string, maxsplit=0, flags=0): This function splits a string into substrings using a regular expression pattern as the delimiter. The maxsplit parameter specifies the maximum number of splits to perform."
      ],
      "metadata": {
        "id": "-om7EAjjomQK"
      }
    },
    {
      "cell_type": "code",
      "source": [
        "# example program\n",
        "import re\n",
        "text = 'Bangalore-560076'\n",
        "result= re.split('-',text)\n",
        "print(result)\n",
        "for i in result:\n",
        "  print(i)\n"
      ],
      "metadata": {
        "colab": {
          "base_uri": "https://localhost:8080/"
        },
        "id": "PuNf9-YfenKg",
        "outputId": "aa08d5f5-2565-4a00-d4ca-7bfb04869553"
      },
      "execution_count": 21,
      "outputs": [
        {
          "output_type": "stream",
          "name": "stdout",
          "text": [
            "['Bangalore', '560076']\n",
            "Bangalore\n",
            "560076\n"
          ]
        }
      ]
    },
    {
      "cell_type": "markdown",
      "source": [
        "## Find the specific types of strngs or objects\n",
        "*  $  -  used to find the end of the para\n",
        "\n",
        "*  ^  -  used to find the begining of the para"
      ],
      "metadata": {
        "id": "sc9fjxrSrA8H"
      }
    },
    {
      "cell_type": "code",
      "source": [
        "import re\n",
        "text = 'today is the good friday'\n",
        "result = re.search('day',text)    # this will gives the only the word is present or not.\n",
        "print(result)\n",
        "\n",
        "if result==None:\n",
        "    print('The word is not present')\n",
        "else:\n",
        "    print('The word is present')"
      ],
      "metadata": {
        "colab": {
          "base_uri": "https://localhost:8080/"
        },
        "id": "rJKRk5hrp5XZ",
        "outputId": "e51896ad-3576-4a74-ea25-43d9434c75da"
      },
      "execution_count": 28,
      "outputs": [
        {
          "output_type": "stream",
          "name": "stdout",
          "text": [
            "<re.Match object; span=(2, 5), match='day'>\n",
            "The word is present\n"
          ]
        }
      ]
    },
    {
      "cell_type": "code",
      "source": [
        "  # to find the given word is presented in the last word or paragraph\n",
        "import re\n",
        "text = 'today is the good friday'\n",
        "result = re.search('day$',text)\n",
        "\n",
        "if result==None:\n",
        "    print('The word is not present')\n",
        "else:\n",
        "    print('The word is present at the end of the para')"
      ],
      "metadata": {
        "colab": {
          "base_uri": "https://localhost:8080/"
        },
        "id": "hrBYlVa5ryTZ",
        "outputId": "00f418fd-a5b2-4e2b-da8e-3e7c2390c13e"
      },
      "execution_count": 29,
      "outputs": [
        {
          "output_type": "stream",
          "name": "stdout",
          "text": [
            "The word is present at the end of the para\n"
          ]
        }
      ]
    },
    {
      "cell_type": "code",
      "source": [
        "# To find the starting word of the Paragraph\n",
        "import re\n",
        "text = 'today is the day good fri'\n",
        "result = re.search('^today',text)\n",
        "\n",
        "if result==None:\n",
        "    print('The word is  present at the starting')\n",
        "else:\n",
        "    print('The word is NOT present at the starting of the para')"
      ],
      "metadata": {
        "colab": {
          "base_uri": "https://localhost:8080/"
        },
        "id": "yLkcYVrTszyo",
        "outputId": "51f271ee-31df-4fac-a688-6582b2b83d5a"
      },
      "execution_count": 60,
      "outputs": [
        {
          "output_type": "stream",
          "name": "stdout",
          "text": [
            "The word is NOT present at the starting of the para\n"
          ]
        }
      ]
    },
    {
      "cell_type": "code",
      "source": [
        "# Find the first word boundary (\\b) and capture one or more word characters (\\w+)\n",
        "\n",
        "import re\n",
        "\n",
        "text = \"This is a string with a starting word.\"\n",
        "\n",
        "match = re.search(r\"\\b\\w+\", text)\n",
        "\n",
        "if match:\n",
        "  starting_word = match.group()\n",
        "  print(\"Starting word:\", starting_word)\n",
        "else:\n",
        "  print(\"No starting word found\")\n"
      ],
      "metadata": {
        "colab": {
          "base_uri": "https://localhost:8080/"
        },
        "id": "2VpMPQpZtcaO",
        "outputId": "1eeedd82-d847-497e-9a5a-462e6f516455"
      },
      "execution_count": 52,
      "outputs": [
        {
          "output_type": "stream",
          "name": "stdout",
          "text": [
            "Starting word: This\n"
          ]
        }
      ]
    },
    {
      "cell_type": "code",
      "source": [
        "# Match exact word at the beginning with ^\n",
        "\n",
        "import re\n",
        "text = \"This is a string with a starting word.\"\n",
        "specific_word = \"This\"  # Replace with your desired word\n",
        "\n",
        "match = re.search(rf\"^{specific_word}\", text)\n",
        "\n",
        "if match:\n",
        "  print(f\"The specific word '{specific_word}' is present at the starting point.\")\n",
        "else:\n",
        "  print(f\"The specific word '{specific_word}' is not found at the starting point.\")\n"
      ],
      "metadata": {
        "colab": {
          "base_uri": "https://localhost:8080/"
        },
        "id": "VwHo2HGWuDEI",
        "outputId": "0cfa4e29-2102-45bc-cfbb-b5dc2661302e"
      },
      "execution_count": 55,
      "outputs": [
        {
          "output_type": "stream",
          "name": "stdout",
          "text": [
            "The specific word 'Dhis' is not found at the starting point.\n"
          ]
        }
      ]
    },
    {
      "cell_type": "code",
      "source": [],
      "metadata": {
        "id": "2Dg7PTidvPBK"
      },
      "execution_count": null,
      "outputs": []
    }
  ]
}