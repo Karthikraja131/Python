{
  "nbformat": 4,
  "nbformat_minor": 0,
  "metadata": {
    "colab": {
      "provenance": [],
      "authorship_tag": "ABX9TyMd0hLejPSfYh9lV9kHeLsa",
      "include_colab_link": true
    },
    "kernelspec": {
      "name": "python3",
      "display_name": "Python 3"
    },
    "language_info": {
      "name": "python"
    }
  },
  "cells": [
    {
      "cell_type": "markdown",
      "metadata": {
        "id": "view-in-github",
        "colab_type": "text"
      },
      "source": [
        "<a href=\"https://colab.research.google.com/github/Karthikraja131/Python/blob/main/Python_Intro_Syntax_.ipynb\" target=\"_parent\"><img src=\"https://colab.research.google.com/assets/colab-badge.svg\" alt=\"Open In Colab\"/></a>"
      ]
    },
    {
      "cell_type": "markdown",
      "source": [
        "#What is Python?\n",
        "Python is a popular programming language. It was created by Guido van Rossum, and released in 1991.\n",
        "\n",
        "**It is used for:**\n",
        "\n",
        "* web development (server-side),\n",
        "\n",
        "* software development,\n",
        "\n",
        "* mathematics,\n",
        "\n",
        "* system scripting.\n",
        "\n",
        "**What can Python do?**\n",
        "\n",
        "* Python can be used on a server to create web applications.\n",
        "\n",
        "* Python can be used alongside software to create workflows.\n",
        "\n",
        "* Python can connect to database systems. It can also read and modify files.\n",
        "\n",
        "* Python can be used to handle big data and perform complex mathematics.\n",
        "\n",
        "* Python can be used for rapid prototyping, or for production-ready software development.\n"
      ],
      "metadata": {
        "id": "zp9boDQf2w4V"
      }
    },
    {
      "cell_type": "markdown",
      "source": [
        "#**Why Python?**\n",
        "\n",
        "* Python works on different platforms (Windows, Mac, Linux, Raspberry Pi, etc).\n",
        "\n",
        "* Python has a simple syntax similar to the English language.\n",
        "\n",
        "* Python has syntax that allows developers to write programs with fewer lines than some other programming languages.\n",
        "\n",
        "* Python runs on an interpreter system, meaning that code can be executed as soon as it is written. This means that prototyping can be very quick.\n",
        "\n",
        "* Python can be treated in a procedural way, an object-oriented way or a functional way.\n",
        "\n",
        "* Python has a vast array of libraries and tools that are specifically designed for data science, including NumPy, Pandas, Matplotlib, and Scikit-learn.\n",
        "\n",
        "* Python has a large open source community that provides support, tutorials, and documentation, making it easier for beginners to learn and use Python for data science tasks.\n",
        "\n",
        "#**Good to know**\n",
        "\n",
        "The most recent major version of Python is Python 3, which we shall be using in this tutorial. However, Python 2, although not being updated with anything other than security updates, is still quite popular.\n",
        "\n",
        "#**Python Syntax compared to other programming languages**\n",
        "\n",
        "* Python was designed for readability, and has some similarities to the English language with influence from mathematics.\n",
        "\n",
        "* Python uses new lines to complete a command, as opposed to other programming languages which often use semicolons or parentheses.\n",
        "\n",
        "* Python relies on indentation, using whitespace, to define scope; such as the scope of loops, functions and classes. Other programming languages often use curly-brackets for this purpose."
      ],
      "metadata": {
        "id": "Nw7LP9YT5BM0"
      }
    },
    {
      "cell_type": "markdown",
      "source": [
        "#IDE\n",
        "* An Integrated Development Environment (IDE) is a software application that provides programmers with a comprehensive set of tools and features to write, debug, and test their code in a single interface.\n",
        "\n",
        "* IDEs often include a text editor, a debugger, a compiler, and other features like autocomplete, syntax highlighting, and code formatting.\n",
        "\n",
        "* IDEs are designed to make the coding process more efficient and productive by providing all the necessary tools and features in one place, which can save time and effort for developers.\n",
        "\n",
        "* IDEs are commonly used for programming languages like Python, Java, C++, and many more.\n",
        "\n",
        "**Few examples of IDE:**\n",
        "\n",
        "* PyCharm\n",
        "* Spyder\n",
        "* IDLE\n",
        "* Jupyter\n",
        "* Visual Studio Code (VSCode):\n",
        "* Google Colab"
      ],
      "metadata": {
        "id": "wSvhXkf39JsO"
      }
    },
    {
      "cell_type": "markdown",
      "source": [
        "#Why Google Colab\n",
        "* It is a web-based platform that does not require any installation or setup, making it easily accessible to anyone with an internet connection.\n",
        "* It offers a free environment for users to run and execute code, making it ideal for beginners who may not want to invest in expensive hardware or software.\n",
        "* It allows for collaborative work and sharing of code and notebooks, making it easy for beginners to work with others and get feedback on their work.\n",
        "* It comes with pre-installed libraries and tools commonly used in data science, such as NumPy, Pandas, and Matplotlib, making it easy for beginners to start working on their projects without having to worry about setting up their environment.\n",
        "\n"
      ],
      "metadata": {
        "id": "bPoyd2Hy97Wa"
      }
    },
    {
      "cell_type": "markdown",
      "source": [
        "#Let's go ahead and run our very first code. Excited? 😎\n"
      ],
      "metadata": {
        "id": "Ma3xkbHl-Hkj"
      }
    },
    {
      "cell_type": "code",
      "source": [
        "print('Hello Universe')"
      ],
      "metadata": {
        "id": "-Gy9jHO17Lzj",
        "colab": {
          "base_uri": "https://localhost:8080/"
        },
        "outputId": "2ae7dd7d-a2f7-419b-cd23-303cae7a6a6a"
      },
      "execution_count": 1,
      "outputs": [
        {
          "output_type": "stream",
          "name": "stdout",
          "text": [
            "Hello Universe\n"
          ]
        }
      ]
    },
    {
      "cell_type": "markdown",
      "source": [
        "At the backend, what's happening is that Python is reading the code line by line and executing the instructions. In this case, the print() command is called with \"Hello Universe\" as an argument. The print() command then displays \"Hello Universe\" on the console output."
      ],
      "metadata": {
        "id": "fikiMnq--doj"
      }
    },
    {
      "cell_type": "code",
      "execution_count": null,
      "metadata": {
        "id": "FfPVgqBG2TYw"
      },
      "outputs": [],
      "source": []
    }
  ]
}