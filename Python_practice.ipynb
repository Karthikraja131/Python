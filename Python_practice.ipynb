{
  "nbformat": 4,
  "nbformat_minor": 0,
  "metadata": {
    "colab": {
      "provenance": [],
      "authorship_tag": "ABX9TyPE0ZEygijSh/4oPFMSfYuC",
      "include_colab_link": true
    },
    "kernelspec": {
      "name": "python3",
      "display_name": "Python 3"
    },
    "language_info": {
      "name": "python"
    }
  },
  "cells": [
    {
      "cell_type": "markdown",
      "metadata": {
        "id": "view-in-github",
        "colab_type": "text"
      },
      "source": [
        "<a href=\"https://colab.research.google.com/github/Karthikraja131/Python/blob/main/Python_practice.ipynb\" target=\"_parent\"><img src=\"https://colab.research.google.com/assets/colab-badge.svg\" alt=\"Open In Colab\"/></a>"
      ]
    },
    {
      "cell_type": "code",
      "execution_count": null,
      "metadata": {
        "id": "YCm__g-2mK5Y",
        "colab": {
          "base_uri": "https://localhost:8080/"
        },
        "outputId": "794649e6-074f-4786-a35e-80c36245bec1"
      },
      "outputs": [
        {
          "output_type": "stream",
          "name": "stdout",
          "text": [
            "Hello Karthikraja G. Civil Engineer, Data scientist,Buinessman\n"
          ]
        }
      ],
      "source": [
        "print(\"Hello Karthikraja G. Civil Engineer, Data scientist,Buinessman\")"
      ]
    },
    {
      "cell_type": "markdown",
      "source": [
        "## **Functios**\n",
        "\n",
        "So, fuctions is a main building device in programming and it is a block of codes which can be reusable, so it resuce the bunch of codes to write again and again."
      ],
      "metadata": {
        "id": "OwJIVd3AO5bo"
      }
    },
    {
      "cell_type": "code",
      "source": [
        "# Problem 1: Given two list of numbers and need to find the total value of the each list.\n",
        "list1=[100,200,300,400]\n",
        "list2=[900,800,700,600]\n",
        "# By using for loop method.\n",
        "\n",
        "total1=0\n",
        "for values1 in list1:\n",
        "  total1=total1+values1\n",
        "print(\"The total values1 value by for loop \",total1)\n",
        "\n",
        "total2=0\n",
        "for values2 in list2:\n",
        "  total2=total2+values2\n",
        "print(\"The total values2 value by for loop \",total2)\n",
        "\n",
        "# By using the Function.\n",
        "\n",
        "def sum(list1):\n",
        "  total=0\n",
        "  for values in list1:\n",
        "    total = total+values\n",
        "  return total \n",
        "\n",
        "print(\"The total value of list2 is :\",sum(list2))\n",
        "print(\"The total value of list1 is :\",sum(list1))\n"
      ],
      "metadata": {
        "id": "-tStiN6M78QS",
        "colab": {
          "base_uri": "https://localhost:8080/"
        },
        "outputId": "4c827501-cf31-4e1a-e67a-941b2b8875e2"
      },
      "execution_count": 17,
      "outputs": [
        {
          "output_type": "stream",
          "name": "stdout",
          "text": [
            "The total values1 value by for loop  1000\n",
            "The total values2 value by for loop  3000\n",
            "The total value of list2 is : 3000\n",
            "The total value of list1 is : 1000\n"
          ]
        }
      ]
    },
    {
      "cell_type": "code",
      "source": [
        "# By using the Function.\n",
        "total=0\n",
        "def sum(list1):\n",
        "  total=0 # here total is the local variable\n",
        "  \n",
        "  for values in list1:\n",
        "    total = total+values\n",
        "  return total \n",
        "\n",
        "print(\"The total value of list2 is :\",sum(list2))\n",
        "print(\"The total value of list1 is :\",sum(list1))\n",
        "print(total) # here total is the global variable\n"
      ],
      "metadata": {
        "colab": {
          "base_uri": "https://localhost:8080/"
        },
        "id": "SM0zJgwKRiDz",
        "outputId": "266e6920-5e32-47f3-98c4-bcd330d16340"
      },
      "execution_count": 22,
      "outputs": [
        {
          "output_type": "stream",
          "name": "stdout",
          "text": [
            "The total value of list2 is : 3000\n",
            "The total value of list1 is : 1000\n",
            "0\n"
          ]
        }
      ]
    },
    {
      "cell_type": "code",
      "source": [],
      "metadata": {
        "id": "pNOjaJFEsuPk"
      },
      "execution_count": null,
      "outputs": []
    }
  ]
}