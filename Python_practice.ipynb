{
  "nbformat": 4,
  "nbformat_minor": 0,
  "metadata": {
    "colab": {
      "provenance": [],
      "authorship_tag": "ABX9TyNJR+TfdEYVqIahb9BEAVLm",
      "include_colab_link": true
    },
    "kernelspec": {
      "name": "python3",
      "display_name": "Python 3"
    },
    "language_info": {
      "name": "python"
    }
  },
  "cells": [
    {
      "cell_type": "markdown",
      "metadata": {
        "id": "view-in-github",
        "colab_type": "text"
      },
      "source": [
        "<a href=\"https://colab.research.google.com/github/Karthikraja131/Python/blob/main/Python_practice.ipynb\" target=\"_parent\"><img src=\"https://colab.research.google.com/assets/colab-badge.svg\" alt=\"Open In Colab\"/></a>"
      ]
    },
    {
      "cell_type": "markdown",
      "source": [
        "[link text](https://)"
      ],
      "metadata": {
        "id": "zmsbCBOuz1WQ"
      }
    },
    {
      "cell_type": "markdown",
      "source": [
        "**05/06/2023**"
      ],
      "metadata": {
        "id": "PPZ5D_g-z5TO"
      }
    },
    {
      "cell_type": "code",
      "execution_count": null,
      "metadata": {
        "id": "YCm__g-2mK5Y",
        "colab": {
          "base_uri": "https://localhost:8080/"
        },
        "outputId": "794649e6-074f-4786-a35e-80c36245bec1"
      },
      "outputs": [
        {
          "output_type": "stream",
          "name": "stdout",
          "text": [
            "Hello Karthikraja G. Civil Engineer, Data scientist,Buinessman\n"
          ]
        }
      ],
      "source": [
        "print(\"Hello Karthikraja G. Civil Engineer, Data scientist,Buinessman\")"
      ]
    },
    {
      "cell_type": "markdown",
      "source": [
        "**06/06/2023**"
      ],
      "metadata": {
        "id": "2BSfZa8v0DOt"
      }
    },
    {
      "cell_type": "markdown",
      "source": [
        "## **Functios**\n",
        "\n",
        "So, fuctions is a main building device in programming and it is a block of codes which can be reusable, so it resuce the bunch of codes to write again and again."
      ],
      "metadata": {
        "id": "OwJIVd3AO5bo"
      }
    },
    {
      "cell_type": "code",
      "source": [
        "# Problem 1: Given two list of numbers and need to find the total value of the each list.\n",
        "list1=[100,200,300,400]\n",
        "list2=[900,800,700,600]\n",
        "# By using for loop method.\n",
        "\n",
        "total1=0\n",
        "for values1 in list1:\n",
        "  total1=total1+values1\n",
        "print(\"The total values1 value by for loop \",total1)\n",
        "\n",
        "total2=0\n",
        "for values2 in list2:\n",
        "  total2=total2+values2\n",
        "print(\"The total values2 value by for loop \",total2)\n",
        "\n",
        "# By using the Function.\n",
        "\n",
        "def sum(list1):\n",
        "  total=0\n",
        "  for values in list1:\n",
        "    total = total+values\n",
        "  return total \n",
        "\n",
        "print(\"The total value of list2 is :\",sum(list2))\n",
        "print(\"The total value of list1 is :\",sum(list1))\n"
      ],
      "metadata": {
        "id": "-tStiN6M78QS",
        "colab": {
          "base_uri": "https://localhost:8080/"
        },
        "outputId": "4c827501-cf31-4e1a-e67a-941b2b8875e2"
      },
      "execution_count": null,
      "outputs": [
        {
          "output_type": "stream",
          "name": "stdout",
          "text": [
            "The total values1 value by for loop  1000\n",
            "The total values2 value by for loop  3000\n",
            "The total value of list2 is : 3000\n",
            "The total value of list1 is : 1000\n"
          ]
        }
      ]
    },
    {
      "cell_type": "code",
      "source": [
        "# By using the Function.\n",
        "total=0\n",
        "def sum(list1):\n",
        "  total=0 # here total is the local variable\n",
        "  \n",
        "  for values in list1:\n",
        "    total = total+values\n",
        "  return total \n",
        "\n",
        "print(\"The total value of list2 is :\",sum(list2))\n",
        "print(\"The total value of list1 is :\",sum(list1))\n",
        "print(total) # here total is the global variable\n"
      ],
      "metadata": {
        "colab": {
          "base_uri": "https://localhost:8080/"
        },
        "id": "SM0zJgwKRiDz",
        "outputId": "266e6920-5e32-47f3-98c4-bcd330d16340"
      },
      "execution_count": null,
      "outputs": [
        {
          "output_type": "stream",
          "name": "stdout",
          "text": [
            "The total value of list2 is : 3000\n",
            "The total value of list1 is : 1000\n",
            "0\n"
          ]
        }
      ]
    },
    {
      "cell_type": "markdown",
      "source": [
        "**07/06/2023**"
      ],
      "metadata": {
        "id": "vvmrKRJhGPu9"
      }
    },
    {
      "cell_type": "code",
      "source": [
        "# Extract a last letters from the Sentence.\n",
        "quote= \"It ceases to exist without me. No, you clearly don't know who you're talking to, so let me clue you in. I am not in danger, Skyler. I am the danger.\"\n",
        "# from the for loop\n",
        "split_words=quote.split(' ')\n",
        "for lastlet in split_words:\n",
        "  lastlet=lastlet[-1]\n",
        "#print(split_words)\n",
        "  print(list(lastlet))\n"
      ],
      "metadata": {
        "id": "pNOjaJFEsuPk",
        "colab": {
          "base_uri": "https://localhost:8080/"
        },
        "outputId": "e8afa790-c294-4a58-8c9b-d49508fa0615"
      },
      "execution_count": null,
      "outputs": [
        {
          "output_type": "stream",
          "name": "stdout",
          "text": [
            "['t']\n",
            "['s']\n",
            "['o']\n",
            "['t']\n",
            "['t']\n",
            "['.']\n",
            "[',']\n",
            "['u']\n",
            "['y']\n",
            "['t']\n",
            "['w']\n",
            "['o']\n",
            "['e']\n",
            "['g']\n",
            "[',']\n",
            "['o']\n",
            "['t']\n",
            "['e']\n",
            "['e']\n",
            "['u']\n",
            "['.']\n",
            "['I']\n",
            "['m']\n",
            "['t']\n",
            "['n']\n",
            "[',']\n",
            "['.']\n",
            "['I']\n",
            "['m']\n",
            "['e']\n",
            "['.']\n"
          ]
        }
      ]
    },
    {
      "cell_type": "code",
      "source": [
        "# By using function for extracting first letters\n",
        "\n",
        "def firstlet(quote):\n",
        "  split_words=quote.split(' ')\n",
        "  for firstlet in split_words:\n",
        "    #print(firstlet)\n",
        "    firstlet=(firstlet[0])\n",
        "    return firstlet\n",
        "\n",
        "firstlet(quote)\n",
        "\n",
        "  "
      ],
      "metadata": {
        "colab": {
          "base_uri": "https://localhost:8080/",
          "height": 35
        },
        "id": "hnAhyhf0l6gr",
        "outputId": "0d1a78e5-08a1-43c7-f289-826eb7f811a6"
      },
      "execution_count": null,
      "outputs": [
        {
          "output_type": "execute_result",
          "data": {
            "text/plain": [
              "'I'"
            ],
            "application/vnd.google.colaboratory.intrinsic+json": {
              "type": "string"
            }
          },
          "metadata": {},
          "execution_count": 29
        }
      ]
    },
    {
      "cell_type": "code",
      "source": [
        " # By using fuction and list comphrehension\n",
        " any_sentence= \"It ceases to exist without me. No, you clearly don't know who you're talking to, so let me clue you in. I am not in danger, Skyler. I am the danger.\"\n",
        "\n",
        "# define the fuction\n",
        "def lastlet(any_sentence):\n",
        "  # get words in sentence\n",
        "  get_words = any_sentence.split()\n",
        "  lastlet = [lastlet[-1] for lastlet in get_words]\n",
        "  return lastlet \n",
        "\n",
        "print(lastlet(any_sentence))\n",
        "#create a sentence\n",
        "about_you = \" my name is Karthikraja and i worked as civil engineer for 6 years and currently im doing Data scientist job and also i will become a succefull buisiness man asap and with i am enjoying every moment of life\"\n",
        "# store the result of the function in another variable\n",
        "lastletters=lastlet(about_you)\n",
        "print(lastletters)"
      ],
      "metadata": {
        "colab": {
          "base_uri": "https://localhost:8080/"
        },
        "id": "aLo5w03GoXO3",
        "outputId": "4bb8bea9-1985-49e1-b4b6-d7e73be216d8"
      },
      "execution_count": null,
      "outputs": [
        {
          "output_type": "stream",
          "name": "stdout",
          "text": [
            "['t', 's', 'o', 't', 't', '.', ',', 'u', 'y', 't', 'w', 'o', 'e', 'g', ',', 'o', 't', 'e', 'e', 'u', '.', 'I', 'm', 't', 'n', ',', '.', 'I', 'm', 'e', '.']\n",
            "['y', 'e', 's', 'a', 'd', 'i', 'd', 's', 'l', 'r', 'r', '6', 's', 'd', 'y', 'm', 'g', 'a', 't', 'b', 'd', 'o', 'i', 'l', 'e', 'a', 'l', 's', 'n', 'p', 'd', 'h', 'i', 'm', 'g', 'y', 't', 'f', 'e']\n"
          ]
        }
      ]
    },
    {
      "cell_type": "code",
      "source": [
        "2.# write a fuction for factorial of the given number\n",
        "\n",
        "# By using while looping\n",
        "\n",
        "number = int(input(\"Enter the number for Factorial :\"))\n",
        "factorial =1\n",
        "while number>0:\n",
        "  factorial *= number\n",
        "  number -= 1\n",
        "print(f\" The factorail is :{ factorial}\")\n"
      ],
      "metadata": {
        "id": "QLNy3-mF2sxV",
        "colab": {
          "base_uri": "https://localhost:8080/"
        },
        "outputId": "161b2ac2-08b4-4375-b363-99e3f1f44125"
      },
      "execution_count": 7,
      "outputs": [
        {
          "output_type": "stream",
          "name": "stdout",
          "text": [
            "Enter the number for Factorial :5\n",
            " The factorail is :120\n"
          ]
        }
      ]
    },
    {
      "cell_type": "code",
      "source": [],
      "metadata": {
        "id": "CO1AMq36EqTl"
      },
      "execution_count": null,
      "outputs": []
    },
    {
      "cell_type": "code",
      "source": [
        "# By using Function.\n",
        "\n",
        "def factorial(no):\n",
        "  #number=int(input(\"Enter the factorial number :\"))\n",
        "  no= no\n",
        "  factorial = 1\n",
        "  while no>0:\n",
        "    factorial *= no\n",
        "    no -=1\n",
        "  return(factorial)\n",
        "\n",
        "\n",
        "factorial(5)"
      ],
      "metadata": {
        "id": "1KKsPccGPfk1",
        "colab": {
          "base_uri": "https://localhost:8080/"
        },
        "outputId": "c5c1ae32-d263-4b95-82a4-6569bb179134"
      },
      "execution_count": 17,
      "outputs": [
        {
          "output_type": "execute_result",
          "data": {
            "text/plain": [
              "120"
            ]
          },
          "metadata": {},
          "execution_count": 17
        }
      ]
    },
    {
      "cell_type": "code",
      "source": [],
      "metadata": {
        "id": "VBPp7atZD38T"
      },
      "execution_count": null,
      "outputs": []
    }
  ]
}