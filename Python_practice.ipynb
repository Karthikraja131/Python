{
  "nbformat": 4,
  "nbformat_minor": 0,
  "metadata": {
    "colab": {
      "provenance": [],
      "authorship_tag": "ABX9TyOYYZvZ7EkJfhBfcx5AdZba",
      "include_colab_link": true
    },
    "kernelspec": {
      "name": "python3",
      "display_name": "Python 3"
    },
    "language_info": {
      "name": "python"
    }
  },
  "cells": [
    {
      "cell_type": "markdown",
      "metadata": {
        "id": "view-in-github",
        "colab_type": "text"
      },
      "source": [
        "<a href=\"https://colab.research.google.com/github/Karthikraja131/Python/blob/main/Python_practice.ipynb\" target=\"_parent\"><img src=\"https://colab.research.google.com/assets/colab-badge.svg\" alt=\"Open In Colab\"/></a>"
      ]
    },
    {
      "cell_type": "code",
      "execution_count": 3,
      "metadata": {
        "id": "YCm__g-2mK5Y",
        "colab": {
          "base_uri": "https://localhost:8080/"
        },
        "outputId": "794649e6-074f-4786-a35e-80c36245bec1"
      },
      "outputs": [
        {
          "output_type": "stream",
          "name": "stdout",
          "text": [
            "Hello Karthikraja G. Civil Engineer, Data scientist,Buinessman\n"
          ]
        }
      ],
      "source": [
        "print(\"Hello Karthikraja G. Civil Engineer, Data scientist,Buinessman\")"
      ]
    },
    {
      "cell_type": "code",
      "source": [],
      "metadata": {
        "id": "-tStiN6M78QS"
      },
      "execution_count": null,
      "outputs": []
    }
  ]
}