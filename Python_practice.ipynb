{
  "nbformat": 4,
  "nbformat_minor": 0,
  "metadata": {
    "colab": {
      "provenance": [],
      "authorship_tag": "ABX9TyOQb/DWxKhO4+xSa+7R6LWx",
      "include_colab_link": true
    },
    "kernelspec": {
      "name": "python3",
      "display_name": "Python 3"
    },
    "language_info": {
      "name": "python"
    }
  },
  "cells": [
    {
      "cell_type": "markdown",
      "metadata": {
        "id": "view-in-github",
        "colab_type": "text"
      },
      "source": [
        "<a href=\"https://colab.research.google.com/github/Karthikraja131/Python/blob/main/Python_practice.ipynb\" target=\"_parent\"><img src=\"https://colab.research.google.com/assets/colab-badge.svg\" alt=\"Open In Colab\"/></a>"
      ]
    },
    {
      "cell_type": "markdown",
      "source": [
        "[link text](https://)"
      ],
      "metadata": {
        "id": "zmsbCBOuz1WQ"
      }
    },
    {
      "cell_type": "markdown",
      "source": [
        "**05/06/2023**"
      ],
      "metadata": {
        "id": "PPZ5D_g-z5TO"
      }
    },
    {
      "cell_type": "code",
      "execution_count": null,
      "metadata": {
        "id": "YCm__g-2mK5Y",
        "colab": {
          "base_uri": "https://localhost:8080/"
        },
        "outputId": "794649e6-074f-4786-a35e-80c36245bec1"
      },
      "outputs": [
        {
          "output_type": "stream",
          "name": "stdout",
          "text": [
            "Hello Karthikraja G. Civil Engineer, Data scientist,Buinessman\n"
          ]
        }
      ],
      "source": [
        "print(\"Hello Karthikraja G. Civil Engineer, Data scientist,Buinessman\")"
      ]
    },
    {
      "cell_type": "markdown",
      "source": [
        "**06/06/2023**"
      ],
      "metadata": {
        "id": "2BSfZa8v0DOt"
      }
    },
    {
      "cell_type": "markdown",
      "source": [
        "## **Functios**\n",
        "\n",
        "So, fuctions is a main building device in programming and it is a block of codes which can be reusable, so it reduce the bunch of codes to write again and again."
      ],
      "metadata": {
        "id": "OwJIVd3AO5bo"
      }
    },
    {
      "cell_type": "code",
      "source": [
        "# Problem 1: Given two list of numbers and need to find the total value of the each list.\n",
        "list1=[100,200,300,400]\n",
        "list2=[900,800,700,600]\n",
        "# By using for loop method.\n",
        "\n",
        "total1=0\n",
        "for values1 in list1:\n",
        "  total1=total1+values1\n",
        "print(\"The total values1 value by for loop \",total1)\n",
        "\n",
        "total2=0\n",
        "for values2 in list2:\n",
        "  total2=total2+values2\n",
        "print(\"The total values2 value by for loop \",total2)\n",
        "\n",
        "# By using the Function.\n",
        "\n",
        "def sum(list1):\n",
        "  total=0\n",
        "  for values in list1:\n",
        "    total = total+values\n",
        "  return total\n",
        "\n",
        "print(\"The total value of list2 is :\",sum(list2))\n",
        "print(\"The total value of list1 is :\",sum(list1))\n"
      ],
      "metadata": {
        "id": "-tStiN6M78QS",
        "colab": {
          "base_uri": "https://localhost:8080/"
        },
        "outputId": "5f7368b8-2d0e-4837-ce93-192b5436ba05"
      },
      "execution_count": null,
      "outputs": [
        {
          "output_type": "stream",
          "name": "stdout",
          "text": [
            "The total values1 value by for loop  1000\n",
            "The total values2 value by for loop  3000\n",
            "The total value of list2 is : 3000\n",
            "The total value of list1 is : 1000\n"
          ]
        }
      ]
    },
    {
      "cell_type": "code",
      "source": [
        "# By using the Function.\n",
        "total=0\n",
        "def sum(list1):\n",
        "  total=0 # here total is the local variable\n",
        "\n",
        "  for values in list1:\n",
        "    total = total+values\n",
        "  return total\n",
        "\n",
        "print(\"The total value of list2 is :\",sum(list2))\n",
        "print(\"The total value of list1 is :\",sum(list1))\n",
        "print(total) # here total is the global variable\n"
      ],
      "metadata": {
        "colab": {
          "base_uri": "https://localhost:8080/"
        },
        "id": "SM0zJgwKRiDz",
        "outputId": "266e6920-5e32-47f3-98c4-bcd330d16340"
      },
      "execution_count": null,
      "outputs": [
        {
          "output_type": "stream",
          "name": "stdout",
          "text": [
            "The total value of list2 is : 3000\n",
            "The total value of list1 is : 1000\n",
            "0\n"
          ]
        }
      ]
    },
    {
      "cell_type": "markdown",
      "source": [
        "**07/06/2023**"
      ],
      "metadata": {
        "id": "vvmrKRJhGPu9"
      }
    },
    {
      "cell_type": "code",
      "source": [
        "# Extract a last letters from the Sentence.\n",
        "quote= \"It ceases to exist without me. No, you clearly don't know who you're talking to, so let me clue you in. I am not in danger, Skyler. I am the danger.\"\n",
        "# from the for loop\n",
        "split_words=quote.split(' ')\n",
        "for lastlet in split_words:\n",
        "  lastlet=lastlet[-1]\n",
        "  print(list(lastlet))\n",
        "\n",
        "print(split_words)"
      ],
      "metadata": {
        "id": "pNOjaJFEsuPk",
        "colab": {
          "base_uri": "https://localhost:8080/"
        },
        "outputId": "40309be7-6aef-4c17-d161-6638fb679825"
      },
      "execution_count": null,
      "outputs": [
        {
          "output_type": "stream",
          "name": "stdout",
          "text": [
            "['t']\n",
            "['s']\n",
            "['o']\n",
            "['t']\n",
            "['t']\n",
            "['.']\n",
            "[',']\n",
            "['u']\n",
            "['y']\n",
            "['t']\n",
            "['w']\n",
            "['o']\n",
            "['e']\n",
            "['g']\n",
            "[',']\n",
            "['o']\n",
            "['t']\n",
            "['e']\n",
            "['e']\n",
            "['u']\n",
            "['.']\n",
            "['I']\n",
            "['m']\n",
            "['t']\n",
            "['n']\n",
            "[',']\n",
            "['.']\n",
            "['I']\n",
            "['m']\n",
            "['e']\n",
            "['.']\n",
            "['It', 'ceases', 'to', 'exist', 'without', 'me.', 'No,', 'you', 'clearly', \"don't\", 'know', 'who', \"you're\", 'talking', 'to,', 'so', 'let', 'me', 'clue', 'you', 'in.', 'I', 'am', 'not', 'in', 'danger,', 'Skyler.', 'I', 'am', 'the', 'danger.']\n"
          ]
        }
      ]
    },
    {
      "cell_type": "code",
      "source": [
        "# By using function for extracting first letters\n",
        "\n",
        "def firstlet(quote):\n",
        "  split_words=quote.split(' ')\n",
        "  for firstlet in split_words:\n",
        "    #print(firstlet)\n",
        "    firstlet=(firstlet[0])\n",
        "    return firstlet\n",
        "\n",
        "firstlet(quote)\n",
        "\n"
      ],
      "metadata": {
        "colab": {
          "base_uri": "https://localhost:8080/",
          "height": 35
        },
        "id": "hnAhyhf0l6gr",
        "outputId": "0d1a78e5-08a1-43c7-f289-826eb7f811a6"
      },
      "execution_count": null,
      "outputs": [
        {
          "output_type": "execute_result",
          "data": {
            "text/plain": [
              "'I'"
            ],
            "application/vnd.google.colaboratory.intrinsic+json": {
              "type": "string"
            }
          },
          "metadata": {},
          "execution_count": 29
        }
      ]
    },
    {
      "cell_type": "code",
      "source": [
        " # By using fuction and list comphrehension\n",
        " any_sentence= \"It ceases to exist without me. No, you clearly don't know who you're talking to, so let me clue you in. I am not in danger, Skyler. I am the danger.\"\n",
        "\n",
        "# define the fuction\n",
        "def lastlet(any_sentence):\n",
        "  # get words in sentence\n",
        "  get_words = any_sentence.split()\n",
        "  lastlet = [lastlet[-1] for lastlet in get_words]\n",
        "  return lastlet\n",
        "\n",
        "print(lastlet(any_sentence))\n",
        "#create a sentence\n",
        "about_you = \" my name is Karthikraja and i worked as civil engineer for 6 years and currently im doing Data scientist job and also i will become a succefull buisiness man asap and with i am enjoying every moment of life\"\n",
        "# store the result of the function in another variable\n",
        "lastletters=lastlet(about_you)\n",
        "print(lastletters)"
      ],
      "metadata": {
        "colab": {
          "base_uri": "https://localhost:8080/"
        },
        "id": "aLo5w03GoXO3",
        "outputId": "27bf6a0e-5b93-4f92-acb5-5fb57f05b554"
      },
      "execution_count": null,
      "outputs": [
        {
          "output_type": "stream",
          "name": "stdout",
          "text": [
            "['t', 's', 'o', 't', 't', '.', ',', 'u', 'y', 't', 'w', 'o', 'e', 'g', ',', 'o', 't', 'e', 'e', 'u', '.', 'I', 'm', 't', 'n', ',', '.', 'I', 'm', 'e', '.']\n",
            "['y', 'e', 's', 'a', 'd', 'i', 'd', 's', 'l', 'r', 'r', '6', 's', 'd', 'y', 'm', 'g', 'a', 't', 'b', 'd', 'o', 'i', 'l', 'e', 'a', 'l', 's', 'n', 'p', 'd', 'h', 'i', 'm', 'g', 'y', 't', 'f', 'e']\n"
          ]
        }
      ]
    },
    {
      "cell_type": "code",
      "source": [
        "2.# write a fuction for factorial of the given number\n",
        "\n",
        "# By using while looping\n",
        "\n",
        "number = int(input(\"Enter the number for Factorial :\"))\n",
        "factorial =1\n",
        "while number>0:\n",
        "  factorial *= number\n",
        "  number -= 1\n",
        "print(f\" The factorail is :{ factorial}\")\n"
      ],
      "metadata": {
        "id": "QLNy3-mF2sxV",
        "colab": {
          "base_uri": "https://localhost:8080/"
        },
        "outputId": "161b2ac2-08b4-4375-b363-99e3f1f44125"
      },
      "execution_count": null,
      "outputs": [
        {
          "output_type": "stream",
          "name": "stdout",
          "text": [
            "Enter the number for Factorial :5\n",
            " The factorail is :120\n"
          ]
        }
      ]
    },
    {
      "cell_type": "code",
      "source": [],
      "metadata": {
        "id": "CO1AMq36EqTl"
      },
      "execution_count": null,
      "outputs": []
    },
    {
      "cell_type": "code",
      "source": [
        "# By using Function.\n",
        "\n",
        "def factorial(no):\n",
        "  #number=int(input(\"Enter the factorial number :\"))\n",
        "  no= no\n",
        "  factorial = 1\n",
        "  while no>0:\n",
        "    factorial *= no\n",
        "    no -=1\n",
        "  return(factorial)\n",
        "\n",
        "\n",
        "factorial(5)"
      ],
      "metadata": {
        "id": "1KKsPccGPfk1",
        "colab": {
          "base_uri": "https://localhost:8080/"
        },
        "outputId": "c5c1ae32-d263-4b95-82a4-6569bb179134"
      },
      "execution_count": null,
      "outputs": [
        {
          "output_type": "execute_result",
          "data": {
            "text/plain": [
              "120"
            ]
          },
          "metadata": {},
          "execution_count": 17
        }
      ]
    },
    {
      "cell_type": "markdown",
      "source": [
        "** 08/06/2023**\n"
      ],
      "metadata": {
        "id": "JjAPbfP8VkL2"
      }
    },
    {
      "cell_type": "code",
      "source": [
        "##1. Write a python code to print Quarter of the year from the given user date string.\n",
        "\n",
        "def Year_quarter():\n",
        "  user_date = input(\"Enter the date as the format of YYYY-MM-DD : \")\n",
        "  date_year = user_date[:4]\n",
        "  date_month = user_date[5:7]\n",
        "  if date_month >='01' and date_month <= '03':\n",
        "    Quarter = (f'{date_year} is Quarter of Q1')\n",
        "  elif date_month >= '04' and date_month <= '06':\n",
        "    Quarter = (f'{date_year} is Quarter of Q2')\n",
        "  elif date_month >= '07' and date_month <= '09':\n",
        "    Quarter = (f'{date_year} is Quarter of Q3')\n",
        "  else:\n",
        "     Quarter = (f'{date_year} is Quarter of Q4')\n",
        "  return Quarter\n",
        "  #print(Quarter)\n",
        "\n"
      ],
      "metadata": {
        "id": "VBPp7atZD38T"
      },
      "execution_count": null,
      "outputs": []
    },
    {
      "cell_type": "code",
      "source": [
        "Year_quarter()"
      ],
      "metadata": {
        "colab": {
          "base_uri": "https://localhost:8080/",
          "height": 53
        },
        "id": "_eQufpXeZFKA",
        "outputId": "54b0286b-702c-4dca-865c-73757fa0406d"
      },
      "execution_count": null,
      "outputs": [
        {
          "name": "stdout",
          "output_type": "stream",
          "text": [
            "Enter the date as the format of YYYY-MM-DD : 2023/06/08\n"
          ]
        },
        {
          "output_type": "execute_result",
          "data": {
            "text/plain": [
              "'2023 is Quarter of Q2'"
            ],
            "application/vnd.google.colaboratory.intrinsic+json": {
              "type": "string"
            }
          },
          "metadata": {},
          "execution_count": 5
        }
      ]
    },
    {
      "cell_type": "markdown",
      "source": [
        "## 2 .To find the is even or odd from user.by fucrtrion.( multiple return function\n"
      ],
      "metadata": {
        "id": "FuslHkIvIMnv"
      }
    },
    {
      "cell_type": "code",
      "source": [
        "def even_or_odd():\n",
        "  num=int(input(\"Enter any Number : \"))\n",
        "  if num %2 ==0:\n",
        "    return (f\"The number {num} is Even\")\n",
        "  return (f\"The number {num} is odd\")\n",
        "\n",
        "even_or_odd()\n",
        "\n"
      ],
      "metadata": {
        "colab": {
          "base_uri": "https://localhost:8080/",
          "height": 53
        },
        "id": "WyIc3sV2IYt3",
        "outputId": "971cfa27-151c-4799-e330-06edb7503023"
      },
      "execution_count": null,
      "outputs": [
        {
          "name": "stdout",
          "output_type": "stream",
          "text": [
            "Enter any Number : 9\n"
          ]
        },
        {
          "output_type": "execute_result",
          "data": {
            "text/plain": [
              "'The number 9 is odd'"
            ],
            "application/vnd.google.colaboratory.intrinsic+json": {
              "type": "string"
            }
          },
          "metadata": {},
          "execution_count": 9
        }
      ]
    },
    {
      "cell_type": "markdown",
      "source": [
        "**09/06/2023**\n"
      ],
      "metadata": {
        "id": "ximBfS_PXeWR"
      }
    },
    {
      "cell_type": "code",
      "source": [
        "##m 1. To find the Mean and Median for the given list of numbers from the user.\n",
        "def Mean_Median():\n",
        "  num_list = input(\"Enter the Number list of minimum 6 nos by seperated with commas : \")\n",
        "  num_list = num_list.split(',')   # splitting the values by commas.\n",
        "  num_list = [int(num) for num in num_list] # this is required to convert list elements str to int.\n",
        "  n=[1,2,3,4,5,6]\n",
        "  if len(num_list) >= len(n): # to instruct user to enter req numbers\n",
        "\n",
        "    # To find the mean\n",
        "    Mean = sum(num_list)/len(num_list)\n",
        "\n",
        "   # to find the Median\n",
        "    sorted_list = sorted(num_list)\n",
        "    if len(sorted_list) %2 == 0:\n",
        "      list_len = len(sorted_list)\n",
        "      Median = (sorted_list[int((list_len)/2)-1]+ sorted_list[int(list_len/2)])/2\n",
        "    else:\n",
        "      Median = int((len(sorted_list)+1)/2)-1\n",
        "    return (f'The Mean value is { Mean } and the Median is { Median }')\n",
        "  else:\n",
        "    print(\" Please Enter above 6 digit counts with proper comma seperated \")\n"
      ],
      "metadata": {
        "id": "1a6h4cfcJYIg"
      },
      "execution_count": null,
      "outputs": []
    },
    {
      "cell_type": "code",
      "source": [
        "Mean_Median()"
      ],
      "metadata": {
        "colab": {
          "base_uri": "https://localhost:8080/",
          "height": 53
        },
        "id": "cFuz_-EDFGVU",
        "outputId": "ebd0feea-0ebc-4500-bb9e-d80119cf8a45"
      },
      "execution_count": null,
      "outputs": [
        {
          "name": "stdout",
          "output_type": "stream",
          "text": [
            "Enter the Number list of minimum 6 nos by seperated with commas : 2,2,2,2,2,2,2,2,2352,2,5,55,5,2\n"
          ]
        },
        {
          "output_type": "execute_result",
          "data": {
            "text/plain": [
              "'The Mean value is 174.07142857142858 and the Median is 2.0'"
            ],
            "application/vnd.google.colaboratory.intrinsic+json": {
              "type": "string"
            }
          },
          "metadata": {},
          "execution_count": 2
        }
      ]
    },
    {
      "cell_type": "code",
      "source": [
        "\n",
        "Mean_Median()"
      ],
      "metadata": {
        "colab": {
          "base_uri": "https://localhost:8080/"
        },
        "id": "TP7ilw5zCrjM",
        "outputId": "11c39e80-3e75-4f0d-8c2b-1ff19f8c9ca3"
      },
      "execution_count": null,
      "outputs": [
        {
          "output_type": "stream",
          "name": "stdout",
          "text": [
            "Enter the Number list of minimum 6 nos by seperated with commas : 1,2,3,4,5\n",
            " Please Enter above 6 digit counts with proper comma seperated \n"
          ]
        }
      ]
    },
    {
      "cell_type": "markdown",
      "source": [
        "**21-06-2023**\n",
        "write a function which adds elements to a list."
      ],
      "metadata": {
        "id": "miHSfJ8wOnUs"
      }
    },
    {
      "cell_type": "code",
      "source": [
        "def list_append(my_list,elem):\n",
        "  new_list=(my_list+[elem])\n",
        "  return new_list"
      ],
      "metadata": {
        "id": "4iWSxnRlaek5"
      },
      "execution_count": null,
      "outputs": []
    },
    {
      "cell_type": "code",
      "source": [
        "num_list=[1,2,3,4,5,6]\n",
        "list_append(num_list,7)"
      ],
      "metadata": {
        "colab": {
          "base_uri": "https://localhost:8080/"
        },
        "id": "IexO8sk-aoKG",
        "outputId": "f616cf44-1dfd-4367-8c19-9bd01b6d70bd"
      },
      "execution_count": null,
      "outputs": [
        {
          "output_type": "execute_result",
          "data": {
            "text/plain": [
              "[1, 2, 3, 4, 5, 6, 7]"
            ]
          },
          "metadata": {},
          "execution_count": 16
        }
      ]
    },
    {
      "cell_type": "code",
      "source": [
        "list_append(num_list,elem=[7,8])"
      ],
      "metadata": {
        "id": "u_Ct8UbmgQun",
        "colab": {
          "base_uri": "https://localhost:8080/"
        },
        "outputId": "3d4db915-6625-4334-c4ef-8848e7430086"
      },
      "execution_count": null,
      "outputs": [
        {
          "output_type": "execute_result",
          "data": {
            "text/plain": [
              "[1, 2, 3, 4, 5, 6, 9, 9, 9, 9, 9, [11, 12], [7, 8]]"
            ]
          },
          "metadata": {},
          "execution_count": 27
        }
      ]
    },
    {
      "cell_type": "code",
      "source": [
        "num_list.append(9)\n",
        "print(num_list)"
      ],
      "metadata": {
        "colab": {
          "base_uri": "https://localhost:8080/"
        },
        "id": "fha6MR_5Sgnm",
        "outputId": "b97ebd64-5cf2-4047-d4ba-412c5a447612"
      },
      "execution_count": null,
      "outputs": [
        {
          "output_type": "stream",
          "name": "stdout",
          "text": [
            "[1, 2, 3, 4, 5, 6, 9, 9, 9, 9, 9]\n"
          ]
        }
      ]
    },
    {
      "cell_type": "code",
      "source": [
        "num_list.append([11,12])\n"
      ],
      "metadata": {
        "id": "wiKpMxYNSv5y"
      },
      "execution_count": null,
      "outputs": []
    },
    {
      "cell_type": "code",
      "source": [
        "print(num_list)"
      ],
      "metadata": {
        "colab": {
          "base_uri": "https://localhost:8080/"
        },
        "id": "7inwaSnoTCZB",
        "outputId": "a4717d19-fff1-43fa-f972-cae9b785e03a"
      },
      "execution_count": null,
      "outputs": [
        {
          "output_type": "stream",
          "name": "stdout",
          "text": [
            "[1, 2, 3, 4, 5, 6, 9, 9, 9, 9]\n"
          ]
        }
      ]
    },
    {
      "cell_type": "code",
      "source": [
        "print(num_list.pop())"
      ],
      "metadata": {
        "colab": {
          "base_uri": "https://localhost:8080/"
        },
        "id": "WFtH2zJBTFLx",
        "outputId": "6c2be117-9273-4e2d-a863-f20a58ce507b"
      },
      "execution_count": null,
      "outputs": [
        {
          "output_type": "stream",
          "name": "stdout",
          "text": [
            "9\n"
          ]
        }
      ]
    },
    {
      "cell_type": "code",
      "source": [
        "print(num_list)"
      ],
      "metadata": {
        "colab": {
          "base_uri": "https://localhost:8080/"
        },
        "id": "TnxvurroTXZL",
        "outputId": "4d2c5b01-00d0-4bb6-f23a-567428b9984b"
      },
      "execution_count": null,
      "outputs": [
        {
          "output_type": "stream",
          "name": "stdout",
          "text": [
            "[1, 2, 3, 4, 5, 6, 9, 9]\n"
          ]
        }
      ]
    },
    {
      "cell_type": "code",
      "source": [],
      "metadata": {
        "id": "jJX_QwHdTaBA"
      },
      "execution_count": null,
      "outputs": []
    },
    {
      "cell_type": "markdown",
      "source": [
        "**27-06-2023**"
      ],
      "metadata": {
        "id": "QCCCEj_dM13P"
      }
    },
    {
      "cell_type": "markdown",
      "source": [
        "Write a fuction to insert element on specified index.(METHODS)"
      ],
      "metadata": {
        "id": "5-pjGfDDNGuD"
      }
    },
    {
      "cell_type": "code",
      "source": [
        "def Insert_element(req_list,req_index,element_to_insert):\n",
        "  first_part=req_list[0:req_index]\n",
        "  print(first_part)\n",
        "  first_part.append(element_to_insert)\n",
        "  print(first_part)\n",
        "  last_part= req_list[req_index:]\n",
        "  print(last_part)\n",
        "  first_part.extend(last_part)\n",
        "  print(first_part)\n",
        "  return first_part\n"
      ],
      "metadata": {
        "id": "2x2WB3bfNTWG"
      },
      "execution_count": 1,
      "outputs": []
    },
    {
      "cell_type": "code",
      "source": [
        "heights= [150,155,160,165,170,175,180]\n",
        "updated_heights = Insert_element(heights,2,159)\n",
        "print(updated_heights)"
      ],
      "metadata": {
        "colab": {
          "base_uri": "https://localhost:8080/"
        },
        "id": "PA2kcs4FQ6tK",
        "outputId": "fd0ac6e9-4463-45fb-9b46-20c1e771cabb"
      },
      "execution_count": null,
      "outputs": [
        {
          "output_type": "stream",
          "name": "stdout",
          "text": [
            "[150, 155]\n",
            "[150, 155, 159]\n",
            "[160, 165, 170, 175, 180]\n",
            "[150, 155, 159, 160, 165, 170, 175, 180]\n",
            "[150, 155, 159, 160, 165, 170, 175, 180]\n"
          ]
        }
      ]
    },
    {
      "cell_type": "code",
      "source": [],
      "metadata": {
        "id": "mxSOJ5QARnEs"
      },
      "execution_count": null,
      "outputs": []
    }
  ]
}