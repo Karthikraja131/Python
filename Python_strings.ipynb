{
  "nbformat": 4,
  "nbformat_minor": 0,
  "metadata": {
    "colab": {
      "provenance": [],
      "authorship_tag": "ABX9TyP5IEOL2OmTCRTIk4aHcC8A",
      "include_colab_link": true
    },
    "kernelspec": {
      "name": "python3",
      "display_name": "Python 3"
    },
    "language_info": {
      "name": "python"
    }
  },
  "cells": [
    {
      "cell_type": "markdown",
      "metadata": {
        "id": "view-in-github",
        "colab_type": "text"
      },
      "source": [
        "<a href=\"https://colab.research.google.com/github/Karthikraja131/Python/blob/main/Python_strings.ipynb\" target=\"_parent\"><img src=\"https://colab.research.google.com/assets/colab-badge.svg\" alt=\"Open In Colab\"/></a>"
      ]
    },
    {
      "cell_type": "markdown",
      "source": [
        "#Python Strings\n",
        "* Strings are used in Python to record text information, such as names. It could either be a word, a phrase, a sentence, a paragraph or an entire encyclopedia.\n",
        "*  Strings in Python are actually a sequence, which basically means Python keeps track of every element in the string as a sequence.\n",
        "* For example, Python understands the string \"Karthik\" to be a sequence of letters in a specific order. This means we will be able to use indexing to grab particular letters (like the first letter, or the last letter).\n",
        "\n",
        "> ***Creating a String***\n",
        "---\n",
        "* To create a string in Python you need to use either single quotes or double quotes.\n",
        "\n",
        "* Strings in python are surrounded by either single quotation marks, or double quotation marks.\n",
        "\n",
        "\n",
        "\n"
      ],
      "metadata": {
        "id": "hfYPd7dS5oS1"
      }
    },
    {
      "cell_type": "code",
      "execution_count": 9,
      "metadata": {
        "id": "ej8_jrLnRhs2",
        "colab": {
          "base_uri": "https://localhost:8080/"
        },
        "outputId": "234d2238-059d-4751-f986-8c04fc028b45"
      },
      "outputs": [
        {
          "output_type": "stream",
          "name": "stdout",
          "text": [
            "Python\n",
            "Python\n"
          ]
        }
      ],
      "source": [
        "string_single_quotes= 'Python'\n",
        "string_double_quotes= \"Python\"\n",
        "print(string_single_quotes)\n",
        "print(string_double_quotes)"
      ]
    },
    {
      "cell_type": "markdown",
      "source": [
        "> ***We can use the print() statement to print a string.***\n",
        "---\n",
        "\n"
      ],
      "metadata": {
        "id": "1E3QewNh_n6c"
      }
    },
    {
      "cell_type": "code",
      "source": [
        "# print('Linear Algebra')\n",
        "# print('Calculus')\n",
        "print('Use \\n to print a new line')\n",
        "print('\\n')\n",
        "print('See what \\n I mean?')"
      ],
      "metadata": {
        "colab": {
          "base_uri": "https://localhost:8080/"
        },
        "id": "7gHokhcS_rpY",
        "outputId": "b4ba017a-8be0-402f-8a0d-1b0316cf7b1e"
      },
      "execution_count": 10,
      "outputs": [
        {
          "output_type": "stream",
          "name": "stdout",
          "text": [
            "Use \n",
            " to print a new line\n",
            "\n",
            "\n",
            "See what \n",
            " I mean?\n"
          ]
        }
      ]
    },
    {
      "cell_type": "code",
      "source": [
        "# Be careful with quotes!\n",
        "sentence= 'I'm using single quotes, but this will create an error'\n",
        "print(sentence)"
      ],
      "metadata": {
        "colab": {
          "base_uri": "https://localhost:8080/",
          "height": 106
        },
        "id": "TXPDsH5P7i6F",
        "outputId": "464b39dc-2207-47ed-8317-211209462676"
      },
      "execution_count": 11,
      "outputs": [
        {
          "output_type": "error",
          "ename": "SyntaxError",
          "evalue": "unterminated string literal (detected at line 2) (<ipython-input-11-5e7b6d7da870>, line 2)",
          "traceback": [
            "\u001b[0;36m  File \u001b[0;32m\"<ipython-input-11-5e7b6d7da870>\"\u001b[0;36m, line \u001b[0;32m2\u001b[0m\n\u001b[0;31m    sentence= 'I'm using single quotes, but this will create an error'\u001b[0m\n\u001b[0m                                                                     ^\u001b[0m\n\u001b[0;31mSyntaxError\u001b[0m\u001b[0;31m:\u001b[0m unterminated string literal (detected at line 2)\n"
          ]
        }
      ]
    },
    {
      "cell_type": "markdown",
      "source": [
        "* The reason for the error above is because the single quote in I'm stopped the string. You can use combinations of double and single quotes to get the complete statement.\n"
      ],
      "metadata": {
        "id": "3oKKWnvY7_v2"
      }
    },
    {
      "cell_type": "code",
      "source": [
        "sentence= \"I'm using double quotes, but this won't create an error\"\n",
        "print(sentence)"
      ],
      "metadata": {
        "colab": {
          "base_uri": "https://localhost:8080/"
        },
        "id": "6tQ9JZy28BKM",
        "outputId": "2a4ffe99-8a50-4e25-e506-6e080f215220"
      },
      "execution_count": 25,
      "outputs": [
        {
          "output_type": "stream",
          "name": "stdout",
          "text": [
            "I'm using double quotes, but this won't create an error\n"
          ]
        }
      ]
    },
    {
      "cell_type": "code",
      "source": [
        "hashtag = \"#\"\n",
        "print(hashtag)\n",
        "print(type(hashtag))"
      ],
      "metadata": {
        "colab": {
          "base_uri": "https://localhost:8080/"
        },
        "id": "AtPT2xer8YRU",
        "outputId": "520a96b9-f918-4864-d765-9906e4e94a47"
      },
      "execution_count": 26,
      "outputs": [
        {
          "output_type": "stream",
          "name": "stdout",
          "text": [
            "#\n",
            "<class 'str'>\n"
          ]
        }
      ]
    },
    {
      "cell_type": "markdown",
      "source": [
        "> ***Assign String to a Variable***\n",
        "---\n",
        "* Assigning a string to a variable is done with the variable name followed by an equal sign and the string:\n",
        "\n"
      ],
      "metadata": {
        "id": "fz7_I_eH8j0p"
      }
    },
    {
      "cell_type": "code",
      "source": [
        "a = \"Hello Karthik\"\n",
        "print(a)"
      ],
      "metadata": {
        "id": "jgb9Z3gW8qMh"
      },
      "execution_count": null,
      "outputs": []
    },
    {
      "cell_type": "markdown",
      "source": [
        "> ***Multiline Strings***\n",
        "---\n",
        "* You can use three double quotes:"
      ],
      "metadata": {
        "id": "fZSFbbjb82SX"
      }
    },
    {
      "cell_type": "code",
      "source": [
        "# You can use three double quotes:\n",
        "\n",
        "x= \"\"\" Python is a Interpretor Hight level programing language.\n",
        "Their's syntax is simple and easy to readable\n",
        "and it is also called dynamic programing language.\n",
        "It has wide range of modlibraries and modules \"\"\"\n",
        "\n",
        "print(x)\n"
      ],
      "metadata": {
        "colab": {
          "base_uri": "https://localhost:8080/"
        },
        "id": "NjzKweD78vS5",
        "outputId": "0701a8fe-97f3-4b71-b322-6b317eaf12c4"
      },
      "execution_count": 27,
      "outputs": [
        {
          "output_type": "stream",
          "name": "stdout",
          "text": [
            " Python is a Interpretor Hight level programing language.\n",
            "Their's syntax is simple and easy to readable \n",
            "and it is also called dynamic programing language.\n",
            "It has wide range of modlibraries and modules \n"
          ]
        }
      ]
    },
    {
      "cell_type": "code",
      "source": [
        "# You can use three single quotes:\n",
        "\n",
        "x= ''' Python is a Interpretor Hight level programing language.\n",
        "Their's syntax is simple and easy to readable\n",
        "and it is also called dynamic programing language.\n",
        "It has wide range of modlibraries and modules '''\n",
        "\n",
        "print(x)"
      ],
      "metadata": {
        "colab": {
          "base_uri": "https://localhost:8080/"
        },
        "id": "KH7ERDSi9zmc",
        "outputId": "2412e112-6e03-41c2-95fb-042c57a061d9"
      },
      "execution_count": 12,
      "outputs": [
        {
          "output_type": "stream",
          "name": "stdout",
          "text": [
            " Python is a Interpretor Hight level programing language.\n",
            "Their's syntax is simple and easy to readable \n",
            "and it is also called dynamic programing language.\n",
            "It has wide range of modlibraries and modules \n"
          ]
        }
      ]
    },
    {
      "cell_type": "markdown",
      "source": [
        "* Note: in the result, the line breaks are inserted at the same position as in the code.\n"
      ],
      "metadata": {
        "id": "8Ra20wmB-Fbt"
      }
    },
    {
      "cell_type": "markdown",
      "source": [
        "#Strings are Arrays\n",
        "* Like many other popular programming languages, strings in Python are arrays of bytes representing unicode characters.\n",
        "\n",
        "* However, Python does not have a character data type, a single character is simply a string with a length of 1.\n",
        "* Square brackets`[]` can be used to access elements of the string.\n",
        "\n",
        "* Example\n",
        "Get the character at position 1 (remember that the first character has the position 0):\n",
        "\n"
      ],
      "metadata": {
        "id": "xvWs9qLF-O8R"
      }
    },
    {
      "cell_type": "code",
      "source": [
        "a=\"Hello Universe!\"\n",
        "print(a[1])"
      ],
      "metadata": {
        "colab": {
          "base_uri": "https://localhost:8080/"
        },
        "id": "EFHXj_6C9-i8",
        "outputId": "e65a9d92-1943-4fd8-a747-6917d32735b0"
      },
      "execution_count": 13,
      "outputs": [
        {
          "output_type": "stream",
          "name": "stdout",
          "text": [
            "e\n"
          ]
        }
      ]
    },
    {
      "cell_type": "code",
      "source": [
        "a=\"Hello Universe!\"\n",
        "print(a[0])"
      ],
      "metadata": {
        "colab": {
          "base_uri": "https://localhost:8080/"
        },
        "id": "NLrH3c5J-5Xx",
        "outputId": "ef431c38-fba4-4ee9-bbab-4d36c4cb618b"
      },
      "execution_count": 14,
      "outputs": [
        {
          "output_type": "stream",
          "name": "stdout",
          "text": [
            "H\n"
          ]
        }
      ]
    },
    {
      "cell_type": "markdown",
      "source": [
        "> ***Looping Through a String***\n",
        "---\n",
        "\n",
        "* Since strings are arrays, we can loop through the characters in a string, with a `for` loop.\n",
        "\n",
        "let's see later about `for` loop."
      ],
      "metadata": {
        "id": "4F3jSO0Y_CZe"
      }
    },
    {
      "cell_type": "code",
      "source": [
        "# Loop through the letters in the word \"Apple\":\n",
        "a = \"Apple\"\n",
        "for letter in a:\n",
        "  print(letter)"
      ],
      "metadata": {
        "colab": {
          "base_uri": "https://localhost:8080/"
        },
        "id": "ZIIeqB_j-97L",
        "outputId": "d0fe8779-cf74-4d52-8fbe-828f215f433c"
      },
      "execution_count": 15,
      "outputs": [
        {
          "output_type": "stream",
          "name": "stdout",
          "text": [
            "A\n",
            "p\n",
            "p\n",
            "l\n",
            "e\n"
          ]
        }
      ]
    },
    {
      "cell_type": "markdown",
      "source": [
        "> ***String Length***\n",
        "---\n",
        "* To get the length of a string, use the `len()` function.\n"
      ],
      "metadata": {
        "id": "-Ja3683h_5cD"
      }
    },
    {
      "cell_type": "code",
      "source": [
        "a = \"Karthik\"\n",
        "print(a)\n",
        "print(len(a))"
      ],
      "metadata": {
        "colab": {
          "base_uri": "https://localhost:8080/"
        },
        "id": "1J4Gj11h_W5E",
        "outputId": "67730e63-e7a1-4e6f-d3ee-b9e676c1b678"
      },
      "execution_count": 16,
      "outputs": [
        {
          "output_type": "stream",
          "name": "stdout",
          "text": [
            "Karthik\n",
            "7\n"
          ]
        }
      ]
    },
    {
      "cell_type": "markdown",
      "source": [
        "> ***Check String***\n",
        "---\n",
        "* To check if a certain phrase or character is present in a string, we can use the keyword `in`."
      ],
      "metadata": {
        "id": "O2JCYEp1ARSL"
      }
    },
    {
      "cell_type": "code",
      "source": [
        "  # Check if \"free\" is present in the following text:\n",
        "txt = \"The best things in life are free!\"\n",
        "print(\"free\" in txt)\n",
        "print(\"best\" in txt)\n",
        "print(\"happy\" in txt)"
      ],
      "metadata": {
        "colab": {
          "base_uri": "https://localhost:8080/"
        },
        "id": "iBFSD2-rAJxC",
        "outputId": "93d7abdf-3e35-4455-fefa-ba1bef74d340"
      },
      "execution_count": 17,
      "outputs": [
        {
          "output_type": "stream",
          "name": "stdout",
          "text": [
            "True\n",
            "True\n",
            "False\n"
          ]
        }
      ]
    },
    {
      "cell_type": "markdown",
      "source": [
        "**Use it in an `if` statement:**"
      ],
      "metadata": {
        "id": "r089VQ7EAyq3"
      }
    },
    {
      "cell_type": "code",
      "source": [
        "txt = \"The best things in life are free!\"\n",
        "if \"free\" in txt:\n",
        "  print(\"Yes, the word 'free' in the txt\")"
      ],
      "metadata": {
        "colab": {
          "base_uri": "https://localhost:8080/"
        },
        "id": "-ZNEEVy4AdwT",
        "outputId": "32232b43-ae95-48b9-b361-9c99495db632"
      },
      "execution_count": 18,
      "outputs": [
        {
          "output_type": "stream",
          "name": "stdout",
          "text": [
            "Yes, the word 'free' in the txt\n"
          ]
        }
      ]
    },
    {
      "cell_type": "code",
      "source": [
        "txt = \"The best things in life are free!\"\n",
        "if \"happy\" in txt:\n",
        "  print(\"Yes, the word 'happy' in the txt\")"
      ],
      "metadata": {
        "id": "weU_krCLA6bN"
      },
      "execution_count": 19,
      "outputs": []
    },
    {
      "cell_type": "markdown",
      "source": [
        "> ***Check if NOT***\n",
        "---\n",
        "* To check if a certain phrase or character is NOT present in a string, we can use the keyword `not in`.\n"
      ],
      "metadata": {
        "id": "jGy0_pDJBa2h"
      }
    },
    {
      "cell_type": "code",
      "source": [
        "txt = \"The best things in life are free!\"\n",
        "print(\"happy\" not in txt)"
      ],
      "metadata": {
        "colab": {
          "base_uri": "https://localhost:8080/"
        },
        "id": "d4ApI8QuA-Tv",
        "outputId": "95da71d4-82f1-44f7-b677-9887060fcad9"
      },
      "execution_count": 20,
      "outputs": [
        {
          "output_type": "stream",
          "name": "stdout",
          "text": [
            "True\n"
          ]
        }
      ]
    },
    {
      "cell_type": "markdown",
      "source": [
        "# Slicing Strings\n",
        "* You can return a range of characters by using the slice syntax.\n",
        "\n",
        "* We can use a colon `:` to perform slicing which grabs everything up to a designated point.\n",
        "\n",
        "* The starting index is specified on the left of the `:` and the ending index is specified on the right of the `:`.\n",
        "\n",
        "* Remember the element located at the right index is not included."
      ],
      "metadata": {
        "id": "8FBoAMfUB-jy"
      }
    },
    {
      "cell_type": "code",
      "source": [
        "a= \"Hello Universe!\"\n",
        "print(a[0])      # Grabbing Index\n",
        "\n",
        "print(a[1])\n",
        "\n",
        "print(a[1:4])    # Slice From the 1st indexn\n",
        "\n",
        "print(a[:4])     # Slice From the Start      (By leaving out the start index, the range will start at the first character ':' )\n",
        "\n",
        "print(a[2:])   # Slice To the End. By leaving out the end index, the range will go to the end :"
      ],
      "metadata": {
        "colab": {
          "base_uri": "https://localhost:8080/"
        },
        "id": "A8d4SK6sDAb9",
        "outputId": "f1cb1f83-ee5e-472d-c9f7-ace522eab89e"
      },
      "execution_count": 21,
      "outputs": [
        {
          "output_type": "stream",
          "name": "stdout",
          "text": [
            "H\n",
            "e\n",
            "ell\n",
            "Hell\n",
            "llo Universe!\n"
          ]
        }
      ]
    },
    {
      "cell_type": "markdown",
      "source": [
        "***Negative Indexing***\n"
      ],
      "metadata": {
        "id": "Uj1MT53hEcqE"
      }
    },
    {
      "cell_type": "code",
      "source": [
        "a= \"Hello Universe!\"\n",
        "print(a[:-1])         # -1 is the last index of the strinG, OUR case \"e\" is the last letter of the sequence\n",
        "\n",
        "print(a[-1:])\n",
        "\n",
        "print(a[-5:])      # Negative slicing from the -5 index\n",
        "\n",
        "print(a[-5:-1])     # Negative slicing from the -5 index to -1"
      ],
      "metadata": {
        "colab": {
          "base_uri": "https://localhost:8080/"
        },
        "id": "fsXoI3cZDFrx",
        "outputId": "0ff653e6-69f3-4d4f-bf88-3fb5122821db"
      },
      "execution_count": 22,
      "outputs": [
        {
          "output_type": "stream",
          "name": "stdout",
          "text": [
            "Hello Universe\n",
            "!\n",
            "erse!\n",
            "erse\n"
          ]
        }
      ]
    },
    {
      "cell_type": "markdown",
      "source": [
        "* We can also use index and slice notation to grab elements of a sequence by a specified step size (the default is 1). For instance we can use two colons in a row and then a number specifying the frequency to grab elements. For example:"
      ],
      "metadata": {
        "id": "PfB0VFuCoUoE"
      }
    },
    {
      "cell_type": "code",
      "source": [
        "a= \"Hello Universe!\"\n",
        "\n",
        "print(a[::1])            # Grab everything, but go in steps size of 1\n",
        "\n",
        "print(a[::3])            # Grab everything, but go in steps size of 3\n",
        "\n",
        "print(a[1:8:1])          # Grab the elements with starting from 1st index and to 8th Index and  steps size of 1\n",
        "\n",
        "print(a[1:8:2])          # Grab the elements with starting from 1st index and to 8th Index and  steps size of 3\n"
      ],
      "metadata": {
        "colab": {
          "base_uri": "https://localhost:8080/"
        },
        "id": "bmfAI8V9E5Hf",
        "outputId": "8093ef01-24b7-4991-fcfe-1e3cd9725d7b"
      },
      "execution_count": 23,
      "outputs": [
        {
          "output_type": "stream",
          "name": "stdout",
          "text": [
            "Hello Universe!\n",
            "HlUvs\n",
            "ello Un\n",
            "el n\n"
          ]
        }
      ]
    },
    {
      "cell_type": "code",
      "source": [
        "print(a[::1])      # Grab everything, but go in steps size of 1\n",
        "\n",
        "print(a[::-1])     # Grab everything, but go in Back wards.\n",
        "\n",
        "print(a[6:12:1])\n"
      ],
      "metadata": {
        "colab": {
          "base_uri": "https://localhost:8080/"
        },
        "id": "vkVDDqeworE2",
        "outputId": "d7014a1c-d424-4592-99b4-6a98aecd4b65"
      },
      "execution_count": 32,
      "outputs": [
        {
          "output_type": "stream",
          "name": "stdout",
          "text": [
            "Hello Universe!\n",
            "!esrevinU olleH\n",
            "Univer\n",
            "\n"
          ]
        }
      ]
    },
    {
      "cell_type": "code",
      "source": [
        "print(a[6:12:-1])"
      ],
      "metadata": {
        "colab": {
          "base_uri": "https://localhost:8080/"
        },
        "id": "sCNhZiU4p4tX",
        "outputId": "6ccc4e15-c2ba-4463-d88b-d5caea574c15"
      },
      "execution_count": 35,
      "outputs": [
        {
          "output_type": "stream",
          "name": "stdout",
          "text": [
            "\n"
          ]
        }
      ]
    },
    {
      "cell_type": "code",
      "source": [
        "print(len(a))\n",
        "\n",
        "print(a[6:15:1])\n",
        "\n",
        "print(a[15:6:-1])         # Grab the elements with starting from last(15th) index to 6th Index and  steps size of 1 in back wards\n",
        "\n",
        "print(a[15:6:-2])         # Grab the elements with starting from last(15th) index to 6th Index and  steps size of 2 in back wards\n",
        "\n",
        "print(a[15:6:-3])         # Grab the elements with starting from last(15th) index to 6th Index and  steps size of 3 in back wards\n",
        "\n",
        "print(a[4::-1])"
      ],
      "metadata": {
        "colab": {
          "base_uri": "https://localhost:8080/"
        },
        "id": "aAvd8_GHrP04",
        "outputId": "a5153c75-f615-4528-cddb-d26dd3afd38b"
      },
      "execution_count": 45,
      "outputs": [
        {
          "output_type": "stream",
          "name": "stdout",
          "text": [
            "15\n",
            "Universe!\n",
            "!esrevin\n",
            "!sei\n",
            "!ri\n",
            "olleH\n"
          ]
        }
      ]
    },
    {
      "cell_type": "code",
      "source": [],
      "metadata": {
        "id": "rNWCKo_bs9gn"
      },
      "execution_count": null,
      "outputs": []
    }
  ]
}