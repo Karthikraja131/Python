{
  "nbformat": 4,
  "nbformat_minor": 0,
  "metadata": {
    "colab": {
      "provenance": [],
      "authorship_tag": "ABX9TyNBBgRxU6SJ9sxQyfHwvBOl",
      "include_colab_link": true
    },
    "kernelspec": {
      "name": "python3",
      "display_name": "Python 3"
    },
    "language_info": {
      "name": "python"
    }
  },
  "cells": [
    {
      "cell_type": "markdown",
      "metadata": {
        "id": "view-in-github",
        "colab_type": "text"
      },
      "source": [
        "<a href=\"https://colab.research.google.com/github/Karthikraja131/Python/blob/main/Python_strings.ipynb\" target=\"_parent\"><img src=\"https://colab.research.google.com/assets/colab-badge.svg\" alt=\"Open In Colab\"/></a>"
      ]
    },
    {
      "cell_type": "markdown",
      "source": [
        "#Python Strings\n",
        "* Strings are used in Python to record text information, such as names. It could either be a word, a phrase, a sentence, a paragraph or an entire encyclopedia.\n",
        "*  Strings in Python are actually a sequence, which basically means Python keeps track of every element in the string as a sequence.\n",
        "* For example, Python understands the string \"Karthik\" to be a sequence of letters in a specific order. This means we will be able to use indexing to grab particular letters (like the first letter, or the last letter).\n",
        "\n",
        "> ***Creating a String***\n",
        "---\n",
        "* To create a string in Python you need to use either single quotes or double quotes.\n",
        "\n",
        "* Strings in python are surrounded by either single quotation marks, or double quotation marks.\n",
        "\n",
        "\n",
        "\n"
      ],
      "metadata": {
        "id": "hfYPd7dS5oS1"
      }
    },
    {
      "cell_type": "code",
      "execution_count": null,
      "metadata": {
        "id": "ej8_jrLnRhs2",
        "colab": {
          "base_uri": "https://localhost:8080/"
        },
        "outputId": "234d2238-059d-4751-f986-8c04fc028b45"
      },
      "outputs": [
        {
          "output_type": "stream",
          "name": "stdout",
          "text": [
            "Python\n",
            "Python\n"
          ]
        }
      ],
      "source": [
        "string_single_quotes= 'Python'\n",
        "string_double_quotes= \"Python\"\n",
        "print(string_single_quotes)\n",
        "print(string_double_quotes)"
      ]
    },
    {
      "cell_type": "markdown",
      "source": [
        "> ***We can use the print() statement to print a string.***\n",
        "---\n",
        "\n"
      ],
      "metadata": {
        "id": "1E3QewNh_n6c"
      }
    },
    {
      "cell_type": "code",
      "source": [
        "# print('Linear Algebra')\n",
        "# print('Calculus')\n",
        "print('Use \\n to print a new line')\n",
        "print('\\n')\n",
        "print('See what \\n I mean?')"
      ],
      "metadata": {
        "colab": {
          "base_uri": "https://localhost:8080/"
        },
        "id": "7gHokhcS_rpY",
        "outputId": "b4ba017a-8be0-402f-8a0d-1b0316cf7b1e"
      },
      "execution_count": null,
      "outputs": [
        {
          "output_type": "stream",
          "name": "stdout",
          "text": [
            "Use \n",
            " to print a new line\n",
            "\n",
            "\n",
            "See what \n",
            " I mean?\n"
          ]
        }
      ]
    },
    {
      "cell_type": "code",
      "source": [
        "# Be careful with quotes!\n",
        "sentence= 'I'm using single quotes, but this will create an error'\n",
        "print(sentence)"
      ],
      "metadata": {
        "colab": {
          "base_uri": "https://localhost:8080/",
          "height": 106
        },
        "id": "TXPDsH5P7i6F",
        "outputId": "464b39dc-2207-47ed-8317-211209462676"
      },
      "execution_count": null,
      "outputs": [
        {
          "output_type": "error",
          "ename": "SyntaxError",
          "evalue": "unterminated string literal (detected at line 2) (<ipython-input-11-5e7b6d7da870>, line 2)",
          "traceback": [
            "\u001b[0;36m  File \u001b[0;32m\"<ipython-input-11-5e7b6d7da870>\"\u001b[0;36m, line \u001b[0;32m2\u001b[0m\n\u001b[0;31m    sentence= 'I'm using single quotes, but this will create an error'\u001b[0m\n\u001b[0m                                                                     ^\u001b[0m\n\u001b[0;31mSyntaxError\u001b[0m\u001b[0;31m:\u001b[0m unterminated string literal (detected at line 2)\n"
          ]
        }
      ]
    },
    {
      "cell_type": "markdown",
      "source": [
        "* The reason for the error above is because the single quote in I'm stopped the string. You can use combinations of double and single quotes to get the complete statement.\n"
      ],
      "metadata": {
        "id": "3oKKWnvY7_v2"
      }
    },
    {
      "cell_type": "code",
      "source": [
        "sentence= \"I'm using double quotes, but this won't create an error\"\n",
        "print(sentence)"
      ],
      "metadata": {
        "colab": {
          "base_uri": "https://localhost:8080/"
        },
        "id": "6tQ9JZy28BKM",
        "outputId": "2a4ffe99-8a50-4e25-e506-6e080f215220"
      },
      "execution_count": null,
      "outputs": [
        {
          "output_type": "stream",
          "name": "stdout",
          "text": [
            "I'm using double quotes, but this won't create an error\n"
          ]
        }
      ]
    },
    {
      "cell_type": "code",
      "source": [
        "hashtag = \"#\"\n",
        "print(hashtag)\n",
        "print(type(hashtag))"
      ],
      "metadata": {
        "colab": {
          "base_uri": "https://localhost:8080/"
        },
        "id": "AtPT2xer8YRU",
        "outputId": "520a96b9-f918-4864-d765-9906e4e94a47"
      },
      "execution_count": null,
      "outputs": [
        {
          "output_type": "stream",
          "name": "stdout",
          "text": [
            "#\n",
            "<class 'str'>\n"
          ]
        }
      ]
    },
    {
      "cell_type": "markdown",
      "source": [
        "> ***Assign String to a Variable***\n",
        "---\n",
        "* Assigning a string to a variable is done with the variable name followed by an equal sign and the string:\n",
        "\n"
      ],
      "metadata": {
        "id": "fz7_I_eH8j0p"
      }
    },
    {
      "cell_type": "code",
      "source": [
        "a = \"Hello Karthik\"\n",
        "print(a)"
      ],
      "metadata": {
        "id": "jgb9Z3gW8qMh"
      },
      "execution_count": null,
      "outputs": []
    },
    {
      "cell_type": "markdown",
      "source": [
        "> ***Multiline Strings***\n",
        "---\n",
        "* You can use three double quotes:"
      ],
      "metadata": {
        "id": "fZSFbbjb82SX"
      }
    },
    {
      "cell_type": "code",
      "source": [
        "# You can use three double quotes:\n",
        "\n",
        "x= \"\"\" Python is a Interpretor Hight level programing language.\n",
        "Their's syntax is simple and easy to readable\n",
        "and it is also called dynamic programing language.\n",
        "It has wide range of modlibraries and modules \"\"\"\n",
        "\n",
        "print(x)\n"
      ],
      "metadata": {
        "colab": {
          "base_uri": "https://localhost:8080/"
        },
        "id": "NjzKweD78vS5",
        "outputId": "0701a8fe-97f3-4b71-b322-6b317eaf12c4"
      },
      "execution_count": null,
      "outputs": [
        {
          "output_type": "stream",
          "name": "stdout",
          "text": [
            " Python is a Interpretor Hight level programing language.\n",
            "Their's syntax is simple and easy to readable \n",
            "and it is also called dynamic programing language.\n",
            "It has wide range of modlibraries and modules \n"
          ]
        }
      ]
    },
    {
      "cell_type": "code",
      "source": [
        "# You can use three single quotes:\n",
        "\n",
        "x= ''' Python is a Interpretor Hight level programing language.\n",
        "Their's syntax is simple and easy to readable\n",
        "and it is also called dynamic programing language.\n",
        "It has wide range of modlibraries and modules '''\n",
        "\n",
        "print(x)"
      ],
      "metadata": {
        "colab": {
          "base_uri": "https://localhost:8080/"
        },
        "id": "KH7ERDSi9zmc",
        "outputId": "2412e112-6e03-41c2-95fb-042c57a061d9"
      },
      "execution_count": null,
      "outputs": [
        {
          "output_type": "stream",
          "name": "stdout",
          "text": [
            " Python is a Interpretor Hight level programing language.\n",
            "Their's syntax is simple and easy to readable \n",
            "and it is also called dynamic programing language.\n",
            "It has wide range of modlibraries and modules \n"
          ]
        }
      ]
    },
    {
      "cell_type": "markdown",
      "source": [
        "* Note: in the result, the line breaks are inserted at the same position as in the code.\n"
      ],
      "metadata": {
        "id": "8Ra20wmB-Fbt"
      }
    },
    {
      "cell_type": "markdown",
      "source": [
        "#Strings are Arrays\n",
        "* Like many other popular programming languages, strings in Python are arrays of bytes representing unicode characters.\n",
        "\n",
        "* However, Python does not have a character data type, a single character is simply a string with a length of 1.\n",
        "* Square brackets`[]` can be used to access elements of the string.\n",
        "\n",
        "* Example\n",
        "Get the character at position 1 (remember that the first character has the position 0):\n",
        "\n"
      ],
      "metadata": {
        "id": "xvWs9qLF-O8R"
      }
    },
    {
      "cell_type": "code",
      "source": [
        "a=\"Hello Universe!\"\n",
        "print(a[1])"
      ],
      "metadata": {
        "colab": {
          "base_uri": "https://localhost:8080/"
        },
        "id": "EFHXj_6C9-i8",
        "outputId": "e65a9d92-1943-4fd8-a747-6917d32735b0"
      },
      "execution_count": null,
      "outputs": [
        {
          "output_type": "stream",
          "name": "stdout",
          "text": [
            "e\n"
          ]
        }
      ]
    },
    {
      "cell_type": "code",
      "source": [
        "a=\"Hello Universe!\"\n",
        "print(a[0])"
      ],
      "metadata": {
        "colab": {
          "base_uri": "https://localhost:8080/"
        },
        "id": "NLrH3c5J-5Xx",
        "outputId": "ef431c38-fba4-4ee9-bbab-4d36c4cb618b"
      },
      "execution_count": null,
      "outputs": [
        {
          "output_type": "stream",
          "name": "stdout",
          "text": [
            "H\n"
          ]
        }
      ]
    },
    {
      "cell_type": "markdown",
      "source": [
        "> ***Looping Through a String***\n",
        "---\n",
        "\n",
        "* Since strings are arrays, we can loop through the characters in a string, with a `for` loop.\n",
        "\n",
        "let's see later about `for` loop."
      ],
      "metadata": {
        "id": "4F3jSO0Y_CZe"
      }
    },
    {
      "cell_type": "code",
      "source": [
        "# Loop through the letters in the word \"Apple\":\n",
        "a = \"Apple\"\n",
        "for letter in a:\n",
        "  print(letter)"
      ],
      "metadata": {
        "colab": {
          "base_uri": "https://localhost:8080/"
        },
        "id": "ZIIeqB_j-97L",
        "outputId": "d0fe8779-cf74-4d52-8fbe-828f215f433c"
      },
      "execution_count": null,
      "outputs": [
        {
          "output_type": "stream",
          "name": "stdout",
          "text": [
            "A\n",
            "p\n",
            "p\n",
            "l\n",
            "e\n"
          ]
        }
      ]
    },
    {
      "cell_type": "markdown",
      "source": [
        "> ***String Length***\n",
        "---\n",
        "* To get the length of a string, use the `len()` function.\n"
      ],
      "metadata": {
        "id": "-Ja3683h_5cD"
      }
    },
    {
      "cell_type": "code",
      "source": [
        "a = \"Karthik\"\n",
        "print(a)\n",
        "print(len(a))"
      ],
      "metadata": {
        "colab": {
          "base_uri": "https://localhost:8080/"
        },
        "id": "1J4Gj11h_W5E",
        "outputId": "67730e63-e7a1-4e6f-d3ee-b9e676c1b678"
      },
      "execution_count": null,
      "outputs": [
        {
          "output_type": "stream",
          "name": "stdout",
          "text": [
            "Karthik\n",
            "7\n"
          ]
        }
      ]
    },
    {
      "cell_type": "markdown",
      "source": [
        "> ***Check String***\n",
        "---\n",
        "* To check if a certain phrase or character is present in a string, we can use the keyword `in`."
      ],
      "metadata": {
        "id": "O2JCYEp1ARSL"
      }
    },
    {
      "cell_type": "code",
      "source": [
        "  # Check if \"free\" is present in the following text:\n",
        "txt = \"The best things in life are free!\"\n",
        "print(\"free\" in txt)\n",
        "print(\"best\" in txt)\n",
        "print(\"happy\" in txt)"
      ],
      "metadata": {
        "colab": {
          "base_uri": "https://localhost:8080/"
        },
        "id": "iBFSD2-rAJxC",
        "outputId": "93d7abdf-3e35-4455-fefa-ba1bef74d340"
      },
      "execution_count": null,
      "outputs": [
        {
          "output_type": "stream",
          "name": "stdout",
          "text": [
            "True\n",
            "True\n",
            "False\n"
          ]
        }
      ]
    },
    {
      "cell_type": "markdown",
      "source": [
        "**Use it in an `if` statement:**"
      ],
      "metadata": {
        "id": "r089VQ7EAyq3"
      }
    },
    {
      "cell_type": "code",
      "source": [
        "txt = \"The best things in life are free!\"\n",
        "if \"free\" in txt:\n",
        "  print(\"Yes, the word 'free' in the txt\")"
      ],
      "metadata": {
        "colab": {
          "base_uri": "https://localhost:8080/"
        },
        "id": "-ZNEEVy4AdwT",
        "outputId": "61288e7a-a648-46b3-c748-e16c51821129"
      },
      "execution_count": null,
      "outputs": [
        {
          "output_type": "stream",
          "name": "stdout",
          "text": [
            "Yes, the word 'free' in the txt\n"
          ]
        }
      ]
    },
    {
      "cell_type": "code",
      "source": [
        "txt = \"The best things in life are free!\"\n",
        "if \"lif\" in txt:\n",
        "  print(\"Yes, the word 'lif' in the txt\")"
      ],
      "metadata": {
        "colab": {
          "base_uri": "https://localhost:8080/"
        },
        "id": "dqMz32qXRAX8",
        "outputId": "e096b341-1821-4f72-f8b9-a0465dce8859"
      },
      "execution_count": null,
      "outputs": [
        {
          "output_type": "stream",
          "name": "stdout",
          "text": [
            "Yes, the word 'lif' in the txt\n"
          ]
        }
      ]
    },
    {
      "cell_type": "code",
      "source": [
        "txt = \"The best things in life are free!\"\n",
        "if \"happy\" in txt:\n",
        "  print(\"Yes, the word 'happy' in the txt\")"
      ],
      "metadata": {
        "id": "weU_krCLA6bN"
      },
      "execution_count": null,
      "outputs": []
    },
    {
      "cell_type": "markdown",
      "source": [
        "> ***Check if NOT***\n",
        "---\n",
        "* To check if a certain phrase or character is NOT present in a string, we can use the keyword `not in`.\n"
      ],
      "metadata": {
        "id": "jGy0_pDJBa2h"
      }
    },
    {
      "cell_type": "code",
      "source": [
        "txt = \"The best things in life are free!\"\n",
        "print(\"happy\" not in txt)"
      ],
      "metadata": {
        "colab": {
          "base_uri": "https://localhost:8080/"
        },
        "id": "d4ApI8QuA-Tv",
        "outputId": "95da71d4-82f1-44f7-b677-9887060fcad9"
      },
      "execution_count": null,
      "outputs": [
        {
          "output_type": "stream",
          "name": "stdout",
          "text": [
            "True\n"
          ]
        }
      ]
    },
    {
      "cell_type": "markdown",
      "source": [
        "# Slicing Strings\n",
        "* You can return a range of characters by using the slice syntax.\n",
        "\n",
        "* We can use a colon `:` to perform slicing which grabs everything up to a designated point.\n",
        "\n",
        "* The starting index is specified on the left of the `:` and the ending index is specified on the right of the `:`.\n",
        "\n",
        "* Remember the element located at the right index is not included."
      ],
      "metadata": {
        "id": "8FBoAMfUB-jy"
      }
    },
    {
      "cell_type": "code",
      "source": [
        "a= \"Hello Universe!\"\n",
        "print(a[0])      # Grabbing Index\n",
        "\n",
        "print(a[1])\n",
        "\n",
        "print(a[1:4])    # Slice From the 1st indexn\n",
        "\n",
        "print(a[:4])     # Slice From the Start      (By leaving out the start index, the range will start at the first character ':' )\n",
        "\n",
        "print(a[2:])   # Slice To the End. By leaving out the end index, the range will go to the end :"
      ],
      "metadata": {
        "colab": {
          "base_uri": "https://localhost:8080/"
        },
        "id": "A8d4SK6sDAb9",
        "outputId": "4ce54694-f5f5-4cb9-9480-b41bc101d116"
      },
      "execution_count": null,
      "outputs": [
        {
          "output_type": "stream",
          "name": "stdout",
          "text": [
            "H\n",
            "e\n",
            "ell\n",
            "Hell\n",
            "llo Universe!\n"
          ]
        }
      ]
    },
    {
      "cell_type": "markdown",
      "source": [
        "***Negative Indexing***\n"
      ],
      "metadata": {
        "id": "Uj1MT53hEcqE"
      }
    },
    {
      "cell_type": "code",
      "source": [
        "a= \"Hello Universe!\"\n",
        "print(a[:-1])         # -1 is the last index of the strinG, OUR case \"e\" is the last letter of the sequence\n",
        "\n",
        "print(a[-1:])\n",
        "\n",
        "print(a[-5:])      # Negative slicing from the -5 index\n",
        "\n",
        "print(a[-5:-1])     # Negative slicing from the -5 index to -1"
      ],
      "metadata": {
        "colab": {
          "base_uri": "https://localhost:8080/"
        },
        "id": "fsXoI3cZDFrx",
        "outputId": "0ff653e6-69f3-4d4f-bf88-3fb5122821db"
      },
      "execution_count": null,
      "outputs": [
        {
          "output_type": "stream",
          "name": "stdout",
          "text": [
            "Hello Universe\n",
            "!\n",
            "erse!\n",
            "erse\n"
          ]
        }
      ]
    },
    {
      "cell_type": "code",
      "source": [
        "print(a[:])\n",
        "print(a[::])"
      ],
      "metadata": {
        "colab": {
          "base_uri": "https://localhost:8080/"
        },
        "id": "m-1V6lp2SKaN",
        "outputId": "350aed5c-99da-48e6-f42c-d6c73769de6d"
      },
      "execution_count": null,
      "outputs": [
        {
          "output_type": "stream",
          "name": "stdout",
          "text": [
            "Hello Universe!\n",
            "Hello Universe!\n"
          ]
        }
      ]
    },
    {
      "cell_type": "markdown",
      "source": [
        "* We can also use index and slice notation to grab elements of a sequence by a specified step size (the default is 1). For instance we can use two colons in a row and then a number specifying the frequency to grab elements. For example:"
      ],
      "metadata": {
        "id": "PfB0VFuCoUoE"
      }
    },
    {
      "cell_type": "code",
      "source": [
        "a= \"Hello Universe!\"\n",
        "\n",
        "print(a[::1])            # Grab everything, but go in steps size of 1\n",
        "\n",
        "print(a[::3])            # Grab everything, but go in steps size of 3\n",
        "\n",
        "print(a[1:8:1])          # Grab the elements with starting from 1st index and to 8th Index and  steps size of 1\n",
        "\n",
        "print(a[1:8:2])          # Grab the elements with starting from 1st index and to 8th Index and  steps size of 3"
      ],
      "metadata": {
        "colab": {
          "base_uri": "https://localhost:8080/"
        },
        "id": "bmfAI8V9E5Hf",
        "outputId": "9981066a-5eec-415a-a55b-91ce309a3438"
      },
      "execution_count": null,
      "outputs": [
        {
          "output_type": "stream",
          "name": "stdout",
          "text": [
            "Hello Universe!\n",
            "HlUvs\n",
            "ello Un\n",
            "el n\n"
          ]
        }
      ]
    },
    {
      "cell_type": "code",
      "source": [
        "print(a[::1])      # Grab everything, but go in steps size of 1\n",
        "\n",
        "print(a[::-1])     # Grab everything, but go in Back wards.\n",
        "\n",
        "print(a[6:12:1])\n"
      ],
      "metadata": {
        "colab": {
          "base_uri": "https://localhost:8080/"
        },
        "id": "vkVDDqeworE2",
        "outputId": "d7014a1c-d424-4592-99b4-6a98aecd4b65"
      },
      "execution_count": null,
      "outputs": [
        {
          "output_type": "stream",
          "name": "stdout",
          "text": [
            "Hello Universe!\n",
            "!esrevinU olleH\n",
            "Univer\n",
            "\n"
          ]
        }
      ]
    },
    {
      "cell_type": "code",
      "source": [
        "print(a[6:12:-1])"
      ],
      "metadata": {
        "colab": {
          "base_uri": "https://localhost:8080/"
        },
        "id": "sCNhZiU4p4tX",
        "outputId": "6ccc4e15-c2ba-4463-d88b-d5caea574c15"
      },
      "execution_count": null,
      "outputs": [
        {
          "output_type": "stream",
          "name": "stdout",
          "text": [
            "\n"
          ]
        }
      ]
    },
    {
      "cell_type": "code",
      "source": [
        "print(len(a))\n",
        "\n",
        "print(a[6:15:1])\n",
        "\n",
        "print(a[15:6:-1])         # Grab the elements with starting from last(15th) index to 6th Index and  steps size of 1 in back wards\n",
        "\n",
        "print(a[15:6:-2])         # Grab the elements with starting from last(15th) index to 6th Index and  steps size of 2 in back wards\n",
        "\n",
        "print(a[15:6:-3])         # Grab the elements with starting from last(15th) index to 6th Index and  steps size of 3 in back wards\n",
        "\n",
        "print(a[4::-1])"
      ],
      "metadata": {
        "colab": {
          "base_uri": "https://localhost:8080/"
        },
        "id": "aAvd8_GHrP04",
        "outputId": "ee6efa28-7e9b-4dfc-8a7f-ea662e9075ae"
      },
      "execution_count": null,
      "outputs": [
        {
          "output_type": "stream",
          "name": "stdout",
          "text": [
            "15\n",
            "Universe!\n",
            "!esrevin\n",
            "!sei\n",
            "!ri\n",
            "olleH\n"
          ]
        }
      ]
    },
    {
      "cell_type": "markdown",
      "source": [
        "#String Properties\n",
        "* It's important to note that strings have an important property known as `immutability`.\n",
        "* This means that once a string is created, the elements within it can not be changed or replaced via item assignment. We will see how we can do such operation using string methods."
      ],
      "metadata": {
        "id": "pmozm2i6UiVo"
      }
    },
    {
      "cell_type": "code",
      "source": [
        "# Can we change our string 'Hello' to 'Cello'? Lets try replacing the first letter H with C\n",
        "a = \"Hello\"\n",
        "a[0]=\"C\""
      ],
      "metadata": {
        "id": "rNWCKo_bs9gn",
        "colab": {
          "base_uri": "https://localhost:8080/",
          "height": 176
        },
        "outputId": "168901dd-991f-439d-c275-16083c2ed15a"
      },
      "execution_count": null,
      "outputs": [
        {
          "output_type": "error",
          "ename": "TypeError",
          "evalue": "'str' object does not support item assignment",
          "traceback": [
            "\u001b[0;31m---------------------------------------------------------------------------\u001b[0m",
            "\u001b[0;31mTypeError\u001b[0m                                 Traceback (most recent call last)",
            "\u001b[0;32m<ipython-input-28-1b6f487ee40d>\u001b[0m in \u001b[0;36m<cell line: 3>\u001b[0;34m()\u001b[0m\n\u001b[1;32m      1\u001b[0m \u001b[0;31m# Can we change our string 'Hello' to 'Cello'? Lets try replacing the first letter H with C\u001b[0m\u001b[0;34m\u001b[0m\u001b[0;34m\u001b[0m\u001b[0m\n\u001b[1;32m      2\u001b[0m \u001b[0ma\u001b[0m \u001b[0;34m=\u001b[0m \u001b[0;34m\"Hello\"\u001b[0m\u001b[0;34m\u001b[0m\u001b[0;34m\u001b[0m\u001b[0m\n\u001b[0;32m----> 3\u001b[0;31m \u001b[0ma\u001b[0m\u001b[0;34m[\u001b[0m\u001b[0;36m0\u001b[0m\u001b[0;34m]\u001b[0m\u001b[0;34m=\u001b[0m\u001b[0;34m\"C\"\u001b[0m\u001b[0;34m\u001b[0m\u001b[0;34m\u001b[0m\u001b[0m\n\u001b[0m",
            "\u001b[0;31mTypeError\u001b[0m: 'str' object does not support item assignment"
          ]
        }
      ]
    },
    {
      "cell_type": "markdown",
      "source": [
        "* Notice how the error tells us directly what we can't do, that is we can't change the item assignment!\n",
        "\n",
        "* Something we can do is concatenate strings!"
      ],
      "metadata": {
        "id": "f-ZyePHyVue2"
      }
    },
    {
      "cell_type": "markdown",
      "source": [
        "#String Concatenation\n",
        "*  To concatenate, or combine, two strings you can use the + operator.\n"
      ],
      "metadata": {
        "id": "YS4q59uxWNjA"
      }
    },
    {
      "cell_type": "code",
      "source": [
        "string1= 'abc'\n",
        "string2= 'def'\n",
        "print(string1+' '+string2)"
      ],
      "metadata": {
        "colab": {
          "base_uri": "https://localhost:8080/"
        },
        "id": "YOVHhWBCVKyQ",
        "outputId": "310055d4-ee61-40b9-bbec-19b6090f2f4f"
      },
      "execution_count": null,
      "outputs": [
        {
          "output_type": "stream",
          "name": "stdout",
          "text": [
            "abc def\n"
          ]
        }
      ]
    },
    {
      "cell_type": "code",
      "source": [
        "string1= 'abc'\n",
        "string2= 'def'\n",
        "print(string1+string2)"
      ],
      "metadata": {
        "colab": {
          "base_uri": "https://localhost:8080/"
        },
        "id": "wLC0GoJveXdT",
        "outputId": "66d39bda-f2d3-4c14-fa80-c885f8e319e0"
      },
      "execution_count": null,
      "outputs": [
        {
          "output_type": "stream",
          "name": "stdout",
          "text": [
            "abcdef\n"
          ]
        }
      ]
    },
    {
      "cell_type": "code",
      "source": [
        "print(string1 + 4 + string2)"
      ],
      "metadata": {
        "colab": {
          "base_uri": "https://localhost:8080/",
          "height": 141
        },
        "id": "KSccBed_eXfm",
        "outputId": "9adc9059-637d-43cd-ce76-f8dacb61be00"
      },
      "execution_count": null,
      "outputs": [
        {
          "output_type": "error",
          "ename": "TypeError",
          "evalue": "can only concatenate str (not \"int\") to str",
          "traceback": [
            "\u001b[0;31m---------------------------------------------------------------------------\u001b[0m",
            "\u001b[0;31mTypeError\u001b[0m                                 Traceback (most recent call last)",
            "\u001b[0;32m<ipython-input-31-544903aa2d55>\u001b[0m in \u001b[0;36m<cell line: 1>\u001b[0;34m()\u001b[0m\n\u001b[0;32m----> 1\u001b[0;31m \u001b[0mprint\u001b[0m\u001b[0;34m(\u001b[0m\u001b[0mstring1\u001b[0m \u001b[0;34m+\u001b[0m \u001b[0;36m4\u001b[0m \u001b[0;34m+\u001b[0m \u001b[0mstring2\u001b[0m\u001b[0;34m)\u001b[0m\u001b[0;34m\u001b[0m\u001b[0;34m\u001b[0m\u001b[0m\n\u001b[0m",
            "\u001b[0;31mTypeError\u001b[0m: can only concatenate str (not \"int\") to str"
          ]
        }
      ]
    },
    {
      "cell_type": "markdown",
      "source": [
        "* To convert an integer into a string, you can use the str() function or you can simply write the number in quotes"
      ],
      "metadata": {
        "id": "rY79BKTnei-o"
      }
    },
    {
      "cell_type": "code",
      "source": [
        "print(string1 + str(4) + string2)\n",
        "print(string1 + '4' + string2)"
      ],
      "metadata": {
        "colab": {
          "base_uri": "https://localhost:8080/"
        },
        "id": "MykUhYmAegiS",
        "outputId": "ff34732a-974a-4622-eeb1-efb1292adc14"
      },
      "execution_count": null,
      "outputs": [
        {
          "output_type": "stream",
          "name": "stdout",
          "text": [
            "abc4def\n",
            "abc4def\n"
          ]
        }
      ]
    },
    {
      "cell_type": "code",
      "source": [
        "a= \"Hello\"\n",
        "print(a+\" Universe!\")"
      ],
      "metadata": {
        "colab": {
          "base_uri": "https://localhost:8080/"
        },
        "id": "CZKPoFXde5XI",
        "outputId": "f2716cf7-5726-4a5e-a00b-8eb81e863e43"
      },
      "execution_count": null,
      "outputs": [
        {
          "output_type": "stream",
          "name": "stdout",
          "text": [
            "Hello Universe!\n"
          ]
        }
      ]
    },
    {
      "cell_type": "code",
      "source": [
        "a=\"Karhik\"\n",
        "print(a*3)"
      ],
      "metadata": {
        "colab": {
          "base_uri": "https://localhost:8080/"
        },
        "id": "djaRDUynfLr7",
        "outputId": "81320672-38fa-4a52-951f-5351829a11f4"
      },
      "execution_count": null,
      "outputs": [
        {
          "output_type": "stream",
          "name": "stdout",
          "text": [
            "KarhikKarhikKarhik\n"
          ]
        }
      ]
    },
    {
      "cell_type": "markdown",
      "source": [
        "#String functions and methods\n"
      ],
      "metadata": {
        "id": "A-bOgMXEVtjX"
      }
    },
    {
      "cell_type": "code",
      "source": [
        "string = 'Data Scientist'\n",
        "print(string)"
      ],
      "metadata": {
        "colab": {
          "base_uri": "https://localhost:8080/"
        },
        "id": "eybYxJR3fcNM",
        "outputId": "2b333373-ee73-43c1-fee0-816cd7475426"
      },
      "execution_count": null,
      "outputs": [
        {
          "output_type": "stream",
          "name": "stdout",
          "text": [
            "Data Scientist\n"
          ]
        }
      ]
    },
    {
      "cell_type": "markdown",
      "source": [
        "***`len()`***\n",
        "---\n",
        "* `len()` function returns the length of the string"
      ],
      "metadata": {
        "id": "ua_iwkuSf-_m"
      }
    },
    {
      "cell_type": "code",
      "source": [
        "print(len(string))"
      ],
      "metadata": {
        "colab": {
          "base_uri": "https://localhost:8080/"
        },
        "id": "42PeTbJKfoXf",
        "outputId": "6df590b4-1f4e-42c3-9338-95b0e19770a3"
      },
      "execution_count": null,
      "outputs": [
        {
          "output_type": "stream",
          "name": "stdout",
          "text": [
            "14\n"
          ]
        }
      ]
    },
    {
      "cell_type": "markdown",
      "source": [
        "***`lower()`***\n",
        "---\n",
        "* lower() method converts the string to lowercase"
      ],
      "metadata": {
        "id": "iyhIR7hIgQ8m"
      }
    },
    {
      "cell_type": "code",
      "source": [
        "string.lower()"
      ],
      "metadata": {
        "colab": {
          "base_uri": "https://localhost:8080/",
          "height": 35
        },
        "id": "nKAeqLBKgPVn",
        "outputId": "29b109f7-4987-4d93-ed18-3aa0841ca476"
      },
      "execution_count": null,
      "outputs": [
        {
          "output_type": "execute_result",
          "data": {
            "text/plain": [
              "'data scientist'"
            ],
            "application/vnd.google.colaboratory.intrinsic+json": {
              "type": "string"
            }
          },
          "metadata": {},
          "execution_count": 38
        }
      ]
    },
    {
      "cell_type": "markdown",
      "source": [
        "#Note\n",
        "* What about `lower(string)`? Is it not similar to the `len()`function?\n",
        "\n",
        "* An important point to note here is `len()` is a function and `lower()` is a method for a string object. It will be pretty clear about the exact differences between a function and a method as we move ahead."
      ],
      "metadata": {
        "id": "3WdXsWyAgoXL"
      }
    },
    {
      "cell_type": "code",
      "source": [
        "lower(string)"
      ],
      "metadata": {
        "colab": {
          "base_uri": "https://localhost:8080/",
          "height": 141
        },
        "id": "f0Z-msU8gl6t",
        "outputId": "68abe42a-37c6-4684-ee96-3c5217513a58"
      },
      "execution_count": null,
      "outputs": [
        {
          "output_type": "error",
          "ename": "NameError",
          "evalue": "name 'lower' is not defined",
          "traceback": [
            "\u001b[0;31m---------------------------------------------------------------------------\u001b[0m",
            "\u001b[0;31mNameError\u001b[0m                                 Traceback (most recent call last)",
            "\u001b[0;32m<ipython-input-39-ba0fc0117f8b>\u001b[0m in \u001b[0;36m<cell line: 1>\u001b[0;34m()\u001b[0m\n\u001b[0;32m----> 1\u001b[0;31m \u001b[0mlower\u001b[0m\u001b[0;34m(\u001b[0m\u001b[0mstring\u001b[0m\u001b[0;34m)\u001b[0m\u001b[0;34m\u001b[0m\u001b[0;34m\u001b[0m\u001b[0m\n\u001b[0m",
            "\u001b[0;31mNameError\u001b[0m: name 'lower' is not defined"
          ]
        }
      ]
    },
    {
      "cell_type": "markdown",
      "source": [
        "***`upper()`***\n",
        "---\n",
        "* `upper()` method converts the string to uppercase\n"
      ],
      "metadata": {
        "id": "lAsJ50WHhJfb"
      }
    },
    {
      "cell_type": "code",
      "source": [
        "string.upper()"
      ],
      "metadata": {
        "colab": {
          "base_uri": "https://localhost:8080/",
          "height": 35
        },
        "id": "lFxKZWwxhHEb",
        "outputId": "61be8120-0524-433b-8fd7-26fcaf3ab4e2"
      },
      "execution_count": null,
      "outputs": [
        {
          "output_type": "execute_result",
          "data": {
            "text/plain": [
              "'DATA SCIENTIST'"
            ],
            "application/vnd.google.colaboratory.intrinsic+json": {
              "type": "string"
            }
          },
          "metadata": {},
          "execution_count": 40
        }
      ]
    },
    {
      "cell_type": "markdown",
      "source": [
        "***`count()`***\n",
        "---\n",
        "* `count()` method returns the count of a string in the given string. Unlike `lower()` and `upper()` method, the `count()` method takes a string as an argument\n",
        "\n"
      ],
      "metadata": {
        "id": "luSrfVf-hTAS"
      }
    },
    {
      "cell_type": "code",
      "source": [
        "print(string)"
      ],
      "metadata": {
        "colab": {
          "base_uri": "https://localhost:8080/"
        },
        "id": "m8X8OlhohSIy",
        "outputId": "dcb490b1-6c48-472b-a326-e5decf9d27b0"
      },
      "execution_count": null,
      "outputs": [
        {
          "output_type": "stream",
          "name": "stdout",
          "text": [
            "Data Scientist\n"
          ]
        }
      ]
    },
    {
      "cell_type": "code",
      "source": [
        "print(string.count('a'))\n",
        "\n",
        "print(string.count('t'))\n",
        "\n",
        "print(string.count('ta'))\n",
        "\n",
        "print(string.count(' '))\n",
        "\n",
        "print(string.count('Data'))\n",
        "\n",
        "print(string.count('Karthik'))"
      ],
      "metadata": {
        "colab": {
          "base_uri": "https://localhost:8080/"
        },
        "id": "gwIZTi0YhuJZ",
        "outputId": "c8b354bd-8a69-40b1-979a-d7e40f3debdd"
      },
      "execution_count": null,
      "outputs": [
        {
          "output_type": "stream",
          "name": "stdout",
          "text": [
            "2\n",
            "3\n",
            "1\n",
            "1\n",
            "1\n",
            "0\n"
          ]
        }
      ]
    },
    {
      "cell_type": "markdown",
      "source": [
        "***`find()`***\n",
        "---\n",
        "* `find()` method returns the index of the first occurrence of a string present in a given string. Similar to the `count()` method, the `find()` method takes a string as an argument\n",
        "\n"
      ],
      "metadata": {
        "id": "7icwF2xqie5Z"
      }
    },
    {
      "cell_type": "code",
      "source": [
        "string = 'Data Scientist'\n",
        "print(string)"
      ],
      "metadata": {
        "colab": {
          "base_uri": "https://localhost:8080/"
        },
        "id": "XdBMkc1EixIl",
        "outputId": "34e8a597-1385-437f-c9fd-78dd72dbe2cd"
      },
      "execution_count": null,
      "outputs": [
        {
          "output_type": "stream",
          "name": "stdout",
          "text": [
            "Data Scientist\n"
          ]
        }
      ]
    },
    {
      "cell_type": "code",
      "source": [
        "print(string.find(\"a\"))\n",
        "\n",
        "print(string.find('Data'))\n",
        "\n",
        "print(string.find('ta'))\n",
        "\n",
        "print(string.find('e'))\n",
        "\n",
        "print(string.find(\"Scientist\"))"
      ],
      "metadata": {
        "colab": {
          "base_uri": "https://localhost:8080/"
        },
        "id": "Qb0Y9QZ_hyYR",
        "outputId": "1683b2a8-01d7-4b21-d15e-43d1e0b488a1"
      },
      "execution_count": null,
      "outputs": [
        {
          "output_type": "stream",
          "name": "stdout",
          "text": [
            "1\n",
            "0\n",
            "2\n",
            "8\n",
            "5\n"
          ]
        }
      ]
    },
    {
      "cell_type": "markdown",
      "source": [
        "* An important point to note here is that if the string which you are looking for, is not contained in the original string, then the find method will return a value of -1"
      ],
      "metadata": {
        "id": "Qbj7uDjyj_QV"
      }
    },
    {
      "cell_type": "code",
      "source": [
        "print(string.find('Karthik'))\n",
        "\n",
        "print(string.find('z'))"
      ],
      "metadata": {
        "colab": {
          "base_uri": "https://localhost:8080/"
        },
        "id": "0wSgXZ8wjLdG",
        "outputId": "e0898be1-f2ce-49af-af3c-6e2fa42ea806"
      },
      "execution_count": null,
      "outputs": [
        {
          "output_type": "stream",
          "name": "stdout",
          "text": [
            "-1\n",
            "-1\n"
          ]
        }
      ]
    },
    {
      "cell_type": "markdown",
      "source": [
        "***`replace()`***\n",
        "---\n",
        "* `replace()` method takes two arguments - `(i)` the string to replace and `(ii)` the string to replace with, and returns a modified string after the operation\n"
      ],
      "metadata": {
        "id": "t73IgBwUkCSD"
      }
    },
    {
      "cell_type": "code",
      "source": [
        "print(string.replace(' ','-'))\n",
        "\n",
        "print(string.replace(' Scientist',' Engineer'))\n",
        "\n",
        "print(string.replace('Data','AI'))\n",
        "\n",
        "print(string.replace('Data Scientist','AI Engineer'))"
      ],
      "metadata": {
        "colab": {
          "base_uri": "https://localhost:8080/"
        },
        "id": "jtTao_vEjtYw",
        "outputId": "80b88d3b-4294-4ba1-a33e-b101e9df1c16"
      },
      "execution_count": null,
      "outputs": [
        {
          "output_type": "stream",
          "name": "stdout",
          "text": [
            "Data-Scientist\n",
            "Data Engineer\n",
            "AI Scientist\n",
            "AI Engineer\n"
          ]
        }
      ]
    },
    {
      "cell_type": "markdown",
      "source": [
        "* Another important point worth noting here is applying any method on a string does not actually change the original string. For example, when you print out the algorithm string, it still contains the original value 'Data Scientist'\n",
        "\n",
        "* We need to store the modified string in another variable"
      ],
      "metadata": {
        "id": "9Ua_iTZZlR8w"
      }
    },
    {
      "cell_type": "code",
      "source": [
        "print(string.replace('Data Scientist','AI Engineer'))\n",
        "\n",
        "print(string)\n",
        "\n",
        "string_modified= string.replace('Data Scientist','AI Engineer')\n",
        "\n",
        "print(string_modified)"
      ],
      "metadata": {
        "colab": {
          "base_uri": "https://localhost:8080/"
        },
        "id": "dFo6rOdMktrk",
        "outputId": "f25c87cc-eded-4bbd-a7bf-abf56d4344a6"
      },
      "execution_count": null,
      "outputs": [
        {
          "output_type": "stream",
          "name": "stdout",
          "text": [
            "AI Engineer\n",
            "Data Scientist\n",
            "AI Engineer\n"
          ]
        }
      ]
    },
    {
      "cell_type": "markdown",
      "source": [
        "***`split()`***\n",
        "---\n",
        "* The `split()` method returns a list where the text between the specified separator becomes the list items."
      ],
      "metadata": {
        "id": "QUCArkg4n8rk"
      }
    },
    {
      "cell_type": "code",
      "source": [
        "string=\"Data, Scientist\"\n",
        "\n",
        "print(string.split(','))"
      ],
      "metadata": {
        "colab": {
          "base_uri": "https://localhost:8080/"
        },
        "id": "ruI-1Jv8ngfH",
        "outputId": "4cf340e5-af7e-4d78-f5d3-e270dfa94edf"
      },
      "execution_count": null,
      "outputs": [
        {
          "output_type": "stream",
          "name": "stdout",
          "text": [
            "['Data', ' Scientist']\n"
          ]
        }
      ]
    },
    {
      "cell_type": "markdown",
      "source": [
        "#Format - Strings\n",
        "* As we learned in the Python Variables chapter, we cannot combine strings and numbers like this:\n"
      ],
      "metadata": {
        "id": "9qG8B0yloj8l"
      }
    },
    {
      "cell_type": "code",
      "source": [
        "age=29\n",
        "txt=\"My name is Karthik, I am \"+age\n",
        "print(txt)"
      ],
      "metadata": {
        "colab": {
          "base_uri": "https://localhost:8080/",
          "height": 176
        },
        "id": "z9P7uHW1oOcy",
        "outputId": "79e28891-761b-4134-f52f-35be3dfb0992"
      },
      "execution_count": null,
      "outputs": [
        {
          "output_type": "error",
          "ename": "TypeError",
          "evalue": "can only concatenate str (not \"int\") to str",
          "traceback": [
            "\u001b[0;31m---------------------------------------------------------------------------\u001b[0m",
            "\u001b[0;31mTypeError\u001b[0m                                 Traceback (most recent call last)",
            "\u001b[0;32m<ipython-input-2-149cd22d7058>\u001b[0m in \u001b[0;36m<cell line: 2>\u001b[0;34m()\u001b[0m\n\u001b[1;32m      1\u001b[0m \u001b[0mage\u001b[0m\u001b[0;34m=\u001b[0m\u001b[0;36m29\u001b[0m\u001b[0;34m\u001b[0m\u001b[0;34m\u001b[0m\u001b[0m\n\u001b[0;32m----> 2\u001b[0;31m \u001b[0mtxt\u001b[0m\u001b[0;34m=\u001b[0m\u001b[0;34m\"My name is Karthik, I am \"\u001b[0m\u001b[0;34m+\u001b[0m\u001b[0mage\u001b[0m\u001b[0;34m\u001b[0m\u001b[0;34m\u001b[0m\u001b[0m\n\u001b[0m\u001b[1;32m      3\u001b[0m \u001b[0mprint\u001b[0m\u001b[0;34m(\u001b[0m\u001b[0mtxt\u001b[0m\u001b[0;34m)\u001b[0m\u001b[0;34m\u001b[0m\u001b[0;34m\u001b[0m\u001b[0m\n",
            "\u001b[0;31mTypeError\u001b[0m: can only concatenate str (not \"int\") to str"
          ]
        }
      ]
    },
    {
      "cell_type": "markdown",
      "source": [
        "* But we can combine strings and numbers by using f-strings or the format() method!\n",
        "\n",
        "#F-Strings\n",
        "* F-String was introduced in Python 3.6, and is now the preferred way of formatting strings.\n",
        "\n",
        "* To specify a string as an f-string, simply put an `f` in front of the string literal, and add curly brackets `{}` as placeholders for variables and other operations.\n",
        "\n",
        "\n",
        "\n"
      ],
      "metadata": {
        "id": "rv4p02qK8EME"
      }
    },
    {
      "cell_type": "code",
      "source": [
        "age=29\n",
        "txt=f\"My name is Karthik, I am {age}\"\n",
        "print(txt)"
      ],
      "metadata": {
        "colab": {
          "base_uri": "https://localhost:8080/"
        },
        "id": "hqdC-I3T7_ah",
        "outputId": "1c8dc4bf-8b16-4707-b081-064bbcef99ad"
      },
      "execution_count": null,
      "outputs": [
        {
          "output_type": "stream",
          "name": "stdout",
          "text": [
            "My name is Karthik, I am 29\n"
          ]
        }
      ]
    },
    {
      "cell_type": "code",
      "source": [
        "first_name = 'Karthik'\n",
        "middle_name = ''\n",
        "last_name = 'Raja'\n",
        "full_name=f'I am {first_name}{middle_name} {last_name}, I am Data Scientist'\n",
        "print(full_name)"
      ],
      "metadata": {
        "colab": {
          "base_uri": "https://localhost:8080/"
        },
        "id": "gCb3I_zu_CHp",
        "outputId": "3154b646-3758-45a4-d869-fd93a39d40d6"
      },
      "execution_count": null,
      "outputs": [
        {
          "output_type": "stream",
          "name": "stdout",
          "text": [
            "I am Karthik Raja, I am Data Scientist\n"
          ]
        }
      ]
    },
    {
      "cell_type": "markdown",
      "source": [
        "#Placeholders and Modifiers\n",
        "* A placeholder can contain variables, operations, functions, and modifiers to format the value."
      ],
      "metadata": {
        "id": "VJShE_KP-vqo"
      }
    },
    {
      "cell_type": "code",
      "source": [
        "#Add a placeholder for the price variable:\n",
        "price = 75\n",
        "text = f\"The Price is {price} Dollars\"\n",
        "print(text)"
      ],
      "metadata": {
        "colab": {
          "base_uri": "https://localhost:8080/"
        },
        "id": "wYZjjiRE82Us",
        "outputId": "2b8c7b32-ff49-4f9c-e7bf-4382ee9a7e6b"
      },
      "execution_count": null,
      "outputs": [
        {
          "output_type": "stream",
          "name": "stdout",
          "text": [
            "The Price is 75 Dollars\n"
          ]
        }
      ]
    },
    {
      "cell_type": "markdown",
      "source": [
        "* A placeholder can include a *modifier* to format the value.\n",
        "* A modifier is included by adding a colon `:` followed by a legal formatting type, like `.2f` which means fixed point number with 2 decimals:\n",
        "\n",
        "\n"
      ],
      "metadata": {
        "id": "dEkvHVGoAIXA"
      }
    },
    {
      "cell_type": "code",
      "source": [
        "price = 75\n",
        "text = f\"The Price is {price: .2f} Dollars\"\n",
        "print(text)"
      ],
      "metadata": {
        "colab": {
          "base_uri": "https://localhost:8080/"
        },
        "id": "FKQbgG2ZAAhp",
        "outputId": "6a864f1d-e171-437e-ac0d-31a3a111a828"
      },
      "execution_count": null,
      "outputs": [
        {
          "output_type": "stream",
          "name": "stdout",
          "text": [
            "The Price is  75.00 Dollars\n"
          ]
        }
      ]
    },
    {
      "cell_type": "markdown",
      "source": [
        "* A placeholder can contain Python code, like math operations:\n"
      ],
      "metadata": {
        "id": "eSuixw2OAqKZ"
      }
    },
    {
      "cell_type": "code",
      "source": [
        "#Perform a math operation in the placeholder, and return the result:\n",
        "price = 75\n",
        "text = f\"The Price of Mango is {price*2} Dollars\"\n",
        "print(text)"
      ],
      "metadata": {
        "colab": {
          "base_uri": "https://localhost:8080/"
        },
        "id": "lrHx-9o0At85",
        "outputId": "9a76be56-f21d-4c70-82ad-130e25b4ba49"
      },
      "execution_count": null,
      "outputs": [
        {
          "output_type": "stream",
          "name": "stdout",
          "text": [
            "The Price of Mango is 150 Dollars\n"
          ]
        }
      ]
    },
    {
      "cell_type": "code",
      "source": [
        "price = 75\n",
        "text = f\"The Price is {5*2 : .2f} Dollars\"\n",
        "print(text)"
      ],
      "metadata": {
        "colab": {
          "base_uri": "https://localhost:8080/"
        },
        "id": "pWY0WR0wBiYj",
        "outputId": "73e131bc-0e3d-4f61-e1b4-d91359d1fca0"
      },
      "execution_count": null,
      "outputs": [
        {
          "output_type": "stream",
          "name": "stdout",
          "text": [
            "The Price is  10.00 Dollars\n"
          ]
        }
      ]
    },
    {
      "cell_type": "markdown",
      "source": [
        "* You can perform math operations on variables:"
      ],
      "metadata": {
        "id": "oTZ2wiz4JWsM"
      }
    },
    {
      "cell_type": "code",
      "source": [
        "price = 50\n",
        "tax = 0.25\n",
        "txt= f\"The price is {price + (price* tax)} Dollars\"\n",
        "print(text)"
      ],
      "metadata": {
        "colab": {
          "base_uri": "https://localhost:8080/"
        },
        "id": "DmvHOVMUBt7q",
        "outputId": "a66e10ad-24e0-42d7-9e1f-88e8f4728cbb"
      },
      "execution_count": null,
      "outputs": [
        {
          "output_type": "stream",
          "name": "stdout",
          "text": [
            "The Price is  10.00 Dollars\n"
          ]
        }
      ]
    },
    {
      "cell_type": "markdown",
      "source": [
        "* You can perform `if...else` statements inside the placeholders:"
      ],
      "metadata": {
        "id": "opaWvINlJ92w"
      }
    },
    {
      "cell_type": "code",
      "source": [
        "price = 50\n",
        "txt = f\"It is very {'Expensive' if price > 50 else 'Cheap'}\"\n",
        "print(txt)"
      ],
      "metadata": {
        "colab": {
          "base_uri": "https://localhost:8080/"
        },
        "id": "rCqGkNMEJueh",
        "outputId": "a89fdabc-f2be-47e2-e7c4-a650ff23cf78"
      },
      "execution_count": null,
      "outputs": [
        {
          "output_type": "stream",
          "name": "stdout",
          "text": [
            "It is very Cheap\n"
          ]
        }
      ]
    },
    {
      "cell_type": "markdown",
      "source": [
        "* You can execute functions inside the placeholder:\n",
        "\n",
        "* Use the string method `upper(`) to convert a value into upper case letters:\n"
      ],
      "metadata": {
        "id": "68eQUDQeKtxY"
      }
    },
    {
      "cell_type": "code",
      "source": [
        "fruit = \"orange\"\n",
        "text= f\"I like {fruit.upper()}\"\n",
        "print(text)"
      ],
      "metadata": {
        "colab": {
          "base_uri": "https://localhost:8080/"
        },
        "id": "0q2PhyGcKoOy",
        "outputId": "bbe3a461-b0eb-4c59-e2a4-d233b81df776"
      },
      "execution_count": null,
      "outputs": [
        {
          "output_type": "stream",
          "name": "stdout",
          "text": [
            "I like ORANGE\n"
          ]
        }
      ]
    },
    {
      "cell_type": "markdown",
      "source": [
        "* The function does not have to be a built-in Python method, you can create your own functions and use them:\n"
      ],
      "metadata": {
        "id": "QAam6iXsU5NV"
      }
    },
    {
      "cell_type": "code",
      "source": [
        "# Create a function that converts feet into meters:\n",
        "def my_converter(x):\n",
        "  return x*0.3048\n",
        "\n",
        "print(f\"The plane is flying at a {my_converter(25000 )} meter altitude\")"
      ],
      "metadata": {
        "colab": {
          "base_uri": "https://localhost:8080/"
        },
        "id": "4ZTtYUnpUrsc",
        "outputId": "39a3c0e7-0c24-4a86-9aa8-b5c0f6b471b1"
      },
      "execution_count": null,
      "outputs": [
        {
          "output_type": "stream",
          "name": "stdout",
          "text": [
            "The plane is flying at a 7620.0 meter altitude\n"
          ]
        }
      ]
    },
    {
      "cell_type": "markdown",
      "source": [
        "#More Modifiers\n",
        "* At the beginning of this chapter we explained how to use the `.2f` modifier to format a number into a fixed point number with 2 decimals.\n",
        "\n",
        "* There are several other modifiers that can be used to format values:\n",
        "\n"
      ],
      "metadata": {
        "id": "EZzMc7V1V_2n"
      }
    },
    {
      "cell_type": "code",
      "source": [
        "price = 5000\n",
        "text = f'The price is {price:,} dollars'\n",
        "print(text)"
      ],
      "metadata": {
        "colab": {
          "base_uri": "https://localhost:8080/"
        },
        "id": "71KmXLeHVn53",
        "outputId": "ceb2520b-76aa-4e61-f9e0-37a388c574e7"
      },
      "execution_count": null,
      "outputs": [
        {
          "output_type": "stream",
          "name": "stdout",
          "text": [
            "The price is 5,000 dollars\n"
          ]
        }
      ]
    },
    {
      "cell_type": "markdown",
      "source": [
        "#Here is a list of all the formatting types.\n",
        "\n",
        "* Formatting Types\n",
        "\n",
        "`:<`\t\tLeft aligns the result (within the available space)\n",
        "\n",
        "`:>`\t\tRight aligns the result (within the available space)\n",
        "\n",
        "`:^`\t\tCenter aligns the result (within the available space)\n",
        "\n",
        "`:=`\t\tPlaces the sign to the left most position\n",
        "\n",
        "`:+`\t\tUse a plus sign to indicate if the result is positive or negative\n",
        "\n",
        "`:-`\t\tUse a minus sign for negative values only\n",
        "\n",
        "`:` \t\tUse a space to insert an extra space before positive numbers (and a minus sign before negative numbers)\n",
        "\n",
        "`:,`\t\tUse a comma as a thousand separator\n",
        "\n",
        "`:_`\t\tUse a underscore as a thousand separator\n",
        "\n",
        "`:b`\t\tBinary format\n",
        "\n",
        "`:c`\t\tConverts the value into the corresponding Unicode character\n",
        "`:d`\t\tDecimal format\n",
        "\n",
        "`:e`\t\tScientific format, with a lower case e\n",
        "\n",
        "`:E`\t\tScientific format, with an upper case E\n",
        "\n",
        "`:f`\t\tFix point number format\n",
        "\n",
        "`:F`\t\tFix point number format, in uppercase format (show inf and nan as INF and NAN)\n",
        "\n",
        "`:g`\t\tGeneral format\n",
        "\n",
        "`:G`\t\tGeneral format (using a upper case E for scientific notations)\n",
        "\n",
        "`:o`\t\tOctal format\n",
        "\n",
        "`:x`\t\tHex format, lower case\n",
        "\n",
        "`:X`\t\tHex format, upper case\n",
        "\n",
        "`:n`\t\tNumber format\n",
        "\n",
        "`:%`\t\tPercentage format\n",
        "\n"
      ],
      "metadata": {
        "id": "36OUfShnWc_h"
      }
    },
    {
      "cell_type": "code",
      "source": [
        "price = 0.1\n",
        "text = f'The Gole price is {price:%} increased '\n",
        "print(text)"
      ],
      "metadata": {
        "colab": {
          "base_uri": "https://localhost:8080/"
        },
        "id": "7bSm572TWS3l",
        "outputId": "88515944-0e43-4182-852f-95e048b31882"
      },
      "execution_count": null,
      "outputs": [
        {
          "output_type": "stream",
          "name": "stdout",
          "text": [
            "The Gole price is 10.000000% increased \n"
          ]
        }
      ]
    },
    {
      "cell_type": "markdown",
      "source": [
        "#String format()\n",
        "* Before Python 3.6 we used the `format()` method to format strings.\n",
        "\n",
        "* The `format()` method can still be used, but `f-strings` are faster and the preferred way to format strings.\n",
        "\n",
        "* The next examples in this page demonstrates how to format strings with the `format()` method.\n",
        "\n",
        "* The `format()` method also uses curly brackets as placeholders `{}`, but the syntax is slightly different:"
      ],
      "metadata": {
        "id": "an8UOTD2a-75"
      }
    },
    {
      "cell_type": "code",
      "source": [
        "price = 50\n",
        "text = \"The Price is {} dollars\"\n",
        "print(text.format(price))"
      ],
      "metadata": {
        "colab": {
          "base_uri": "https://localhost:8080/"
        },
        "id": "8ujF9h0QaRhF",
        "outputId": "6d93a0f3-ecc2-42c2-8b93-74f0a4c84d98"
      },
      "execution_count": null,
      "outputs": [
        {
          "output_type": "stream",
          "name": "stdout",
          "text": [
            "The Price is 50 dollars\n"
          ]
        }
      ]
    },
    {
      "cell_type": "markdown",
      "source": [
        "* You can add parameters inside the curly brackets to specify how to convert the value:\n"
      ],
      "metadata": {
        "id": "E2mUBWpKcHj0"
      }
    },
    {
      "cell_type": "code",
      "source": [
        "#Format the price to be displayed as a number with two decimals:\n",
        "\n",
        "price = 50\n",
        "text = \"The Price is {:.2f} dollars\"\n",
        "print(text.format(price))"
      ],
      "metadata": {
        "colab": {
          "base_uri": "https://localhost:8080/"
        },
        "id": "D2M5O_Rvb_1U",
        "outputId": "33556a4c-c548-46d2-bacb-408855add706"
      },
      "execution_count": null,
      "outputs": [
        {
          "output_type": "stream",
          "name": "stdout",
          "text": [
            "The Price is 50.00 dollars\n"
          ]
        }
      ]
    },
    {
      "cell_type": "markdown",
      "source": [
        "#Multiple Values\n",
        "* If you want to use more values, just add more values to the format() method:\n"
      ],
      "metadata": {
        "id": "dABiGD33iqbm"
      }
    },
    {
      "cell_type": "code",
      "source": [
        "item=\"Apple\"\n",
        "qty = \"2kgs\"\n",
        "price = 50\n",
        "my_order = \"I want {} of {} for the price of {} INR\"\n",
        "print(my_order.format(item,qty,price))"
      ],
      "metadata": {
        "colab": {
          "base_uri": "https://localhost:8080/"
        },
        "id": "lQKpbRmKcZGl",
        "outputId": "c54db945-2fae-4eab-d8cd-a6313c9872cd"
      },
      "execution_count": null,
      "outputs": [
        {
          "output_type": "stream",
          "name": "stdout",
          "text": [
            "I want Apple of 2kgs for the price of 50 INR\n"
          ]
        }
      ]
    },
    {
      "cell_type": "code",
      "source": [
        "my_order = f\"I want {item} of {qty} for the price of {price} INR\"\n",
        "print(my_order)"
      ],
      "metadata": {
        "colab": {
          "base_uri": "https://localhost:8080/"
        },
        "id": "emFMVYLFjaFP",
        "outputId": "9d6390c6-e8b5-45de-e53c-dcafddf340c5"
      },
      "execution_count": null,
      "outputs": [
        {
          "output_type": "stream",
          "name": "stdout",
          "text": [
            "I want Apple of 2kgs for the price of 50 INR\n"
          ]
        }
      ]
    },
    {
      "cell_type": "markdown",
      "source": [
        "#Index Numbers\n",
        "* You can use index numbers (a number inside the curly brackets `{0}`) to be sure the values are placed in the correct placeholders:"
      ],
      "metadata": {
        "id": "QB9GZucWkCJJ"
      }
    },
    {
      "cell_type": "code",
      "source": [
        "item=\"Apple\"\n",
        "qty = \"2 kgs\"\n",
        "price = 50\n",
        "my_order = \"The Price of {0} is {2} INR per kg, I wants to buy for {1} \"\n",
        "print(my_order.format(item,qty,price))"
      ],
      "metadata": {
        "colab": {
          "base_uri": "https://localhost:8080/"
        },
        "id": "Enbz4zOQjygw",
        "outputId": "3ffa04ce-e1dd-4a94-8a62-3fa1592e04a0"
      },
      "execution_count": null,
      "outputs": [
        {
          "output_type": "stream",
          "name": "stdout",
          "text": [
            "The Price of Apple is 50 INR per kg, I wants to buy for 2 kgs \n"
          ]
        }
      ]
    },
    {
      "cell_type": "markdown",
      "source": [
        "#Named Indexes\n",
        "You can also use named indexes by entering a name inside the curly brackets `{carname}`, but then you must use names when you pass the parameter values txt.format(carname = \"Range Rover\"):"
      ],
      "metadata": {
        "id": "gvHbvfbblSXf"
      }
    },
    {
      "cell_type": "code",
      "source": [
        "my_car = \"My car name is {carname} which I have purchased in the {Year} and it is awesome\"\n",
        "print(my_car.format(carname=\"Range Rover\", Year= 2026))"
      ],
      "metadata": {
        "colab": {
          "base_uri": "https://localhost:8080/"
        },
        "id": "_cSBgcAIlhzm",
        "outputId": "c11a26bb-dff6-4095-fb17-809fe44fb340"
      },
      "execution_count": null,
      "outputs": [
        {
          "output_type": "stream",
          "name": "stdout",
          "text": [
            "My car name is Range Rover which I have purchased in the 2026 and it is awesome\n"
          ]
        }
      ]
    },
    {
      "cell_type": "markdown",
      "source": [
        "#Escape Characters\n",
        "To insert characters that are illegal in a string, use an escape character.\n",
        "\n",
        "An escape character is a backslash `\\` followed by the character you want to insert.\n",
        "\n",
        "An example of an illegal character is a double quote inside a string that is surrounded by double quotes:\n",
        "\n"
      ],
      "metadata": {
        "id": "58esYvyqmlqH"
      }
    },
    {
      "cell_type": "code",
      "source": [
        "text = \"This is the AI \"Trending\" world\""
      ],
      "metadata": {
        "colab": {
          "base_uri": "https://localhost:8080/",
          "height": 106
        },
        "id": "l5D8CdH5m_BZ",
        "outputId": "9dbd2a4f-e5d6-4456-914d-9a6fe86ece09"
      },
      "execution_count": null,
      "outputs": [
        {
          "output_type": "error",
          "ename": "SyntaxError",
          "evalue": "invalid syntax (<ipython-input-64-2971d658679c>, line 1)",
          "traceback": [
            "\u001b[0;36m  File \u001b[0;32m\"<ipython-input-64-2971d658679c>\"\u001b[0;36m, line \u001b[0;32m1\u001b[0m\n\u001b[0;31m    text = \"This is the AI \"Trending\" world\"\u001b[0m\n\u001b[0m                            ^\u001b[0m\n\u001b[0;31mSyntaxError\u001b[0m\u001b[0;31m:\u001b[0m invalid syntax\n"
          ]
        }
      ]
    },
    {
      "cell_type": "code",
      "source": [
        "#To fix this problem, use the escape character \\\":\n",
        "text = \"This is the AI \\\"Trending\\\" world\"\n",
        "print(text)"
      ],
      "metadata": {
        "colab": {
          "base_uri": "https://localhost:8080/"
        },
        "id": "sUqr8j0NnVAP",
        "outputId": "fa671d92-e114-4e7f-aa67-670178d5a91c"
      },
      "execution_count": null,
      "outputs": [
        {
          "output_type": "stream",
          "name": "stdout",
          "text": [
            "This is the AI \"Trending\" world\n"
          ]
        }
      ]
    },
    {
      "cell_type": "markdown",
      "source": [
        "#Escape Characters\n",
        "Code\tResult\n",
        "\n",
        "* `\\'`\tSingle Quote\n",
        "* `\\\\`\tBackslash\n",
        "* `\\n`\tNew Line\n",
        "* `\\r`\tCarriage Return\n",
        "* `\\t`\tTab\n",
        "* `\\b`\tBackspace\n",
        "* `\\f`\tForm Feed\n",
        "* `\\ooo`\tOctal value\n",
        "* `\\xhh`\tHex value"
      ],
      "metadata": {
        "id": "uEloeYErn1Xm"
      }
    },
    {
      "cell_type": "code",
      "source": [
        "text = \"This is the AI \\\\Trending\\\\ world\"        # Inserts one backslash\n",
        "print(text)"
      ],
      "metadata": {
        "colab": {
          "base_uri": "https://localhost:8080/"
        },
        "id": "LLjZkALcoOzu",
        "outputId": "79e8826d-4d84-4d11-9c7b-c2a03549b885"
      },
      "execution_count": null,
      "outputs": [
        {
          "output_type": "stream",
          "name": "stdout",
          "text": [
            "This is the AI \\Trending\\ world\n"
          ]
        }
      ]
    },
    {
      "cell_type": "code",
      "source": [
        "text = \"This is the AI \\nTrending world\"        # Inserts new line\n",
        "print(text)"
      ],
      "metadata": {
        "colab": {
          "base_uri": "https://localhost:8080/"
        },
        "id": "RIjK4Ptsoma8",
        "outputId": "048540a1-1e27-48a3-f0de-7fee8bf11ec3"
      },
      "execution_count": null,
      "outputs": [
        {
          "output_type": "stream",
          "name": "stdout",
          "text": [
            "This is the AI \n",
            "Trending world\n"
          ]
        }
      ]
    },
    {
      "cell_type": "code",
      "source": [
        "text = \"This is the AI \\tTrending world\"        # Inserts one tab\n",
        "print(text)"
      ],
      "metadata": {
        "colab": {
          "base_uri": "https://localhost:8080/"
        },
        "id": "ijaU08jlovhi",
        "outputId": "3323f640-7ab9-4776-8e04-8a513bfeb630"
      },
      "execution_count": null,
      "outputs": [
        {
          "output_type": "stream",
          "name": "stdout",
          "text": [
            "This is the AI \tTrending world\n"
          ]
        }
      ]
    },
    {
      "cell_type": "code",
      "source": [
        "text = \"This is the AI \\bTrending world\"        # Inserts Back space\n",
        "print(text)"
      ],
      "metadata": {
        "colab": {
          "base_uri": "https://localhost:8080/"
        },
        "id": "4Uz6F1mOo5ug",
        "outputId": "bb19cbf4-cacd-4f84-c1f3-ba92a3d0f6d6"
      },
      "execution_count": null,
      "outputs": [
        {
          "output_type": "stream",
          "name": "stdout",
          "text": [
            "This is the AI \bTrending world\n"
          ]
        }
      ]
    },
    {
      "cell_type": "markdown",
      "source": [
        "#String Methods\n",
        "* Python has a set of built-in methods that you can use on strings.\n",
        "\n",
        "* ***Note:*** All string methods return new values. They do not change the original string.\n",
        "\n",
        "Method  \tDescription\n",
        "\n",
        "`capitalize()`\tConverts the first character to upper case\n",
        "\n",
        "`casefold()`\tConverts string into lower case\n",
        "\n",
        "`center()`\tReturns a centered string\n",
        "\n",
        "`count()`\tReturns the number of times a specified value occurs in a string\n",
        "\n",
        "`encode()`\tReturns an encoded version of the string\n"
      ],
      "metadata": {
        "id": "nqlK61mKpTWe"
      }
    },
    {
      "cell_type": "markdown",
      "source": [
        "`endswith()`\tReturns true if the string ends with the specified value\n",
        "\n",
        "`expandtabs()`\tSets the tab size of the string\n",
        "\n",
        "`find()`\tSearches the string for a specified value\n",
        "and returns the position of where it was found\n",
        "\n",
        "`format()`\tFormats specified values in a string\n",
        "\n",
        "`format_map()`\tFormats specified values in a string\n",
        "\n",
        "`index()`\tSearches the string for a specified value and returns the position of where it was found\n",
        "\n",
        "`isalnum()`\tReturns True if all characters in the string are alphanumeric\n",
        "\n",
        "`isalpha()`\tReturns True if all characters in the string are in the alphabet\n",
        "\n",
        "`isascii()`\tReturns True if all characters in the string are ascii characters\n",
        "\n",
        "`isdecimal()`\tReturns True if all characters in the string are decimals\n",
        "\n",
        "`isdigit()`\tReturns True if all characters in the string are digits\n",
        "\n",
        "`isidentifier()`\tReturns True if the string is an identifier\n",
        "\n",
        "`islower()`\tReturns True if all characters in the string are lower case\n",
        "\n",
        "`isnumeric()`\tReturns True if all characters in the string are numeric\n",
        "\n",
        "`isprintable()`\tReturns True if all characters in the string are printable\n",
        "\n",
        "`isspace()`\tReturns True if all characters in the string are whitespaces\n",
        "\n",
        "`istitle()`\tReturns True if the string follows the rules of a title\n",
        "\n",
        "`isupper()`\tReturns True if all characters in the string are upper case\n"
      ],
      "metadata": {
        "id": "KDn4L3t4p38C"
      }
    },
    {
      "cell_type": "markdown",
      "source": [
        "`join()`\tJoins the elements of an iterable to the end of the string\n",
        "\n",
        "`ljust()`\tReturns a left justified version of the string\n",
        "\n",
        "`lower()`\tConverts a string into lower case\n",
        "\n",
        "`lstrip()`\tReturns a left trim version of the string\n",
        "\n",
        "`maketrans()`\tReturns a translation table to be used in translations\n",
        "\n",
        "`partition()`\tReturns a tuple where the string is parted into three parts\n",
        "\n",
        "`replace()`\tReturns a string where a specified value is replaced with a specified value\n",
        "\n",
        "`rfind()`\tSearches the string for a specified value and returns the last position of where it was found\n",
        "\n",
        "`rindex()`\tSearches the string for a specified value and returns the last position of where it was found\n",
        "\n",
        "`rjust()`\tReturns a right justified version of the string\n",
        "\n",
        "`rpartition()`\tReturns a tuple where the string is parted into three parts\n",
        "\n",
        "`rsplit()`\tSplits the string at the specified separator, and returns a list\n",
        "\n",
        "`rstrip()`\tReturns a right trim version of the string\n",
        "\n",
        "`split()`\tSplits the string at the specified separator, and returns a list\n",
        "\n",
        "`splitlines()`\tSplits the string at line breaks and returns a list\n",
        "\n",
        "`startswith()`\tReturns true if the string starts with the specified value\n",
        "\n",
        "`strip()`\tReturns a trimmed version of the string\n",
        "\n",
        "`swapcase()`\tSwaps cases, lower case becomes upper case and vice versa\n",
        "\n",
        "`title()`\tConverts the first character of each word to upper case\n",
        "\n",
        "`translate()`\tReturns a translated string\n",
        "\n",
        "`upper()`\tConverts a string into upper case\n",
        "\n",
        "`zfill()`\tFills the string with a specified number of 0 values at the beginning"
      ],
      "metadata": {
        "id": "mlbUFQHuqEmT"
      }
    },
    {
      "cell_type": "code",
      "source": [],
      "metadata": {
        "id": "p4nKVGdCsBqn"
      },
      "execution_count": null,
      "outputs": []
    }
  ]
}