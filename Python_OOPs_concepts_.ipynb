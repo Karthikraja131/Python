{
  "nbformat": 4,
  "nbformat_minor": 0,
  "metadata": {
    "colab": {
      "provenance": [],
      "authorship_tag": "ABX9TyO7E8ETH6VIJ5ZTv76tNEHf",
      "include_colab_link": true
    },
    "kernelspec": {
      "name": "python3",
      "display_name": "Python 3"
    },
    "language_info": {
      "name": "python"
    }
  },
  "cells": [
    {
      "cell_type": "markdown",
      "metadata": {
        "id": "view-in-github",
        "colab_type": "text"
      },
      "source": [
        "<a href=\"https://colab.research.google.com/github/Karthikraja131/Python/blob/main/Python_OOPs_concepts_.ipynb\" target=\"_parent\"><img src=\"https://colab.research.google.com/assets/colab-badge.svg\" alt=\"Open In Colab\"/></a>"
      ]
    },
    {
      "cell_type": "markdown",
      "source": [
        "##Object-Oriented Programming (OOP) in Python\n",
        "\n",
        "Object-Oriented Programming (OOP) in Python is a programming paradigm that uses \"objects\" to model real-world entities and their interactions.\n",
        "\n",
        "OOP focuses on creating reusable and modular code by encapsulating data (attributes) and behaviors (methods) within objects. This approach enhances code organization, readability, and maintainability."
      ],
      "metadata": {
        "id": "iUsyryG3_9p8"
      }
    },
    {
      "cell_type": "markdown",
      "source": [
        "#Main Structure of OOP in Python\n",
        "\n",
        "**Classes:** A class is a blueprint for creating objects. It defines a set of attributes and methods that will characterize any object instantiated from the class.\n",
        "\n",
        "\n"
      ],
      "metadata": {
        "id": "6vvp9DmE_9_2"
      }
    },
    {
      "cell_type": "code",
      "source": [
        "class Dog:\n",
        "    def __init__(self, name, age):\n",
        "        self.name = name\n",
        "        self.age = age\n",
        "\n",
        "    def bark(self):\n",
        "        print(f\"{self.name} says woof!\")"
      ],
      "metadata": {
        "id": "MxaSZWdJAlRC"
      },
      "execution_count": null,
      "outputs": []
    },
    {
      "cell_type": "markdown",
      "source": [
        "**Objects:**\n",
        "\n",
        "Objects are instances of classes.  When a class is defined, no memory is allocated until an object of that class is created. Each object can have unique values for its attributes.\n"
      ],
      "metadata": {
        "id": "cU6q3Y3RA2fz"
      }
    },
    {
      "cell_type": "code",
      "source": [
        "my_dog = Dog(\"Buddy\", \"Golden Retriever\")\n",
        "my_dog.bark()  # Output: Buddy says woof!"
      ],
      "metadata": {
        "id": "96KhnsJsA7nz"
      },
      "execution_count": null,
      "outputs": []
    },
    {
      "cell_type": "markdown",
      "source": [
        "**Methods:** Functions defined within a class that describe the behaviors of the objects.\n",
        "\n",
        "**Attributes:** Variables defined within a class that store the state of the objects.\n",
        "\n"
      ],
      "metadata": {
        "id": "sI05B-sCBAyi"
      }
    },
    {
      "cell_type": "markdown",
      "source": [
        "#Types and Properties of OOP:\n",
        "\n",
        "**Encapsulation:** Bundling the data (attributes) and methods that operate on the data into a single unit or class, restricting direct access to some of the object's components.  which is a means of preventing accidental interference and misuse of the data."
      ],
      "metadata": {
        "id": "8PS9BEMTBNpJ"
      }
    },
    {
      "cell_type": "markdown",
      "source": [
        "**Inheritance:**\n",
        "\n",
        "Inheritance allows a class to inherit the properties and methods of another class. It promotes code reusability."
      ],
      "metadata": {
        "id": "EqPMNo_nD2_6"
      }
    },
    {
      "cell_type": "code",
      "source": [
        "class Animal:\n",
        "    def __init__(self, name):\n",
        "        self.name = name\n",
        "\n",
        "    def speak(self):\n",
        "        raise NotImplementedError(\"Subclass must implement abstract method\")\n",
        "\n",
        "class Cat(Animal):\n",
        "    def speak(self):\n",
        "        return \"Meow!\"\n",
        "\n",
        "my_cat = Cat(\"Kitty\")\n",
        "print(my_cat.speak())  # Output: Meow!"
      ],
      "metadata": {
        "id": "WeGiggdND8wd"
      },
      "execution_count": null,
      "outputs": []
    },
    {
      "cell_type": "markdown",
      "source": [
        "**Polymorphism:**\n",
        "\n",
        "Polymorphism allows for using a single interface to represent different data types. In other words, polymorphism allows methods to do different things based on the object it is acting upon.\n",
        "\n"
      ],
      "metadata": {
        "id": "cDWLtXpIEJkD"
      }
    },
    {
      "cell_type": "code",
      "source": [
        "class Bird:\n",
        "    def __init__(self, name):\n",
        "        self.name = name\n",
        "\n",
        "    def speak(self):\n",
        "        return \"Chirp!\"\n",
        "\n",
        "def make_animal_speak(animal):\n",
        "    print(animal.speak())\n",
        "\n",
        "make_animal_speak(my_cat)  # Output: Meow!\n",
        "my_bird = Bird(\"Tweety\")\n",
        "make_animal_speak(my_bird)  # Output: Chirp!"
      ],
      "metadata": {
        "id": "e5wjj7MjEUYz"
      },
      "execution_count": null,
      "outputs": []
    },
    {
      "cell_type": "markdown",
      "source": [
        "**Abstraction:**\n",
        "\n",
        "Abstraction means hiding the complex implementation details and showing only the necessary features of an object."
      ],
      "metadata": {
        "id": "btgr_MG-E5zo"
      }
    },
    {
      "cell_type": "code",
      "source": [
        "from abc import ABC, abstractmethod\n",
        "\n",
        "class Vehicle(ABC):\n",
        "    @abstractmethod\n",
        "    def start_engine(self):\n",
        "        pass\n",
        "\n",
        "class Car(Vehicle):\n",
        "    def start_engine(self):\n",
        "        return \"Car engine started!\"\n",
        "\n",
        "my_car = Car()\n",
        "print(my_car.start_engine())  # Output: Car engine started!"
      ],
      "metadata": {
        "id": "ClcCvhfKFSMu"
      },
      "execution_count": null,
      "outputs": []
    },
    {
      "cell_type": "markdown",
      "source": [
        "#Advantages of OOP:\n",
        "Modularity:\n",
        "The source code for an object can be written and maintained independently of the source code for other objects.\n",
        "\n",
        "Reusability:\n",
        "Objects can be reused across programs.\n",
        "\n",
        "Scalability:\n",
        "Easier to manage large applications.\n",
        "\n",
        "Maintainability:\n",
        "Easier to debug and maintain.\n",
        "\n",
        "#Disadvantages of OOP:\n",
        "Complexity:\n",
        "OOP introduces complex structures which might be unnecessary for simple\n",
        "applications.\n",
        "\n",
        "Performance:\n",
        "Slower due to the additional level of abstraction.\n",
        "\n",
        "Memory Usage:\n",
        "Can be more memory-intensive due to the use of objects."
      ],
      "metadata": {
        "id": "6wGA-GA5H4Un"
      }
    },
    {
      "cell_type": "markdown",
      "source": [
        "#Real-World Use Cases:\n",
        "Web Development:\n",
        "Frameworks like Django and Flask are based on OOP principles, allowing the creation of scalable and maintainable web applications.\n",
        "\n",
        "Game Development:\n",
        "Game engines like Unity use OOP to manage game objects and their interactions.\n",
        "\n",
        "GUI Applications:\n",
        "Libraries like Tkinter or PyQt use OOP to manage the elements of the graphical user interface."
      ],
      "metadata": {
        "id": "kZmjgVm7IPdM"
      }
    },
    {
      "cell_type": "markdown",
      "source": [
        "#Comparison with Other Paradigms:\n",
        "**Procedural Programming:**\n",
        "Focuses on functions and procedures rather than objects. It’s more linear and simpler, making it suitable for straightforward tasks."
      ],
      "metadata": {
        "id": "96V-wG7CIZ8R"
      }
    },
    {
      "cell_type": "code",
      "source": [
        "def add(x, y):\n",
        "    return x + y\n",
        "\n",
        "result = add(2, 3)\n",
        "print(result)  # Output: 5"
      ],
      "metadata": {
        "id": "99ZntIsZIhJH"
      },
      "execution_count": null,
      "outputs": []
    },
    {
      "cell_type": "markdown",
      "source": [
        "**Functional Programming:**\n",
        "Emphasizes functions and their compositions. Functions are first-class citizens and can be passed around just like variables."
      ],
      "metadata": {
        "id": "C0bfMQO-IjvB"
      }
    },
    {
      "cell_type": "code",
      "source": [
        "def add(x):\n",
        "    return x + 1\n",
        "\n",
        "def multiply(x):\n",
        "    return x * 2\n",
        "\n",
        "result = multiply(add(3))\n",
        "print(result)  # Output: 8"
      ],
      "metadata": {
        "id": "3oF6CyV6Ivxo"
      },
      "execution_count": null,
      "outputs": []
    },
    {
      "cell_type": "markdown",
      "source": [
        "#Summary\n",
        "OOP provides a robust framework for building complex applications by organizing data and behavior into reusable objects. This makes it particularly powerful for applications that require a lot of interrelated parts and where reusability and maintainability are critical."
      ],
      "metadata": {
        "id": "8FXjQdAQIx9J"
      }
    },
    {
      "cell_type": "markdown",
      "source": [
        "#Encapsulation Concept:\n",
        "Encapsulation is one of the fundamental principles of Object-Oriented Programming (OOP). It refers to the bundling of data (attributes) and methods (functions) that operate on the data into a single unit, known as a class. It also restricts direct access to some of an object's components, which is a means of preventing accidental interference and misuse of the data.\n",
        "\n"
      ],
      "metadata": {
        "id": "FHWY22-9S6_9"
      }
    },
    {
      "cell_type": "markdown",
      "source": [
        "#Main Structure of Encapsulation:\n",
        "**Class and Objects:**\n",
        "Encapsulation is implemented through the use of classes, which encapsulate data and methods."
      ],
      "metadata": {
        "id": "0dYqDXiXTPaU"
      }
    },
    {
      "cell_type": "code",
      "source": [
        "class Student:\n",
        "  def __init__(self,name, age):\n",
        "    self.name=name\n",
        "    self.__age=age   # private attribute\n",
        "\n",
        "  def get_age(self):\n",
        "    return self.__age   # accessor method\n",
        "\n",
        "  def set_age(self,age):\n",
        "    if age>0:\n",
        "      self.__age = age      # Mutator method\n",
        "      return self.__age\n",
        "\n",
        "student1=Student('kathik', 28)\n",
        "print(student1.name)\n",
        "print(student1.get_age())\n",
        "print(student1.set_age(29))"
      ],
      "metadata": {
        "colab": {
          "base_uri": "https://localhost:8080/"
        },
        "id": "HBG3HLW9Tqsx",
        "outputId": "f33c6324-5eab-465e-efe5-871a13eb4a7a"
      },
      "execution_count": null,
      "outputs": [
        {
          "output_type": "stream",
          "name": "stdout",
          "text": [
            "kathik\n",
            "28\n",
            "29\n"
          ]
        }
      ]
    },
    {
      "cell_type": "code",
      "source": [
        "class Student:\n",
        "  def __init__(self,name, age):\n",
        "    self.name=name\n",
        "    self.__age=age   # private attribute\n",
        "\n",
        "  def get_age(self):\n",
        "    return self.__age   # accessor method\n",
        "\n",
        "  def set_age(self,age):\n",
        "    if age>0:\n",
        "      self.__age = age      # Mutator method\n",
        "      return self.__age\n",
        "\n",
        "student1=Student('kathik', 28)\n",
        "print(student1.name)\n",
        "print(student1.__age)                # so private attribute can't be accessible"
      ],
      "metadata": {
        "colab": {
          "base_uri": "https://localhost:8080/",
          "height": 193
        },
        "id": "-1w3PX1oZFqM",
        "outputId": "16076f95-8d5c-4aa5-9e10-548ccacddeb3"
      },
      "execution_count": 2,
      "outputs": [
        {
          "output_type": "stream",
          "name": "stdout",
          "text": [
            "kathik\n"
          ]
        },
        {
          "output_type": "error",
          "ename": "AttributeError",
          "evalue": "'Student' object has no attribute '__age'",
          "traceback": [
            "\u001b[0;31m---------------------------------------------------------------------------\u001b[0m",
            "\u001b[0;31mAttributeError\u001b[0m                            Traceback (most recent call last)",
            "\u001b[0;32m<ipython-input-2-3351e608eb93>\u001b[0m in \u001b[0;36m<cell line: 16>\u001b[0;34m()\u001b[0m\n\u001b[1;32m     14\u001b[0m \u001b[0mstudent1\u001b[0m\u001b[0;34m=\u001b[0m\u001b[0mStudent\u001b[0m\u001b[0;34m(\u001b[0m\u001b[0;34m'kathik'\u001b[0m\u001b[0;34m,\u001b[0m \u001b[0;36m28\u001b[0m\u001b[0;34m)\u001b[0m\u001b[0;34m\u001b[0m\u001b[0;34m\u001b[0m\u001b[0m\n\u001b[1;32m     15\u001b[0m \u001b[0mprint\u001b[0m\u001b[0;34m(\u001b[0m\u001b[0mstudent1\u001b[0m\u001b[0;34m.\u001b[0m\u001b[0mname\u001b[0m\u001b[0;34m)\u001b[0m\u001b[0;34m\u001b[0m\u001b[0;34m\u001b[0m\u001b[0m\n\u001b[0;32m---> 16\u001b[0;31m \u001b[0mprint\u001b[0m\u001b[0;34m(\u001b[0m\u001b[0mstudent1\u001b[0m\u001b[0;34m.\u001b[0m\u001b[0m__age\u001b[0m\u001b[0;34m)\u001b[0m                \u001b[0;31m# so private attribute can't be accessible\u001b[0m\u001b[0;34m\u001b[0m\u001b[0;34m\u001b[0m\u001b[0m\n\u001b[0m",
            "\u001b[0;31mAttributeError\u001b[0m: 'Student' object has no attribute '__age'"
          ]
        }
      ]
    },
    {
      "cell_type": "markdown",
      "source": [
        "#Access modifiers:\n",
        "**public:** Accessible from the outside the class.\n",
        "\n",
        "**Protected:** Indicated by a single underscore(_), it is intended to be accessed within the class and its subclasses.\n",
        "\n",
        "**Private:** Indicated by double underscore(__), it is intended to be accessed only within the class."
      ],
      "metadata": {
        "id": "tpQCjMcKcVJa"
      }
    },
    {
      "cell_type": "code",
      "source": [
        "class Employee:\n",
        "  def __init__(self, name, salary):\n",
        "    self.name = name       # Public attribute\n",
        "    self._salary= salary   # Protected attribute\n",
        "    self.__bonus=5000       # Private attribute\n",
        "\n",
        "  def get_bonus(self):\n",
        "    return self.__bonus\n",
        "\n",
        "emp = Employee('Karthik',250000)\n",
        "print(emp.name)\n",
        "print(emp._salary)\n",
        "print(emp.get_bonus())"
      ],
      "metadata": {
        "colab": {
          "base_uri": "https://localhost:8080/"
        },
        "id": "uCqcUViUZd5S",
        "outputId": "043233a0-97ad-449f-b42b-b02743781577"
      },
      "execution_count": null,
      "outputs": [
        {
          "output_type": "stream",
          "name": "stdout",
          "text": [
            "Karthik\n",
            "250000\n",
            "5000\n"
          ]
        }
      ]
    },
    {
      "cell_type": "markdown",
      "source": [
        "#Properties of Encapsulation:\n",
        "**Data Hiding:** Encapsulation allows the internal representation of an object to be hidden from the outside.\n",
        "\n",
        "**Improved security:** By controlling the access to the data, encapsulation enhances the security of the application.\n",
        "\n",
        "**Simplified Interface:** Provides a simple interface to the user and hides the complexity."
      ],
      "metadata": {
        "id": "LKqbMIRnfPNn"
      }
    },
    {
      "cell_type": "markdown",
      "source": [
        "#Advantages of Encapsulation:\n",
        "\n",
        "**Control over Data:** Encapsulation provides control over the data by restricting unauthorized access and modification.\n",
        "\n",
        "**Increased Flexibility:** Internal data of a class can be changed without affectig the outside code if only accessor and mutator methods are used.\n",
        "\n",
        "**Easy Maintenance:** Since the data is hidden and access is provided through methods, maintaining and updating the code becomes easier.\n",
        "\n",
        "**Reusability:** Encapsulation facilitates code reusability through classes and objects."
      ],
      "metadata": {
        "id": "CLHG7CwQhe2k"
      }
    },
    {
      "cell_type": "markdown",
      "source": [
        "# Disadvantages of  Encapsulation:\n",
        "**Overhead:** Additional methods (getter and setter) for accessing private attributes can add overhead and make the code readable.\n",
        "\n",
        "**Complexity:** Encapsulation can introduce complexity in the design and understanding of the code."
      ],
      "metadata": {
        "id": "mncr8rE8nm_R"
      }
    },
    {
      "cell_type": "markdown",
      "source": [
        "#Real-World Use Cases:\n",
        "**Bank Account Management:**\n",
        "Encapsulation can be used to manage bank account details securely by hiding sensitive information and providing access through methods.\n"
      ],
      "metadata": {
        "id": "hDTZu6dT71he"
      }
    },
    {
      "cell_type": "code",
      "source": [
        "class BankAccount:\n",
        "  ''' This class is about the Bank Account Management'''\n",
        "\n",
        "  def __init__(self, name, balance=0):\n",
        "    self.name = name\n",
        "    self.__balance= balance\n",
        "\n",
        "  def Deposite(self, amount):\n",
        "    self.__balance += amount\n",
        "    return self.__balance\n",
        "\n",
        "  def Withdraw(self,amount):\n",
        "    if self.__balance> amount:\n",
        "      self.__balance -= amount\n",
        "      return self.__balance\n",
        "    else:\n",
        "      return \"Insufficient amount\"\n",
        "  def get_balance(self):\n",
        "    return self.__balance\n",
        "\n",
        "account = BankAccount('Karthik', 5000)\n",
        "print(account.name)\n",
        "print(account.Deposite(5000))\n",
        "print(account.Withdraw(2500))\n",
        "print(account.get_balance())"
      ],
      "metadata": {
        "colab": {
          "base_uri": "https://localhost:8080/"
        },
        "id": "zEQA5DtreZSt",
        "outputId": "6c468e52-a39c-49c9-ab33-7c54ce35df45"
      },
      "execution_count": null,
      "outputs": [
        {
          "output_type": "stream",
          "name": "stdout",
          "text": [
            "Karthik\n",
            "10000\n",
            "7500\n",
            "7500\n"
          ]
        }
      ]
    },
    {
      "cell_type": "markdown",
      "source": [
        "**Healthcare Systems:**\n",
        "Patient records can be encapsulated to ensure that sensitive information is accessed and modified only through authorized methods.\n",
        "\n"
      ],
      "metadata": {
        "id": "wNVBMIzSktYD"
      }
    },
    {
      "cell_type": "markdown",
      "source": [
        "#Comparison with Other Concepts:\n",
        "**Data Hiding in Procedural Programming:**\n",
        "Procedural programming languages can also hide data using scopes, but it is not as robust or enforced as encapsulation in OOP.\n",
        "\n"
      ],
      "metadata": {
        "id": "xVtoX377-43X"
      }
    },
    {
      "cell_type": "code",
      "source": [
        "def create_account(name, balance):\n",
        "  account={'Name': name, 'Amount':balance}\n",
        "  return account\n",
        "\n",
        "def get_balance(account):\n",
        "  return account['Amount']\n",
        "\n",
        "account=create_account('Karthik',5000)\n",
        "print(get_balance(account))"
      ],
      "metadata": {
        "colab": {
          "base_uri": "https://localhost:8080/"
        },
        "id": "eEQmFxVy_H6L",
        "outputId": "6596fa33-eb51-487d-866f-d9274f1b8165"
      },
      "execution_count": null,
      "outputs": [
        {
          "output_type": "stream",
          "name": "stdout",
          "text": [
            "5000\n"
          ]
        }
      ]
    },
    {
      "cell_type": "markdown",
      "source": [
        "**Information Hiding in Functional Programming:**\n",
        "Functional programming achieves data hiding through immutability and local function scopes but lacks the structured approach provided by OOP encapsulation."
      ],
      "metadata": {
        "id": "LrBhkEr8B-jL"
      }
    },
    {
      "cell_type": "code",
      "source": [
        "def account_balance():\n",
        "  balance=5000\n",
        "\n",
        "  def get_balance():\n",
        "    return balance\n",
        "\n",
        "  return get_balance()\n",
        "\n",
        "balancec_check= account_balance()\n",
        "print(balancec_check)\n"
      ],
      "metadata": {
        "colab": {
          "base_uri": "https://localhost:8080/"
        },
        "id": "-5Spm_9fAwlg",
        "outputId": "676818a3-30cd-40c5-aead-d3d7e36b125d"
      },
      "execution_count": null,
      "outputs": [
        {
          "output_type": "stream",
          "name": "stdout",
          "text": [
            "5000\n"
          ]
        }
      ]
    },
    {
      "cell_type": "markdown",
      "source": [
        "Encapsulation is a powerful feature of OOP that enhances security, maintainability, and modularity by bundling data and methods together and controlling access to the data.\n",
        "\n",
        "\n",
        "\n",
        "\n",
        "\n",
        "\n"
      ],
      "metadata": {
        "id": "iWd6EqMsD4nx"
      }
    },
    {
      "cell_type": "code",
      "source": [],
      "metadata": {
        "id": "MgvGkoRGDWhn"
      },
      "execution_count": null,
      "outputs": []
    }
  ]
}