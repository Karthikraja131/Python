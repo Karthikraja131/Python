{
  "nbformat": 4,
  "nbformat_minor": 0,
  "metadata": {
    "colab": {
      "provenance": [],
      "authorship_tag": "ABX9TyMTWDZizIz8Nf1t6Sez+vzu",
      "include_colab_link": true
    },
    "kernelspec": {
      "name": "python3",
      "display_name": "Python 3"
    },
    "language_info": {
      "name": "python"
    }
  },
  "cells": [
    {
      "cell_type": "markdown",
      "metadata": {
        "id": "view-in-github",
        "colab_type": "text"
      },
      "source": [
        "<a href=\"https://colab.research.google.com/github/Karthikraja131/Python/blob/main/Python_OOPs_concepts_.ipynb\" target=\"_parent\"><img src=\"https://colab.research.google.com/assets/colab-badge.svg\" alt=\"Open In Colab\"/></a>"
      ]
    },
    {
      "cell_type": "markdown",
      "source": [
        "##Object-Oriented Programming (OOP) in Python\n",
        "\n",
        "Object-Oriented Programming (OOP) in Python is a programming paradigm that uses \"objects\" to model real-world entities and their interactions.\n",
        "\n",
        "OOP focuses on creating reusable and modular code by encapsulating data (attributes) and behaviors (methods) within objects. This approach enhances code organization, readability, and maintainability."
      ],
      "metadata": {
        "id": "iUsyryG3_9p8"
      }
    },
    {
      "cell_type": "markdown",
      "source": [
        "#Main Structure of OOP in Python\n",
        "\n",
        "**Classes:** A class is a blueprint for creating objects. It defines a set of attributes and methods that will characterize any object instantiated from the class.\n",
        "\n",
        "\n"
      ],
      "metadata": {
        "id": "6vvp9DmE_9_2"
      }
    },
    {
      "cell_type": "code",
      "source": [
        "class Dog:\n",
        "    def __init__(self, name, age):\n",
        "        self.name = name\n",
        "        self.age = age\n",
        "\n",
        "    def bark(self):\n",
        "        print(f\"{self.name} says woof!\")"
      ],
      "metadata": {
        "id": "MxaSZWdJAlRC"
      },
      "execution_count": null,
      "outputs": []
    },
    {
      "cell_type": "markdown",
      "source": [
        "**Objects:**\n",
        "\n",
        "Objects are instances of classes.  When a class is defined, no memory is allocated until an object of that class is created. Each object can have unique values for its attributes.\n"
      ],
      "metadata": {
        "id": "cU6q3Y3RA2fz"
      }
    },
    {
      "cell_type": "code",
      "source": [
        "my_dog = Dog(\"Buddy\", \"Golden Retriever\")\n",
        "my_dog.bark()  # Output: Buddy says woof!"
      ],
      "metadata": {
        "id": "96KhnsJsA7nz"
      },
      "execution_count": null,
      "outputs": []
    },
    {
      "cell_type": "markdown",
      "source": [
        "**Methods:** Functions defined within a class that describe the behaviors of the objects.\n",
        "\n",
        "**Attributes:** Variables defined within a class that store the state of the objects.\n",
        "\n"
      ],
      "metadata": {
        "id": "sI05B-sCBAyi"
      }
    },
    {
      "cell_type": "markdown",
      "source": [
        "#Types and Properties of OOP:\n",
        "\n",
        "**Encapsulation:** Bundling the data (attributes) and methods that operate on the data into a single unit or class, restricting direct access to some of the object's components.  which is a means of preventing accidental interference and misuse of the data."
      ],
      "metadata": {
        "id": "8PS9BEMTBNpJ"
      }
    },
    {
      "cell_type": "code",
      "source": [
        "class Account:\n",
        "    def __init__(self, owner, balance=0):\n",
        "        self.owner = owner\n",
        "        self.__balance = balance  # Private attribute\n",
        "\n",
        "    def deposit(self, amount):\n",
        "        self.__balance += amount\n",
        "        return self.__balance\n",
        "\n",
        "    def withdraw(self, amount):\n",
        "        if amount > self.__balance:\n",
        "            return \"Insufficient funds\"\n",
        "        else:\n",
        "            self.__balance -= amount\n",
        "            return self.__balance\n",
        "\n",
        "    def get_balance(self):\n",
        "        return self.__balance"
      ],
      "metadata": {
        "id": "M7zCPSYKBRYi"
      },
      "execution_count": null,
      "outputs": []
    },
    {
      "cell_type": "markdown",
      "source": [
        "**Inheritance:**\n",
        "\n",
        "Inheritance allows a class to inherit the properties and methods of another class. It promotes code reusability."
      ],
      "metadata": {
        "id": "EqPMNo_nD2_6"
      }
    },
    {
      "cell_type": "code",
      "source": [
        "class Animal:\n",
        "    def __init__(self, name):\n",
        "        self.name = name\n",
        "\n",
        "    def speak(self):\n",
        "        raise NotImplementedError(\"Subclass must implement abstract method\")\n",
        "\n",
        "class Cat(Animal):\n",
        "    def speak(self):\n",
        "        return \"Meow!\"\n",
        "\n",
        "my_cat = Cat(\"Kitty\")\n",
        "print(my_cat.speak())  # Output: Meow!"
      ],
      "metadata": {
        "id": "WeGiggdND8wd"
      },
      "execution_count": null,
      "outputs": []
    },
    {
      "cell_type": "markdown",
      "source": [
        "**Polymorphism:**\n",
        "\n",
        "Polymorphism allows for using a single interface to represent different data types. In other words, polymorphism allows methods to do different things based on the object it is acting upon.\n",
        "\n"
      ],
      "metadata": {
        "id": "cDWLtXpIEJkD"
      }
    },
    {
      "cell_type": "code",
      "source": [
        "class Bird:\n",
        "    def __init__(self, name):\n",
        "        self.name = name\n",
        "\n",
        "    def speak(self):\n",
        "        return \"Chirp!\"\n",
        "\n",
        "def make_animal_speak(animal):\n",
        "    print(animal.speak())\n",
        "\n",
        "make_animal_speak(my_cat)  # Output: Meow!\n",
        "my_bird = Bird(\"Tweety\")\n",
        "make_animal_speak(my_bird)  # Output: Chirp!"
      ],
      "metadata": {
        "id": "e5wjj7MjEUYz"
      },
      "execution_count": null,
      "outputs": []
    },
    {
      "cell_type": "markdown",
      "source": [
        "**Abstraction:**\n",
        "\n",
        "Abstraction means hiding the complex implementation details and showing only the necessary features of an object."
      ],
      "metadata": {
        "id": "btgr_MG-E5zo"
      }
    },
    {
      "cell_type": "code",
      "source": [
        "from abc import ABC, abstractmethod\n",
        "\n",
        "class Vehicle(ABC):\n",
        "    @abstractmethod\n",
        "    def start_engine(self):\n",
        "        pass\n",
        "\n",
        "class Car(Vehicle):\n",
        "    def start_engine(self):\n",
        "        return \"Car engine started!\"\n",
        "\n",
        "my_car = Car()\n",
        "print(my_car.start_engine())  # Output: Car engine started!"
      ],
      "metadata": {
        "id": "ClcCvhfKFSMu"
      },
      "execution_count": null,
      "outputs": []
    },
    {
      "cell_type": "markdown",
      "source": [
        "#Advantages of OOP:\n",
        "Modularity:\n",
        "The source code for an object can be written and maintained independently of the source code for other objects.\n",
        "\n",
        "Reusability:\n",
        "Objects can be reused across programs.\n",
        "\n",
        "Scalability:\n",
        "Easier to manage large applications.\n",
        "\n",
        "Maintainability:\n",
        "Easier to debug and maintain.\n",
        "\n",
        "#Disadvantages of OOP:\n",
        "Complexity:\n",
        "OOP introduces complex structures which might be unnecessary for simple\n",
        "applications.\n",
        "\n",
        "Performance:\n",
        "Slower due to the additional level of abstraction.\n",
        "\n",
        "Memory Usage:\n",
        "Can be more memory-intensive due to the use of objects."
      ],
      "metadata": {
        "id": "6wGA-GA5H4Un"
      }
    },
    {
      "cell_type": "markdown",
      "source": [
        "#Real-World Use Cases:\n",
        "Web Development:\n",
        "Frameworks like Django and Flask are based on OOP principles, allowing the creation of scalable and maintainable web applications.\n",
        "\n",
        "Game Development:\n",
        "Game engines like Unity use OOP to manage game objects and their interactions.\n",
        "\n",
        "GUI Applications:\n",
        "Libraries like Tkinter or PyQt use OOP to manage the elements of the graphical user interface."
      ],
      "metadata": {
        "id": "kZmjgVm7IPdM"
      }
    },
    {
      "cell_type": "markdown",
      "source": [
        "#Comparison with Other Paradigms:\n",
        "**Procedural Programming:**\n",
        "Focuses on functions and procedures rather than objects. It’s more linear and simpler, making it suitable for straightforward tasks."
      ],
      "metadata": {
        "id": "96V-wG7CIZ8R"
      }
    },
    {
      "cell_type": "code",
      "source": [
        "def add(x, y):\n",
        "    return x + y\n",
        "\n",
        "result = add(2, 3)\n",
        "print(result)  # Output: 5"
      ],
      "metadata": {
        "id": "99ZntIsZIhJH"
      },
      "execution_count": null,
      "outputs": []
    },
    {
      "cell_type": "markdown",
      "source": [
        "**Functional Programming:**\n",
        "Emphasizes functions and their compositions. Functions are first-class citizens and can be passed around just like variables."
      ],
      "metadata": {
        "id": "C0bfMQO-IjvB"
      }
    },
    {
      "cell_type": "code",
      "source": [
        "def add(x):\n",
        "    return x + 1\n",
        "\n",
        "def multiply(x):\n",
        "    return x * 2\n",
        "\n",
        "result = multiply(add(3))\n",
        "print(result)  # Output: 8"
      ],
      "metadata": {
        "id": "3oF6CyV6Ivxo"
      },
      "execution_count": null,
      "outputs": []
    },
    {
      "cell_type": "markdown",
      "source": [
        "#Summary\n",
        "OOP provides a robust framework for building complex applications by organizing data and behavior into reusable objects. This makes it particularly powerful for applications that require a lot of interrelated parts and where reusability and maintainability are critical."
      ],
      "metadata": {
        "id": "8FXjQdAQIx9J"
      }
    }
  ]
}