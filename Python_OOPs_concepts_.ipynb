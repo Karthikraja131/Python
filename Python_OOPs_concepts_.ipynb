{
  "nbformat": 4,
  "nbformat_minor": 0,
  "metadata": {
    "colab": {
      "provenance": [],
      "authorship_tag": "ABX9TyOyQd4UWtjxGq+pOR02pNTF",
      "include_colab_link": true
    },
    "kernelspec": {
      "name": "python3",
      "display_name": "Python 3"
    },
    "language_info": {
      "name": "python"
    }
  },
  "cells": [
    {
      "cell_type": "markdown",
      "metadata": {
        "id": "view-in-github",
        "colab_type": "text"
      },
      "source": [
        "<a href=\"https://colab.research.google.com/github/Karthikraja131/Python/blob/main/Python_OOPs_concepts_.ipynb\" target=\"_parent\"><img src=\"https://colab.research.google.com/assets/colab-badge.svg\" alt=\"Open In Colab\"/></a>"
      ]
    },
    {
      "cell_type": "markdown",
      "source": [
        "##Object-Oriented Programming (OOP) in Python\n",
        "\n",
        "Object-Oriented Programming (OOP) in Python is a programming paradigm that uses \"objects\" to model real-world entities and their interactions.\n",
        "\n",
        "OOP focuses on creating reusable and modular code by encapsulating data (attributes) and behaviors (methods) within objects. This approach enhances code organization, readability, and maintainability."
      ],
      "metadata": {
        "id": "iUsyryG3_9p8"
      }
    },
    {
      "cell_type": "markdown",
      "source": [
        "#Main Structure of OOP in Python\n",
        "\n",
        "**Classes:** A class is a blueprint for creating objects. It defines a set of attributes and methods that will characterize any object instantiated from the class.\n",
        "\n",
        "\n"
      ],
      "metadata": {
        "id": "6vvp9DmE_9_2"
      }
    },
    {
      "cell_type": "code",
      "source": [
        "class Dog:\n",
        "  \"\"\"This class is about Dog\"\"\"     # Document string\n",
        "\n",
        "  def __init__(self, name, age):\n",
        "      self.name = name\n",
        "      self.age = age\n",
        "\n",
        "  def bark(self):\n",
        "      print(f\"{self.name} says woof!\")"
      ],
      "metadata": {
        "id": "MxaSZWdJAlRC"
      },
      "execution_count": null,
      "outputs": []
    },
    {
      "cell_type": "markdown",
      "source": [
        "**Objects:**\n",
        "\n",
        "Objects are instances of classes.  When a class is defined, no memory is allocated until an object of that class is created. Each object can have unique values for its attributes.\n"
      ],
      "metadata": {
        "id": "cU6q3Y3RA2fz"
      }
    },
    {
      "cell_type": "code",
      "source": [
        "my_dog = Dog(\"Buddy\", \"Golden Retriever\")\n",
        "my_dog.bark()  # Output: Buddy says woof!"
      ],
      "metadata": {
        "id": "96KhnsJsA7nz"
      },
      "execution_count": null,
      "outputs": []
    },
    {
      "cell_type": "markdown",
      "source": [
        "**Methods:** Functions defined within a class that describe the behaviors of the objects.\n",
        "\n",
        "**Attributes:** Variables defined within a class that store the state of the objects.\n",
        "\n"
      ],
      "metadata": {
        "id": "sI05B-sCBAyi"
      }
    },
    {
      "cell_type": "markdown",
      "source": [
        "#Types and Properties of OOP:\n",
        "\n",
        "**Encapsulation:** Bundling the data (attributes) and methods that operate on the data into a single unit or class, restricting direct access to some of the object's components.  which is a means of preventing accidental interference and misuse of the data."
      ],
      "metadata": {
        "id": "8PS9BEMTBNpJ"
      }
    },
    {
      "cell_type": "markdown",
      "source": [
        "**Inheritance:**\n",
        "\n",
        "Inheritance allows a class to inherit the properties and methods of another class. It promotes code reusability."
      ],
      "metadata": {
        "id": "EqPMNo_nD2_6"
      }
    },
    {
      "cell_type": "code",
      "source": [
        "class Animal:\n",
        "    def __init__(self, name):\n",
        "        self.name = name\n",
        "\n",
        "    def speak(self):\n",
        "        raise NotImplementedError(\"Subclass must implement abstract method\")\n",
        "\n",
        "class Cat(Animal):\n",
        "    def speak(self):\n",
        "        return \"Meow!\"\n",
        "\n",
        "my_cat = Cat(\"Kitty\")\n",
        "print(my_cat.speak())  # Output: Meow!"
      ],
      "metadata": {
        "id": "WeGiggdND8wd"
      },
      "execution_count": null,
      "outputs": []
    },
    {
      "cell_type": "markdown",
      "source": [
        "**Polymorphism:**\n",
        "\n",
        "Polymorphism allows for using a single interface to represent different data types. In other words, polymorphism allows methods to do different things based on the object it is acting upon.\n",
        "\n"
      ],
      "metadata": {
        "id": "cDWLtXpIEJkD"
      }
    },
    {
      "cell_type": "code",
      "source": [
        "class Bird:\n",
        "    def __init__(self, name):\n",
        "        self.name = name\n",
        "\n",
        "    def speak(self):\n",
        "        return \"Chirp!\"\n",
        "\n",
        "def make_animal_speak(animal):\n",
        "    print(animal.speak())\n",
        "\n",
        "make_animal_speak(my_cat)  # Output: Meow!\n",
        "my_bird = Bird(\"Tweety\")\n",
        "make_animal_speak(my_bird)  # Output: Chirp!"
      ],
      "metadata": {
        "id": "e5wjj7MjEUYz"
      },
      "execution_count": null,
      "outputs": []
    },
    {
      "cell_type": "markdown",
      "source": [
        "**Abstraction:**\n",
        "\n",
        "Abstraction means hiding the complex implementation details and showing only the necessary features of an object."
      ],
      "metadata": {
        "id": "btgr_MG-E5zo"
      }
    },
    {
      "cell_type": "code",
      "source": [
        "from abc import ABC, abstractmethod\n",
        "\n",
        "class Vehicle(ABC):\n",
        "    @abstractmethod\n",
        "    def start_engine(self):\n",
        "        pass\n",
        "\n",
        "class Car(Vehicle):\n",
        "    def start_engine(self):\n",
        "        return \"Car engine started!\"\n",
        "\n",
        "my_car = Car()\n",
        "print(my_car.start_engine())  # Output: Car engine started!"
      ],
      "metadata": {
        "id": "ClcCvhfKFSMu"
      },
      "execution_count": null,
      "outputs": []
    },
    {
      "cell_type": "markdown",
      "source": [
        "#Advantages of OOP:\n",
        "Modularity:\n",
        "The source code for an object can be written and maintained independently of the source code for other objects.\n",
        "\n",
        "Reusability:\n",
        "Objects can be reused across programs.\n",
        "\n",
        "Scalability:\n",
        "Easier to manage large applications.\n",
        "\n",
        "Maintainability:\n",
        "Easier to debug and maintain.\n",
        "\n",
        "#Disadvantages of OOP:\n",
        "Complexity:\n",
        "OOP introduces complex structures which might be unnecessary for simple\n",
        "applications.\n",
        "\n",
        "Performance:\n",
        "Slower due to the additional level of abstraction.\n",
        "\n",
        "Memory Usage:\n",
        "Can be more memory-intensive due to the use of objects."
      ],
      "metadata": {
        "id": "6wGA-GA5H4Un"
      }
    },
    {
      "cell_type": "markdown",
      "source": [
        "#Real-World Use Cases:\n",
        "Web Development:\n",
        "Frameworks like Django and Flask are based on OOP principles, allowing the creation of scalable and maintainable web applications.\n",
        "\n",
        "Game Development:\n",
        "Game engines like Unity use OOP to manage game objects and their interactions.\n",
        "\n",
        "GUI Applications:\n",
        "Libraries like Tkinter or PyQt use OOP to manage the elements of the graphical user interface."
      ],
      "metadata": {
        "id": "kZmjgVm7IPdM"
      }
    },
    {
      "cell_type": "markdown",
      "source": [
        "#Comparison with Other Paradigms:\n",
        "**Procedural Programming:**\n",
        "Focuses on functions and procedures rather than objects. It’s more linear and simpler, making it suitable for straightforward tasks."
      ],
      "metadata": {
        "id": "96V-wG7CIZ8R"
      }
    },
    {
      "cell_type": "code",
      "source": [
        "def add(x, y):\n",
        "    return x + y\n",
        "\n",
        "result = add(2, 3)\n",
        "print(result)  # Output: 5"
      ],
      "metadata": {
        "id": "99ZntIsZIhJH"
      },
      "execution_count": null,
      "outputs": []
    },
    {
      "cell_type": "markdown",
      "source": [
        "**Functional Programming:**\n",
        "Emphasizes functions and their compositions. Functions are first-class citizens and can be passed around just like variables."
      ],
      "metadata": {
        "id": "C0bfMQO-IjvB"
      }
    },
    {
      "cell_type": "code",
      "source": [
        "def add(x):\n",
        "    return x + 1\n",
        "\n",
        "def multiply(x):\n",
        "    return x * 2\n",
        "\n",
        "result = multiply(add(3))\n",
        "print(result)  # Output: 8"
      ],
      "metadata": {
        "id": "3oF6CyV6Ivxo"
      },
      "execution_count": null,
      "outputs": []
    },
    {
      "cell_type": "markdown",
      "source": [
        "#Summary\n",
        "OOP provides a robust framework for building complex applications by organizing data and behavior into reusable objects. This makes it particularly powerful for applications that require a lot of interrelated parts and where reusability and maintainability are critical."
      ],
      "metadata": {
        "id": "8FXjQdAQIx9J"
      }
    },
    {
      "cell_type": "markdown",
      "source": [
        "#Constructor in Python Class\n",
        "* A constructor in Python is a special method used to initialize objects.\n",
        "\n",
        "* The constructor is called automatically when a new instance of a class is created.\n",
        "\n",
        "* The main purpose of a constructor is to initialize the attributes of the class.\n",
        "\n",
        "#Main Structure of a Constructor:\n",
        "\n",
        "**Defining a Constructor:**\n",
        "\n",
        "* The constructor method in Python is defined using the __init__ method. It is called when an instance of the class is created.\n",
        "\n"
      ],
      "metadata": {
        "id": "Qa5MCadzQeYJ"
      }
    },
    {
      "cell_type": "code",
      "source": [
        "class Person:\n",
        "  def __init__(self, name, age):     # Formal Parameter\n",
        "    self.name= name\n",
        "    self.age= age\n",
        "\n",
        "  def Display(self):\n",
        "    print(f'Name: {self.name}, Age:{self.age}')\n",
        "\n",
        "person = Person('Karthik',29)    # Actual Parameter\n",
        "person.Display()"
      ],
      "metadata": {
        "colab": {
          "base_uri": "https://localhost:8080/"
        },
        "id": "3VRvES6-RA_T",
        "outputId": "580afc0f-905c-43f8-830f-629461588163"
      },
      "execution_count": null,
      "outputs": [
        {
          "output_type": "stream",
          "name": "stdout",
          "text": [
            "Name: Karthik, Age:29\n"
          ]
        }
      ]
    },
    {
      "cell_type": "markdown",
      "source": [
        "#Types of Constructors:\n",
        "**1.Default Constructor:**\n",
        "* A constructor that does not accept any arguments except self.\n",
        "\n"
      ],
      "metadata": {
        "id": "CNOFGePnSyFQ"
      }
    },
    {
      "cell_type": "code",
      "source": [
        "class Animal:\n",
        "  def __init__(self):\n",
        "    self.type= \"unknown\"\n",
        "  def Display(self):\n",
        "    print(f' Type: {self.type}')\n",
        "\n",
        "animal= Animal()\n",
        "animal.Display()"
      ],
      "metadata": {
        "colab": {
          "base_uri": "https://localhost:8080/"
        },
        "id": "fS0JH30TSxIt",
        "outputId": "9c890454-8940-4170-c3f9-e7599e8e65b4"
      },
      "execution_count": null,
      "outputs": [
        {
          "output_type": "stream",
          "name": "stdout",
          "text": [
            " Type: unknown\n"
          ]
        }
      ]
    },
    {
      "cell_type": "markdown",
      "source": [
        "**2.Parameterized Constructor:**\n",
        "\n",
        "* A constructor that accepts arguments to initialize instance variables.\n",
        "\n"
      ],
      "metadata": {
        "id": "BhKtUvQBT3mq"
      }
    },
    {
      "cell_type": "code",
      "source": [
        "class Vehicle:\n",
        "\n",
        "  def __init__(self,Brand, name):\n",
        "    self.brand= Brand\n",
        "    self.name= name\n",
        "\n",
        "  def Display(self):\n",
        "    print(f' Vehicle Brand: {self.brand}, Its name :{self.name}')\n",
        "\n",
        "bike=Vehicle(\"Royal\",\"Hunter 350\")\n",
        "bike.Display()\n",
        "print(bike.name)"
      ],
      "metadata": {
        "colab": {
          "base_uri": "https://localhost:8080/"
        },
        "id": "l4H539sJU3WY",
        "outputId": "13511c69-0298-43c8-89af-a97ac8931176"
      },
      "execution_count": null,
      "outputs": [
        {
          "output_type": "stream",
          "name": "stdout",
          "text": [
            " Vehicle Brand: Royal, Its name :Hunter 350\n",
            "Hunter 350\n"
          ]
        }
      ]
    },
    {
      "cell_type": "markdown",
      "source": [
        "#Properties of Constructors:\n",
        "* Constructors are called automatically when an object is created, ensuring the object is properly initialized.\n",
        "\n",
        "* Constructors initialize the instance variables of the class.\n",
        "\n",
        "#Advantages of Constructors:\n",
        "* Automatic Initialization\n",
        "* Code Reusability\n",
        "* Encapsulation: Helps in encapsulating the initialization logic within the class.\n",
        "#Disadvantages of Constructors:\n",
        "* Complexity:\n",
        "* Flexibility\n",
        "#Real-World Use Cases:\n",
        "**Database Connection:**\n",
        "* A constructor can be used to initialize a database connection when an object is created.\n",
        "\n",
        "\n"
      ],
      "metadata": {
        "id": "ijXN5jWuWnLx"
      }
    },
    {
      "cell_type": "code",
      "source": [
        "class Database:\n",
        "  def __init__(self,host, user, password):\n",
        "    self.host = host\n",
        "    self.user= user\n",
        "    self.password=password\n",
        "    self.connection=self.connect()\n",
        "\n",
        "  def connect(self):\n",
        "    return f\" connected to {self.host} as {self.user}\"\n",
        "\n",
        "  def display_connection(self):\n",
        "    print(self.connection)\n",
        "\n",
        "db= Database(\"localhost\",\"Karthik\",\"karthik000\")\n",
        "db.display_connection()\n"
      ],
      "metadata": {
        "colab": {
          "base_uri": "https://localhost:8080/"
        },
        "id": "X9cowY-pWmiv",
        "outputId": "a9c95745-e351-4742-ffdf-6da614999b68"
      },
      "execution_count": null,
      "outputs": [
        {
          "output_type": "stream",
          "name": "stdout",
          "text": [
            " connected to localhost as Karthik\n"
          ]
        }
      ]
    },
    {
      "cell_type": "code",
      "source": [
        "class Book:\n",
        "    def __init__(self, title):\n",
        "        self.title = title\n",
        "\n",
        "    def set_author(self, author):\n",
        "        self.author = author\n",
        "\n",
        "book = Book(\"Python Programming\")\n",
        "book.set_author(\"John Doe\")\n",
        "print(book.title, book.author)  # Output: Python Programming John Doe"
      ],
      "metadata": {
        "colab": {
          "base_uri": "https://localhost:8080/"
        },
        "id": "MyAczHxQv5j5",
        "outputId": "5b3766af-d238-4574-c089-27de13eeaf31"
      },
      "execution_count": null,
      "outputs": [
        {
          "output_type": "stream",
          "name": "stdout",
          "text": [
            "Python Programming John Doe\n"
          ]
        }
      ]
    },
    {
      "cell_type": "markdown",
      "source": [
        "#Summary\n",
        "Constructors are essential in Python classes for initializing objects automatically and ensuring they start in a valid state. They enhance code readability, maintainability, and promote proper encapsulation."
      ],
      "metadata": {
        "id": "qPPLrez3wDs3"
      }
    },
    {
      "cell_type": "markdown",
      "source": [
        "#Variables in Python Class\n",
        "In Python, variables in a class are used to store data related to objects and the class itself. These variables are defined within a class and can be categorized into different types based on their scope and usage."
      ],
      "metadata": {
        "id": "nMua6l2txzft"
      }
    },
    {
      "cell_type": "markdown",
      "source": [
        "#Main Structure/Type of Variables in a Python Class:\n",
        "**Instance Variables:**\n",
        "Defined inside a constructor using the self keyword, these variables are unique to each instance of the class.\n",
        "\n",
        "Scope: Unique to each instance.\n",
        "\n",
        "Defined: Inside the constructor (__init__ method).\n",
        "\n",
        "Access: Using self."
      ],
      "metadata": {
        "id": "8Drf_f8pyB8w"
      }
    },
    {
      "cell_type": "code",
      "source": [
        "class Dog:\n",
        "    def __init__(self, name, age):\n",
        "        self.name = name  # Instance variable\n",
        "        self.age = age    # Instance variable\n",
        "\n",
        "    def display(self):\n",
        "        print(f\"Name: {self.name}, Age: {self.age}\")\n",
        "\n",
        "dog1 = Dog(\"Buddy\", 3)\n",
        "dog2 = Dog(\"Bella\", 5)\n",
        "dog1.display()  # Output: Name: Buddy, Age: 3\n",
        "dog2.display()  # Output: Name: Bella, Age: 5\n"
      ],
      "metadata": {
        "colab": {
          "base_uri": "https://localhost:8080/"
        },
        "id": "_6n9QTu_yVqt",
        "outputId": "c6142003-9e67-4ded-eb08-dc41d42ecbb6"
      },
      "execution_count": null,
      "outputs": [
        {
          "output_type": "stream",
          "name": "stdout",
          "text": [
            "Name: Buddy, Age: 3\n",
            "Name: Bella, Age: 5\n"
          ]
        }
      ]
    },
    {
      "cell_type": "markdown",
      "source": [
        "**Class Variables:**\n",
        "Defined outside of any methods and shared among all instances of the class.\n",
        "\n",
        "Scope: Shared among all instances.\n",
        "\n",
        "Defined: Outside any method, usually at the beginning of the class.\n",
        "\n",
        "Access: Using the class name or self."
      ],
      "metadata": {
        "id": "i7qbzMXLyItQ"
      }
    },
    {
      "cell_type": "code",
      "source": [
        "class Dog:\n",
        "    species = \"Canine\"  # Class variable\n",
        "\n",
        "    def __init__(self, name, age):\n",
        "        self.name = name\n",
        "        self.age = age\n",
        "\n",
        "    def display(self):\n",
        "        print(f\"Name: {self.name}, Age: {self.age}, Species: {Dog.species}\")\n",
        "\n",
        "dog1 = Dog(\"Buddy\", 3)\n",
        "dog1.display()  # Output: Name: Buddy, Age: 3, Species: Canine\n"
      ],
      "metadata": {
        "id": "T0it4EhZyfkA"
      },
      "execution_count": null,
      "outputs": []
    },
    {
      "cell_type": "markdown",
      "source": [
        "#Properties of Variables in Python Class:\n",
        "**Instance Variables:**\n",
        "\n",
        "Unique Values: Each instance can have different values.\n",
        "\n",
        "Dynamic: Can be added or modified at runtime.\n",
        "\n",
        "**Class Variables:**\n",
        "\n",
        "Shared Values: Same value for all instances unless modified by the class itself.\n",
        "\n",
        "Memory Efficient: Shared among all instances, reducing memory usage."
      ],
      "metadata": {
        "id": "5l6WH7gzzGRu"
      }
    },
    {
      "cell_type": "markdown",
      "source": [
        "#Comparison with Similar Concepts:\n",
        "**Global Variables:**\n",
        "\n",
        "**Scope:** Global variables are defined outside any function or class and can be accessed globally.\n",
        "\n",
        "**Usage:** Used for data that needs to be accessible across multiple functions or classes.\n",
        "\n",
        "**Drawback:** Can lead to unmanageable and error-prone code."
      ],
      "metadata": {
        "id": "IG7c44sozk5E"
      }
    },
    {
      "cell_type": "code",
      "source": [
        "global_variable = 10\n",
        "\n",
        "def print_global():\n",
        "    print(global_variable)\n",
        "\n",
        "print_global()  # Output: 10"
      ],
      "metadata": {
        "colab": {
          "base_uri": "https://localhost:8080/"
        },
        "id": "NiJmPwg4zu1D",
        "outputId": "727d77d3-70ab-4f3f-bdce-1bd2503fb568"
      },
      "execution_count": null,
      "outputs": [
        {
          "output_type": "stream",
          "name": "stdout",
          "text": [
            "10\n"
          ]
        }
      ]
    },
    {
      "cell_type": "markdown",
      "source": [
        "**Local Variables:**\n",
        "\n",
        "**Scope:** Local variables are defined inside a function and can only be accessed within that function.\n",
        "\n",
        "**Usage:** Used for temporary data that is only needed within a function's scope.\n",
        "\n",
        "**Drawback:**Limited to the function, not accessible elsewhere"
      ],
      "metadata": {
        "id": "hOTHs5uzz5um"
      }
    },
    {
      "cell_type": "code",
      "source": [
        "def add(a, b):\n",
        "    result = a + b  # Local variable\n",
        "    return result\n",
        "\n",
        "print(add(3, 4))  # Output: 7"
      ],
      "metadata": {
        "id": "GDvYYaKA0E3f",
        "outputId": "06930f32-1352-428f-8a5f-29703a3b5521",
        "colab": {
          "base_uri": "https://localhost:8080/"
        }
      },
      "execution_count": null,
      "outputs": [
        {
          "output_type": "stream",
          "name": "stdout",
          "text": [
            "7\n"
          ]
        }
      ]
    },
    {
      "cell_type": "markdown",
      "source": [
        "#Methods in Python Class\n",
        "**Concept:**\n",
        "\n",
        "Methods in Python are functions defined inside a class that describe the behaviors of an object. They operate on data contained within the class instance.\n",
        "\n",
        "**Defining a Method:**\n",
        "A method is defined within a class using the def keyword. The first parameter is usually self, which refers to the instance of the class."
      ],
      "metadata": {
        "id": "GJiApR0wDg7u"
      }
    },
    {
      "cell_type": "markdown",
      "source": [
        "#Types of Methods:\n",
        "**1.Instance Methods:**\n",
        "\n",
        "Operates on instance of the class.\n",
        "\n",
        "Use **self** to access or modify the object's attributes"
      ],
      "metadata": {
        "id": "8b8AKJ8fDzdg"
      }
    },
    {
      "cell_type": "code",
      "source": [
        "class Dog:\n",
        "  def __init__(self, name):\n",
        "    self.name=name\n",
        "\n",
        "  def speak(self):\n",
        "    return f\"{self.name} says woof\"\n",
        "\n",
        "my_dog = Dog(\"Bullet\")\n",
        "print(my_dog.speak())"
      ],
      "metadata": {
        "colab": {
          "base_uri": "https://localhost:8080/"
        },
        "id": "NroOGdGkEgFu",
        "outputId": "74e55dbd-2de1-458b-a958-3108dccc6b3f"
      },
      "execution_count": 2,
      "outputs": [
        {
          "output_type": "stream",
          "name": "stdout",
          "text": [
            "Bullet says woof\n"
          ]
        }
      ]
    },
    {
      "cell_type": "markdown",
      "source": [
        "**2. Class Methods:**\n",
        "\n",
        "Operate on the class itself rather than instances.\n",
        "\n",
        "Use **cls** to refer to the class.\n",
        "\n",
        "Defined using the **@classmetho**d decorator."
      ],
      "metadata": {
        "id": "FqLd1t7KQq1O"
      }
    },
    {
      "cell_type": "code",
      "source": [
        "class Dog:\n",
        "  species = \"Canine\"\n",
        "\n",
        "  @classmethod\n",
        "  def get_species(cls):\n",
        "    return f\"My dog species is {Dog.species}\"\n",
        "\n",
        "my_dog= Dog()\n",
        "my_dog.get_species()"
      ],
      "metadata": {
        "colab": {
          "base_uri": "https://localhost:8080/",
          "height": 35
        },
        "id": "JNrDjm5dQqPr",
        "outputId": "3e75f674-3ffa-41c4-a121-ac826bbc6930"
      },
      "execution_count": 5,
      "outputs": [
        {
          "output_type": "execute_result",
          "data": {
            "text/plain": [
              "'My dog species is Canine'"
            ],
            "application/vnd.google.colaboratory.intrinsic+json": {
              "type": "string"
            }
          },
          "metadata": {},
          "execution_count": 5
        }
      ]
    },
    {
      "cell_type": "markdown",
      "source": [
        "**3. Static Methods:**\n",
        "\n",
        "Do not operate on the instance or class.\n",
        "\n",
        "Defined using the **@staticmethod** decorator.\n",
        "\n",
        "Do not require **self or cls** parameters."
      ],
      "metadata": {
        "id": "Tx1Vp5alXMtt"
      }
    },
    {
      "cell_type": "code",
      "source": [
        "class Mathoperation:\n",
        "\n",
        "  @staticmethod\n",
        "  def add(a,b):\n",
        "    return a+b\n",
        "\n",
        "print(Mathoperation.add(5,6))"
      ],
      "metadata": {
        "colab": {
          "base_uri": "https://localhost:8080/"
        },
        "id": "hoQFohlvXlbJ",
        "outputId": "1cff99e0-43ef-4dbd-d71e-96a2b0509920"
      },
      "execution_count": 7,
      "outputs": [
        {
          "output_type": "stream",
          "name": "stdout",
          "text": [
            "11\n"
          ]
        }
      ]
    },
    {
      "cell_type": "markdown",
      "source": [
        "#Properties of Methods:\n",
        "**Instance Methods:**\n",
        "\n",
        "**Scope:** Belong to an instance of a class.\n",
        "\n",
        "**Access:** Can access and modify instance attributes.\n",
        "\n",
        "**Class Methods:**\n",
        "\n",
        "**Scope:** Belong to the class rather than any instance.\n",
        "\n",
        "**Access:** Can access or modify class variables and methods.\n",
        "\n",
        "**Static Methods:**\n",
        "\n",
        "**Scope:** Belong to the class but do not operate on class or instance attributes.\n",
        "\n",
        "**Usage:** Utility functions related to the class.\n"
      ],
      "metadata": {
        "id": "gYIP-y63abYs"
      }
    },
    {
      "cell_type": "markdown",
      "source": [
        "#Encapsulation Concept:\n",
        "Encapsulation is one of the fundamental principles of Object-Oriented Programming (OOP). It refers to the bundling of data (attributes) and methods (functions) that operate on the data into a single unit, known as a class. It also restricts direct access to some of an object's components, which is a means of preventing accidental interference and misuse of the data.\n",
        "\n"
      ],
      "metadata": {
        "id": "FHWY22-9S6_9"
      }
    },
    {
      "cell_type": "markdown",
      "source": [
        "#Main Structure of Encapsulation:\n",
        "**Class and Objects:**\n",
        "Encapsulation is implemented through the use of classes, which encapsulate data and methods."
      ],
      "metadata": {
        "id": "0dYqDXiXTPaU"
      }
    },
    {
      "cell_type": "code",
      "source": [
        "class Student:\n",
        "  def __init__(self,name, age):\n",
        "    self.name=name\n",
        "    self.__age=age   # private attribute\n",
        "\n",
        "  def get_age(self):\n",
        "    return self.__age   # accessor method\n",
        "\n",
        "  def set_age(self,age):\n",
        "    if age>0:\n",
        "      self.__age = age      # Mutator method\n",
        "      return self.__age\n",
        "\n",
        "student1=Student('kathik', 28)\n",
        "print(student1.name)\n",
        "print(student1.get_age())\n",
        "print(student1.set_age(29))"
      ],
      "metadata": {
        "colab": {
          "base_uri": "https://localhost:8080/"
        },
        "id": "HBG3HLW9Tqsx",
        "outputId": "f33c6324-5eab-465e-efe5-871a13eb4a7a"
      },
      "execution_count": null,
      "outputs": [
        {
          "output_type": "stream",
          "name": "stdout",
          "text": [
            "kathik\n",
            "28\n",
            "29\n"
          ]
        }
      ]
    },
    {
      "cell_type": "code",
      "source": [
        "class Student:\n",
        "  def __init__(self,name, age):\n",
        "    self.name=name\n",
        "    self.__age=age   # private attribute\n",
        "\n",
        "  def get_age(self):\n",
        "    return self.__age   # accessor method\n",
        "\n",
        "  def set_age(self,age):\n",
        "    if age>0:\n",
        "      self.__age = age      # Mutator method\n",
        "      return self.__age\n",
        "\n",
        "student1=Student('kathik', 28)\n",
        "print(student1.name)\n",
        "print(student1.__age)                # so private attribute can't be accessible"
      ],
      "metadata": {
        "colab": {
          "base_uri": "https://localhost:8080/",
          "height": 193
        },
        "id": "-1w3PX1oZFqM",
        "outputId": "16076f95-8d5c-4aa5-9e10-548ccacddeb3"
      },
      "execution_count": null,
      "outputs": [
        {
          "output_type": "stream",
          "name": "stdout",
          "text": [
            "kathik\n"
          ]
        },
        {
          "output_type": "error",
          "ename": "AttributeError",
          "evalue": "'Student' object has no attribute '__age'",
          "traceback": [
            "\u001b[0;31m---------------------------------------------------------------------------\u001b[0m",
            "\u001b[0;31mAttributeError\u001b[0m                            Traceback (most recent call last)",
            "\u001b[0;32m<ipython-input-2-3351e608eb93>\u001b[0m in \u001b[0;36m<cell line: 16>\u001b[0;34m()\u001b[0m\n\u001b[1;32m     14\u001b[0m \u001b[0mstudent1\u001b[0m\u001b[0;34m=\u001b[0m\u001b[0mStudent\u001b[0m\u001b[0;34m(\u001b[0m\u001b[0;34m'kathik'\u001b[0m\u001b[0;34m,\u001b[0m \u001b[0;36m28\u001b[0m\u001b[0;34m)\u001b[0m\u001b[0;34m\u001b[0m\u001b[0;34m\u001b[0m\u001b[0m\n\u001b[1;32m     15\u001b[0m \u001b[0mprint\u001b[0m\u001b[0;34m(\u001b[0m\u001b[0mstudent1\u001b[0m\u001b[0;34m.\u001b[0m\u001b[0mname\u001b[0m\u001b[0;34m)\u001b[0m\u001b[0;34m\u001b[0m\u001b[0;34m\u001b[0m\u001b[0m\n\u001b[0;32m---> 16\u001b[0;31m \u001b[0mprint\u001b[0m\u001b[0;34m(\u001b[0m\u001b[0mstudent1\u001b[0m\u001b[0;34m.\u001b[0m\u001b[0m__age\u001b[0m\u001b[0;34m)\u001b[0m                \u001b[0;31m# so private attribute can't be accessible\u001b[0m\u001b[0;34m\u001b[0m\u001b[0;34m\u001b[0m\u001b[0m\n\u001b[0m",
            "\u001b[0;31mAttributeError\u001b[0m: 'Student' object has no attribute '__age'"
          ]
        }
      ]
    },
    {
      "cell_type": "markdown",
      "source": [
        "#Access modifiers:\n",
        "**public:** Accessible from the outside the class.\n",
        "\n",
        "**Protected:** Indicated by a single underscore(_), it is intended to be accessed within the class and its subclasses.\n",
        "\n",
        "**Private:** Indicated by double underscore(__), it is intended to be accessed only within the class."
      ],
      "metadata": {
        "id": "tpQCjMcKcVJa"
      }
    },
    {
      "cell_type": "code",
      "source": [
        "class Employee:\n",
        "  def __init__(self, name, salary):\n",
        "    self.name = name       # Public attribute\n",
        "    self._salary= salary   # Protected attribute\n",
        "    self.__bonus=5000       # Private attribute\n",
        "\n",
        "  def get_bonus(self):\n",
        "    return self.__bonus\n",
        "\n",
        "emp = Employee('Karthik',250000)\n",
        "print(emp.name)\n",
        "print(emp._salary)\n",
        "print(emp.get_bonus())"
      ],
      "metadata": {
        "colab": {
          "base_uri": "https://localhost:8080/"
        },
        "id": "uCqcUViUZd5S",
        "outputId": "043233a0-97ad-449f-b42b-b02743781577"
      },
      "execution_count": null,
      "outputs": [
        {
          "output_type": "stream",
          "name": "stdout",
          "text": [
            "Karthik\n",
            "250000\n",
            "5000\n"
          ]
        }
      ]
    },
    {
      "cell_type": "markdown",
      "source": [
        "#Properties of Encapsulation:\n",
        "**Data Hiding:** Encapsulation allows the internal representation of an object to be hidden from the outside.\n",
        "\n",
        "**Improved security:** By controlling the access to the data, encapsulation enhances the security of the application.\n",
        "\n",
        "**Simplified Interface:** Provides a simple interface to the user and hides the complexity."
      ],
      "metadata": {
        "id": "LKqbMIRnfPNn"
      }
    },
    {
      "cell_type": "markdown",
      "source": [
        "#Advantages of Encapsulation:\n",
        "\n",
        "**Control over Data:** Encapsulation provides control over the data by restricting unauthorized access and modification.\n",
        "\n",
        "**Increased Flexibility:** Internal data of a class can be changed without affectig the outside code if only accessor and mutator methods are used.\n",
        "\n",
        "**Easy Maintenance:** Since the data is hidden and access is provided through methods, maintaining and updating the code becomes easier.\n",
        "\n",
        "**Reusability:** Encapsulation facilitates code reusability through classes and objects."
      ],
      "metadata": {
        "id": "CLHG7CwQhe2k"
      }
    },
    {
      "cell_type": "markdown",
      "source": [
        "# Disadvantages of  Encapsulation:\n",
        "**Overhead:** Additional methods (getter and setter) for accessing private attributes can add overhead and make the code readable.\n",
        "\n",
        "**Complexity:** Encapsulation can introduce complexity in the design and understanding of the code."
      ],
      "metadata": {
        "id": "mncr8rE8nm_R"
      }
    },
    {
      "cell_type": "markdown",
      "source": [
        "#Real-World Use Cases:\n",
        "**Bank Account Management:**\n",
        "Encapsulation can be used to manage bank account details securely by hiding sensitive information and providing access through methods.\n"
      ],
      "metadata": {
        "id": "hDTZu6dT71he"
      }
    },
    {
      "cell_type": "code",
      "source": [
        "class BankAccount:\n",
        "  ''' This class is about the Bank Account Management'''\n",
        "\n",
        "  def __init__(self, name, balance=0):\n",
        "    self.name = name\n",
        "    self.__balance= balance\n",
        "\n",
        "  def Deposite(self, amount):\n",
        "    self.__balance += amount\n",
        "    return self.__balance\n",
        "\n",
        "  def Withdraw(self,amount):\n",
        "    if self.__balance> amount:\n",
        "      self.__balance -= amount\n",
        "      return self.__balance\n",
        "    else:\n",
        "      return \"Insufficient amount\"\n",
        "  def get_balance(self):\n",
        "    return self.__balance\n",
        "\n",
        "account = BankAccount('Karthik', 5000)\n",
        "print(account.name)\n",
        "print(account.Deposite(5000))\n",
        "print(account.Withdraw(2500))\n",
        "print(account.get_balance())"
      ],
      "metadata": {
        "colab": {
          "base_uri": "https://localhost:8080/"
        },
        "id": "zEQA5DtreZSt",
        "outputId": "6c468e52-a39c-49c9-ab33-7c54ce35df45"
      },
      "execution_count": null,
      "outputs": [
        {
          "output_type": "stream",
          "name": "stdout",
          "text": [
            "Karthik\n",
            "10000\n",
            "7500\n",
            "7500\n"
          ]
        }
      ]
    },
    {
      "cell_type": "markdown",
      "source": [
        "**Healthcare Systems:**\n",
        "Patient records can be encapsulated to ensure that sensitive information is accessed and modified only through authorized methods.\n",
        "\n"
      ],
      "metadata": {
        "id": "wNVBMIzSktYD"
      }
    },
    {
      "cell_type": "markdown",
      "source": [
        "#Comparison with Other Concepts:\n",
        "**Data Hiding in Procedural Programming:**\n",
        "Procedural programming languages can also hide data using scopes, but it is not as robust or enforced as encapsulation in OOP.\n",
        "\n"
      ],
      "metadata": {
        "id": "xVtoX377-43X"
      }
    },
    {
      "cell_type": "code",
      "source": [
        "def create_account(name, balance):\n",
        "  account={'Name': name, 'Amount':balance}\n",
        "  return account\n",
        "\n",
        "def get_balance(account):\n",
        "  return account['Amount']\n",
        "\n",
        "account=create_account('Karthik',5000)\n",
        "print(get_balance(account))"
      ],
      "metadata": {
        "colab": {
          "base_uri": "https://localhost:8080/"
        },
        "id": "eEQmFxVy_H6L",
        "outputId": "6596fa33-eb51-487d-866f-d9274f1b8165"
      },
      "execution_count": null,
      "outputs": [
        {
          "output_type": "stream",
          "name": "stdout",
          "text": [
            "5000\n"
          ]
        }
      ]
    },
    {
      "cell_type": "markdown",
      "source": [
        "**Information Hiding in Functional Programming:**\n",
        "Functional programming achieves data hiding through immutability and local function scopes but lacks the structured approach provided by OOP encapsulation."
      ],
      "metadata": {
        "id": "LrBhkEr8B-jL"
      }
    },
    {
      "cell_type": "code",
      "source": [
        "def account_balance():\n",
        "  balance=5000\n",
        "\n",
        "  def get_balance():\n",
        "    return balance\n",
        "\n",
        "  return get_balance()\n",
        "\n",
        "balancec_check= account_balance()\n",
        "print(balancec_check)\n"
      ],
      "metadata": {
        "colab": {
          "base_uri": "https://localhost:8080/"
        },
        "id": "-5Spm_9fAwlg",
        "outputId": "676818a3-30cd-40c5-aead-d3d7e36b125d"
      },
      "execution_count": null,
      "outputs": [
        {
          "output_type": "stream",
          "name": "stdout",
          "text": [
            "5000\n"
          ]
        }
      ]
    },
    {
      "cell_type": "markdown",
      "source": [
        "Encapsulation is a powerful feature of OOP that enhances security, maintainability, and modularity by bundling data and methods together and controlling access to the data.\n",
        "\n",
        "\n",
        "\n",
        "\n",
        "\n",
        "\n"
      ],
      "metadata": {
        "id": "iWd6EqMsD4nx"
      }
    },
    {
      "cell_type": "code",
      "source": [],
      "metadata": {
        "id": "MgvGkoRGDWhn"
      },
      "execution_count": null,
      "outputs": []
    }
  ]
}