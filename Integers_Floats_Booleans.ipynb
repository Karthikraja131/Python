{
  "nbformat": 4,
  "nbformat_minor": 0,
  "metadata": {
    "kernelspec": {
      "display_name": "Python 3",
      "language": "python",
      "name": "python3"
    },
    "language_info": {
      "codemirror_mode": {
        "name": "ipython",
        "version": 3
      },
      "file_extension": ".py",
      "mimetype": "text/x-python",
      "name": "python",
      "nbconvert_exporter": "python",
      "pygments_lexer": "ipython3",
      "version": "3.7.4"
    },
    "colab": {
      "provenance": [],
      "collapsed_sections": [
        "gW5YEnarJbPO",
        "1--OZJQAJbPW",
        "eo0mqrbOJbPb",
        "tRtsrmQoJbPt",
        "XTNlwY9rJbQG",
        "zXobe57HJbQM",
        "JCs_Qrt-JbQS",
        "HXhCSJvBJbQY",
        "HHQGVtfyJbQe",
        "9A0hrb1EJbQk"
      ]
    }
  },
  "cells": [
    {
      "cell_type": "markdown",
      "metadata": {
        "id": "UhmgnA67JbOo"
      },
      "source": [
        "## Different data types we will encounter in Python\n",
        "* ### <u>Numeric</u>  - Numeric variables take values which are numbers like 9, 3.14, 0, Inf\n",
        "\n",
        "\n",
        "* ### <u>String </u>  - String variables are used to store textual information\n",
        "\n",
        "\n",
        "* ### <u>Boolean</u>  - Boolean variables have two modes either True or False. A definite judge of statements!\n",
        "\n",
        "\n",
        "* ### <u>Datetime </u> - These variables are used to store date and time values such as 2020-08-01 12:23:54"
      ]
    },
    {
      "cell_type": "markdown",
      "source": [
        "# New section"
      ],
      "metadata": {
        "id": "7ej8kSmWZ7xF"
      }
    },
    {
      "cell_type": "markdown",
      "source": [
        "# New section"
      ],
      "metadata": {
        "id": "JX_xYYZIZ8oF"
      }
    },
    {
      "cell_type": "markdown",
      "source": [
        "# New section"
      ],
      "metadata": {
        "id": "9YE2HyAuZ9ot"
      }
    },
    {
      "cell_type": "markdown",
      "metadata": {
        "id": "I9Fwf5ooJbOq"
      },
      "source": [
        "# <u> Integers and Floats </u>"
      ]
    },
    {
      "cell_type": "code",
      "source": [
        "from google.colab import drive\n",
        "drive.mount('/content/drive')"
      ],
      "metadata": {
        "colab": {
          "base_uri": "https://localhost:8080/"
        },
        "id": "blzfP5VHcyY9",
        "outputId": "2e08bd38-4611-42be-f262-2d2fc58fed6a"
      },
      "execution_count": 30,
      "outputs": [
        {
          "output_type": "stream",
          "name": "stdout",
          "text": [
            "Drive already mounted at /content/drive; to attempt to forcibly remount, call drive.mount(\"/content/drive\", force_remount=True).\n"
          ]
        }
      ]
    },
    {
      "cell_type": "markdown",
      "metadata": {
        "id": "Mfy5IszoJbOr"
      },
      "source": [
        "## Basic Arithmetic "
      ]
    },
    {
      "cell_type": "code",
      "metadata": {
        "id": "sn4BtpEIJbOr",
        "colab": {
          "base_uri": "https://localhost:8080/"
        },
        "outputId": "3c1e8490-275d-4585-a808-158547c536de"
      },
      "source": [
        "# Addition\n",
        "\n",
        "9+9\n",
        "\n",
        "print(9+9)\n",
        "2+1"
      ],
      "execution_count": 32,
      "outputs": [
        {
          "output_type": "stream",
          "name": "stdout",
          "text": [
            "18\n"
          ]
        },
        {
          "output_type": "execute_result",
          "data": {
            "text/plain": [
              "3"
            ]
          },
          "metadata": {},
          "execution_count": 32
        }
      ]
    },
    {
      "cell_type": "code",
      "metadata": {
        "id": "oQYLI1w4JbOx",
        "colab": {
          "base_uri": "https://localhost:8080/"
        },
        "outputId": "53b3f1c4-9a19-439d-c574-d42f4db3b392"
      },
      "source": [
        "# Subtraction\n",
        "9-8\n",
        "print(9-8)\n",
        "2-5"
      ],
      "execution_count": 33,
      "outputs": [
        {
          "output_type": "stream",
          "name": "stdout",
          "text": [
            "1\n"
          ]
        },
        {
          "output_type": "execute_result",
          "data": {
            "text/plain": [
              "-3"
            ]
          },
          "metadata": {},
          "execution_count": 33
        }
      ]
    },
    {
      "cell_type": "code",
      "metadata": {
        "id": "ZRun8NmAJbO0",
        "colab": {
          "base_uri": "https://localhost:8080/"
        },
        "outputId": "767e99ea-7702-4414-8dee-f50336ac1510"
      },
      "source": [
        "# Multiplication\n",
        "9*9\n",
        "print(9*9)\n",
        "2*2"
      ],
      "execution_count": 34,
      "outputs": [
        {
          "output_type": "stream",
          "name": "stdout",
          "text": [
            "81\n"
          ]
        },
        {
          "output_type": "execute_result",
          "data": {
            "text/plain": [
              "4"
            ]
          },
          "metadata": {},
          "execution_count": 34
        }
      ]
    },
    {
      "cell_type": "code",
      "metadata": {
        "id": "etEpKlXqJbO2",
        "colab": {
          "base_uri": "https://localhost:8080/"
        },
        "outputId": "d90ba064-d52b-4aec-95ca-8bd497ca6291"
      },
      "source": [
        "# Division\n",
        "print(9/5)\n",
        "3/2"
      ],
      "execution_count": 35,
      "outputs": [
        {
          "output_type": "stream",
          "name": "stdout",
          "text": [
            "1.8\n"
          ]
        },
        {
          "output_type": "execute_result",
          "data": {
            "text/plain": [
              "1.5"
            ]
          },
          "metadata": {},
          "execution_count": 35
        }
      ]
    },
    {
      "cell_type": "code",
      "metadata": {
        "id": "_6rPJxI6JbO5",
        "colab": {
          "base_uri": "https://localhost:8080/"
        },
        "outputId": "cb2986ab-b984-44e0-db8b-0d43bd85dc84"
      },
      "source": [
        "# Floor Division\n",
        "print(9//5)\n",
        "7//2"
      ],
      "execution_count": 37,
      "outputs": [
        {
          "output_type": "stream",
          "name": "stdout",
          "text": [
            "1\n"
          ]
        },
        {
          "output_type": "execute_result",
          "data": {
            "text/plain": [
              "3"
            ]
          },
          "metadata": {},
          "execution_count": 37
        }
      ]
    },
    {
      "cell_type": "code",
      "metadata": {
        "id": "-nwZ9QhfJbO8",
        "colab": {
          "base_uri": "https://localhost:8080/"
        },
        "outputId": "08dbd9bb-9be2-4f5d-eb32-1d0a94ad8033"
      },
      "source": [
        "# Exponentiation\n",
        "9**2\n",
        "print(9**2)\n",
        "print(9**9)\n",
        "2**5"
      ],
      "execution_count": 39,
      "outputs": [
        {
          "output_type": "stream",
          "name": "stdout",
          "text": [
            "81\n",
            "387420489\n"
          ]
        },
        {
          "output_type": "execute_result",
          "data": {
            "text/plain": [
              "32"
            ]
          },
          "metadata": {},
          "execution_count": 39
        }
      ]
    },
    {
      "cell_type": "code",
      "metadata": {
        "id": "JuBKbD6rJbO-",
        "colab": {
          "base_uri": "https://localhost:8080/"
        },
        "outputId": "ea5d3759-9b38-40ae-9a4e-42331a69139b"
      },
      "source": [
        "# Modulus ( the value for remainder)\n",
        "print (9%5)\n",
        "print(5%9)\n",
        "5%6"
      ],
      "execution_count": 43,
      "outputs": [
        {
          "output_type": "stream",
          "name": "stdout",
          "text": [
            "4\n",
            "5\n"
          ]
        },
        {
          "output_type": "execute_result",
          "data": {
            "text/plain": [
              "5"
            ]
          },
          "metadata": {},
          "execution_count": 43
        }
      ]
    },
    {
      "cell_type": "code",
      "metadata": {
        "id": "GwB4UnlJJbPD",
        "colab": {
          "base_uri": "https://localhost:8080/"
        },
        "outputId": "9ea185a6-7db2-4da8-ce5c-c12ab44a4f7d"
      },
      "source": [
        "# Order of Operations followed in Python\n",
        "\n",
        "print((9+9)*2/2*2+2-1)\n",
        "2 + 10 * 10 + 3"
      ],
      "execution_count": 45,
      "outputs": [
        {
          "output_type": "stream",
          "name": "stdout",
          "text": [
            "37.0\n"
          ]
        },
        {
          "output_type": "execute_result",
          "data": {
            "text/plain": [
              "105"
            ]
          },
          "metadata": {},
          "execution_count": 45
        }
      ]
    },
    {
      "cell_type": "code",
      "metadata": {
        "id": "tL0-wPcvJbPF",
        "colab": {
          "base_uri": "https://localhost:8080/"
        },
        "outputId": "f9e19130-1c75-4b27-bd26-f65c54445c3b"
      },
      "source": [
        "2+ 10* (10+3)"
      ],
      "execution_count": 10,
      "outputs": [
        {
          "output_type": "execute_result",
          "data": {
            "text/plain": [
              "132"
            ]
          },
          "metadata": {},
          "execution_count": 10
        }
      ]
    },
    {
      "cell_type": "code",
      "metadata": {
        "id": "Zx1mkJYQJbPJ",
        "colab": {
          "base_uri": "https://localhost:8080/"
        },
        "outputId": "c8fba7df-c6f7-4996-cc70-0614a3404bbc"
      },
      "source": [
        "# Scientific Notation for representing large numbers\n",
        "4E6\n",
        "print(2E5)"
      ],
      "execution_count": 46,
      "outputs": [
        {
          "output_type": "stream",
          "name": "stdout",
          "text": [
            "200000.0\n"
          ]
        }
      ]
    },
    {
      "cell_type": "markdown",
      "metadata": {
        "id": "SAG3VykOJbPM"
      },
      "source": [
        "## Let's talk about numbers!\n",
        "\n",
        "* A lot many different types of numbers are supported in Python like integers (int type), real numbers (float type), complex numbers. We will mostly use integer and floating point numbers.\n",
        "\n",
        "\n",
        "* Integers are just whole numbers, positive or negative. For example: 2 and -2 are examples of integers.\n",
        "\n",
        "\n",
        "* Floating point numbers in Python are notable because they have a decimal point in them, or use an exponential (E) to define the number. For example 2.0 and -2.1 are examples of floating point numbers. 4E2 (4 times 10 to the power of 2) is also an example of a floating point number in Python.\n",
        "\n",
        "\n",
        "* In computing, floating-point arithmetic is arithmetic using formulaic representation of real numbers as an approximation to support a trade-off between range and precision. You can always control the number of digits coming after the decimal, hence they are called floating-point numbers"
      ]
    },
    {
      "cell_type": "markdown",
      "metadata": {
        "id": "mdf-bQxnJbPN"
      },
      "source": [
        "### The table below summarises the two numeric data types, Integers and Floats:\n",
        "<table>\n",
        "<tr>\n",
        "    <th>Examples</th> \n",
        "    <th>Number \"Type\"</th>\n",
        "</tr>\n",
        "\n",
        "<tr>\n",
        "    <td>1,2,-5,1000</td>\n",
        "    <td>Integers</td> \n",
        "</tr>\n",
        "\n",
        "<tr>\n",
        "    <td>1.2,-0.5,2e2,3E2</td> \n",
        "    <td>Floating-point numbers</td> \n",
        "</tr>\n",
        " </table>"
      ]
    },
    {
      "cell_type": "markdown",
      "metadata": {
        "id": "rU046YbcJbPN"
      },
      "source": [
        "## <u> What is a Variable? <u/>"
      ]
    },
    {
      "cell_type": "markdown",
      "metadata": {
        "id": "gW5YEnarJbPO"
      },
      "source": [
        "###  VARIABLES are entities which help us store information and retrieve it later. \n",
        "\n",
        " * A variable with a fixed name can store information of nature like numeric, textual, boolean etc.\n",
        " \n",
        " \n",
        " * A Python variable is a reserved memory location to store values. In other words, a variable in a python program gives data to the computer for processing.\n",
        " \n",
        " \n",
        " * The type of data contained in a variable can be changed at user's will. "
      ]
    },
    {
      "cell_type": "code",
      "metadata": {
        "id": "GMzBISF_JbPO",
        "colab": {
          "base_uri": "https://localhost:8080/"
        },
        "outputId": "8045c8c1-c9b5-4bd2-f0e0-61a5ad1a78e4"
      },
      "source": [
        "# You can store numbers in variables.\n",
        "# The standard rule is you write the variable name followed by = sign and the value it will take\n",
        "\n",
        "x=5\n",
        "y=9\n",
        "print(y)"
      ],
      "execution_count": 47,
      "outputs": [
        {
          "output_type": "stream",
          "name": "stdout",
          "text": [
            "9\n"
          ]
        }
      ]
    },
    {
      "cell_type": "code",
      "metadata": {
        "id": "sfHKamM3JbPR",
        "colab": {
          "base_uri": "https://localhost:8080/"
        },
        "outputId": "1d05e44a-ada7-43a0-8bd8-42eaa8698d2b"
      },
      "source": [
        "x"
      ],
      "execution_count": 13,
      "outputs": [
        {
          "output_type": "execute_result",
          "data": {
            "text/plain": [
              "5"
            ]
          },
          "metadata": {},
          "execution_count": 13
        }
      ]
    },
    {
      "cell_type": "code",
      "metadata": {
        "id": "UedV9GDlJbPU",
        "colab": {
          "base_uri": "https://localhost:8080/"
        },
        "outputId": "83766eb4-3479-421a-8483-be65b664e2a2"
      },
      "source": [
        "y=6.4\n",
        "y"
      ],
      "execution_count": 14,
      "outputs": [
        {
          "output_type": "execute_result",
          "data": {
            "text/plain": [
              "6.4"
            ]
          },
          "metadata": {},
          "execution_count": 14
        }
      ]
    },
    {
      "cell_type": "code",
      "metadata": {
        "id": "OcUpyTY2Z4Fn",
        "colab": {
          "base_uri": "https://localhost:8080/"
        },
        "outputId": "6245db8b-4a23-40d1-bef4-b82bc97793ad"
      },
      "source": [
        "print(y)"
      ],
      "execution_count": 15,
      "outputs": [
        {
          "output_type": "stream",
          "name": "stdout",
          "text": [
            "6.4\n"
          ]
        }
      ]
    },
    {
      "cell_type": "markdown",
      "metadata": {
        "id": "1--OZJQAJbPW"
      },
      "source": [
        "### Basic Arithmetic operations we can do on x and y. Later we will be doing operations on thousands of such numbers in one go!"
      ]
    },
    {
      "cell_type": "code",
      "metadata": {
        "id": "BNWS99YXJbPX",
        "colab": {
          "base_uri": "https://localhost:8080/"
        },
        "outputId": "01de74d1-4bce-4d7f-9648-1d3ef781dc9b"
      },
      "source": [
        "# Addition\n",
        "a=(y+x)\n",
        "print(a)\n",
        "z = x+y\n",
        "\n",
        "print(z)"
      ],
      "execution_count": 49,
      "outputs": [
        {
          "output_type": "stream",
          "name": "stdout",
          "text": [
            "14\n",
            "14\n"
          ]
        }
      ]
    },
    {
      "cell_type": "code",
      "metadata": {
        "id": "zusqZqZTJbPZ",
        "outputId": "7dd09356-4291-43fb-f7bd-8a8fd2887473",
        "colab": {
          "base_uri": "https://localhost:8080/"
        }
      },
      "source": [
        "# Printing the memory address the variable z occupies\n",
        "print(hex(id(z)))\n",
        "print(hex(id(a)))"
      ],
      "execution_count": 51,
      "outputs": [
        {
          "output_type": "stream",
          "name": "stdout",
          "text": [
            "0xa9c940\n",
            "0xa9c940\n"
          ]
        }
      ]
    },
    {
      "cell_type": "markdown",
      "metadata": {
        "id": "eo0mqrbOJbPb"
      },
      "source": [
        "* ### A variable can be assigned different values and data types and it will store the last value assigned"
      ]
    },
    {
      "cell_type": "code",
      "metadata": {
        "id": "GNgNOpjIJbPc",
        "colab": {
          "base_uri": "https://localhost:8080/"
        },
        "outputId": "de34cbd2-3e82-49aa-d621-5d645f311c75"
      },
      "source": [
        "# Subtraction\n",
        "z = x-y\n",
        "\n",
        "# Use the in-built print function to print the variable\n",
        "print(z)"
      ],
      "execution_count": 18,
      "outputs": [
        {
          "output_type": "stream",
          "name": "stdout",
          "text": [
            "-1.4000000000000004\n"
          ]
        }
      ]
    },
    {
      "cell_type": "code",
      "metadata": {
        "id": "uQWOqYjdJbPe",
        "outputId": "6c98b4f3-d84b-4a49-cc3e-00a92e7edf2c",
        "colab": {
          "base_uri": "https://localhost:8080/"
        }
      },
      "source": [
        "# Printing the memory address the variable z occupies\n",
        "print(hex(id(z)))"
      ],
      "execution_count": 19,
      "outputs": [
        {
          "output_type": "stream",
          "name": "stdout",
          "text": [
            "0x7f270738a8f0\n"
          ]
        }
      ]
    },
    {
      "cell_type": "code",
      "metadata": {
        "id": "RajV71HZJbPh",
        "colab": {
          "base_uri": "https://localhost:8080/"
        },
        "outputId": "234667d3-7956-439b-9cfd-ab65b822d832"
      },
      "source": [
        " # Find out the data type of variable z\n",
        "type(y) "
      ],
      "execution_count": 20,
      "outputs": [
        {
          "output_type": "execute_result",
          "data": {
            "text/plain": [
              "float"
            ]
          },
          "metadata": {},
          "execution_count": 20
        }
      ]
    },
    {
      "cell_type": "code",
      "metadata": {
        "id": "WThvonSGJbPk",
        "colab": {
          "base_uri": "https://localhost:8080/"
        },
        "outputId": "fe9eeb3e-816d-4df8-f61b-f31974e7e73b"
      },
      "source": [
        "# Multiplication\n",
        "z = x*y\n",
        "print(x)\n",
        "print(y)\n",
        "\n",
        "print(z)  # Print the variable z\n",
        "type(z)   # Get the data type of variable z"
      ],
      "execution_count": 53,
      "outputs": [
        {
          "output_type": "stream",
          "name": "stdout",
          "text": [
            "5\n",
            "9\n",
            "45\n"
          ]
        },
        {
          "output_type": "execute_result",
          "data": {
            "text/plain": [
              "int"
            ]
          },
          "metadata": {},
          "execution_count": 53
        }
      ]
    },
    {
      "cell_type": "code",
      "metadata": {
        "id": "Jz0GA8TtJbPn",
        "colab": {
          "base_uri": "https://localhost:8080/"
        },
        "outputId": "51f9ad86-23fd-460c-d24e-35aa34f521df"
      },
      "source": [
        "# Division\n",
        "z = x/y\n",
        "\n",
        "print(z) # Print the variable z\n",
        "type(z)  # Get the data type of variable z"
      ],
      "execution_count": 22,
      "outputs": [
        {
          "output_type": "stream",
          "name": "stdout",
          "text": [
            "0.78125\n"
          ]
        },
        {
          "output_type": "execute_result",
          "data": {
            "text/plain": [
              "float"
            ]
          },
          "metadata": {},
          "execution_count": 22
        }
      ]
    },
    {
      "cell_type": "code",
      "metadata": {
        "id": "UFPxHaByJbPp",
        "colab": {
          "base_uri": "https://localhost:8080/"
        },
        "outputId": "8410c641-e7bb-4456-c596-c5770837d26c"
      },
      "source": [
        "# Floor division\n",
        "z= x//y  #  Remember x=5, y=6.4\n",
        "print(x/y)\n",
        "\n",
        "print(z)"
      ],
      "execution_count": 54,
      "outputs": [
        {
          "output_type": "stream",
          "name": "stdout",
          "text": [
            "0.5555555555555556\n",
            "0\n"
          ]
        }
      ]
    },
    {
      "cell_type": "markdown",
      "metadata": {
        "id": "tRtsrmQoJbPt"
      },
      "source": [
        "### Waittt! Shouldn't it be 0.75??\n",
        "* The reason we get this result is because we are using \"*floor*\" division. The <code>//</code> operator (two forward slashes) is the mathematical equivalent of doing [0.75] which returns the greatest integer less than or equal to 0.75"
      ]
    },
    {
      "cell_type": "code",
      "metadata": {
        "id": "mkmUH8cuJbPu",
        "colab": {
          "base_uri": "https://localhost:8080/"
        },
        "outputId": "5e9ef27c-d2b7-4838-c74e-9fc1d706f578"
      },
      "source": [
        "# Modulo operator\n",
        "y=5\n",
        "x=3\n",
        "\n",
        "z = y%x       # Modulus is denoted by % sign\n",
        "print(z)"
      ],
      "execution_count": 24,
      "outputs": [
        {
          "output_type": "stream",
          "name": "stdout",
          "text": [
            "2\n"
          ]
        }
      ]
    },
    {
      "cell_type": "code",
      "metadata": {
        "id": "-gOV0xtCJbPz",
        "colab": {
          "base_uri": "https://localhost:8080/"
        },
        "outputId": "9cbe57d4-9ca3-4e30-fd85-38507aeade96"
      },
      "source": [
        "# Using powers and exponents\n",
        "\n",
        "z = x**y    # We did not even need to store it in another variable nor use print command\n",
        "print(z)"
      ],
      "execution_count": 25,
      "outputs": [
        {
          "output_type": "stream",
          "name": "stdout",
          "text": [
            "243\n"
          ]
        }
      ]
    },
    {
      "cell_type": "code",
      "metadata": {
        "id": "yjojlOq0JbP1",
        "colab": {
          "base_uri": "https://localhost:8080/"
        },
        "outputId": "909ce848-1ee3-46e2-d518-5118e867291d"
      },
      "source": [
        "# BODMAS nostalgia\n",
        "some_random_operation =(x+y)/y + (y-x)*x     \n",
        "\n",
        "print(some_random_operation)\n",
        "type(some_random_operation)"
      ],
      "execution_count": 26,
      "outputs": [
        {
          "output_type": "stream",
          "name": "stdout",
          "text": [
            "7.6\n"
          ]
        },
        {
          "output_type": "execute_result",
          "data": {
            "text/plain": [
              "float"
            ]
          },
          "metadata": {},
          "execution_count": 26
        }
      ]
    },
    {
      "cell_type": "code",
      "metadata": {
        "id": "6GTBsnuoJbP4",
        "colab": {
          "base_uri": "https://localhost:8080/"
        },
        "outputId": "e8838b80-f002-4ef5-9489-e8228ed6de41"
      },
      "source": [
        "# Storing large integer numbers\n",
        "avogadro = 6.22E23\n",
        "avo= 5E16\n",
        "\n",
        "print(avo)\n",
        "\n",
        "print(avogadro)"
      ],
      "execution_count": 63,
      "outputs": [
        {
          "output_type": "stream",
          "name": "stdout",
          "text": [
            "5e+16\n",
            "6.22e+23\n"
          ]
        }
      ]
    },
    {
      "cell_type": "markdown",
      "metadata": {
        "id": "rxeNuG-pJbP6"
      },
      "source": [
        "##  Rules for naming a variable in Python\n",
        "\n",
        "* Variables names must start with a letter or an underscore like _ product , product_\n",
        "\n",
        "\n",
        "* The remainder of your variable name may consist of letters, numbers and underscores\n",
        "\n",
        "\n",
        "* spacy1, pyThon,machine_learning are some valid variable names\n",
        "\n",
        "\n",
        "* Names are case sensitive.\n",
        "\n",
        "\n",
        "* case_sensitive, CASE_SENSITIVE, and Case_Sensitive are each a different variable.\n"
      ]
    },
    {
      "cell_type": "code",
      "metadata": {
        "id": "40Ov9gtSJbP7",
        "colab": {
          "base_uri": "https://localhost:8080/",
          "height": 130
        },
        "outputId": "ff34166e-c2d6-4aae-a9ba-5e824bcbb29a"
      },
      "source": [
        "1oNone = 4"
      ],
      "execution_count": 28,
      "outputs": [
        {
          "output_type": "error",
          "ename": "SyntaxError",
          "evalue": "ignored",
          "traceback": [
            "\u001b[0;36m  File \u001b[0;32m\"<ipython-input-28-5af1d05f4ba0>\"\u001b[0;36m, line \u001b[0;32m1\u001b[0m\n\u001b[0;31m    1oNone = 4\u001b[0m\n\u001b[0m         ^\u001b[0m\n\u001b[0;31mSyntaxError\u001b[0m\u001b[0;31m:\u001b[0m invalid syntax\n"
          ]
        }
      ]
    },
    {
      "cell_type": "code",
      "metadata": {
        "id": "OxnashdWfE2K"
      },
      "source": [
        "onone_abc_1 = 5"
      ],
      "execution_count": null,
      "outputs": []
    },
    {
      "cell_type": "code",
      "metadata": {
        "id": "68UBfOefgmGr"
      },
      "source": [
        "list = 5"
      ],
      "execution_count": null,
      "outputs": []
    },
    {
      "cell_type": "code",
      "metadata": {
        "id": "0DAMNZTLgp10"
      },
      "source": [
        "list"
      ],
      "execution_count": null,
      "outputs": []
    },
    {
      "cell_type": "markdown",
      "metadata": {
        "id": "3IqwZAzbJbP-"
      },
      "source": [
        "* Names cannot begin with a number. Python will throw an error when you try to do so \n",
        "\n",
        "\n",
        "* Names can not contain spaces, use _ instead\n",
        "\n",
        "\n",
        "* Names can not contain any of these symbols:\n",
        "\n",
        "      :'\",<>/?|\\!@#%^&*~-+\n",
        "      \n",
        "      \n",
        "* It is considered best practice that names are lowercase with underscores\n",
        "\n",
        "\n",
        "* Avoid using Python built-in keywords like `list`, `str` , `def` etc. We will talk more about such conventions later on"
      ]
    },
    {
      "cell_type": "markdown",
      "metadata": {
        "id": "1y0i15DhJbP-"
      },
      "source": [
        "# <u>Boolean Variables </u>\n",
        "\n",
        "* A Boolean variable only takes two values either True or False. It is used for comparisons"
      ]
    },
    {
      "cell_type": "markdown",
      "metadata": {
        "id": "35lrqYk2JbP-"
      },
      "source": [
        "## Comparison Operators \n",
        "\n",
        "* These operators will allow us to compare variables and output a Boolean value (True or False). \n",
        "\n",
        "\n",
        "* If you have any sort of background in Math, these operators should be very straight forward.\n",
        "\n",
        "\n",
        "* First we'll present a table of the comparison operators and then work through some examples:\n",
        "\n",
        "\n",
        "* In the table below, a=3 and b=4.\n",
        "\n",
        "<table class=\"table table-bordered\">\n",
        "<tr>\n",
        "<th style=\"width:10%\">Operator</th><th style=\"width:45%\">Description</th><th>Example</th>\n",
        "</tr>\n",
        "<tr>\n",
        "<td>==</td>\n",
        "<td>If the values of two operands are equal, then the condition becomes true.</td>\n",
        "<td> (a == b) is not true.</td>\n",
        "</tr>\n",
        "<tr>\n",
        "<td>!=</td>\n",
        "<td>If values of two operands are not equal, then condition becomes true.</td>\n",
        "<td>(a != b) is true</td>\n",
        "</tr>\n",
        "<tr>\n",
        "<td>&gt;</td>\n",
        "<td>If the value of left operand is greater than the value of right operand, then condition becomes true.</td>\n",
        "<td> (a &gt; b) is not true.</td>\n",
        "</tr>\n",
        "<tr>\n",
        "<td>&lt;</td>\n",
        "<td>If the value of left operand is less than the value of right operand, then condition becomes true.</td>\n",
        "<td> (a &lt; b) is true.</td>\n",
        "</tr>\n",
        "<tr>\n",
        "<td>&gt;=</td>\n",
        "<td>If the value of left operand is greater than or equal to the value of right operand, then condition becomes true.</td>\n",
        "<td> (a &gt;= b) is not true. </td>\n",
        "</tr>\n",
        "<tr>\n",
        "<td>&lt;=</td>\n",
        "<td>If the value of left operand is less than or equal to the value of right operand, then condition becomes true.</td>\n",
        "<td> (a &lt;= b) is true. </td>\n",
        "</tr>\n",
        "</table>"
      ]
    },
    {
      "cell_type": "markdown",
      "metadata": {
        "id": "k5qrpfOfJbP_"
      },
      "source": [
        "* Python  comes with Booleans (with predefined True and False displays that are basically just the integers 1 and 0). It also has a placeholder object called None. Let's walk through a few quick examples of Booleans (we will dive deeper into them later in this course)."
      ]
    },
    {
      "cell_type": "code",
      "metadata": {
        "id": "4HGbSLf_JbP_",
        "colab": {
          "base_uri": "https://localhost:8080/"
        },
        "outputId": "6d8b0bcb-bac9-4531-8f68-4a5c9f678caf"
      },
      "source": [
        "# Set object to be a boolean\n",
        "boolean_variable = False\n",
        "type(boolean_variable)"
      ],
      "execution_count": 64,
      "outputs": [
        {
          "output_type": "execute_result",
          "data": {
            "text/plain": [
              "bool"
            ]
          },
          "metadata": {},
          "execution_count": 64
        }
      ]
    },
    {
      "cell_type": "code",
      "metadata": {
        "id": "KbXp_CYVJbQC",
        "colab": {
          "base_uri": "https://localhost:8080/"
        },
        "outputId": "61f2ea04-d12c-473e-d4a7-6b553db538cb"
      },
      "source": [
        "#Show\n",
        "boolean_variable"
      ],
      "execution_count": 65,
      "outputs": [
        {
          "output_type": "execute_result",
          "data": {
            "text/plain": [
              "False"
            ]
          },
          "metadata": {},
          "execution_count": 65
        }
      ]
    },
    {
      "cell_type": "markdown",
      "metadata": {
        "id": "XTNlwY9rJbQG"
      },
      "source": [
        "### Equal"
      ]
    },
    {
      "cell_type": "code",
      "metadata": {
        "id": "B2HBAmBxJbQG",
        "colab": {
          "base_uri": "https://localhost:8080/"
        },
        "outputId": "c885d46b-57e5-4fee-d2ac-263b4a42c306"
      },
      "source": [
        "2 == 3\n",
        "a= 8==9\n",
        "print(a)\n",
        "print(8==9)\n"
      ],
      "execution_count": 69,
      "outputs": [
        {
          "output_type": "stream",
          "name": "stdout",
          "text": [
            "False\n",
            "False\n"
          ]
        }
      ]
    },
    {
      "cell_type": "code",
      "metadata": {
        "id": "St2N7ToUJbQI"
      },
      "source": [
        "2==0"
      ],
      "execution_count": null,
      "outputs": []
    },
    {
      "cell_type": "markdown",
      "metadata": {
        "id": "rffDn2hzJbQM"
      },
      "source": [
        "* <u> Note that <code>==</code> is a comparison operator, while <code>=</code> is an assignment operator. </u>"
      ]
    },
    {
      "cell_type": "markdown",
      "metadata": {
        "id": "zXobe57HJbQM"
      },
      "source": [
        "### Not equal"
      ]
    },
    {
      "cell_type": "code",
      "metadata": {
        "id": "-ITcsIujJbQM",
        "colab": {
          "base_uri": "https://localhost:8080/"
        },
        "outputId": "3fdf1f3f-a3af-46af-ee95-c2a409a794cc"
      },
      "source": [
        "2!=0\n",
        "8!=9\n",
        "print(8!=9)"
      ],
      "execution_count": 70,
      "outputs": [
        {
          "output_type": "stream",
          "name": "stdout",
          "text": [
            "True\n"
          ]
        }
      ]
    },
    {
      "cell_type": "code",
      "metadata": {
        "id": "MeLL5zC4JbQQ",
        "colab": {
          "base_uri": "https://localhost:8080/"
        },
        "outputId": "ccf0c574-8582-4cb6-caf7-601e21b99491"
      },
      "source": [
        "2!=2"
      ],
      "execution_count": 71,
      "outputs": [
        {
          "output_type": "execute_result",
          "data": {
            "text/plain": [
              "False"
            ]
          },
          "metadata": {},
          "execution_count": 71
        }
      ]
    },
    {
      "cell_type": "markdown",
      "metadata": {
        "id": "JCs_Qrt-JbQS"
      },
      "source": [
        "### Greater than"
      ]
    },
    {
      "cell_type": "code",
      "metadata": {
        "scrolled": true,
        "id": "JVbaxgIDJbQS",
        "colab": {
          "base_uri": "https://localhost:8080/"
        },
        "outputId": "8ffb8a9f-8dbf-4432-fbd7-df6ca71da1ad"
      },
      "source": [
        "a=3\n",
        "b=2\n",
        "a> b"
      ],
      "execution_count": 72,
      "outputs": [
        {
          "output_type": "execute_result",
          "data": {
            "text/plain": [
              "True"
            ]
          },
          "metadata": {},
          "execution_count": 72
        }
      ]
    },
    {
      "cell_type": "code",
      "metadata": {
        "id": "PZ1zdvTTJbQU",
        "colab": {
          "base_uri": "https://localhost:8080/"
        },
        "outputId": "d97086c3-9765-4a3c-f7de-927c5fe396bb"
      },
      "source": [
        "a == 3"
      ],
      "execution_count": 73,
      "outputs": [
        {
          "output_type": "execute_result",
          "data": {
            "text/plain": [
              "True"
            ]
          },
          "metadata": {},
          "execution_count": 73
        }
      ]
    },
    {
      "cell_type": "code",
      "metadata": {
        "id": "C6ChRkkxJbQW",
        "colab": {
          "base_uri": "https://localhost:8080/"
        },
        "outputId": "01728e75-76fc-4546-fbe1-9f53f86d9752"
      },
      "source": [
        "b > 4"
      ],
      "execution_count": 74,
      "outputs": [
        {
          "output_type": "execute_result",
          "data": {
            "text/plain": [
              "False"
            ]
          },
          "metadata": {},
          "execution_count": 74
        }
      ]
    },
    {
      "cell_type": "markdown",
      "metadata": {
        "id": "HXhCSJvBJbQY"
      },
      "source": [
        "### Less than"
      ]
    },
    {
      "cell_type": "code",
      "metadata": {
        "id": "AffaxmdTJbQY",
        "colab": {
          "base_uri": "https://localhost:8080/"
        },
        "outputId": "4c2e1ca6-671a-49e1-b53c-b9240faff391"
      },
      "source": [
        "10 < 45"
      ],
      "execution_count": 75,
      "outputs": [
        {
          "output_type": "execute_result",
          "data": {
            "text/plain": [
              "True"
            ]
          },
          "metadata": {},
          "execution_count": 75
        }
      ]
    },
    {
      "cell_type": "code",
      "metadata": {
        "id": "yX1roPJCJbQa",
        "colab": {
          "base_uri": "https://localhost:8080/"
        },
        "outputId": "be99cfff-d7d8-4d2b-b21d-434a62070f02"
      },
      "source": [
        "4 < 2"
      ],
      "execution_count": 76,
      "outputs": [
        {
          "output_type": "execute_result",
          "data": {
            "text/plain": [
              "False"
            ]
          },
          "metadata": {},
          "execution_count": 76
        }
      ]
    },
    {
      "cell_type": "markdown",
      "metadata": {
        "id": "HHQGVtfyJbQe"
      },
      "source": [
        "### Greater than or equal to"
      ]
    },
    {
      "cell_type": "code",
      "metadata": {
        "id": "_Qw-yrpRJbQe",
        "colab": {
          "base_uri": "https://localhost:8080/"
        },
        "outputId": "c491d595-8f45-44dc-ad3d-65c44883d85c"
      },
      "source": [
        "3 >=2"
      ],
      "execution_count": 77,
      "outputs": [
        {
          "output_type": "execute_result",
          "data": {
            "text/plain": [
              "True"
            ]
          },
          "metadata": {},
          "execution_count": 77
        }
      ]
    },
    {
      "cell_type": "code",
      "metadata": {
        "id": "Cj3UpbKTJbQh",
        "colab": {
          "base_uri": "https://localhost:8080/"
        },
        "outputId": "e1e82e9d-8e65-427b-c6c3-20d7e62ea78e"
      },
      "source": [
        "4 >= 4"
      ],
      "execution_count": 78,
      "outputs": [
        {
          "output_type": "execute_result",
          "data": {
            "text/plain": [
              "True"
            ]
          },
          "metadata": {},
          "execution_count": 78
        }
      ]
    },
    {
      "cell_type": "markdown",
      "metadata": {
        "id": "9A0hrb1EJbQk"
      },
      "source": [
        "### Less than or equal to"
      ]
    },
    {
      "cell_type": "code",
      "metadata": {
        "id": "CCg2vqNOJbQl",
        "colab": {
          "base_uri": "https://localhost:8080/"
        },
        "outputId": "f47f3d2c-ac54-42b9-e036-0c21bd3ebb9a"
      },
      "source": [
        "3 <= 0"
      ],
      "execution_count": 79,
      "outputs": [
        {
          "output_type": "execute_result",
          "data": {
            "text/plain": [
              "False"
            ]
          },
          "metadata": {},
          "execution_count": 79
        }
      ]
    },
    {
      "cell_type": "code",
      "metadata": {
        "id": "s9BkZBJDJbQm",
        "colab": {
          "base_uri": "https://localhost:8080/"
        },
        "outputId": "22c9c82b-7f9a-448b-d601-05365d84fc5f"
      },
      "source": [
        "1 <= 2"
      ],
      "execution_count": 80,
      "outputs": [
        {
          "output_type": "execute_result",
          "data": {
            "text/plain": [
              "True"
            ]
          },
          "metadata": {},
          "execution_count": 80
        }
      ]
    },
    {
      "cell_type": "code",
      "metadata": {
        "id": "TQqmyhbIk9Ol"
      },
      "source": [],
      "execution_count": 80,
      "outputs": []
    }
  ]
}