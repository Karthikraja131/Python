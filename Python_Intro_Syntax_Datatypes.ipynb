{
  "nbformat": 4,
  "nbformat_minor": 0,
  "metadata": {
    "colab": {
      "provenance": [],
      "authorship_tag": "ABX9TyMDa7gmSFgSl/5MHKvthDmN",
      "include_colab_link": true
    },
    "kernelspec": {
      "name": "python3",
      "display_name": "Python 3"
    },
    "language_info": {
      "name": "python"
    }
  },
  "cells": [
    {
      "cell_type": "markdown",
      "metadata": {
        "id": "view-in-github",
        "colab_type": "text"
      },
      "source": [
        "<a href=\"https://colab.research.google.com/github/Karthikraja131/Python/blob/main/Python_Intro_Syntax_Datatypes.ipynb\" target=\"_parent\"><img src=\"https://colab.research.google.com/assets/colab-badge.svg\" alt=\"Open In Colab\"/></a>"
      ]
    },
    {
      "cell_type": "markdown",
      "source": [
        "#What is Python?\n",
        "Python is a popular programming language. It was created by Guido van Rossum, and released in 1991.\n",
        "\n",
        "**It is used for:**\n",
        "\n",
        "* web development (server-side),\n",
        "\n",
        "* software development,\n",
        "\n",
        "* mathematics,\n",
        "\n",
        "* system scripting.\n",
        "\n",
        "**What can Python do?**\n",
        "\n",
        "* Python can be used on a server to create web applications.\n",
        "\n",
        "* Python can be used alongside software to create workflows.\n",
        "\n",
        "* Python can connect to database systems. It can also read and modify files.\n",
        "\n",
        "* Python can be used to handle big data and perform complex mathematics.\n",
        "\n",
        "* Python can be used for rapid prototyping, or for production-ready software development.\n"
      ],
      "metadata": {
        "id": "zp9boDQf2w4V"
      }
    },
    {
      "cell_type": "markdown",
      "source": [
        "#**Why Python?**\n",
        "\n",
        "* Python works on different platforms (Windows, Mac, Linux, Raspberry Pi, etc).\n",
        "\n",
        "* Python has a simple syntax similar to the English language.\n",
        "\n",
        "* Python has syntax that allows developers to write programs with fewer lines than some other programming languages.\n",
        "\n",
        "* Python runs on an interpreter system, meaning that code can be executed as soon as it is written. This means that prototyping can be very quick.\n",
        "\n",
        "* Python can be treated in a procedural way, an object-oriented way or a functional way.\n",
        "\n",
        "* Python has a vast array of libraries and tools that are specifically designed for data science, including NumPy, Pandas, Matplotlib, and Scikit-learn.\n",
        "\n",
        "* Python has a large open source community that provides support, tutorials, and documentation, making it easier for beginners to learn and use Python for data science tasks.\n",
        "\n",
        "#**Good to know**\n",
        "\n",
        "The most recent major version of Python is Python 3, which we shall be using in this tutorial. However, Python 2, although not being updated with anything other than security updates, is still quite popular.\n",
        "\n",
        "#**Python Syntax compared to other programming languages**\n",
        "\n",
        "* Python was designed for readability, and has some similarities to the English language with influence from mathematics.\n",
        "\n",
        "* Python uses new lines to complete a command, as opposed to other programming languages which often use semicolons or parentheses.\n",
        "\n",
        "* Python relies on indentation, using whitespace, to define scope; such as the scope of loops, functions and classes. Other programming languages often use curly-brackets for this purpose."
      ],
      "metadata": {
        "id": "Nw7LP9YT5BM0"
      }
    },
    {
      "cell_type": "markdown",
      "source": [
        "#Other Programing Languages similar to Python\n",
        "**Ruby 🧱**\n",
        "Ruby is a dynamic, object-oriented programming language that shares many similarities with Python. Both languages emphasize simplicity, readability, and developer productivity. Ruby is often used for web development, and is the primary language behind the popular web framework Ruby on Rails.\n",
        "\n",
        "**JavaScript 🌐**\n",
        "JavaScript is a high-level, dynamic programming language that is commonly used for web development. Like Python, JavaScript is easy to learn and has a simple syntax, and is often used for scripting and automation tasks. JavaScript is also an interpreted language, meaning that it can be run directly in a web browser without the need for compilation.\n",
        "\n",
        "**Perl 🐪**\n",
        "Perl is a high-level, general-purpose programming language that shares many similarities with Python. Like Python, Perl is easy to learn and has a simple syntax, and is often used for text processing and system administration tasks. Perl is known for its powerful regular expression engine and its flexibility, making it ideal for a wide range of applications.\n",
        "\n",
        "**Java ☕️**Java is a general-purpose, object-oriented programming language that is widely used for enterprise development. While Java has a more complex syntax than Python, it shares many similarities in terms of its focus on readability, maintainability, and performance. Java is known for its platform independence, which allows developers to write code once and run it on any platform that supports Java.\n",
        "\n",
        "**Julia 📊**\n",
        "Julia is a high-level, high-performance programming language that is designed for numerical and scientific computing. Like Python, Julia is easy to learn and has a simple syntax, and is often used for data analysis, machine learning, and scientific computing. Julia is known for its speed and performance, and is often used for complex computations that require high-level abstractions and numerical precision.\n",
        "\n",
        "Each of these programming languages has its own unique features and strengths, but all share a focus on simplicity, readability, and ease of use. Whether you're building web applications, analyzing data, or working on large-scale enterprise systems, there's a programming language that's right for your needs.\n",
        "\n",
        "\n",
        "\n",
        "\n"
      ],
      "metadata": {
        "id": "bPzVZpkGScfk"
      }
    },
    {
      "cell_type": "markdown",
      "source": [
        "#Shortcomings\n",
        "**Speed:** Python is an interpreted language, which can make it slower than compiled languages like C or C++.\n",
        "\n",
        "**Memory management:** Python's memory management can be less efficient than languages like C or C++, which can lead to memory leaks and performance issues.\n",
        "\n",
        "**Concurrency:** Python's Global Interpreter Lock (GIL) can make it challenging to take full advantage of multi-core processors.\n",
        "\n",
        "**Error-prone:** Python's dynamic nature can make it more prone to errors, especially regarding type checking.\n",
        "\n",
        "**Limited debugging capabilities:** Some IDEs for Python may not have advanced debugging features, such as the ability to step through code, set breakpoints, and inspect variables."
      ],
      "metadata": {
        "id": "ktfom3O8SJbJ"
      }
    },
    {
      "cell_type": "markdown",
      "source": [
        "#IDE\n",
        "* An Integrated Development Environment (IDE) is a software application that provides programmers with a comprehensive set of tools and features to write, debug, and test their code in a single interface.\n",
        "\n",
        "* IDEs often include a text editor, a debugger, a compiler, and other features like autocomplete, syntax highlighting, and code formatting.\n",
        "\n",
        "* IDEs are designed to make the coding process more efficient and productive by providing all the necessary tools and features in one place, which can save time and effort for developers.\n",
        "\n",
        "* IDEs are commonly used for programming languages like Python, Java, C++, and many more.\n",
        "\n",
        "**Few examples of IDE:**\n",
        "\n",
        "* PyCharm\n",
        "* Spyder\n",
        "* IDLE\n",
        "* Jupyter\n",
        "* Visual Studio Code (VSCode):\n",
        "* Google Colab"
      ],
      "metadata": {
        "id": "wSvhXkf39JsO"
      }
    },
    {
      "cell_type": "markdown",
      "source": [
        "#Why Google Colab\n",
        "* It is a web-based platform that does not require any installation or setup, making it easily accessible to anyone with an internet connection.\n",
        "* It offers a free environment for users to run and execute code, making it ideal for beginners who may not want to invest in expensive hardware or software.\n",
        "* It allows for collaborative work and sharing of code and notebooks, making it easy for beginners to work with others and get feedback on their work.\n",
        "* It comes with pre-installed libraries and tools commonly used in data science, such as NumPy, Pandas, and Matplotlib, making it easy for beginners to start working on their projects without having to worry about setting up their environment.\n",
        "\n"
      ],
      "metadata": {
        "id": "bPoyd2Hy97Wa"
      }
    },
    {
      "cell_type": "markdown",
      "source": [
        "#Let's go ahead and run our very first code. Excited? 😎\n"
      ],
      "metadata": {
        "id": "Ma3xkbHl-Hkj"
      }
    },
    {
      "cell_type": "code",
      "source": [
        "print('Hello Universe')"
      ],
      "metadata": {
        "id": "-Gy9jHO17Lzj",
        "colab": {
          "base_uri": "https://localhost:8080/"
        },
        "outputId": "2ae7dd7d-a2f7-419b-cd23-303cae7a6a6a"
      },
      "execution_count": null,
      "outputs": [
        {
          "output_type": "stream",
          "name": "stdout",
          "text": [
            "Hello Universe\n"
          ]
        }
      ]
    },
    {
      "cell_type": "markdown",
      "source": [
        "At the backend, what's happening is that Python is reading the code line by line and executing the instructions. In this case, the print() command is called with \"Hello Universe\" as an argument. The print() command then displays \"Hello Universe\" on the console output."
      ],
      "metadata": {
        "id": "fikiMnq--doj"
      }
    },
    {
      "cell_type": "markdown",
      "source": [
        "**Python Version**\n",
        "* To check the Python version of the editor, you can find it by importing the sys module:"
      ],
      "metadata": {
        "id": "XTLmWdoVqhbd"
      }
    },
    {
      "cell_type": "code",
      "execution_count": null,
      "metadata": {
        "id": "FfPVgqBG2TYw",
        "colab": {
          "base_uri": "https://localhost:8080/"
        },
        "outputId": "160e92c5-6b34-4471-9817-2bb3e2b7d2f1"
      },
      "outputs": [
        {
          "output_type": "stream",
          "name": "stdout",
          "text": [
            "3.10.12 (main, Mar 22 2024, 16:50:05) [GCC 11.4.0]\n"
          ]
        }
      ],
      "source": [
        "import sys\n",
        "print(sys.version)"
      ]
    },
    {
      "cell_type": "markdown",
      "source": [
        "**The Python Command Line**\n",
        "* To test a short amount of code in python sometimes it is quickest and easiest not to write the code in a file. This is made possible because Python can be run as a command line itself.\n",
        "*Type the following on the Windows, Mac or Linux command line:\n"
      ],
      "metadata": {
        "id": "gBb2vwm4q68a"
      }
    },
    {
      "cell_type": "markdown",
      "source": [
        "#Python Syntax\n",
        "* Python is a high-level programing language widely used for web development,data ananlysis, Artificial Inteligence, and other application.\n",
        "* The Syntax of Python is simple, easy, readable and easy to learn.\n",
        "* Syntax is the rule that defines a program's writing and structure.\n",
        "\n",
        "* **Some of the critical components of python structure inclue:**\n",
        "* Variables\n",
        "* Keywords\n",
        "* Identifiers\n",
        "* Indentation\n",
        "* Datatypes  --> Numbers, String, List, Suple, Set, Dictionary\n",
        "* Operators --> Arithmatic, Relational\n",
        "* Function\n",
        "* Input and Output\n"
      ],
      "metadata": {
        "id": "1lGHEaVoJL7O"
      }
    },
    {
      "cell_type": "markdown",
      "source": [
        "> ***Variables:***\n",
        "\n",
        "---\n",
        "* Variables in Python are used to store the data.\n",
        "* You can assign a value to a variable using assinment operator(=). For example, the following code assigns the value \"Hello, World!\" to the variable message:"
      ],
      "metadata": {
        "id": "sEzMnb6YVOpA"
      }
    },
    {
      "cell_type": "code",
      "source": [
        "message = \"Hello, World!\"\n",
        "print(message)"
      ],
      "metadata": {
        "colab": {
          "base_uri": "https://localhost:8080/"
        },
        "id": "EZ4Az2rzWLgk",
        "outputId": "be71bf33-26f8-4e3d-820a-6c7039c789ab"
      },
      "execution_count": null,
      "outputs": [
        {
          "output_type": "stream",
          "name": "stdout",
          "text": [
            "Hello, World!\n"
          ]
        }
      ]
    },
    {
      "cell_type": "markdown",
      "source": [
        "> ***Data types:***\n",
        "\n",
        "Python has several built-in data types, including integers, floats, strings, and booleans. For example, the following code assigns an integer, a float, a string, and a boolean value to four different variables:\n",
        "\n",
        "x = 5  # integer\n",
        "\n",
        "y = 3.14  # float\n",
        "\n",
        "name = \"John\"  # string\n",
        "\n",
        "is_student = True  # boolean\n",
        "\n"
      ],
      "metadata": {
        "id": "3EG4L84WEOAc"
      }
    },
    {
      "cell_type": "markdown",
      "source": [
        "> ***Operators:***\n",
        "\n",
        "---\n",
        "\n",
        "\n",
        "\n",
        "Python has several built-in operators, including **arithmetic operators** (e.g., +, -, *, /, %),  *comparison operators* (e.g., ==, !=, >, <, >=, <=), and **logical operators** (e.g., and, or, not). For example, the following code uses the + operator to add two numbers and the == operator to compare two values:\n",
        "\n",
        "x = 5\n",
        "\n",
        "y = 3\n",
        "\n",
        "z = x + y\n",
        "\n",
        "print(z)  # 8\n",
        "\n",
        "a = \"Hello\"\n",
        "\n",
        "b = \"Universe\"\n",
        "\n",
        "c = a == b\n",
        "\n",
        "print(c)  # False"
      ],
      "metadata": {
        "id": "OrJ8NHLBFutO"
      }
    },
    {
      "cell_type": "markdown",
      "source": [
        "> ***Identifiers:***\n",
        "\n",
        "---\n",
        "\n",
        "*  In Python, an identifier is a name given to a variable, function, class, module, or any other object.\n",
        "* Identifiers are used to refer to these objects in the code. There are some rules and conventions to follow when naming identifiers in Python:\n",
        "\n",
        "1.   Identifiers can contain letters, numbers, and the underscore (_) character.\n",
        "2.   Identifiers cannot start with a number.\n",
        "3.   Identifiers cannot contain spaces.\n",
        "4.   Python has some reserved keywords that cannot be used as identifiers. (e.g. for, if, else, etc).\n",
        "5. Python is case-sensitive, so the identifiers x and X are different. It is a good practice to follow the convention of using lowercase letters for identifiers, with words separated by underscores.\n",
        "\n",
        "* **Valid identifier:**\n",
        "\n",
        "my_var\n",
        "\n",
        "myVar\n",
        "\n",
        "my_var_1\n",
        "\n",
        "* **Invalid identifier:**\n",
        "\n",
        "1_var - starts with a number\n",
        "\n",
        "my var - contains a space\n",
        "\n",
        "for - a reserved keyword\n",
        "\n",
        "\n",
        "\n"
      ],
      "metadata": {
        "id": "bXSkSjVKGsd1"
      }
    },
    {
      "cell_type": "markdown",
      "source": [
        "> ***Loops:***\n",
        "\n",
        "---\n",
        "\n",
        "\n",
        "* Python also has several looping structures that can be used to execute a\n",
        "block of code multiple times.\n",
        "* For example, the \"for\" loop is used to iterate over a sequence of elements. The following code uses a \"for\" loop to print all the elements in a list:\n"
      ],
      "metadata": {
        "id": "zH9sWQ3tRtth"
      }
    },
    {
      "cell_type": "code",
      "source": [
        "fruits = [\"Apple\",\"Banaa\", \"Orange\"]\n",
        "for fruit in fruits:\n",
        "  print(fruit)"
      ],
      "metadata": {
        "colab": {
          "base_uri": "https://localhost:8080/"
        },
        "id": "kZMcwmWZSH2n",
        "outputId": "7d75758c-9ffc-46c7-825d-edde01aa41a8"
      },
      "execution_count": 1,
      "outputs": [
        {
          "output_type": "stream",
          "name": "stdout",
          "text": [
            "Apple\n",
            "Banaa\n",
            "Orange\n"
          ]
        }
      ]
    },
    {
      "cell_type": "markdown",
      "source": [
        "> ***Modules:***\n",
        "\n",
        "---\n",
        "\n",
        "* Python has a vast library, which is a collection of modules that provides additional functionality to the programming language.\n",
        "* These modules can be imported into the program using the \"import\" keyword. For example, the following code imports the \"math\" module and uses the \"sqrt\" function from it to find the square root of a number:"
      ],
      "metadata": {
        "id": "e8xvp_FRSZb2"
      }
    },
    {
      "cell_type": "code",
      "source": [
        "import math\n",
        "x = 5\n",
        "print(math.sqrt(x))"
      ],
      "metadata": {
        "colab": {
          "base_uri": "https://localhost:8080/"
        },
        "id": "jqvwcjfQSw_z",
        "outputId": "aff20eec-52bf-4f85-d336-7d907adca30d"
      },
      "execution_count": 2,
      "outputs": [
        {
          "output_type": "stream",
          "name": "stdout",
          "text": [
            "2.23606797749979\n"
          ]
        }
      ]
    },
    {
      "cell_type": "markdown",
      "source": [
        "> ***Control Flow:***\n",
        "\n",
        "---\n",
        "\n",
        "* Python has several control flow statements, including if-else, for loops, and while loops.\n",
        "*  For example, the following code uses an if-else statement to check whether a number is greater than or less than 10:\n"
      ],
      "metadata": {
        "id": "_9xWTAZpS9E7"
      }
    },
    {
      "cell_type": "code",
      "source": [
        "x = 5\n",
        "if x>10:\n",
        "  print(\"Print 10 is greaterthan x \")\n",
        "else:\n",
        "  print(\"x is greater\")"
      ],
      "metadata": {
        "colab": {
          "base_uri": "https://localhost:8080/"
        },
        "id": "EFUFaP4KTP22",
        "outputId": "97ad5c20-9df0-4431-c994-44a4a5e726ec"
      },
      "execution_count": 3,
      "outputs": [
        {
          "output_type": "stream",
          "name": "stdout",
          "text": [
            "x is greater\n"
          ]
        }
      ]
    },
    {
      "cell_type": "markdown",
      "source": [
        "> ***Functions:***\n",
        "\n",
        "---\n",
        "* Python allows you to define your own functions using the def keyword.  Functions take one or more arguments and return a value.\n",
        "* For example, the following code defines a function that takes two arguments and returns their sum:\n",
        "\n"
      ],
      "metadata": {
        "id": "X-8PDGWUTksg"
      }
    },
    {
      "cell_type": "code",
      "source": [
        "def add(x,y):\n",
        "  return x+y\n",
        "\n",
        "result = add(5,3)\n",
        "print(result)"
      ],
      "metadata": {
        "colab": {
          "base_uri": "https://localhost:8080/"
        },
        "id": "rkGj8-iWT3He",
        "outputId": "76f7fe4d-f2ab-4397-dd4e-d1ba5fc7b05e"
      },
      "execution_count": 6,
      "outputs": [
        {
          "output_type": "stream",
          "name": "stdout",
          "text": [
            "8\n"
          ]
        }
      ]
    },
    {
      "cell_type": "markdown",
      "source": [
        "Many built-in functions come with the Python language. These functions can perform various tasks, such as converting data types, manipulating strings, working with numbers, and more. Some of the most commonly used built-in functions in Python include print(), type(), len(), str(), etc."
      ],
      "metadata": {
        "id": "SpVLyRMHUSjG"
      }
    },
    {
      "cell_type": "markdown",
      "source": [
        "#Line Structure\n",
        "* In Python, the structure of a line of code is relatively simple and consistent. Most lines of code will follow a similar structure, which can be broken down into the following parts:\n",
        "\n"
      ],
      "metadata": {
        "id": "LrrjQHIvV6Ou"
      }
    },
    {
      "cell_type": "markdown",
      "source": [
        "> ***Keywords:***\n",
        "---\n",
        "* Python uses certain keywords to indicate different types of statements and expressions.\n",
        "* For example, keywords like \"if\", \"for\", \"def\", and \"import\" are used to indicate control structures, loops, function definitions, and module imports, respectively.\n"
      ],
      "metadata": {
        "id": "7ayildTNV_91"
      }
    },
    {
      "cell_type": "markdown",
      "source": [
        "> ***Here is a list of some of the most commonly used Python keywords:***\n",
        "---\n",
        "\n",
        "and: Logical operator\n",
        "\n",
        "as: To create an alias\n",
        "\n",
        "break: To exit a loop\n",
        "\n",
        "class: To define a class\n",
        "\n",
        "continue: To continue to the next iteration of a loop\n",
        "\n",
        "def: To define a function\n",
        "\n",
        "del : To delete an object\n",
        "\n",
        "elif : Short for \"else if\" in a conditional statement\n",
        "\n",
        "else : To specify an alternative block of code to execute\n",
        "\n",
        "except : To handle exceptions\n",
        "\n",
        "False: Boolean value\n",
        "\n",
        "for: To create a for loop\n",
        "\n",
        "from: To import specific elements from a module\n",
        "\n",
        "while: To create a while loop\n",
        "\n",
        "global: To indicate a global variable\n",
        "\n",
        "if: To create a conditional statement\n",
        "\n",
        "import: To import a module\n",
        "\n",
        "in: To specify a membership test\n",
        "\n",
        "is : To test object identity\n",
        "\n",
        "lambda: To create an anonymous function\n",
        "\n",
        "None: A special value that indicates the absence of a value\n",
        "\n",
        "not: Logical operator\n",
        "\n",
        "or: Logical operator\n",
        "\n",
        "pass: A null statement, used as a placeholder\n",
        "\n",
        "return: To exit a function and return a value\n",
        "\n",
        "True: Boolean value\n",
        "\n",
        "try: To handle exceptions\n",
        "\n",
        "\n",
        "* All the keywords except True, False, and None are in lowercase, and they must be written as it is.\n",
        "\n",
        "\n",
        "\n",
        "\n"
      ],
      "metadata": {
        "id": "xPuzAXYXWUQ2"
      }
    },
    {
      "cell_type": "markdown",
      "source": [
        "> ***Expressions:***\n",
        "---\n",
        "* Expressions are used to perform operations on variables and values. They can include mathematical operations, function calls, and variable assignments.\n",
        "* For example, the following line of code assigns the result of the expression \"5 + 7\" to a variable \"x\":\n",
        "\n",
        "x = 5 + 7\n"
      ],
      "metadata": {
        "id": "CiT727-0juDq"
      }
    },
    {
      "cell_type": "markdown",
      "source": [
        "> ***Operators:***\n",
        "---\n",
        "* Operators are used to performing operations on variables and values. They include mathematical operators like \"+\", \"-\", \"*\", and \"/\", as well as comparison operators like \"==\", \"!=\", \">\", and \"<\".\n",
        "* For example, the following line of code compares two variables \"x\" and \"y\" and assigns the result to a variable \"result\":\n",
        "\n",
        "result = x > y"
      ],
      "metadata": {
        "id": "gIhStrZ5kdyy"
      }
    },
    {
      "cell_type": "markdown",
      "source": [
        "> ***Separators:***\n",
        "---\n",
        "* Separators are used to separate different parts of a line of code. They include punctuation marks like commas and colons, as well as whitespace characters like spaces and tabs.\n",
        "*\n",
        "For example, the following line of code uses a comma to separate two arguments passed to the \"print()\" function:\n",
        "\n",
        "print(\"Hello,\", \"world!\")"
      ],
      "metadata": {
        "id": "7mefvJsgkyiY"
      }
    },
    {
      "cell_type": "markdown",
      "source": [
        "> ***Comments:***\n",
        "---\n",
        "* Comments are used to provide explanations or documentation for the code.\n",
        "* They are ignored by the interpreter and are indicated by a \"#\" symbol at the beginning of the line.\n",
        "* For example, the following line of code is a comment: # this is comment\n",
        "\n",
        "\n"
      ],
      "metadata": {
        "id": "zD33YziSlF2Z"
      }
    },
    {
      "cell_type": "markdown",
      "source": [
        "#Overall,\n",
        "* the structure of a line of code in Python is relatively simple and consistent. Most lines of code will include a combination of keywords, expressions, operators, separators, and comments, depending on the type of statement or expression being used.\n",
        "\n"
      ],
      "metadata": {
        "id": "xe2dUxg3lrIm"
      }
    },
    {
      "cell_type": "markdown",
      "source": [
        "#Input/Output Structure\n",
        "* In Python, some several built-in functions and methods can be used to handle input and output (I/O) operations. Here are some examples of how to use the most common I/O structures in Python:\n",
        "\n"
      ],
      "metadata": {
        "id": "vQ00EAj2mGaQ"
      }
    },
    {
      "cell_type": "markdown",
      "source": [
        "> ***Input:***\n",
        "---\n",
        "* The `input()` function reads input from the user. This function reads a line of\n",
        "text from the user and returns it as a string.\n",
        "* For example, the following code prompts the user to enter their name and assigns the value to a variable \"name\":"
      ],
      "metadata": {
        "id": "bphFVgC7mRhq"
      }
    },
    {
      "cell_type": "code",
      "source": [
        "name = input(\"Enter your Profession:\")"
      ],
      "metadata": {
        "colab": {
          "base_uri": "https://localhost:8080/"
        },
        "id": "gg7rZMBDm8vC",
        "outputId": "d36276b7-de66-47ca-88f2-999dbd35fc4b"
      },
      "execution_count": 7,
      "outputs": [
        {
          "name": "stdout",
          "output_type": "stream",
          "text": [
            "Enter your Profession:Data Scientist\n"
          ]
        }
      ]
    },
    {
      "cell_type": "markdown",
      "source": [
        "> ***Output:***\n",
        "---\n",
        "* The `print()` function displays output to the user. This function takes one or more arguments and displays them to the standard output (usually the console).\n",
        "* For example, the following code prints a string \"Hello, universe!\" to the console:"
      ],
      "metadata": {
        "id": "7Yo6CoIcnKiq"
      }
    },
    {
      "cell_type": "code",
      "source": [
        "print(\"Hello, universe!\")"
      ],
      "metadata": {
        "colab": {
          "base_uri": "https://localhost:8080/"
        },
        "id": "m-A1Wtg5nZxJ",
        "outputId": "ed1d0682-e711-4500-a659-018af0867a84"
      },
      "execution_count": 8,
      "outputs": [
        {
          "output_type": "stream",
          "name": "stdout",
          "text": [
            "Hello, universe!\n"
          ]
        }
      ]
    },
    {
      "cell_type": "markdown",
      "source": [
        "> ***File input/output:***\n",
        "---\n",
        "*  Python also provides functions and methods for reading from and writing to files. The `open()` function is used to open a file, and the `read()` and `write()` methods are used to read from and write to the file.\n",
        "* For example, the following code opens a file \"example.txt\", reads the contents of the file and assigns it to a variable \"content\", and then closes the file."
      ],
      "metadata": {
        "id": "6D9sdPMBn3fh"
      }
    },
    {
      "cell_type": "code",
      "source": [
        "file = open(\"./requirements.txt\",\"r\")\n",
        "content = file.read()\n",
        "file.close()"
      ],
      "metadata": {
        "id": "M2N8cPDOoPC6"
      },
      "execution_count": null,
      "outputs": []
    },
    {
      "cell_type": "markdown",
      "source": [
        "> ***String formatting:***\n",
        "---\n",
        "* The `format()` method can insert values into a string. This method is used to insert values into placeholders in a string, which are indicated by curly braces {}.\n",
        "* For example, the following code creates a string \"Hello, {}!\" with a placeholder and then uses the format method to insert a value into the placeholder:"
      ],
      "metadata": {
        "id": "dhaDb66YpBev"
      }
    },
    {
      "cell_type": "code",
      "source": [
        "greeting = \"Hello, {}!\"\n",
        "name = \"Karthik\"\n",
        "print(greeting.format(name))"
      ],
      "metadata": {
        "colab": {
          "base_uri": "https://localhost:8080/"
        },
        "id": "Mc5K2JlrpkVo",
        "outputId": "6b1d8e09-36ec-40c2-de60-8fe539120247"
      },
      "execution_count": 9,
      "outputs": [
        {
          "output_type": "stream",
          "name": "stdout",
          "text": [
            "Hello, Karthik!\n"
          ]
        }
      ]
    },
    {
      "cell_type": "markdown",
      "source": [
        "> ***Integer input/output:***\n",
        "---\n",
        "* To read an integer input from the user, you can use the `input()` function and then convert the result to an integer using the `int()` function. For example:\n"
      ],
      "metadata": {
        "id": "BqZwKT1x9mkZ"
      }
    },
    {
      "cell_type": "code",
      "source": [
        "age = int(input(\"What is your age: \"))\n",
        "print(\"Your age is:\", age )"
      ],
      "metadata": {
        "colab": {
          "base_uri": "https://localhost:8080/"
        },
        "id": "2VIYB_XV9yhP",
        "outputId": "9dea8916-cf6a-41dc-e5b8-c2370b065698"
      },
      "execution_count": 4,
      "outputs": [
        {
          "output_type": "stream",
          "name": "stdout",
          "text": [
            "What is your age: 29\n",
            "Your age is: 29\n"
          ]
        }
      ]
    },
    {
      "cell_type": "markdown",
      "source": [
        "> ***Floating-point input/output:***\n",
        "---\n",
        "* To read a floating-point input from the user, you can use the `input()` function and then convert the result to a float using the `float()` function. For example:"
      ],
      "metadata": {
        "id": "sxYbB5XJ9_2X"
      }
    },
    {
      "cell_type": "code",
      "source": [
        "height =  float(input(\"What is your Height: \"))\n",
        "print(\"Your height is:\", height)"
      ],
      "metadata": {
        "colab": {
          "base_uri": "https://localhost:8080/"
        },
        "id": "f9pFjvw2-Pcf",
        "outputId": "e1c1a1bc-2a42-45db-c499-9ef9b0d9a2f1"
      },
      "execution_count": 5,
      "outputs": [
        {
          "output_type": "stream",
          "name": "stdout",
          "text": [
            "What is your Height: 5.3\n",
            "Your height is: 5.3\n"
          ]
        }
      ]
    },
    {
      "cell_type": "markdown",
      "source": [
        "> ***List input/output:***\n",
        "---\n",
        "\n",
        "* To read a list input from the user, you can use the `input()`  For example:"
      ],
      "metadata": {
        "id": "SSptG4rr-uS0"
      }
    },
    {
      "cell_type": "code",
      "source": [
        "Vegitables = (input(\" Please tell your favorate vegitables( Seperated by Comma ): \"))\n",
        "print(Vegitables.split(\",\"))"
      ],
      "metadata": {
        "colab": {
          "base_uri": "https://localhost:8080/"
        },
        "id": "u5EY5hVY-6u3",
        "outputId": "e022cc5f-a73b-49f3-c66a-d77113ec171e"
      },
      "execution_count": 11,
      "outputs": [
        {
          "output_type": "stream",
          "name": "stdout",
          "text": [
            " Please tell your favorate vegitables( Seperated by Comma ): Brinjal, Onion, Beans\n",
            "['Brinjal', ' Onion', ' Beans']\n"
          ]
        }
      ]
    },
    {
      "cell_type": "markdown",
      "source": [
        "> ***Boolean input/output:***\n",
        "---\n",
        "* To read a boolean input from the user, you can use the `input()` For example:\n"
      ],
      "metadata": {
        "id": "WOIihm4dAltp"
      }
    },
    {
      "cell_type": "code",
      "source": [
        "is_student_input = (input(\"Are you a student?(yes/no): \")).strip().lower()\n",
        "is_student = is_student_input == \"yes\"\n",
        "print(\"You are a student:\", is_student)"
      ],
      "metadata": {
        "colab": {
          "base_uri": "https://localhost:8080/"
        },
        "id": "K4FQvpQfB8un",
        "outputId": "e49a3a97-f306-413e-846c-7fe2aeeb5bd6"
      },
      "execution_count": 16,
      "outputs": [
        {
          "output_type": "stream",
          "name": "stdout",
          "text": [
            "Are you a student?(yes/no): No\n",
            "You are a student: False\n"
          ]
        }
      ]
    },
    {
      "cell_type": "markdown",
      "source": [
        "> ***JSON input/output:***\n",
        "---\n",
        "* To read or write JSON data, you can use the json module. For example, the following code writes a dictionary to a json file \"example.json\":\n"
      ],
      "metadata": {
        "id": "O3WvyEK7DxiD"
      }
    },
    {
      "cell_type": "code",
      "source": [
        "import json\n",
        "data = {\"Name\":\"Karthik\", \"age\": 29}\n",
        "with open(\"exampl.json\",\"w\") as file:\n",
        "  json.dump(data,file)\n",
        "with open(\"exampl.json\",\"r\") as file:\n",
        "  content=json.load(file)\n",
        "  print(content)\n"
      ],
      "metadata": {
        "colab": {
          "base_uri": "https://localhost:8080/"
        },
        "id": "7u0jRin3D4aA",
        "outputId": "cec5b264-be3f-4952-c260-4d92f5742244"
      },
      "execution_count": 25,
      "outputs": [
        {
          "output_type": "stream",
          "name": "stdout",
          "text": [
            "{'Name': 'Karthik', 'age': 29}\n"
          ]
        }
      ]
    },
    {
      "cell_type": "markdown",
      "source": [
        "#Rules for naming a variable in Python\n",
        "* Variable names must start with a letter or a unserscore( _ ) like :   name, _name\n",
        "* The remainder of your variable name may consist of letters, numbers and underscores\n",
        "* spacy1, pyThon,machine_learning are some valid variable names\n",
        "* Names are case sensitive.\n",
        "* case_sensitive, CASE_SENSITIVE, and Case_Sensitive are each a different variable.\n",
        "* It's a best practice to create a variable that should be coherent with the context you are working on. Let's say you are working with fruit data; the variable name should be \"fruit\" or \"fruit_mango.\"\n",
        "\n",
        "\n"
      ],
      "metadata": {
        "id": "0yOd5eh1WlM8"
      }
    },
    {
      "cell_type": "code",
      "source": [
        "Name = \"Python\"\n",
        "Name"
      ],
      "metadata": {
        "colab": {
          "base_uri": "https://localhost:8080/",
          "height": 35
        },
        "id": "EZLYcKjEY2ZE",
        "outputId": "7fc75404-e2e4-438e-b84e-8aae94b43538"
      },
      "execution_count": null,
      "outputs": [
        {
          "output_type": "execute_result",
          "data": {
            "text/plain": [
              "'Python'"
            ],
            "application/vnd.google.colaboratory.intrinsic+json": {
              "type": "string"
            }
          },
          "metadata": {},
          "execution_count": 6
        }
      ]
    },
    {
      "cell_type": "code",
      "source": [
        "name =\"python\"\n",
        "name"
      ],
      "metadata": {
        "colab": {
          "base_uri": "https://localhost:8080/",
          "height": 35
        },
        "id": "4Xam7tuaY73i",
        "outputId": "0c85f4ab-bf12-44b5-ec6f-1c94a851601d"
      },
      "execution_count": null,
      "outputs": [
        {
          "output_type": "execute_result",
          "data": {
            "text/plain": [
              "'python'"
            ],
            "application/vnd.google.colaboratory.intrinsic+json": {
              "type": "string"
            }
          },
          "metadata": {},
          "execution_count": 5
        }
      ]
    },
    {
      "cell_type": "code",
      "source": [
        "_name=\"python\"\n",
        "_name"
      ],
      "metadata": {
        "colab": {
          "base_uri": "https://localhost:8080/",
          "height": 35
        },
        "id": "nkTgtqigZNRa",
        "outputId": "37a37b70-581e-4562-c188-5898c9119e37"
      },
      "execution_count": null,
      "outputs": [
        {
          "output_type": "execute_result",
          "data": {
            "text/plain": [
              "'python'"
            ],
            "application/vnd.google.colaboratory.intrinsic+json": {
              "type": "string"
            }
          },
          "metadata": {},
          "execution_count": 4
        }
      ]
    },
    {
      "cell_type": "code",
      "source": [
        "name_1=\"python\"\n",
        "name_1"
      ],
      "metadata": {
        "colab": {
          "base_uri": "https://localhost:8080/",
          "height": 35
        },
        "id": "PBxr7QF5ZUT6",
        "outputId": "da251a6e-d2eb-4c0c-b602-4e80b5f528ba"
      },
      "execution_count": null,
      "outputs": [
        {
          "output_type": "execute_result",
          "data": {
            "text/plain": [
              "'python'"
            ],
            "application/vnd.google.colaboratory.intrinsic+json": {
              "type": "string"
            }
          },
          "metadata": {},
          "execution_count": 9
        }
      ]
    },
    {
      "cell_type": "markdown",
      "source": [
        "#Things didn't go very well there right? Let's see why\n",
        "\n",
        "* Names cannot begin with a number. Python will throw an error when you try to do so\n"
      ],
      "metadata": {
        "id": "KG7RK9lBZczj"
      }
    },
    {
      "cell_type": "code",
      "source": [
        "1_name = \"Python\""
      ],
      "metadata": {
        "colab": {
          "base_uri": "https://localhost:8080/",
          "height": 106
        },
        "id": "ZAiPzKXhZieK",
        "outputId": "dd5c6e55-7776-40d7-b577-9afd5fc84833"
      },
      "execution_count": null,
      "outputs": [
        {
          "output_type": "error",
          "ename": "SyntaxError",
          "evalue": "invalid decimal literal (<ipython-input-10-a0ab1034b0ca>, line 1)",
          "traceback": [
            "\u001b[0;36m  File \u001b[0;32m\"<ipython-input-10-a0ab1034b0ca>\"\u001b[0;36m, line \u001b[0;32m1\u001b[0m\n\u001b[0;31m    1_name = \"Python\"\u001b[0m\n\u001b[0m     ^\u001b[0m\n\u001b[0;31mSyntaxError\u001b[0m\u001b[0;31m:\u001b[0m invalid decimal literal\n"
          ]
        }
      ]
    },
    {
      "cell_type": "markdown",
      "source": [
        "* Names can not contain spaces, use _ instead\n",
        "\n"
      ],
      "metadata": {
        "id": "8bZ3cr1SZo-x"
      }
    },
    {
      "cell_type": "code",
      "source": [
        "name 1 = \"Python\""
      ],
      "metadata": {
        "colab": {
          "base_uri": "https://localhost:8080/",
          "height": 106
        },
        "id": "s7A7jFpRZm0R",
        "outputId": "eb82fbe0-ab4d-4faf-9ca9-d0ea5ac6a287"
      },
      "execution_count": null,
      "outputs": [
        {
          "output_type": "error",
          "ename": "SyntaxError",
          "evalue": "invalid syntax (<ipython-input-11-ed497a2cce19>, line 1)",
          "traceback": [
            "\u001b[0;36m  File \u001b[0;32m\"<ipython-input-11-ed497a2cce19>\"\u001b[0;36m, line \u001b[0;32m1\u001b[0m\n\u001b[0;31m    name 1 = \"Python\"\u001b[0m\n\u001b[0m         ^\u001b[0m\n\u001b[0;31mSyntaxError\u001b[0m\u001b[0;31m:\u001b[0m invalid syntax\n"
          ]
        }
      ]
    },
    {
      "cell_type": "markdown",
      "source": [
        "* Names can not contain any of these symbols:\n",
        "\n",
        ":'\",<>/?|\\!@#%^&*~-+\n"
      ],
      "metadata": {
        "id": "rDobXDEtZxe3"
      }
    },
    {
      "cell_type": "code",
      "source": [
        "name@= \"python\""
      ],
      "metadata": {
        "colab": {
          "base_uri": "https://localhost:8080/",
          "height": 141
        },
        "id": "RXTcYj7VZ1ub",
        "outputId": "89c35853-9b70-4316-a6d8-d5e2f084022b"
      },
      "execution_count": null,
      "outputs": [
        {
          "output_type": "error",
          "ename": "TypeError",
          "evalue": "unsupported operand type(s) for @=: 'str' and 'str'",
          "traceback": [
            "\u001b[0;31m---------------------------------------------------------------------------\u001b[0m",
            "\u001b[0;31mTypeError\u001b[0m                                 Traceback (most recent call last)",
            "\u001b[0;32m<ipython-input-12-2583e0a46f5e>\u001b[0m in \u001b[0;36m<cell line: 1>\u001b[0;34m()\u001b[0m\n\u001b[0;32m----> 1\u001b[0;31m \u001b[0mname\u001b[0m\u001b[0;34m@=\u001b[0m \u001b[0;34m\"python\"\u001b[0m\u001b[0;34m\u001b[0m\u001b[0;34m\u001b[0m\u001b[0m\n\u001b[0m",
            "\u001b[0;31mTypeError\u001b[0m: unsupported operand type(s) for @=: 'str' and 'str'"
          ]
        }
      ]
    },
    {
      "cell_type": "code",
      "source": [
        "name__# = \"Python\" Hello\n",
        "name__"
      ],
      "metadata": {
        "colab": {
          "base_uri": "https://localhost:8080/",
          "height": 159
        },
        "id": "AbTt5qiGZ_HZ",
        "outputId": "99ff7c00-c832-4b07-fee6-fe05839030a9"
      },
      "execution_count": null,
      "outputs": [
        {
          "output_type": "error",
          "ename": "NameError",
          "evalue": "name 'name__' is not defined",
          "traceback": [
            "\u001b[0;31m---------------------------------------------------------------------------\u001b[0m",
            "\u001b[0;31mNameError\u001b[0m                                 Traceback (most recent call last)",
            "\u001b[0;32m<ipython-input-17-c31625f9d703>\u001b[0m in \u001b[0;36m<cell line: 1>\u001b[0;34m()\u001b[0m\n\u001b[0;32m----> 1\u001b[0;31m \u001b[0mname__\u001b[0m\u001b[0;31m# = \"Python\" Hello\u001b[0m\u001b[0;34m\u001b[0m\u001b[0;34m\u001b[0m\u001b[0m\n\u001b[0m\u001b[1;32m      2\u001b[0m \u001b[0mname__\u001b[0m\u001b[0;34m\u001b[0m\u001b[0;34m\u001b[0m\u001b[0m\n",
            "\u001b[0;31mNameError\u001b[0m: name 'name__' is not defined"
          ]
        }
      ]
    },
    {
      "cell_type": "markdown",
      "source": [
        "* It is considered best practice that names are lowercase with underscores\n",
        "\n",
        "* Avoid using Python built-in keywords like list, str , def, try etc. We will talk more about such conventions later on\n",
        "\n"
      ],
      "metadata": {
        "id": "UDb92GHSaU4V"
      }
    },
    {
      "cell_type": "markdown",
      "source": [
        "#Built-in Data Types\n",
        "\n",
        "In programming, data type is an important concept.\n",
        "\n",
        "Variables can store data of different types, and different types can do different things.\n",
        "\n",
        "Python has the following data types built-in by default, in these categories:\n",
        "\n",
        "**Text Type:**\t     str\n",
        "\n",
        "**Numeric Types:**\t int, float, complex\n",
        "\n",
        "**Sequence Types:**\t list, tuple, range\n",
        "\n",
        "**Mapping Type:**\t   dict\n",
        "\n",
        "**Set Types:**\t     set, frozenset\n",
        "\n",
        "**Boolean Type:**\t   bool\n",
        "\n",
        "**Binary Types:**\t   bytes, bytearray, memoryview\n",
        "\n",
        "**None Type:**\t     NoneType"
      ],
      "metadata": {
        "id": "2_TBuIAXr7MQ"
      }
    },
    {
      "cell_type": "markdown",
      "source": [
        "#Getting the Data Type\n",
        "\n",
        "You can get the data type of any object by using the type() function:\n",
        "\n"
      ],
      "metadata": {
        "id": "sonk09upsuZi"
      }
    },
    {
      "cell_type": "code",
      "source": [
        "x = 5\n",
        "print(type(x))"
      ],
      "metadata": {
        "colab": {
          "base_uri": "https://localhost:8080/"
        },
        "id": "6ny5N1our6fU",
        "outputId": "8ddebd88-4679-408c-ede3-9d22384cc065"
      },
      "execution_count": null,
      "outputs": [
        {
          "output_type": "stream",
          "name": "stdout",
          "text": [
            "<class 'int'>\n"
          ]
        }
      ]
    },
    {
      "cell_type": "markdown",
      "source": [
        "#Setting the Data Type\n",
        "* In Python, the data type is set when you assign a value to a variable:\n"
      ],
      "metadata": {
        "id": "KD2vxg9KtY21"
      }
    },
    {
      "cell_type": "code",
      "source": [
        "x= 5\n",
        "type(x)"
      ],
      "metadata": {
        "colab": {
          "base_uri": "https://localhost:8080/"
        },
        "id": "Fu8iwhXBqvH1",
        "outputId": "8ff32c90-f5cb-42af-a194-d7f37dbfb010"
      },
      "execution_count": null,
      "outputs": [
        {
          "output_type": "execute_result",
          "data": {
            "text/plain": [
              "int"
            ]
          },
          "metadata": {},
          "execution_count": 6
        }
      ]
    },
    {
      "cell_type": "code",
      "source": [
        "x=5.0\n",
        "type(x)"
      ],
      "metadata": {
        "colab": {
          "base_uri": "https://localhost:8080/"
        },
        "id": "uG6mmvXxr50z",
        "outputId": "448d1b08-c9c7-48d1-e85d-8dda972a1254"
      },
      "execution_count": null,
      "outputs": [
        {
          "output_type": "execute_result",
          "data": {
            "text/plain": [
              "float"
            ]
          },
          "metadata": {},
          "execution_count": 7
        }
      ]
    },
    {
      "cell_type": "code",
      "source": [
        "x=\"Hello Universe\"\n",
        "type(x)"
      ],
      "metadata": {
        "colab": {
          "base_uri": "https://localhost:8080/"
        },
        "id": "9fUr_1_6trgz",
        "outputId": "2accde49-60a7-4e33-e3ad-8402e4401051"
      },
      "execution_count": null,
      "outputs": [
        {
          "output_type": "execute_result",
          "data": {
            "text/plain": [
              "str"
            ]
          },
          "metadata": {},
          "execution_count": 8
        }
      ]
    },
    {
      "cell_type": "code",
      "source": [
        "x= 1+2j\n",
        "type(x)"
      ],
      "metadata": {
        "colab": {
          "base_uri": "https://localhost:8080/"
        },
        "id": "7KHPVgAStyjy",
        "outputId": "6ed5f4be-0723-469a-bd7a-a87c9413335d"
      },
      "execution_count": null,
      "outputs": [
        {
          "output_type": "execute_result",
          "data": {
            "text/plain": [
              "complex"
            ]
          },
          "metadata": {},
          "execution_count": 9
        }
      ]
    },
    {
      "cell_type": "code",
      "source": [
        "x=[\"Karthik\",\"AI Engineer\",2500000,True]\n",
        "type(x)"
      ],
      "metadata": {
        "colab": {
          "base_uri": "https://localhost:8080/"
        },
        "id": "3MN5bT56t7BX",
        "outputId": "0d30b97f-eafd-44b8-c0fa-ef1eb63d5737"
      },
      "execution_count": null,
      "outputs": [
        {
          "output_type": "execute_result",
          "data": {
            "text/plain": [
              "list"
            ]
          },
          "metadata": {},
          "execution_count": 10
        }
      ]
    },
    {
      "cell_type": "code",
      "source": [
        "x=(\"Karthik\",\"AI Engineer\",2500000,True)\n",
        "type(x)"
      ],
      "metadata": {
        "colab": {
          "base_uri": "https://localhost:8080/"
        },
        "id": "ASvmsacCuPO0",
        "outputId": "848060cd-41b6-476d-bff6-1ace6c1ef778"
      },
      "execution_count": null,
      "outputs": [
        {
          "output_type": "execute_result",
          "data": {
            "text/plain": [
              "tuple"
            ]
          },
          "metadata": {},
          "execution_count": 11
        }
      ]
    },
    {
      "cell_type": "code",
      "source": [
        "x=range(5)\n",
        "print(x)"
      ],
      "metadata": {
        "colab": {
          "base_uri": "https://localhost:8080/"
        },
        "id": "j5OgyyyruXrD",
        "outputId": "02b7e422-d9a5-48b7-a460-ec621b562c87"
      },
      "execution_count": null,
      "outputs": [
        {
          "output_type": "stream",
          "name": "stdout",
          "text": [
            "range(0, 5)\n"
          ]
        }
      ]
    },
    {
      "cell_type": "code",
      "source": [
        "x={\"name\":\"karthik\", \"Age\": 29, \"Data Scientist\":True }\n",
        "type(x)"
      ],
      "metadata": {
        "colab": {
          "base_uri": "https://localhost:8080/"
        },
        "id": "rc9v5jauudSr",
        "outputId": "80e62346-5ea6-417e-8d95-6903b89df34c"
      },
      "execution_count": null,
      "outputs": [
        {
          "output_type": "execute_result",
          "data": {
            "text/plain": [
              "dict"
            ]
          },
          "metadata": {},
          "execution_count": 15
        }
      ]
    },
    {
      "cell_type": "code",
      "source": [
        "x={\"Karthik\",\"AI Engineer\",29,\"Karthik\"}\n",
        "print(x)\n",
        "type(x)"
      ],
      "metadata": {
        "colab": {
          "base_uri": "https://localhost:8080/"
        },
        "id": "9iKqFWBcuqrB",
        "outputId": "09f82f1f-7d25-4591-f6d1-a0ba10799f8e"
      },
      "execution_count": null,
      "outputs": [
        {
          "output_type": "stream",
          "name": "stdout",
          "text": [
            "{'Karthik', 29, 'AI Engineer'}\n"
          ]
        },
        {
          "output_type": "execute_result",
          "data": {
            "text/plain": [
              "set"
            ]
          },
          "metadata": {},
          "execution_count": 16
        }
      ]
    },
    {
      "cell_type": "code",
      "source": [
        "x=frozenset({\"Karthik\",\"AI Engineer\",29,\"Karthik\"})\n",
        "print(x)\n",
        "type(x)"
      ],
      "metadata": {
        "colab": {
          "base_uri": "https://localhost:8080/"
        },
        "id": "PnIhb4J3vEzH",
        "outputId": "cee063f7-1106-42a7-e895-7436e2ac42bb"
      },
      "execution_count": null,
      "outputs": [
        {
          "output_type": "stream",
          "name": "stdout",
          "text": [
            "frozenset({'Karthik', 29, 'AI Engineer'})\n"
          ]
        },
        {
          "output_type": "execute_result",
          "data": {
            "text/plain": [
              "frozenset"
            ]
          },
          "metadata": {},
          "execution_count": 17
        }
      ]
    },
    {
      "cell_type": "code",
      "source": [
        "x=True\n",
        "type(x)"
      ],
      "metadata": {
        "colab": {
          "base_uri": "https://localhost:8080/"
        },
        "id": "WB54Kg1GvXpN",
        "outputId": "336a4d23-9f44-458f-d6fb-d4bd984200b3"
      },
      "execution_count": null,
      "outputs": [
        {
          "output_type": "execute_result",
          "data": {
            "text/plain": [
              "bool"
            ]
          },
          "metadata": {},
          "execution_count": 18
        }
      ]
    },
    {
      "cell_type": "code",
      "source": [
        "x=b\"Scientist\"\n",
        "print(x)\n",
        "type(x)"
      ],
      "metadata": {
        "colab": {
          "base_uri": "https://localhost:8080/"
        },
        "id": "coZaNq9tvfgk",
        "outputId": "fdbfc3f3-7c4b-4966-c368-9217b3dab097"
      },
      "execution_count": null,
      "outputs": [
        {
          "output_type": "stream",
          "name": "stdout",
          "text": [
            "b'Scientist'\n"
          ]
        },
        {
          "output_type": "execute_result",
          "data": {
            "text/plain": [
              "bytes"
            ]
          },
          "metadata": {},
          "execution_count": 19
        }
      ]
    },
    {
      "cell_type": "code",
      "source": [
        "x=bytearray(5)\n",
        "print(x)\n",
        "type(x)"
      ],
      "metadata": {
        "colab": {
          "base_uri": "https://localhost:8080/"
        },
        "id": "Cf33T8qCvrqs",
        "outputId": "c270dd59-53b5-48cb-bdad-70e4a21f227e"
      },
      "execution_count": null,
      "outputs": [
        {
          "output_type": "stream",
          "name": "stdout",
          "text": [
            "bytearray(b'\\x00\\x00\\x00\\x00\\x00')\n"
          ]
        },
        {
          "output_type": "execute_result",
          "data": {
            "text/plain": [
              "bytearray"
            ]
          },
          "metadata": {},
          "execution_count": 21
        }
      ]
    },
    {
      "cell_type": "code",
      "source": [
        "x=memoryview(bytes(5))\n",
        "print(x)\n",
        "type(x)"
      ],
      "metadata": {
        "colab": {
          "base_uri": "https://localhost:8080/"
        },
        "id": "7l_KxcmZv5nL",
        "outputId": "916cf4aa-7eec-464a-8984-9560675901e0"
      },
      "execution_count": null,
      "outputs": [
        {
          "output_type": "stream",
          "name": "stdout",
          "text": [
            "<memory at 0x7cfffbfec640>\n"
          ]
        },
        {
          "output_type": "execute_result",
          "data": {
            "text/plain": [
              "memoryview"
            ]
          },
          "metadata": {},
          "execution_count": 22
        }
      ]
    },
    {
      "cell_type": "code",
      "source": [
        "x=None\n",
        "print(x)\n",
        "type(x)"
      ],
      "metadata": {
        "colab": {
          "base_uri": "https://localhost:8080/"
        },
        "id": "wYzFMpnHwOKz",
        "outputId": "545ac03d-e9a5-4674-9eb4-fa3179ea6675"
      },
      "execution_count": null,
      "outputs": [
        {
          "output_type": "stream",
          "name": "stdout",
          "text": [
            "None\n"
          ]
        },
        {
          "output_type": "execute_result",
          "data": {
            "text/plain": [
              "NoneType"
            ]
          },
          "metadata": {},
          "execution_count": 23
        }
      ]
    },
    {
      "cell_type": "markdown",
      "source": [
        "#Setting the Specific Data Type\n",
        "If you want to specify the data type, you can use the following constructor functions:\n",
        "\n",
        "Example\tData Type:\n",
        "\n",
        "x = str(\"Hello World\")\t    :str\n",
        "\n",
        "x = int(20)\t                :int\n",
        "\n",
        "x = float(20.5)\t:float\n",
        "\n",
        "x = complex(1j)\t:complex\n",
        "\n",
        "x = list((\"apple\", \"banana\", \"cherry\"))\t:list\n",
        "\n",
        "x = tuple((\"apple\", \"banana\", \"cherry\"))\t:tuple\n",
        "\n",
        "x = range(6)\t:range\n",
        "\n",
        "x = dict(name=\"John\", age=36)\t:dict\n",
        "\n",
        "x = set((\"apple\", \"banana\", \"cherry\"))\t:set\n",
        "\n",
        "x = frozenset((\"apple\", \"banana\", \"cherry\"))\t:frozenset\n",
        "\n",
        "x = bool(5)\t:bool\n",
        "\n",
        "x = bytes(5)\t:bytes\n",
        "\n",
        "x = bytearray(5)\t:bytearray\n",
        "\n",
        "x = memoryview(bytes(5))\t:memoryview"
      ],
      "metadata": {
        "id": "-HQcP3xxyGH1"
      }
    },
    {
      "cell_type": "markdown",
      "source": [
        "#Numeric Data Types in Python\n",
        "\n",
        "**int:** Int, or integer, is a whole number, positive or negative,zero, or without decimals, of unlimited length.\n",
        "\n"
      ],
      "metadata": {
        "id": "-faGhVch0U2R"
      }
    },
    {
      "cell_type": "code",
      "source": [
        "# Example\n",
        "x = 1\n",
        "y = 35656222554887711\n",
        "z = -3255522\n",
        "\n",
        "print(type(x))\n",
        "print(type(y))\n",
        "print(type(z))"
      ],
      "metadata": {
        "colab": {
          "base_uri": "https://localhost:8080/"
        },
        "id": "o2HvzIlzwUdh",
        "outputId": "47867472-64c1-48be-a34d-a472a1886d51"
      },
      "execution_count": null,
      "outputs": [
        {
          "output_type": "stream",
          "name": "stdout",
          "text": [
            "<class 'int'>\n",
            "<class 'int'>\n",
            "<class 'int'>\n"
          ]
        }
      ]
    },
    {
      "cell_type": "markdown",
      "source": [
        "**float:** Float, or \"floating point number\" is a number, positive or negative, containing one or more decimals.\n",
        "\n",
        "\n",
        "they have a decimal point in them, or use an exponential (E) to define the number. For example 2.0 and -2.1 are examples of floating point numbers. 4E2 (4 times 10 to the power of 2) is also an example of a floating point number in Python.\n",
        "\n",
        "Float can also be scientific numbers with an \"e\" to indicate the power of 10.\n",
        "\n"
      ],
      "metadata": {
        "id": "FqwFW9Q40386"
      }
    },
    {
      "cell_type": "code",
      "source": [
        "x = 1.10\n",
        "y = 4E2\n",
        "z = -35.59\n",
        "a=5e2\n",
        "\n",
        "print(type(x))\n",
        "print(type(y))\n",
        "print(type(z))\n",
        "type(a)"
      ],
      "metadata": {
        "colab": {
          "base_uri": "https://localhost:8080/"
        },
        "id": "PGDD2OKL1WMB",
        "outputId": "6526fcfd-c29d-46a3-b181-cd16751f6c6e"
      },
      "execution_count": null,
      "outputs": [
        {
          "output_type": "stream",
          "name": "stdout",
          "text": [
            "<class 'float'>\n",
            "<class 'float'>\n",
            "<class 'float'>\n"
          ]
        },
        {
          "output_type": "execute_result",
          "data": {
            "text/plain": [
              "float"
            ]
          },
          "metadata": {},
          "execution_count": 26
        }
      ]
    },
    {
      "cell_type": "markdown",
      "source": [
        "**complex:**\n",
        "Complex numbers are written with a \"j\" as the imaginary part:\n",
        "\n",
        "\n"
      ],
      "metadata": {
        "id": "NHi2rRQr4wp6"
      }
    },
    {
      "cell_type": "code",
      "source": [
        "x=3+5j\n",
        "y=5j\n",
        "z=-3+5j\n",
        "print(type(x))\n",
        "print(type(y))\n",
        "print(type(z))"
      ],
      "metadata": {
        "colab": {
          "base_uri": "https://localhost:8080/"
        },
        "id": "JrfC9Lac1awB",
        "outputId": "6477736e-7059-40ba-bdf9-737de8fdea44"
      },
      "execution_count": null,
      "outputs": [
        {
          "output_type": "stream",
          "name": "stdout",
          "text": [
            "<class 'complex'>\n",
            "<class 'complex'>\n",
            "<class 'complex'>\n"
          ]
        }
      ]
    },
    {
      "cell_type": "markdown",
      "source": [
        "#Basic Arithmetic\n",
        "Let's explore some basic arithmetic operations. Run the code cells to see the answers come to life!\n",
        "\n"
      ],
      "metadata": {
        "id": "aklzLZ2TLfOZ"
      }
    },
    {
      "cell_type": "code",
      "source": [
        "#Addition\n",
        "5+3"
      ],
      "metadata": {
        "colab": {
          "base_uri": "https://localhost:8080/"
        },
        "id": "fYIAEIZKLnmL",
        "outputId": "43cf1092-bef1-461a-d25e-3a7337daa046"
      },
      "execution_count": null,
      "outputs": [
        {
          "output_type": "execute_result",
          "data": {
            "text/plain": [
              "8"
            ]
          },
          "metadata": {},
          "execution_count": 28
        }
      ]
    },
    {
      "cell_type": "code",
      "source": [
        "#Subtraction\n",
        "5-3"
      ],
      "metadata": {
        "colab": {
          "base_uri": "https://localhost:8080/"
        },
        "id": "McD-IzaRLrOP",
        "outputId": "8395f413-85e9-45be-8ce8-7c6c87ad960e"
      },
      "execution_count": null,
      "outputs": [
        {
          "output_type": "execute_result",
          "data": {
            "text/plain": [
              "2"
            ]
          },
          "metadata": {},
          "execution_count": 29
        }
      ]
    },
    {
      "cell_type": "code",
      "source": [
        "#Multiplication\n",
        "5*3"
      ],
      "metadata": {
        "colab": {
          "base_uri": "https://localhost:8080/"
        },
        "id": "Foxfa3IPLvEu",
        "outputId": "93c226dd-a34b-4b4e-8d43-c12ae7aafc36"
      },
      "execution_count": null,
      "outputs": [
        {
          "output_type": "execute_result",
          "data": {
            "text/plain": [
              "15"
            ]
          },
          "metadata": {},
          "execution_count": 30
        }
      ]
    },
    {
      "cell_type": "code",
      "source": [
        "#Division\n",
        "5/3"
      ],
      "metadata": {
        "colab": {
          "base_uri": "https://localhost:8080/"
        },
        "id": "Dr_knW82LyWb",
        "outputId": "1382a532-1661-4859-c106-eeb9ab5266a7"
      },
      "execution_count": null,
      "outputs": [
        {
          "output_type": "execute_result",
          "data": {
            "text/plain": [
              "1.6666666666666667"
            ]
          },
          "metadata": {},
          "execution_count": 31
        }
      ]
    },
    {
      "cell_type": "code",
      "source": [
        "#Exponential\n",
        "5**3"
      ],
      "metadata": {
        "colab": {
          "base_uri": "https://localhost:8080/"
        },
        "id": "NFCTnG39L2Bl",
        "outputId": "e822b77b-1427-4b16-a131-99d6fe911cf4"
      },
      "execution_count": null,
      "outputs": [
        {
          "output_type": "execute_result",
          "data": {
            "text/plain": [
              "125"
            ]
          },
          "metadata": {},
          "execution_count": 32
        }
      ]
    },
    {
      "cell_type": "code",
      "source": [
        "#Foor division\n",
        "5//3"
      ],
      "metadata": {
        "colab": {
          "base_uri": "https://localhost:8080/"
        },
        "id": "qo45vWjvL9OP",
        "outputId": "524bef67-ba76-491f-9c09-d0e4f7719bce"
      },
      "execution_count": null,
      "outputs": [
        {
          "output_type": "execute_result",
          "data": {
            "text/plain": [
              "1"
            ]
          },
          "metadata": {},
          "execution_count": 33
        }
      ]
    },
    {
      "cell_type": "code",
      "source": [
        "#Modulus\n",
        "5%3   # remainder"
      ],
      "metadata": {
        "colab": {
          "base_uri": "https://localhost:8080/"
        },
        "id": "2kIjNy-dMHTj",
        "outputId": "fe94c3ee-4693-4682-daf0-982df7abcd50"
      },
      "execution_count": null,
      "outputs": [
        {
          "output_type": "execute_result",
          "data": {
            "text/plain": [
              "2"
            ]
          },
          "metadata": {},
          "execution_count": 34
        }
      ]
    },
    {
      "cell_type": "markdown",
      "source": [
        "#BODMAS\n",
        "\n",
        "operator precedence in python follows the BODMAS rule for arithmetic expressions. The precedence of operators is listed below in a high to low manner.\n",
        "\n",
        "Firstly, parantheses will be evaluated, then exponentiation and so on.\n",
        "\n",
        "B – Bracket\n",
        "\n",
        "O – Order\n",
        "\n",
        "D – Division\n",
        "\n",
        "M – Multiplication\n",
        "\n",
        "A – Addition\n",
        "\n",
        "S – Subtraction\n",
        "\n",
        "1. Parentheses: Expressions inside parentheses are always evaluated first.\n",
        "\n",
        "2. Exponents: The ** operator is evaluated next.\n",
        "\n",
        "3. Multiplication and Division: *, /, // and % are evaluated from left to right next.\n",
        "\n",
        "4. Addition and Subtraction: + and - are evaluated last, from left to right.\n",
        "\n",
        "(5 + 2) * 3 ** 2 - 1\n",
        "\n",
        "=7*3 ** 2 - 1\n",
        "\n",
        "=7*9-1\n",
        "\n",
        "=63-1\n",
        "\n",
        "=62\n",
        "\n"
      ],
      "metadata": {
        "id": "gjVWZA-EMoJQ"
      }
    },
    {
      "cell_type": "code",
      "source": [
        "# BODMAS nostalgia\n",
        "print((5+2)*3**2-1)"
      ],
      "metadata": {
        "colab": {
          "base_uri": "https://localhost:8080/"
        },
        "id": "IxsOPWWMMMDz",
        "outputId": "a891967c-9b33-4f65-f23a-9fb03c0685a5"
      },
      "execution_count": null,
      "outputs": [
        {
          "output_type": "stream",
          "name": "stdout",
          "text": [
            "62\n"
          ]
        }
      ]
    },
    {
      "cell_type": "markdown",
      "source": [],
      "metadata": {
        "id": "0QRNkZScEKJ2"
      }
    },
    {
      "cell_type": "code",
      "source": [
        "2+10*(10+3)"
      ],
      "metadata": {
        "colab": {
          "base_uri": "https://localhost:8080/"
        },
        "id": "tFRd59vfOQVQ",
        "outputId": "9b79fcf9-cc66-43cc-ebe2-1e86b86c61ac"
      },
      "execution_count": null,
      "outputs": [
        {
          "output_type": "execute_result",
          "data": {
            "text/plain": [
              "132"
            ]
          },
          "metadata": {},
          "execution_count": 36
        }
      ]
    },
    {
      "cell_type": "code",
      "source": [],
      "metadata": {
        "id": "q6_DyYCEOb0F"
      },
      "execution_count": null,
      "outputs": []
    }
  ]
}