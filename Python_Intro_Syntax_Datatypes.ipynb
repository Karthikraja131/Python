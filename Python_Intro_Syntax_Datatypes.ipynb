{
  "nbformat": 4,
  "nbformat_minor": 0,
  "metadata": {
    "colab": {
      "provenance": [],
      "authorship_tag": "ABX9TyPD2l+CZJAN7mUeNiiXnkgI",
      "include_colab_link": true
    },
    "kernelspec": {
      "name": "python3",
      "display_name": "Python 3"
    },
    "language_info": {
      "name": "python"
    }
  },
  "cells": [
    {
      "cell_type": "markdown",
      "metadata": {
        "id": "view-in-github",
        "colab_type": "text"
      },
      "source": [
        "<a href=\"https://colab.research.google.com/github/Karthikraja131/Python/blob/main/Python_Intro_Syntax_Datatypes.ipynb\" target=\"_parent\"><img src=\"https://colab.research.google.com/assets/colab-badge.svg\" alt=\"Open In Colab\"/></a>"
      ]
    },
    {
      "cell_type": "markdown",
      "source": [
        "#What is Python?\n",
        "Python is a popular programming language. It was created by Guido van Rossum, and released in 1991.\n",
        "\n",
        "**It is used for:**\n",
        "\n",
        "* web development (server-side),\n",
        "\n",
        "* software development,\n",
        "\n",
        "* mathematics,\n",
        "\n",
        "* system scripting.\n",
        "\n",
        "**What can Python do?**\n",
        "\n",
        "* Python can be used on a server to create web applications.\n",
        "\n",
        "* Python can be used alongside software to create workflows.\n",
        "\n",
        "* Python can connect to database systems. It can also read and modify files.\n",
        "\n",
        "* Python can be used to handle big data and perform complex mathematics.\n",
        "\n",
        "* Python can be used for rapid prototyping, or for production-ready software development.\n"
      ],
      "metadata": {
        "id": "zp9boDQf2w4V"
      }
    },
    {
      "cell_type": "markdown",
      "source": [
        "#**Why Python?**\n",
        "\n",
        "* Python works on different platforms (Windows, Mac, Linux, Raspberry Pi, etc).\n",
        "\n",
        "* Python has a simple syntax similar to the English language.\n",
        "\n",
        "* Python has syntax that allows developers to write programs with fewer lines than some other programming languages.\n",
        "\n",
        "* Python runs on an interpreter system, meaning that code can be executed as soon as it is written. This means that prototyping can be very quick.\n",
        "\n",
        "* Python can be treated in a procedural way, an object-oriented way or a functional way.\n",
        "\n",
        "* Python has a vast array of libraries and tools that are specifically designed for data science, including NumPy, Pandas, Matplotlib, and Scikit-learn.\n",
        "\n",
        "* Python has a large open source community that provides support, tutorials, and documentation, making it easier for beginners to learn and use Python for data science tasks.\n",
        "\n",
        "#**Good to know**\n",
        "\n",
        "The most recent major version of Python is Python 3, which we shall be using in this tutorial. However, Python 2, although not being updated with anything other than security updates, is still quite popular.\n",
        "\n",
        "#**Python Syntax compared to other programming languages**\n",
        "\n",
        "* Python was designed for readability, and has some similarities to the English language with influence from mathematics.\n",
        "\n",
        "* Python uses new lines to complete a command, as opposed to other programming languages which often use semicolons or parentheses.\n",
        "\n",
        "* Python relies on indentation, using whitespace, to define scope; such as the scope of loops, functions and classes. Other programming languages often use curly-brackets for this purpose."
      ],
      "metadata": {
        "id": "Nw7LP9YT5BM0"
      }
    },
    {
      "cell_type": "markdown",
      "source": [
        "#Other Programing Languages similar to Python\n",
        "**Ruby 🧱**\n",
        "Ruby is a dynamic, object-oriented programming language that shares many similarities with Python. Both languages emphasize simplicity, readability, and developer productivity. Ruby is often used for web development, and is the primary language behind the popular web framework Ruby on Rails.\n",
        "\n",
        "**JavaScript 🌐**\n",
        "JavaScript is a high-level, dynamic programming language that is commonly used for web development. Like Python, JavaScript is easy to learn and has a simple syntax, and is often used for scripting and automation tasks. JavaScript is also an interpreted language, meaning that it can be run directly in a web browser without the need for compilation.\n",
        "\n",
        "**Perl 🐪**\n",
        "Perl is a high-level, general-purpose programming language that shares many similarities with Python. Like Python, Perl is easy to learn and has a simple syntax, and is often used for text processing and system administration tasks. Perl is known for its powerful regular expression engine and its flexibility, making it ideal for a wide range of applications.\n",
        "\n",
        "**Java ☕️**Java is a general-purpose, object-oriented programming language that is widely used for enterprise development. While Java has a more complex syntax than Python, it shares many similarities in terms of its focus on readability, maintainability, and performance. Java is known for its platform independence, which allows developers to write code once and run it on any platform that supports Java.\n",
        "\n",
        "**Julia 📊**\n",
        "Julia is a high-level, high-performance programming language that is designed for numerical and scientific computing. Like Python, Julia is easy to learn and has a simple syntax, and is often used for data analysis, machine learning, and scientific computing. Julia is known for its speed and performance, and is often used for complex computations that require high-level abstractions and numerical precision.\n",
        "\n",
        "Each of these programming languages has its own unique features and strengths, but all share a focus on simplicity, readability, and ease of use. Whether you're building web applications, analyzing data, or working on large-scale enterprise systems, there's a programming language that's right for your needs.\n",
        "\n",
        "\n",
        "\n",
        "\n"
      ],
      "metadata": {
        "id": "bPzVZpkGScfk"
      }
    },
    {
      "cell_type": "markdown",
      "source": [
        "#Shortcomings\n",
        "**Speed:** Python is an interpreted language, which can make it slower than compiled languages like C or C++.\n",
        "\n",
        "**Memory management:** Python's memory management can be less efficient than languages like C or C++, which can lead to memory leaks and performance issues.\n",
        "\n",
        "**Concurrency:** Python's Global Interpreter Lock (GIL) can make it challenging to take full advantage of multi-core processors.\n",
        "\n",
        "**Error-prone:** Python's dynamic nature can make it more prone to errors, especially regarding type checking.\n",
        "\n",
        "**Limited debugging capabilities:** Some IDEs for Python may not have advanced debugging features, such as the ability to step through code, set breakpoints, and inspect variables."
      ],
      "metadata": {
        "id": "ktfom3O8SJbJ"
      }
    },
    {
      "cell_type": "markdown",
      "source": [
        "#IDE\n",
        "* An Integrated Development Environment (IDE) is a software application that provides programmers with a comprehensive set of tools and features to write, debug, and test their code in a single interface.\n",
        "\n",
        "* IDEs often include a text editor, a debugger, a compiler, and other features like autocomplete, syntax highlighting, and code formatting.\n",
        "\n",
        "* IDEs are designed to make the coding process more efficient and productive by providing all the necessary tools and features in one place, which can save time and effort for developers.\n",
        "\n",
        "* IDEs are commonly used for programming languages like Python, Java, C++, and many more.\n",
        "\n",
        "**Few examples of IDE:**\n",
        "\n",
        "* PyCharm\n",
        "* Spyder\n",
        "* IDLE\n",
        "* Jupyter\n",
        "* Visual Studio Code (VSCode):\n",
        "* Google Colab"
      ],
      "metadata": {
        "id": "wSvhXkf39JsO"
      }
    },
    {
      "cell_type": "markdown",
      "source": [
        "#Why Google Colab\n",
        "* It is a web-based platform that does not require any installation or setup, making it easily accessible to anyone with an internet connection.\n",
        "* It offers a free environment for users to run and execute code, making it ideal for beginners who may not want to invest in expensive hardware or software.\n",
        "* It allows for collaborative work and sharing of code and notebooks, making it easy for beginners to work with others and get feedback on their work.\n",
        "* It comes with pre-installed libraries and tools commonly used in data science, such as NumPy, Pandas, and Matplotlib, making it easy for beginners to start working on their projects without having to worry about setting up their environment.\n",
        "\n"
      ],
      "metadata": {
        "id": "bPoyd2Hy97Wa"
      }
    },
    {
      "cell_type": "markdown",
      "source": [
        "#Let's go ahead and run our very first code. Excited? 😎\n"
      ],
      "metadata": {
        "id": "Ma3xkbHl-Hkj"
      }
    },
    {
      "cell_type": "code",
      "source": [
        "print('Hello Universe')"
      ],
      "metadata": {
        "id": "-Gy9jHO17Lzj",
        "colab": {
          "base_uri": "https://localhost:8080/"
        },
        "outputId": "2ae7dd7d-a2f7-419b-cd23-303cae7a6a6a"
      },
      "execution_count": null,
      "outputs": [
        {
          "output_type": "stream",
          "name": "stdout",
          "text": [
            "Hello Universe\n"
          ]
        }
      ]
    },
    {
      "cell_type": "markdown",
      "source": [
        "At the backend, what's happening is that Python is reading the code line by line and executing the instructions. In this case, the print() command is called with \"Hello Universe\" as an argument. The print() command then displays \"Hello Universe\" on the console output."
      ],
      "metadata": {
        "id": "fikiMnq--doj"
      }
    },
    {
      "cell_type": "markdown",
      "source": [
        "**Python Version**\n",
        "* To check the Python version of the editor, you can find it by importing the sys module:"
      ],
      "metadata": {
        "id": "XTLmWdoVqhbd"
      }
    },
    {
      "cell_type": "code",
      "execution_count": 2,
      "metadata": {
        "id": "FfPVgqBG2TYw",
        "colab": {
          "base_uri": "https://localhost:8080/"
        },
        "outputId": "160e92c5-6b34-4471-9817-2bb3e2b7d2f1"
      },
      "outputs": [
        {
          "output_type": "stream",
          "name": "stdout",
          "text": [
            "3.10.12 (main, Mar 22 2024, 16:50:05) [GCC 11.4.0]\n"
          ]
        }
      ],
      "source": [
        "import sys\n",
        "print(sys.version)"
      ]
    },
    {
      "cell_type": "markdown",
      "source": [
        "**The Python Command Line**\n",
        "* To test a short amount of code in python sometimes it is quickest and easiest not to write the code in a file. This is made possible because Python can be run as a command line itself.\n",
        "*Type the following on the Windows, Mac or Linux command line:\n"
      ],
      "metadata": {
        "id": "gBb2vwm4q68a"
      }
    },
    {
      "cell_type": "markdown",
      "source": [
        "#Built-in Data Types\n",
        "\n",
        "In programming, data type is an important concept.\n",
        "\n",
        "Variables can store data of different types, and different types can do different things.\n",
        "\n",
        "Python has the following data types built-in by default, in these categories:\n",
        "\n",
        "**Text Type:**\t     str\n",
        "\n",
        "**Numeric Types:**\t int, float, complex\n",
        "\n",
        "**Sequence Types:**\t list, tuple, range\n",
        "\n",
        "**Mapping Type:**\t   dict\n",
        "\n",
        "**Set Types:**\t     set, frozenset\n",
        "\n",
        "**Boolean Type:**\t   bool\n",
        "\n",
        "**Binary Types:**\t   bytes, bytearray, memoryview\n",
        "\n",
        "**None Type:**\t     NoneType"
      ],
      "metadata": {
        "id": "2_TBuIAXr7MQ"
      }
    },
    {
      "cell_type": "markdown",
      "source": [
        "#Getting the Data Type\n",
        "\n",
        "You can get the data type of any object by using the type() function:\n",
        "\n"
      ],
      "metadata": {
        "id": "sonk09upsuZi"
      }
    },
    {
      "cell_type": "code",
      "source": [
        "x = 5\n",
        "print(type(x))"
      ],
      "metadata": {
        "colab": {
          "base_uri": "https://localhost:8080/"
        },
        "id": "6ny5N1our6fU",
        "outputId": "8ddebd88-4679-408c-ede3-9d22384cc065"
      },
      "execution_count": 4,
      "outputs": [
        {
          "output_type": "stream",
          "name": "stdout",
          "text": [
            "<class 'int'>\n"
          ]
        }
      ]
    },
    {
      "cell_type": "markdown",
      "source": [
        "#Setting the Data Type\n",
        "* In Python, the data type is set when you assign a value to a variable:\n"
      ],
      "metadata": {
        "id": "KD2vxg9KtY21"
      }
    },
    {
      "cell_type": "code",
      "source": [
        "x= 5\n",
        "type(x)"
      ],
      "metadata": {
        "colab": {
          "base_uri": "https://localhost:8080/"
        },
        "id": "Fu8iwhXBqvH1",
        "outputId": "8ff32c90-f5cb-42af-a194-d7f37dbfb010"
      },
      "execution_count": 6,
      "outputs": [
        {
          "output_type": "execute_result",
          "data": {
            "text/plain": [
              "int"
            ]
          },
          "metadata": {},
          "execution_count": 6
        }
      ]
    },
    {
      "cell_type": "code",
      "source": [
        "x=5.0\n",
        "type(x)"
      ],
      "metadata": {
        "colab": {
          "base_uri": "https://localhost:8080/"
        },
        "id": "uG6mmvXxr50z",
        "outputId": "448d1b08-c9c7-48d1-e85d-8dda972a1254"
      },
      "execution_count": 7,
      "outputs": [
        {
          "output_type": "execute_result",
          "data": {
            "text/plain": [
              "float"
            ]
          },
          "metadata": {},
          "execution_count": 7
        }
      ]
    },
    {
      "cell_type": "code",
      "source": [
        "x=\"Hello Universe\"\n",
        "type(x)"
      ],
      "metadata": {
        "colab": {
          "base_uri": "https://localhost:8080/"
        },
        "id": "9fUr_1_6trgz",
        "outputId": "2accde49-60a7-4e33-e3ad-8402e4401051"
      },
      "execution_count": 8,
      "outputs": [
        {
          "output_type": "execute_result",
          "data": {
            "text/plain": [
              "str"
            ]
          },
          "metadata": {},
          "execution_count": 8
        }
      ]
    },
    {
      "cell_type": "code",
      "source": [
        "x= 1+2j\n",
        "type(x)"
      ],
      "metadata": {
        "colab": {
          "base_uri": "https://localhost:8080/"
        },
        "id": "7KHPVgAStyjy",
        "outputId": "6ed5f4be-0723-469a-bd7a-a87c9413335d"
      },
      "execution_count": 9,
      "outputs": [
        {
          "output_type": "execute_result",
          "data": {
            "text/plain": [
              "complex"
            ]
          },
          "metadata": {},
          "execution_count": 9
        }
      ]
    },
    {
      "cell_type": "code",
      "source": [
        "x=[\"Karthik\",\"AI Engineer\",2500000,True]\n",
        "type(x)"
      ],
      "metadata": {
        "colab": {
          "base_uri": "https://localhost:8080/"
        },
        "id": "3MN5bT56t7BX",
        "outputId": "0d30b97f-eafd-44b8-c0fa-ef1eb63d5737"
      },
      "execution_count": 10,
      "outputs": [
        {
          "output_type": "execute_result",
          "data": {
            "text/plain": [
              "list"
            ]
          },
          "metadata": {},
          "execution_count": 10
        }
      ]
    },
    {
      "cell_type": "code",
      "source": [
        "x=(\"Karthik\",\"AI Engineer\",2500000,True)\n",
        "type(x)"
      ],
      "metadata": {
        "colab": {
          "base_uri": "https://localhost:8080/"
        },
        "id": "ASvmsacCuPO0",
        "outputId": "848060cd-41b6-476d-bff6-1ace6c1ef778"
      },
      "execution_count": 11,
      "outputs": [
        {
          "output_type": "execute_result",
          "data": {
            "text/plain": [
              "tuple"
            ]
          },
          "metadata": {},
          "execution_count": 11
        }
      ]
    },
    {
      "cell_type": "code",
      "source": [
        "x=range(5)\n",
        "print(x)"
      ],
      "metadata": {
        "colab": {
          "base_uri": "https://localhost:8080/"
        },
        "id": "j5OgyyyruXrD",
        "outputId": "02b7e422-d9a5-48b7-a460-ec621b562c87"
      },
      "execution_count": 12,
      "outputs": [
        {
          "output_type": "stream",
          "name": "stdout",
          "text": [
            "range(0, 5)\n"
          ]
        }
      ]
    },
    {
      "cell_type": "code",
      "source": [
        "x={\"name\":\"karthik\", \"Age\": 29, \"Data Scientist\":True }\n",
        "type(x)"
      ],
      "metadata": {
        "colab": {
          "base_uri": "https://localhost:8080/"
        },
        "id": "rc9v5jauudSr",
        "outputId": "80e62346-5ea6-417e-8d95-6903b89df34c"
      },
      "execution_count": 15,
      "outputs": [
        {
          "output_type": "execute_result",
          "data": {
            "text/plain": [
              "dict"
            ]
          },
          "metadata": {},
          "execution_count": 15
        }
      ]
    },
    {
      "cell_type": "code",
      "source": [
        "x={\"Karthik\",\"AI Engineer\",29,\"Karthik\"}\n",
        "print(x)\n",
        "type(x)"
      ],
      "metadata": {
        "colab": {
          "base_uri": "https://localhost:8080/"
        },
        "id": "9iKqFWBcuqrB",
        "outputId": "09f82f1f-7d25-4591-f6d1-a0ba10799f8e"
      },
      "execution_count": 16,
      "outputs": [
        {
          "output_type": "stream",
          "name": "stdout",
          "text": [
            "{'Karthik', 29, 'AI Engineer'}\n"
          ]
        },
        {
          "output_type": "execute_result",
          "data": {
            "text/plain": [
              "set"
            ]
          },
          "metadata": {},
          "execution_count": 16
        }
      ]
    },
    {
      "cell_type": "code",
      "source": [
        "x=frozenset({\"Karthik\",\"AI Engineer\",29,\"Karthik\"})\n",
        "print(x)\n",
        "type(x)"
      ],
      "metadata": {
        "colab": {
          "base_uri": "https://localhost:8080/"
        },
        "id": "PnIhb4J3vEzH",
        "outputId": "cee063f7-1106-42a7-e895-7436e2ac42bb"
      },
      "execution_count": 17,
      "outputs": [
        {
          "output_type": "stream",
          "name": "stdout",
          "text": [
            "frozenset({'Karthik', 29, 'AI Engineer'})\n"
          ]
        },
        {
          "output_type": "execute_result",
          "data": {
            "text/plain": [
              "frozenset"
            ]
          },
          "metadata": {},
          "execution_count": 17
        }
      ]
    },
    {
      "cell_type": "code",
      "source": [
        "x=True\n",
        "type(x)"
      ],
      "metadata": {
        "colab": {
          "base_uri": "https://localhost:8080/"
        },
        "id": "WB54Kg1GvXpN",
        "outputId": "336a4d23-9f44-458f-d6fb-d4bd984200b3"
      },
      "execution_count": 18,
      "outputs": [
        {
          "output_type": "execute_result",
          "data": {
            "text/plain": [
              "bool"
            ]
          },
          "metadata": {},
          "execution_count": 18
        }
      ]
    },
    {
      "cell_type": "code",
      "source": [
        "x=b\"Scientist\"\n",
        "print(x)\n",
        "type(x)"
      ],
      "metadata": {
        "colab": {
          "base_uri": "https://localhost:8080/"
        },
        "id": "coZaNq9tvfgk",
        "outputId": "fdbfc3f3-7c4b-4966-c368-9217b3dab097"
      },
      "execution_count": 19,
      "outputs": [
        {
          "output_type": "stream",
          "name": "stdout",
          "text": [
            "b'Scientist'\n"
          ]
        },
        {
          "output_type": "execute_result",
          "data": {
            "text/plain": [
              "bytes"
            ]
          },
          "metadata": {},
          "execution_count": 19
        }
      ]
    },
    {
      "cell_type": "code",
      "source": [
        "x=bytearray(5)\n",
        "print(x)\n",
        "type(x)"
      ],
      "metadata": {
        "colab": {
          "base_uri": "https://localhost:8080/"
        },
        "id": "Cf33T8qCvrqs",
        "outputId": "c270dd59-53b5-48cb-bdad-70e4a21f227e"
      },
      "execution_count": 21,
      "outputs": [
        {
          "output_type": "stream",
          "name": "stdout",
          "text": [
            "bytearray(b'\\x00\\x00\\x00\\x00\\x00')\n"
          ]
        },
        {
          "output_type": "execute_result",
          "data": {
            "text/plain": [
              "bytearray"
            ]
          },
          "metadata": {},
          "execution_count": 21
        }
      ]
    },
    {
      "cell_type": "code",
      "source": [
        "x=memoryview(bytes(5))\n",
        "print(x)\n",
        "type(x)"
      ],
      "metadata": {
        "colab": {
          "base_uri": "https://localhost:8080/"
        },
        "id": "7l_KxcmZv5nL",
        "outputId": "916cf4aa-7eec-464a-8984-9560675901e0"
      },
      "execution_count": 22,
      "outputs": [
        {
          "output_type": "stream",
          "name": "stdout",
          "text": [
            "<memory at 0x7cfffbfec640>\n"
          ]
        },
        {
          "output_type": "execute_result",
          "data": {
            "text/plain": [
              "memoryview"
            ]
          },
          "metadata": {},
          "execution_count": 22
        }
      ]
    },
    {
      "cell_type": "code",
      "source": [
        "x=None\n",
        "print(x)\n",
        "type(x)"
      ],
      "metadata": {
        "colab": {
          "base_uri": "https://localhost:8080/"
        },
        "id": "wYzFMpnHwOKz",
        "outputId": "545ac03d-e9a5-4674-9eb4-fa3179ea6675"
      },
      "execution_count": 23,
      "outputs": [
        {
          "output_type": "stream",
          "name": "stdout",
          "text": [
            "None\n"
          ]
        },
        {
          "output_type": "execute_result",
          "data": {
            "text/plain": [
              "NoneType"
            ]
          },
          "metadata": {},
          "execution_count": 23
        }
      ]
    },
    {
      "cell_type": "markdown",
      "source": [
        "#Setting the Specific Data Type\n",
        "If you want to specify the data type, you can use the following constructor functions:\n",
        "\n",
        "Example\tData Type:\n",
        "\n",
        "x = str(\"Hello World\")\t    :str\n",
        "x = int(20)\t                :int\n",
        "x = float(20.5)\t:float\n",
        "x = complex(1j)\t:complex\n",
        "x = list((\"apple\", \"banana\", \"cherry\"))\t:list\n",
        "x = tuple((\"apple\", \"banana\", \"cherry\"))\t:tuple\n",
        "x = range(6)\t:range\n",
        "x = dict(name=\"John\", age=36)\t:dict\n",
        "x = set((\"apple\", \"banana\", \"cherry\"))\t:set\n",
        "x = frozenset((\"apple\", \"banana\", \"cherry\"))\t:frozenset\n",
        "x = bool(5)\t:bool\n",
        "x = bytes(5)\t:bytes\n",
        "x = bytearray(5)\t:bytearray\n",
        "x = memoryview(bytes(5))\t:memoryview"
      ],
      "metadata": {
        "id": "-HQcP3xxyGH1"
      }
    },
    {
      "cell_type": "markdown",
      "source": [
        "#Numeric Data Types in Python\n",
        "\n",
        "**int:** Int, or integer, is a whole number, positive or negative,zero, or without decimals, of unlimited length.\n",
        "\n"
      ],
      "metadata": {
        "id": "-faGhVch0U2R"
      }
    },
    {
      "cell_type": "code",
      "source": [
        "# Example\n",
        "x = 1\n",
        "y = 35656222554887711\n",
        "z = -3255522\n",
        "\n",
        "print(type(x))\n",
        "print(type(y))\n",
        "print(type(z))"
      ],
      "metadata": {
        "colab": {
          "base_uri": "https://localhost:8080/"
        },
        "id": "o2HvzIlzwUdh",
        "outputId": "47867472-64c1-48be-a34d-a472a1886d51"
      },
      "execution_count": 24,
      "outputs": [
        {
          "output_type": "stream",
          "name": "stdout",
          "text": [
            "<class 'int'>\n",
            "<class 'int'>\n",
            "<class 'int'>\n"
          ]
        }
      ]
    },
    {
      "cell_type": "markdown",
      "source": [
        "**float:** Float, or \"floating point number\" is a number, positive or negative, containing one or more decimals.\n",
        "\n",
        "\n",
        "they have a decimal point in them, or use an exponential (E) to define the number. For example 2.0 and -2.1 are examples of floating point numbers. 4E2 (4 times 10 to the power of 2) is also an example of a floating point number in Python.\n",
        "\n",
        "Float can also be scientific numbers with an \"e\" to indicate the power of 10.\n",
        "\n"
      ],
      "metadata": {
        "id": "FqwFW9Q40386"
      }
    },
    {
      "cell_type": "code",
      "source": [
        "x = 1.10\n",
        "y = 4E2\n",
        "z = -35.59\n",
        "a=5e2\n",
        "\n",
        "print(type(x))\n",
        "print(type(y))\n",
        "print(type(z))\n",
        "type(a)"
      ],
      "metadata": {
        "colab": {
          "base_uri": "https://localhost:8080/"
        },
        "id": "PGDD2OKL1WMB",
        "outputId": "6526fcfd-c29d-46a3-b181-cd16751f6c6e"
      },
      "execution_count": 26,
      "outputs": [
        {
          "output_type": "stream",
          "name": "stdout",
          "text": [
            "<class 'float'>\n",
            "<class 'float'>\n",
            "<class 'float'>\n"
          ]
        },
        {
          "output_type": "execute_result",
          "data": {
            "text/plain": [
              "float"
            ]
          },
          "metadata": {},
          "execution_count": 26
        }
      ]
    },
    {
      "cell_type": "markdown",
      "source": [
        "**complex:**\n",
        "Complex numbers are written with a \"j\" as the imaginary part:\n",
        "\n",
        "\n"
      ],
      "metadata": {
        "id": "NHi2rRQr4wp6"
      }
    },
    {
      "cell_type": "code",
      "source": [
        "x=3+5j\n",
        "y=5j\n",
        "z=-3+5j\n",
        "print(type(x))\n",
        "print(type(y))\n",
        "print(type(z))"
      ],
      "metadata": {
        "colab": {
          "base_uri": "https://localhost:8080/"
        },
        "id": "JrfC9Lac1awB",
        "outputId": "6477736e-7059-40ba-bdf9-737de8fdea44"
      },
      "execution_count": 27,
      "outputs": [
        {
          "output_type": "stream",
          "name": "stdout",
          "text": [
            "<class 'complex'>\n",
            "<class 'complex'>\n",
            "<class 'complex'>\n"
          ]
        }
      ]
    },
    {
      "cell_type": "markdown",
      "source": [
        "#Basic Arithmetic\n",
        "Let's explore some basic arithmetic operations. Run the code cells to see the answers come to life!\n",
        "\n"
      ],
      "metadata": {
        "id": "aklzLZ2TLfOZ"
      }
    },
    {
      "cell_type": "code",
      "source": [
        "#Addition\n",
        "5+3"
      ],
      "metadata": {
        "colab": {
          "base_uri": "https://localhost:8080/"
        },
        "id": "fYIAEIZKLnmL",
        "outputId": "43cf1092-bef1-461a-d25e-3a7337daa046"
      },
      "execution_count": 28,
      "outputs": [
        {
          "output_type": "execute_result",
          "data": {
            "text/plain": [
              "8"
            ]
          },
          "metadata": {},
          "execution_count": 28
        }
      ]
    },
    {
      "cell_type": "code",
      "source": [
        "#Subtraction\n",
        "5-3"
      ],
      "metadata": {
        "colab": {
          "base_uri": "https://localhost:8080/"
        },
        "id": "McD-IzaRLrOP",
        "outputId": "8395f413-85e9-45be-8ce8-7c6c87ad960e"
      },
      "execution_count": 29,
      "outputs": [
        {
          "output_type": "execute_result",
          "data": {
            "text/plain": [
              "2"
            ]
          },
          "metadata": {},
          "execution_count": 29
        }
      ]
    },
    {
      "cell_type": "code",
      "source": [
        "#Multiplication\n",
        "5*3"
      ],
      "metadata": {
        "colab": {
          "base_uri": "https://localhost:8080/"
        },
        "id": "Foxfa3IPLvEu",
        "outputId": "93c226dd-a34b-4b4e-8d43-c12ae7aafc36"
      },
      "execution_count": 30,
      "outputs": [
        {
          "output_type": "execute_result",
          "data": {
            "text/plain": [
              "15"
            ]
          },
          "metadata": {},
          "execution_count": 30
        }
      ]
    },
    {
      "cell_type": "code",
      "source": [
        "#Division\n",
        "5/3"
      ],
      "metadata": {
        "colab": {
          "base_uri": "https://localhost:8080/"
        },
        "id": "Dr_knW82LyWb",
        "outputId": "1382a532-1661-4859-c106-eeb9ab5266a7"
      },
      "execution_count": 31,
      "outputs": [
        {
          "output_type": "execute_result",
          "data": {
            "text/plain": [
              "1.6666666666666667"
            ]
          },
          "metadata": {},
          "execution_count": 31
        }
      ]
    },
    {
      "cell_type": "code",
      "source": [
        "#Exponential\n",
        "5**3"
      ],
      "metadata": {
        "colab": {
          "base_uri": "https://localhost:8080/"
        },
        "id": "NFCTnG39L2Bl",
        "outputId": "e822b77b-1427-4b16-a131-99d6fe911cf4"
      },
      "execution_count": 32,
      "outputs": [
        {
          "output_type": "execute_result",
          "data": {
            "text/plain": [
              "125"
            ]
          },
          "metadata": {},
          "execution_count": 32
        }
      ]
    },
    {
      "cell_type": "code",
      "source": [
        "#Foor division\n",
        "5//3"
      ],
      "metadata": {
        "colab": {
          "base_uri": "https://localhost:8080/"
        },
        "id": "qo45vWjvL9OP",
        "outputId": "524bef67-ba76-491f-9c09-d0e4f7719bce"
      },
      "execution_count": 33,
      "outputs": [
        {
          "output_type": "execute_result",
          "data": {
            "text/plain": [
              "1"
            ]
          },
          "metadata": {},
          "execution_count": 33
        }
      ]
    },
    {
      "cell_type": "code",
      "source": [
        "#Modulus\n",
        "5%3   # remainder"
      ],
      "metadata": {
        "colab": {
          "base_uri": "https://localhost:8080/"
        },
        "id": "2kIjNy-dMHTj",
        "outputId": "fe94c3ee-4693-4682-daf0-982df7abcd50"
      },
      "execution_count": 34,
      "outputs": [
        {
          "output_type": "execute_result",
          "data": {
            "text/plain": [
              "2"
            ]
          },
          "metadata": {},
          "execution_count": 34
        }
      ]
    },
    {
      "cell_type": "markdown",
      "source": [
        "#BODMAS\n",
        "\n",
        "operator precedence in python follows the BODMAS rule for arithmetic expressions. The precedence of operators is listed below in a high to low manner.\n",
        "\n",
        "Firstly, parantheses will be evaluated, then exponentiation and so on.\n",
        "\n",
        "B – Bracket\n",
        "\n",
        "O – Order\n",
        "\n",
        "D – Division\n",
        "\n",
        "M – Multiplication\n",
        "\n",
        "A – Addition\n",
        "\n",
        "S – Subtraction\n",
        "\n",
        "(5 + 2) * 3 ** 2 - 1\n",
        "\n",
        "=7*3 ** 2 - 1\n",
        "\n",
        "=7*9-1\n",
        "\n",
        "=63-1\n",
        "\n",
        "=62\n",
        "\n"
      ],
      "metadata": {
        "id": "gjVWZA-EMoJQ"
      }
    },
    {
      "cell_type": "code",
      "source": [
        "# BODMAS nostalgia\n",
        "print((5+2)*3**2-1)"
      ],
      "metadata": {
        "colab": {
          "base_uri": "https://localhost:8080/"
        },
        "id": "IxsOPWWMMMDz",
        "outputId": "a891967c-9b33-4f65-f23a-9fb03c0685a5"
      },
      "execution_count": 35,
      "outputs": [
        {
          "output_type": "stream",
          "name": "stdout",
          "text": [
            "62\n"
          ]
        }
      ]
    },
    {
      "cell_type": "code",
      "source": [
        "2+10*(10+3)"
      ],
      "metadata": {
        "colab": {
          "base_uri": "https://localhost:8080/"
        },
        "id": "tFRd59vfOQVQ",
        "outputId": "9b79fcf9-cc66-43cc-ebe2-1e86b86c61ac"
      },
      "execution_count": 36,
      "outputs": [
        {
          "output_type": "execute_result",
          "data": {
            "text/plain": [
              "132"
            ]
          },
          "metadata": {},
          "execution_count": 36
        }
      ]
    },
    {
      "cell_type": "code",
      "source": [],
      "metadata": {
        "id": "q6_DyYCEOb0F"
      },
      "execution_count": null,
      "outputs": []
    }
  ]
}