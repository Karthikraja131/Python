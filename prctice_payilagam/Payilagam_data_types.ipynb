{
 "cells": [
  {
   "cell_type": "code",
   "execution_count": 4,
   "id": "573f8b3a",
   "metadata": {},
   "outputs": [
    {
     "data": {
      "text/plain": [
       "' # No special charactor allowed\\n# No space is allowed\\n# Underscore is allowed (starting,middile,end)\\n# Numbers are allowed but should not start with numbers.\\n# Case sensitive\\n# No limitations, any length \\n# Reserved words in python should not used be used as identifiers.\\n# _,__ starting is private variable.\\n# Majic methods --> ___add__\\n'"
      ]
     },
     "execution_count": 4,
     "metadata": {},
     "output_type": "execute_result"
    }
   ],
   "source": [
    "## Python Variable rules\n",
    "\"\"\" # No special charactor allowed\n",
    "# No space is allowed\n",
    "# Underscore is allowed (starting,middile,end)\n",
    "# Numbers are allowed but should not start with numbers.\n",
    "# Case sensitive\n",
    "# No limitations, any length \n",
    "# Reserved words in python should not used be used as identifiers.\n",
    "# _,__ starting is private variable.\n",
    "# Majic methods --> ___add__\n",
    "\"\"\""
   ]
  },
  {
   "cell_type": "code",
   "execution_count": 6,
   "id": "2e7550e3",
   "metadata": {},
   "outputs": [
    {
     "data": {
      "text/plain": [
       "' there are 35 numbers of keywords.\\n\\n# True / False / None\\n# and / or / not / is\\n# if / elif / else \\n# while / for / break / continue / return / yield / in\\n# try / except / finally / raise / assert\\n# you can find keywords in python ad \\n     import keyword\\n     keyword.kwlist\\n     \\n'"
      ]
     },
     "execution_count": 6,
     "metadata": {},
     "output_type": "execute_result"
    }
   ],
   "source": [
    "## Python Reserved key words.\n",
    "\"\"\" there are 35 numbers of keywords.\n",
    "\n",
    "# True / False / None\n",
    "# and / or / not / is\n",
    "# if / elif / else \n",
    "# while / for / break / continue / return / yield / in\n",
    "# try / except / finally / raise / assert\n",
    "# you can find keywords in python ad \n",
    "     import keyword\n",
    "     keyword.kwlist\n",
    "     \n",
    "\"\"\"\n",
    "\n"
   ]
  },
  {
   "cell_type": "code",
   "execution_count": null,
   "id": "5d84bdc7",
   "metadata": {},
   "outputs": [],
   "source": [
    "## PYTHON DATA TYPES"
   ]
  },
  {
   "cell_type": "code",
   "execution_count": 1,
   "id": "3eddaee2",
   "metadata": {},
   "outputs": [
    {
     "name": "stdout",
     "output_type": "stream",
     "text": [
      "5\n",
      "<class 'int'>\n",
      "38937483949000\n",
      "11\n",
      "11\n",
      "3\n"
     ]
    }
   ],
   "source": [
    "# In python the data types are called dynamically programming language.\n",
    "# we never mention data types before variables ( Identifiers ) explicitly in python. \n",
    "# Python assign the data types automatically by what is the data we provide.\n",
    "\n",
    "\n",
    "\n",
    "\n",
    "# There are 14 types there in python\n",
    "\n",
    "# Integer ---> int\n",
    "# Floating ---> float\n",
    "# Complex ---> complex\n",
    "# string  ----> str\n",
    "# Boolean  ---> bool\n",
    "# List  ----> list\n",
    "# Tuple  ---> tuple\n",
    "# Range  ---> range\n",
    "# Dictionary  ---> dict\n",
    "# Set    ---> set\n",
    "# Frozen set ---> frozenset\n",
    "# bytes  --- > bytes\n",
    "# bytearray ---> bytearray       \n",
    "# None --- > None\n",
    "\n",
    "\n",
    "\n",
    "# Integer data type --> int is a datatype which is responsible for all whole numbers (eg: 0,1,2,100,13884989,5, etc)\n",
    "number= 5\n",
    "print(number)               # Where print is the \"Action/Function/Method/Procedure\" and inside bracket is called \"Parameter or Arguments\"\n",
    "print(type(number))         # there are many inbuilt Functions in all languages. we can Google it. \n",
    "long_number= 38937483949000\n",
    "print(long_number)\n",
    "\n",
    "# Decimal form   ---> which is normal numbers that we are using eg: 0,1,2,3,4,.....\n",
    "\n",
    "# Binary form  --> this is 0s asd 1s  ---> we can specify this as 0b or 0B  \n",
    "no= 0b1011\n",
    "print(no)\n",
    "no1=0B1011\n",
    "print(no1)\n",
    "no2=0b11\n",
    "print(no2)\n",
    "\n"
   ]
  },
  {
   "cell_type": "code",
   "execution_count": 3,
   "id": "c51a3c18",
   "metadata": {},
   "outputs": [
    {
     "name": "stdout",
     "output_type": "stream",
     "text": [
      "Karthikraja\n"
     ]
    }
   ],
   "source": [
    "__name = 'Karthikraja'\n",
    "print(__name)"
   ]
  },
  {
   "cell_type": "code",
   "execution_count": null,
   "id": "eb144586",
   "metadata": {},
   "outputs": [],
   "source": []
  },
  {
   "cell_type": "code",
   "execution_count": null,
   "id": "b37cd378",
   "metadata": {},
   "outputs": [],
   "source": []
  },
  {
   "cell_type": "code",
   "execution_count": null,
   "id": "4c5db1c0",
   "metadata": {},
   "outputs": [],
   "source": []
  },
  {
   "cell_type": "code",
   "execution_count": null,
   "id": "b6f103af",
   "metadata": {},
   "outputs": [],
   "source": []
  },
  {
   "cell_type": "code",
   "execution_count": null,
   "id": "4eee688d",
   "metadata": {},
   "outputs": [],
   "source": []
  },
  {
   "cell_type": "code",
   "execution_count": null,
   "id": "afca328d",
   "metadata": {},
   "outputs": [],
   "source": []
  },
  {
   "cell_type": "code",
   "execution_count": null,
   "id": "d0b06efb",
   "metadata": {},
   "outputs": [],
   "source": []
  },
  {
   "cell_type": "code",
   "execution_count": null,
   "id": "8afcd7ff",
   "metadata": {},
   "outputs": [],
   "source": []
  }
 ],
 "metadata": {
  "kernelspec": {
   "display_name": "Python 3 (ipykernel)",
   "language": "python",
   "name": "python3"
  },
  "language_info": {
   "codemirror_mode": {
    "name": "ipython",
    "version": 3
   },
   "file_extension": ".py",
   "mimetype": "text/x-python",
   "name": "python",
   "nbconvert_exporter": "python",
   "pygments_lexer": "ipython3",
   "version": "3.8.10"
  }
 },
 "nbformat": 4,
 "nbformat_minor": 5
}
