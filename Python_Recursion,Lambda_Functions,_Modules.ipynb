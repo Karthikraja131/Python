{
  "nbformat": 4,
  "nbformat_minor": 0,
  "metadata": {
    "colab": {
      "provenance": [],
      "collapsed_sections": [
        "4VgE2y34tgEt"
      ],
      "authorship_tag": "ABX9TyMf+T4eT3bkfYJPjf2EpX8W",
      "include_colab_link": true
    },
    "kernelspec": {
      "name": "python3",
      "display_name": "Python 3"
    },
    "language_info": {
      "name": "python"
    }
  },
  "cells": [
    {
      "cell_type": "markdown",
      "metadata": {
        "id": "view-in-github",
        "colab_type": "text"
      },
      "source": [
        "<a href=\"https://colab.research.google.com/github/Karthikraja131/Python/blob/main/Python_Recursion%2CLambda_Functions%2C_Modules.ipynb\" target=\"_parent\"><img src=\"https://colab.research.google.com/assets/colab-badge.svg\" alt=\"Open In Colab\"/></a>"
      ]
    },
    {
      "cell_type": "markdown",
      "source": [
        "#Recursion in Python\n",
        "Recursion refers to a technique where a function calls itself in order to solve a problem.\n",
        "Essentially, recursion involves breaking down a problem into smaller, similar sub-problems, and solving each sub-problem by applying the same approach recursively until a base case is reached."
      ],
      "metadata": {
        "id": "4VgE2y34tgEt"
      }
    },
    {
      "cell_type": "code",
      "execution_count": null,
      "metadata": {
        "id": "JKP_PDrlsunK",
        "colab": {
          "base_uri": "https://localhost:8080/"
        },
        "outputId": "9719a35d-d402-44c5-bcda-231645ac3887"
      },
      "outputs": [
        {
          "output_type": "stream",
          "name": "stdout",
          "text": [
            "5\n",
            "4\n",
            "3\n",
            "2\n",
            "1\n",
            "120\n"
          ]
        }
      ],
      "source": [
        "def factorial(n):\n",
        "    if n == 0:  # Base case: factorial of 0 is 1\n",
        "        return 1\n",
        "    else:\n",
        "        print(n)\n",
        "        return n * factorial(n - 1)  # Recursive call to factorial function\n",
        "# Example usage\n",
        "a=factorial(5)\n",
        "print(a)"
      ]
    },
    {
      "cell_type": "markdown",
      "source": [
        "In this example, factorial() is a recursive function. It calculates the factorial of a number n by multiplying n with the factorial of n-1, until it reaches the base case where n is 0. At that point, the function returns 1, stopping the recursion."
      ],
      "metadata": {
        "id": "-K9vOrbUvvnA"
      }
    },
    {
      "cell_type": "markdown",
      "source": [
        "#Key Points:\n",
        "\n",
        "**Base Case:** Every recursive function must have one or more base cases to ensure termination of the recursion.\n",
        "\n",
        "**Recursive Step:**Each recursive call should progress towards the base case by reducing the problem into smaller, similar sub-problems.\n",
        "\n",
        "**Stack Usage:** Recursion uses the call stack. Excessive recursion can lead to stack overflow errors; optimizing recursion depth is crucial.\n",
        "\n",
        "**Performance Considerations:** Recursive solutions may not always be the most efficient due to function call overhead and stack usage."
      ],
      "metadata": {
        "id": "2NB79079xGKV"
      }
    },
    {
      "cell_type": "markdown",
      "source": [
        "#Advantages of Recursion:\n",
        "\n",
        "**Elegance:** Recursive solutions can be concise and elegant, making the code easier to understand and maintain.\n",
        "\n",
        "**Modularity:** Recursion promotes modularity and code reuse by breaking down a problem into smaller, manageable sub-problems.\n",
        "\n",
        "**Simplification:**It simplifies the implementation of certain algorithms, especially those involving repetitive patterns or tree-like structures.\n",
        "\n",
        "**Mathematical Modeling:** Recursion mirrors mathematical induction, making it suitable for problems with recursive mathematical definitions."
      ],
      "metadata": {
        "id": "7kKAcxSlxXCQ"
      }
    },
    {
      "cell_type": "markdown",
      "source": [
        "#Real world use cases:\n",
        "\n",
        "Recursion excels at handling hierarchical data structures like trees and linked lists.\n",
        "\n",
        "It's a powerful tool for divide-and-conquer algorithms like merge sort.\n",
        "\n",
        "String manipulation problems like palindrome checks can be solved efficiently with recursion.\n",
        "\n",
        "Some mathematical functions have natural recursive definitions.\n",
        "\n",
        "Traversing graphs often benefits from recursion (e.g., depth-first search).\n",
        "\n",
        "Fractals are a perfect example where recursion shines due to self-similarity.\n"
      ],
      "metadata": {
        "id": "lrSDwkmyDMhS"
      }
    },
    {
      "cell_type": "markdown",
      "source": [
        "#Use Cases:\n",
        "\n",
        "**Tree-like Data Structures:** Recursion is used to traverse and manipulate tree structures such as binary trees.\n",
        "\n"
      ],
      "metadata": {
        "id": "ZR5lBUzAx3_v"
      }
    },
    {
      "cell_type": "code",
      "source": [
        "def traverse(node):\n",
        "    if node is None:\n",
        "        return\n",
        "    print(node.value)\n",
        "    traverse(node.left)\n",
        "    traverse(node.right)\n"
      ],
      "metadata": {
        "id": "ZoVe5wK7yCjP"
      },
      "execution_count": null,
      "outputs": []
    },
    {
      "cell_type": "markdown",
      "source": [
        "**Divide and Conquer Algorithms:** Algorithms like merge sort and quicksort are naturally expressed using recursion.\n",
        "\n",
        "**Dynamic Programming:** Problems are broken down into smaller sub-problems and solved recursively, often with memoization.\n",
        "\n",
        "**Mathematical Problems:** Recursive mathematical definitions, like factorial calculation or Fibonacci sequence generation, are solved using recursion."
      ],
      "metadata": {
        "id": "UeRhKU8dyGPG"
      }
    },
    {
      "cell_type": "markdown",
      "source": [
        "#Critical Things to Keep in Mind:\n",
        "**Define Base Case:** Ensure clear base cases to terminate recursion.\n",
        "\n",
        "**Manage Stack Usage:** Be mindful of stack space; excessive recursion can lead to stack overflow errors.\n",
        "\n",
        "**Optimize Performance:** Consider performance implications; recursion may not always be the most efficient solution.\n",
        "\n",
        "**Test and Debug:** Test recursive functions thoroughly and debug any issues related to termination conditions or stack overflow errors.\n",
        "\n",
        "**By Payilagam:**\n",
        "\n",
        "1. Recursion: Function calling itself\n",
        "2. Shouldn't use Loops \"for\" or \"while\"\n",
        "3. There should be 'if' statement to terminate the program"
      ],
      "metadata": {
        "id": "RYX4FPtIyQo-"
      }
    },
    {
      "cell_type": "markdown",
      "source": [
        "#Function:\n",
        "\n",
        "**Structure:** A named block of code that performs a specific task.\n",
        "\n",
        "**Description:** Functions can be called and executed multiple times within a program. They encapsulate a set of instructions and can take input parameters and optionally return a result.\n",
        "\n",
        "Function may have many loopings, and operations."
      ],
      "metadata": {
        "id": "Jd-z0euu0wPC"
      }
    },
    {
      "cell_type": "code",
      "source": [
        "def greet(name):\n",
        "    return f\"Hello, {name}!\"\n",
        "\n",
        "print(greet(\"Alice\"))"
      ],
      "metadata": {
        "id": "Wh5LeSvnyHnf"
      },
      "execution_count": null,
      "outputs": []
    },
    {
      "cell_type": "markdown",
      "source": [
        "#Looping Iteration:\n",
        "\n",
        "**Structure:** Repeatedly executes a block of code based on a condition.\n",
        "\n",
        "**Description:** Loops iterate over a sequence of statements until a condition is met. They can be for loops, which iterate over a sequence, or while loops, which continue as long as a condition is true."
      ],
      "metadata": {
        "id": "OaHtb1-c1A8A"
      }
    },
    {
      "cell_type": "code",
      "source": [
        "# Using a for loop\n",
        "for i in range(5):\n",
        "    print(i)\n",
        "\n",
        "# Using a while loop\n",
        "count = 0\n",
        "while count < 5:\n",
        "    print(count)\n",
        "    count += 1"
      ],
      "metadata": {
        "id": "tqbpP7wM1GFB"
      },
      "execution_count": null,
      "outputs": []
    },
    {
      "cell_type": "markdown",
      "source": [
        "#Recursive Function:\n",
        "\n",
        "**Structure:** A function that calls itself to solve a problem.\n",
        "\n",
        "**Description:** Recursive functions break down a problem into smaller, similar sub-problems, eventually reaching a base case to terminate the recursion."
      ],
      "metadata": {
        "id": "R9q6G3vx1Ixf"
      }
    },
    {
      "cell_type": "code",
      "source": [
        "def factorial(n):\n",
        "    if n == 0:\n",
        "        return 1\n",
        "    else:\n",
        "        return n * factorial(n - 1)\n",
        "\n",
        "print(factorial(5))"
      ],
      "metadata": {
        "colab": {
          "base_uri": "https://localhost:8080/"
        },
        "id": "9YLjTYhX1PyA",
        "outputId": "e1260db3-d56b-4325-f8ef-1fde55a9c178"
      },
      "execution_count": null,
      "outputs": [
        {
          "output_type": "stream",
          "name": "stdout",
          "text": [
            "120\n"
          ]
        }
      ]
    },
    {
      "cell_type": "markdown",
      "source": [
        "#Difference:\n",
        "\n",
        "**Function vs. Loop:** Functions are named blocks of code for performing specific tasks, while loops are control flow structures for repeating code execution based on conditions.\n",
        "\n",
        "**Recursion vs. Looping Iteration:** Recursion involves a function calling itself to solve a problem, breaking it down into smaller sub-problems. Looping iteration involves repeating a block of code based on a condition without the function calling itself."
      ],
      "metadata": {
        "id": "XhR-uN2p1U8c"
      }
    },
    {
      "cell_type": "code",
      "source": [
        "#Example 1, to find the verify the username and password\n",
        "\n",
        "def getUserNamePassword(username,password):\n",
        "  if username != \"abcd\":\n",
        "    print(\"Incorret username\")\n",
        "    username=input(\"Enter user name :\")\n",
        "    password= input(\"Enter password:\")\n",
        "    getUserNamePassword(username,password)54\n",
        "  elif password != \"abcd\":\n",
        "    print(\"Incorrect Password: \")\n",
        "    username=input(\"Enter user name :\")\n",
        "    password= input(\"Enter password:\")\n",
        "    getUserNamePassword(username,password)\n",
        "    print(\"Username and Password is correct\")\n",
        "\n",
        "username=input(\"Enter user name :\")\n",
        "password= input(\"Enter password:\")\n",
        "getUserNamePassword(username,password)\n",
        "\n"
      ],
      "metadata": {
        "colab": {
          "base_uri": "https://localhost:8080/"
        },
        "id": "iwoqDsxk_bcC",
        "outputId": "9a85b2ca-0c1f-4869-fbf4-7aad5e587f4a"
      },
      "execution_count": null,
      "outputs": [
        {
          "output_type": "stream",
          "name": "stdout",
          "text": [
            "Enter user name :hfjkdhf\n",
            "Enter password:jhjkfh\n",
            "Incorret username\n",
            "Enter user name :jhdfh\n",
            "Enter password:jfjhdjf\n",
            "Incorret username\n",
            "Enter user name :abcd\n",
            "Enter password:adfjd\n",
            "Incorrect Password: \n",
            "Enter user name :abcd\n",
            "Enter password:abcd\n",
            "Username and Password is correct\n"
          ]
        }
      ]
    },
    {
      "cell_type": "code",
      "source": [
        "for i in range(1,6):\n",
        "  print(i)"
      ],
      "metadata": {
        "colab": {
          "base_uri": "https://localhost:8080/"
        },
        "id": "3iu3N-Tw_lLW",
        "outputId": "e8f2a35f-4a81-4e9f-a6db-5a77d8e2ecdd"
      },
      "execution_count": null,
      "outputs": [
        {
          "output_type": "stream",
          "name": "stdout",
          "text": [
            "1\n",
            "2\n",
            "3\n",
            "4\n",
            "5\n"
          ]
        }
      ]
    },
    {
      "cell_type": "code",
      "source": [
        "def display(n):\n",
        "  print(n)\n",
        "\n",
        "display(1)"
      ],
      "metadata": {
        "colab": {
          "base_uri": "https://localhost:8080/"
        },
        "id": "vQOvuumaEOYR",
        "outputId": "86d5ba63-86f4-4ee1-9f9b-28a4c532cdb5"
      },
      "execution_count": null,
      "outputs": [
        {
          "output_type": "stream",
          "name": "stdout",
          "text": [
            "1\n"
          ]
        }
      ]
    },
    {
      "cell_type": "code",
      "source": [
        "def display(n):\n",
        "  print(n)\n",
        "  n=n+1\n",
        "  display(n)\n",
        "\n",
        "display(1)"
      ],
      "metadata": {
        "colab": {
          "base_uri": "https://localhost:8080/",
          "height": 1000
        },
        "id": "FrYMQnzLEffA",
        "outputId": "cd0a7234-dea0-438b-e36c-aeb3e6929fa9"
      },
      "execution_count": null,
      "outputs": [
        {
          "output_type": "stream",
          "name": "stdout",
          "text": [
            "1\n",
            "2\n",
            "3\n",
            "4\n",
            "5\n",
            "6\n",
            "7\n",
            "8\n",
            "9\n",
            "10\n",
            "11\n",
            "12\n",
            "13\n",
            "14\n",
            "15\n",
            "16\n",
            "17\n",
            "18\n",
            "19\n",
            "20\n",
            "21\n",
            "22\n",
            "23\n",
            "24\n",
            "25\n",
            "26\n",
            "27\n",
            "28\n",
            "29\n",
            "30\n",
            "31\n",
            "32\n",
            "33\n",
            "34\n",
            "35\n",
            "36\n",
            "37\n",
            "38\n",
            "39\n",
            "40\n",
            "41\n",
            "42\n",
            "43\n",
            "44\n",
            "45\n",
            "46\n",
            "47\n",
            "48\n",
            "49\n",
            "50\n",
            "51\n",
            "52\n",
            "53\n",
            "54\n",
            "55\n",
            "56\n",
            "57\n",
            "58\n",
            "59\n",
            "60\n",
            "61\n",
            "62\n",
            "63\n",
            "64\n",
            "65\n",
            "66\n",
            "67\n",
            "68\n",
            "69\n",
            "70\n",
            "71\n",
            "72\n",
            "73\n",
            "74\n",
            "75\n",
            "76\n",
            "77\n",
            "78\n",
            "79\n",
            "80\n",
            "81\n",
            "82\n",
            "83\n",
            "84\n",
            "85\n",
            "86\n",
            "87\n",
            "88\n",
            "89\n",
            "90\n",
            "91\n",
            "92\n",
            "93\n",
            "94\n",
            "95\n",
            "96\n",
            "97\n",
            "98\n",
            "99\n",
            "100\n",
            "101\n",
            "102\n",
            "103\n",
            "104\n",
            "105\n",
            "106\n",
            "107\n",
            "108\n",
            "109\n",
            "110\n",
            "111\n",
            "112\n",
            "113\n",
            "114\n",
            "115\n",
            "116\n",
            "117\n",
            "118\n",
            "119\n",
            "120\n",
            "121\n",
            "122\n",
            "123\n",
            "124\n",
            "125\n",
            "126\n",
            "127\n",
            "128\n",
            "129\n",
            "130\n",
            "131\n",
            "132\n",
            "133\n",
            "134\n",
            "135\n",
            "136\n",
            "137\n",
            "138\n",
            "139\n",
            "140\n",
            "141\n",
            "142\n",
            "143\n",
            "144\n",
            "145\n",
            "146\n",
            "147\n",
            "148\n",
            "149\n",
            "150\n",
            "151\n",
            "152\n",
            "153\n",
            "154\n",
            "155\n",
            "156\n",
            "157\n",
            "158\n",
            "159\n",
            "160\n",
            "161\n",
            "162\n",
            "163\n",
            "164\n",
            "165\n",
            "166\n",
            "167\n",
            "168\n",
            "169\n",
            "170\n",
            "171\n",
            "172\n",
            "173\n",
            "174\n",
            "175\n",
            "176\n",
            "177\n",
            "178\n",
            "179\n",
            "180\n",
            "181\n",
            "182\n",
            "183\n",
            "184\n",
            "185\n",
            "186\n",
            "187\n",
            "188\n",
            "189\n",
            "190\n",
            "191\n",
            "192\n",
            "193\n",
            "194\n",
            "195\n",
            "196\n",
            "197\n",
            "198\n",
            "199\n",
            "200\n",
            "201\n",
            "202\n",
            "203\n",
            "204\n",
            "205\n",
            "206\n",
            "207\n",
            "208\n",
            "209\n",
            "210\n",
            "211\n",
            "212\n",
            "213\n",
            "214\n",
            "215\n",
            "216\n",
            "217\n",
            "218\n",
            "219\n",
            "220\n",
            "221\n",
            "222\n",
            "223\n",
            "224\n",
            "225\n",
            "226\n",
            "227\n",
            "228\n",
            "229\n",
            "230\n",
            "231\n",
            "232\n",
            "233\n",
            "234\n",
            "235\n",
            "236\n",
            "237\n",
            "238\n",
            "239\n",
            "240\n",
            "241\n",
            "242\n",
            "243\n",
            "244\n",
            "245\n",
            "246\n",
            "247\n",
            "248\n",
            "249\n",
            "250\n",
            "251\n",
            "252\n",
            "253\n",
            "254\n",
            "255\n",
            "256\n",
            "257\n",
            "258\n",
            "259\n",
            "260\n",
            "261\n",
            "262\n",
            "263\n",
            "264\n",
            "265\n",
            "266\n",
            "267\n",
            "268\n",
            "269\n",
            "270\n",
            "271\n",
            "272\n",
            "273\n",
            "274\n",
            "275\n",
            "276\n",
            "277\n",
            "278\n",
            "279\n",
            "280\n",
            "281\n",
            "282\n",
            "283\n",
            "284\n",
            "285\n",
            "286\n",
            "287\n",
            "288\n",
            "289\n",
            "290\n",
            "291\n",
            "292\n",
            "293\n",
            "294\n",
            "295\n",
            "296\n",
            "297\n",
            "298\n",
            "299\n",
            "300\n",
            "301\n",
            "302\n",
            "303\n",
            "304\n",
            "305\n",
            "306\n",
            "307\n",
            "308\n",
            "309\n",
            "310\n",
            "311\n",
            "312\n",
            "313\n",
            "314\n",
            "315\n",
            "316\n",
            "317\n",
            "318\n",
            "319\n",
            "320\n",
            "321\n",
            "322\n",
            "323\n",
            "324\n",
            "325\n",
            "326\n",
            "327\n",
            "328\n",
            "329\n",
            "330\n",
            "331\n",
            "332\n",
            "333\n",
            "334\n",
            "335\n",
            "336\n",
            "337\n",
            "338\n",
            "339\n",
            "340\n",
            "341\n",
            "342\n",
            "343\n",
            "344\n",
            "345\n",
            "346\n",
            "347\n",
            "348\n",
            "349\n",
            "350\n",
            "351\n",
            "352\n",
            "353\n",
            "354\n",
            "355\n",
            "356\n",
            "357\n",
            "358\n",
            "359\n",
            "360\n",
            "361\n",
            "362\n",
            "363\n",
            "364\n",
            "365\n",
            "366\n",
            "367\n",
            "368\n",
            "369\n",
            "370\n",
            "371\n",
            "372\n",
            "373\n",
            "374\n",
            "375\n",
            "376\n",
            "377\n",
            "378\n",
            "379\n",
            "380\n",
            "381\n",
            "382\n",
            "383\n",
            "384\n",
            "385\n",
            "386\n",
            "387\n",
            "388\n",
            "389\n",
            "390\n",
            "391\n",
            "392\n",
            "393\n",
            "394\n",
            "395\n",
            "396\n",
            "397\n",
            "398\n",
            "399\n",
            "400\n",
            "401\n",
            "402\n",
            "403\n",
            "404\n",
            "405\n",
            "406\n",
            "407\n",
            "408\n",
            "409\n",
            "410\n",
            "411\n",
            "412\n",
            "413\n",
            "414\n",
            "415\n",
            "416\n",
            "417\n",
            "418\n",
            "419\n",
            "420\n",
            "421\n",
            "422\n",
            "423\n",
            "424\n",
            "425\n",
            "426\n",
            "427\n",
            "428\n",
            "429\n",
            "430\n",
            "431\n",
            "432\n",
            "433\n",
            "434\n",
            "435\n",
            "436\n",
            "437\n",
            "438\n",
            "439\n",
            "440\n",
            "441\n",
            "442\n",
            "443\n",
            "444\n",
            "445\n",
            "446\n",
            "447\n",
            "448\n",
            "449\n",
            "450\n",
            "451\n",
            "452\n",
            "453\n",
            "454\n",
            "455\n",
            "456\n",
            "457\n",
            "458\n",
            "459\n",
            "460\n",
            "461\n",
            "462\n",
            "463\n",
            "464\n",
            "465\n",
            "466\n",
            "467\n",
            "468\n",
            "469\n",
            "470\n",
            "471\n",
            "472\n",
            "473\n",
            "474\n",
            "475\n",
            "476\n",
            "477\n",
            "478\n",
            "479\n",
            "480\n",
            "481\n",
            "482\n",
            "483\n",
            "484\n",
            "485\n",
            "486\n",
            "487\n",
            "488\n",
            "489\n",
            "490\n",
            "491\n",
            "492\n",
            "493\n",
            "494\n",
            "495\n",
            "496\n",
            "497\n",
            "498\n",
            "499\n",
            "500\n",
            "501\n",
            "502\n",
            "503\n",
            "504\n",
            "505\n",
            "506\n",
            "507\n",
            "508\n",
            "509\n",
            "510\n",
            "511\n",
            "512\n",
            "513\n",
            "514\n",
            "515\n",
            "516\n",
            "517\n",
            "518\n",
            "519\n",
            "520\n",
            "521\n",
            "522\n",
            "523\n",
            "524\n",
            "525\n",
            "526\n",
            "527\n",
            "528\n",
            "529\n",
            "530\n",
            "531\n",
            "532\n",
            "533\n",
            "534\n",
            "535\n",
            "536\n",
            "537\n",
            "538\n",
            "539\n",
            "540\n",
            "541\n",
            "542\n",
            "543\n",
            "544\n",
            "545\n",
            "546\n",
            "547\n",
            "548\n",
            "549\n",
            "550\n",
            "551\n",
            "552\n",
            "553\n",
            "554\n",
            "555\n",
            "556\n",
            "557\n",
            "558\n",
            "559\n",
            "560\n",
            "561\n",
            "562\n",
            "563\n",
            "564\n",
            "565\n",
            "566\n",
            "567\n",
            "568\n",
            "569\n",
            "570\n",
            "571\n",
            "572\n",
            "573\n",
            "574\n",
            "575\n",
            "576\n",
            "577\n",
            "578\n",
            "579\n",
            "580\n",
            "581\n",
            "582\n",
            "583\n",
            "584\n",
            "585\n",
            "586\n",
            "587\n",
            "588\n",
            "589\n",
            "590\n",
            "591\n",
            "592\n",
            "593\n",
            "594\n",
            "595\n",
            "596\n",
            "597\n",
            "598\n",
            "599\n",
            "600\n",
            "601\n",
            "602\n",
            "603\n",
            "604\n",
            "605\n",
            "606\n",
            "607\n",
            "608\n",
            "609\n",
            "610\n",
            "611\n",
            "612\n",
            "613\n",
            "614\n",
            "615\n",
            "616\n",
            "617\n",
            "618\n",
            "619\n",
            "620\n",
            "621\n",
            "622\n",
            "623\n",
            "624\n",
            "625\n",
            "626\n",
            "627\n",
            "628\n",
            "629\n",
            "630\n",
            "631\n",
            "632\n",
            "633\n",
            "634\n",
            "635\n",
            "636\n",
            "637\n",
            "638\n",
            "639\n",
            "640\n",
            "641\n",
            "642\n",
            "643\n",
            "644\n",
            "645\n",
            "646\n",
            "647\n",
            "648\n",
            "649\n",
            "650\n",
            "651\n",
            "652\n",
            "653\n",
            "654\n",
            "655\n",
            "656\n",
            "657\n",
            "658\n",
            "659\n",
            "660\n",
            "661\n",
            "662\n",
            "663\n",
            "664\n",
            "665\n",
            "666\n",
            "667\n",
            "668\n",
            "669\n",
            "670\n",
            "671\n",
            "672\n",
            "673\n",
            "674\n",
            "675\n",
            "676\n",
            "677\n",
            "678\n",
            "679\n",
            "680\n",
            "681\n",
            "682\n",
            "683\n",
            "684\n",
            "685\n",
            "686\n",
            "687\n",
            "688\n",
            "689\n",
            "690\n",
            "691\n",
            "692\n",
            "693\n",
            "694\n",
            "695\n",
            "696\n",
            "697\n",
            "698\n",
            "699\n",
            "700\n",
            "701\n",
            "702\n",
            "703\n",
            "704\n",
            "705\n",
            "706\n",
            "707\n",
            "708\n",
            "709\n",
            "710\n",
            "711\n",
            "712\n",
            "713\n",
            "714\n",
            "715\n",
            "716\n",
            "717\n",
            "718\n",
            "719\n",
            "720\n",
            "721\n",
            "722\n",
            "723\n",
            "724\n",
            "725\n",
            "726\n",
            "727\n",
            "728\n",
            "729\n",
            "730\n",
            "731\n",
            "732\n",
            "733\n",
            "734\n",
            "735\n",
            "736\n",
            "737\n",
            "738\n",
            "739\n",
            "740\n",
            "741\n",
            "742\n",
            "743\n",
            "744\n",
            "745\n",
            "746\n",
            "747\n",
            "748\n",
            "749\n",
            "750\n",
            "751\n",
            "752\n",
            "753\n",
            "754\n",
            "755\n",
            "756\n",
            "757\n",
            "758\n",
            "759\n",
            "760\n",
            "761\n",
            "762\n",
            "763\n",
            "764\n",
            "765\n",
            "766\n",
            "767\n",
            "768\n",
            "769\n",
            "770\n",
            "771\n",
            "772\n",
            "773\n",
            "774\n",
            "775\n",
            "776\n",
            "777\n",
            "778\n",
            "779\n",
            "780\n",
            "781\n",
            "782\n",
            "783\n",
            "784\n",
            "785\n",
            "786\n",
            "787\n",
            "788\n",
            "789\n",
            "790\n",
            "791\n",
            "792\n",
            "793\n",
            "794\n",
            "795\n",
            "796\n",
            "797\n",
            "798\n",
            "799\n",
            "800\n",
            "801\n",
            "802\n",
            "803\n",
            "804\n",
            "805\n",
            "806\n",
            "807\n",
            "808\n",
            "809\n",
            "810\n",
            "811\n",
            "812\n",
            "813\n",
            "814\n",
            "815\n",
            "816\n",
            "817\n",
            "818\n",
            "819\n",
            "820\n",
            "821\n",
            "822\n",
            "823\n",
            "824\n",
            "825\n",
            "826\n",
            "827\n",
            "828\n",
            "829\n",
            "830\n",
            "831\n",
            "832\n",
            "833\n",
            "834\n",
            "835\n",
            "836\n",
            "837\n",
            "838\n",
            "839\n",
            "840\n",
            "841\n",
            "842\n",
            "843\n",
            "844\n",
            "845\n",
            "846\n",
            "847\n",
            "848\n",
            "849\n",
            "850\n",
            "851\n",
            "852\n",
            "853\n",
            "854\n",
            "855\n",
            "856\n",
            "857\n",
            "858\n",
            "859\n",
            "860\n",
            "861\n",
            "862\n",
            "863\n",
            "864\n",
            "865\n",
            "866\n",
            "867\n",
            "868\n",
            "869\n",
            "870\n",
            "871\n",
            "872\n",
            "873\n",
            "874\n",
            "875\n",
            "876\n",
            "877\n",
            "878\n",
            "879\n",
            "880\n",
            "881\n",
            "882\n",
            "883\n",
            "884\n",
            "885\n",
            "886\n",
            "887\n",
            "888\n",
            "889\n",
            "890\n",
            "891\n",
            "892\n",
            "893\n",
            "894\n",
            "895\n",
            "896\n",
            "897\n",
            "898\n",
            "899\n",
            "900\n",
            "901\n",
            "902\n",
            "903\n",
            "904\n",
            "905\n",
            "906\n",
            "907\n",
            "908\n",
            "909\n",
            "910\n",
            "911\n",
            "912\n",
            "913\n",
            "914\n",
            "915\n",
            "916\n",
            "917\n",
            "918\n",
            "919\n",
            "920\n",
            "921\n",
            "922\n",
            "923\n",
            "924\n",
            "925\n",
            "926\n",
            "927\n",
            "928\n",
            "929\n",
            "930\n",
            "931\n",
            "932\n",
            "933\n",
            "934\n",
            "935\n",
            "936\n",
            "937\n",
            "938\n",
            "939\n",
            "940\n",
            "941\n",
            "942\n",
            "943\n",
            "944\n",
            "945\n",
            "946\n",
            "947\n",
            "948\n",
            "949\n",
            "950\n",
            "951\n",
            "952\n",
            "953\n",
            "954\n"
          ]
        },
        {
          "output_type": "error",
          "ename": "RecursionError",
          "evalue": "maximum recursion depth exceeded while calling a Python object",
          "traceback": [
            "\u001b[0;31m---------------------------------------------------------------------------\u001b[0m",
            "\u001b[0;31mRecursionError\u001b[0m                            Traceback (most recent call last)",
            "\u001b[0;32m/usr/lib/python3.10/threading.py\u001b[0m in \u001b[0;36m_wait_for_tstate_lock\u001b[0;34m(self, block, timeout)\u001b[0m\n\u001b[1;32m   1115\u001b[0m         \u001b[0;32mtry\u001b[0m\u001b[0;34m:\u001b[0m\u001b[0;34m\u001b[0m\u001b[0;34m\u001b[0m\u001b[0m\n\u001b[0;32m-> 1116\u001b[0;31m             \u001b[0;32mif\u001b[0m \u001b[0mlock\u001b[0m\u001b[0;34m.\u001b[0m\u001b[0macquire\u001b[0m\u001b[0;34m(\u001b[0m\u001b[0mblock\u001b[0m\u001b[0;34m,\u001b[0m \u001b[0mtimeout\u001b[0m\u001b[0;34m)\u001b[0m\u001b[0;34m:\u001b[0m\u001b[0;34m\u001b[0m\u001b[0;34m\u001b[0m\u001b[0m\n\u001b[0m\u001b[1;32m   1117\u001b[0m                 \u001b[0mlock\u001b[0m\u001b[0;34m.\u001b[0m\u001b[0mrelease\u001b[0m\u001b[0;34m(\u001b[0m\u001b[0;34m)\u001b[0m\u001b[0;34m\u001b[0m\u001b[0;34m\u001b[0m\u001b[0m\n",
            "\u001b[0;31mRecursionError\u001b[0m: maximum recursion depth exceeded while calling a Python object",
            "\nDuring handling of the above exception, another exception occurred:\n",
            "\u001b[0;31mRecursionError\u001b[0m                            Traceback (most recent call last)",
            "\u001b[0;32m<ipython-input-11-c727ae2298d9>\u001b[0m in \u001b[0;36m<cell line: 7>\u001b[0;34m()\u001b[0m\n\u001b[1;32m      5\u001b[0m \u001b[0;34m\u001b[0m\u001b[0m\n\u001b[1;32m      6\u001b[0m \u001b[0;34m\u001b[0m\u001b[0m\n\u001b[0;32m----> 7\u001b[0;31m \u001b[0mdisplay\u001b[0m\u001b[0;34m(\u001b[0m\u001b[0;36m1\u001b[0m\u001b[0;34m)\u001b[0m\u001b[0;34m\u001b[0m\u001b[0;34m\u001b[0m\u001b[0m\n\u001b[0m",
            "\u001b[0;32m<ipython-input-11-c727ae2298d9>\u001b[0m in \u001b[0;36mdisplay\u001b[0;34m(n)\u001b[0m\n\u001b[1;32m      2\u001b[0m   \u001b[0mprint\u001b[0m\u001b[0;34m(\u001b[0m\u001b[0mn\u001b[0m\u001b[0;34m)\u001b[0m\u001b[0;34m\u001b[0m\u001b[0;34m\u001b[0m\u001b[0m\n\u001b[1;32m      3\u001b[0m   \u001b[0mn\u001b[0m\u001b[0;34m=\u001b[0m\u001b[0mn\u001b[0m\u001b[0;34m+\u001b[0m\u001b[0;36m1\u001b[0m\u001b[0;34m\u001b[0m\u001b[0;34m\u001b[0m\u001b[0m\n\u001b[0;32m----> 4\u001b[0;31m   \u001b[0mdisplay\u001b[0m\u001b[0;34m(\u001b[0m\u001b[0mn\u001b[0m\u001b[0;34m)\u001b[0m\u001b[0;34m\u001b[0m\u001b[0;34m\u001b[0m\u001b[0m\n\u001b[0m\u001b[1;32m      5\u001b[0m \u001b[0;34m\u001b[0m\u001b[0m\n\u001b[1;32m      6\u001b[0m \u001b[0;34m\u001b[0m\u001b[0m\n",
            "... last 1 frames repeated, from the frame below ...\n",
            "\u001b[0;32m<ipython-input-11-c727ae2298d9>\u001b[0m in \u001b[0;36mdisplay\u001b[0;34m(n)\u001b[0m\n\u001b[1;32m      2\u001b[0m   \u001b[0mprint\u001b[0m\u001b[0;34m(\u001b[0m\u001b[0mn\u001b[0m\u001b[0;34m)\u001b[0m\u001b[0;34m\u001b[0m\u001b[0;34m\u001b[0m\u001b[0m\n\u001b[1;32m      3\u001b[0m   \u001b[0mn\u001b[0m\u001b[0;34m=\u001b[0m\u001b[0mn\u001b[0m\u001b[0;34m+\u001b[0m\u001b[0;36m1\u001b[0m\u001b[0;34m\u001b[0m\u001b[0;34m\u001b[0m\u001b[0m\n\u001b[0;32m----> 4\u001b[0;31m   \u001b[0mdisplay\u001b[0m\u001b[0;34m(\u001b[0m\u001b[0mn\u001b[0m\u001b[0;34m)\u001b[0m\u001b[0;34m\u001b[0m\u001b[0;34m\u001b[0m\u001b[0m\n\u001b[0m\u001b[1;32m      5\u001b[0m \u001b[0;34m\u001b[0m\u001b[0m\n\u001b[1;32m      6\u001b[0m \u001b[0;34m\u001b[0m\u001b[0m\n",
            "\u001b[0;31mRecursionError\u001b[0m: maximum recursion depth exceeded while calling a Python object"
          ]
        }
      ]
    },
    {
      "cell_type": "code",
      "source": [
        "def display(n):\n",
        "  print(n)\n",
        "  n=n+1\n",
        "  if n<=5:\n",
        "    display(n)\n",
        "\n",
        "display(1)"
      ],
      "metadata": {
        "colab": {
          "base_uri": "https://localhost:8080/"
        },
        "id": "b0NyiOz0EqbH",
        "outputId": "e1941385-6bc9-4b83-ac46-c8b09eb2b7a5"
      },
      "execution_count": null,
      "outputs": [
        {
          "output_type": "stream",
          "name": "stdout",
          "text": [
            "1\n",
            "2\n",
            "3\n",
            "4\n",
            "5\n"
          ]
        }
      ]
    },
    {
      "cell_type": "markdown",
      "source": [
        "**By Payilagam:**\n",
        "\n",
        "1. Recursion: Function calling itself\n",
        "2. Shouldn't use Loops \"for\" or \"while\"\n",
        "3. There should be 'if' statement to terminate the program"
      ],
      "metadata": {
        "id": "ExAyGTfRFbYp"
      }
    },
    {
      "cell_type": "code",
      "source": [
        "# By using for loop factorial function\n",
        "fact=1\n",
        "for i in range(1,6):\n",
        "  fact=fact*i\n",
        "  print(fact)"
      ],
      "metadata": {
        "colab": {
          "base_uri": "https://localhost:8080/"
        },
        "id": "4H5Jww1QF3Ei",
        "outputId": "cb93d6a2-6bf0-4cf8-d47e-8d30d9b0bb80"
      },
      "execution_count": null,
      "outputs": [
        {
          "output_type": "stream",
          "name": "stdout",
          "text": [
            "1\n",
            "2\n",
            "6\n",
            "24\n",
            "120\n"
          ]
        }
      ]
    },
    {
      "cell_type": "code",
      "source": [
        "# Recursion function\n",
        "fact=1\n",
        "def fact(n):\n",
        "  fact=fact*n\n",
        "  if fact<=n:\n",
        "    fact(n)\n",
        "    print(fact)\n",
        "\n",
        "fact(5)"
      ],
      "metadata": {
        "colab": {
          "base_uri": "https://localhost:8080/",
          "height": 297
        },
        "id": "1cjwrui_GJsa",
        "outputId": "7b9ffa41-d92f-4539-eef8-cd1d9235f203"
      },
      "execution_count": null,
      "outputs": [
        {
          "output_type": "error",
          "ename": "UnboundLocalError",
          "evalue": "local variable 'fact' referenced before assignment",
          "traceback": [
            "\u001b[0;31m---------------------------------------------------------------------------\u001b[0m",
            "\u001b[0;31mUnboundLocalError\u001b[0m                         Traceback (most recent call last)",
            "\u001b[0;32m<ipython-input-17-3a01d3906732>\u001b[0m in \u001b[0;36m<cell line: 9>\u001b[0;34m()\u001b[0m\n\u001b[1;32m      7\u001b[0m     \u001b[0mprint\u001b[0m\u001b[0;34m(\u001b[0m\u001b[0mfact\u001b[0m\u001b[0;34m)\u001b[0m\u001b[0;34m\u001b[0m\u001b[0;34m\u001b[0m\u001b[0m\n\u001b[1;32m      8\u001b[0m \u001b[0;34m\u001b[0m\u001b[0m\n\u001b[0;32m----> 9\u001b[0;31m \u001b[0mfact\u001b[0m\u001b[0;34m(\u001b[0m\u001b[0;36m5\u001b[0m\u001b[0;34m)\u001b[0m\u001b[0;34m\u001b[0m\u001b[0;34m\u001b[0m\u001b[0m\n\u001b[0m",
            "\u001b[0;32m<ipython-input-17-3a01d3906732>\u001b[0m in \u001b[0;36mfact\u001b[0;34m(n)\u001b[0m\n\u001b[1;32m      2\u001b[0m \u001b[0mfact\u001b[0m\u001b[0;34m=\u001b[0m\u001b[0;36m1\u001b[0m\u001b[0;34m\u001b[0m\u001b[0;34m\u001b[0m\u001b[0m\n\u001b[1;32m      3\u001b[0m \u001b[0;32mdef\u001b[0m \u001b[0mfact\u001b[0m\u001b[0;34m(\u001b[0m\u001b[0mn\u001b[0m\u001b[0;34m)\u001b[0m\u001b[0;34m:\u001b[0m\u001b[0;34m\u001b[0m\u001b[0;34m\u001b[0m\u001b[0m\n\u001b[0;32m----> 4\u001b[0;31m   \u001b[0mfact\u001b[0m\u001b[0;34m=\u001b[0m\u001b[0mfact\u001b[0m\u001b[0;34m*\u001b[0m\u001b[0mn\u001b[0m\u001b[0;34m\u001b[0m\u001b[0;34m\u001b[0m\u001b[0m\n\u001b[0m\u001b[1;32m      5\u001b[0m   \u001b[0;32mif\u001b[0m \u001b[0mfact\u001b[0m\u001b[0;34m<=\u001b[0m\u001b[0mn\u001b[0m\u001b[0;34m:\u001b[0m\u001b[0;34m\u001b[0m\u001b[0;34m\u001b[0m\u001b[0m\n\u001b[1;32m      6\u001b[0m     \u001b[0mfact\u001b[0m\u001b[0;34m(\u001b[0m\u001b[0mn\u001b[0m\u001b[0;34m)\u001b[0m\u001b[0;34m\u001b[0m\u001b[0;34m\u001b[0m\u001b[0m\n",
            "\u001b[0;31mUnboundLocalError\u001b[0m: local variable 'fact' referenced before assignment"
          ]
        }
      ]
    },
    {
      "cell_type": "code",
      "source": [
        "# Recursion function\n",
        "fact=1\n",
        "def fact(n):\n",
        "  global fact\n",
        "  fact=fact*n\n",
        "  if fact<=n:\n",
        "    fact(n)\n",
        "    print(fact)\n",
        "\n",
        "fact(5)"
      ],
      "metadata": {
        "colab": {
          "base_uri": "https://localhost:8080/",
          "height": 297
        },
        "id": "sF1mvpA6GrcL",
        "outputId": "4fe3992d-9af8-4b2e-e694-1d72934a76b3"
      },
      "execution_count": null,
      "outputs": [
        {
          "output_type": "error",
          "ename": "TypeError",
          "evalue": "unsupported operand type(s) for *: 'function' and 'int'",
          "traceback": [
            "\u001b[0;31m---------------------------------------------------------------------------\u001b[0m",
            "\u001b[0;31mTypeError\u001b[0m                                 Traceback (most recent call last)",
            "\u001b[0;32m<ipython-input-19-a6d8e8c055e7>\u001b[0m in \u001b[0;36m<cell line: 10>\u001b[0;34m()\u001b[0m\n\u001b[1;32m      8\u001b[0m     \u001b[0mprint\u001b[0m\u001b[0;34m(\u001b[0m\u001b[0mfact\u001b[0m\u001b[0;34m)\u001b[0m\u001b[0;34m\u001b[0m\u001b[0;34m\u001b[0m\u001b[0m\n\u001b[1;32m      9\u001b[0m \u001b[0;34m\u001b[0m\u001b[0m\n\u001b[0;32m---> 10\u001b[0;31m \u001b[0mfact\u001b[0m\u001b[0;34m(\u001b[0m\u001b[0;36m5\u001b[0m\u001b[0;34m)\u001b[0m\u001b[0;34m\u001b[0m\u001b[0;34m\u001b[0m\u001b[0m\n\u001b[0m",
            "\u001b[0;32m<ipython-input-19-a6d8e8c055e7>\u001b[0m in \u001b[0;36mfact\u001b[0;34m(n)\u001b[0m\n\u001b[1;32m      3\u001b[0m \u001b[0;32mdef\u001b[0m \u001b[0mfact\u001b[0m\u001b[0;34m(\u001b[0m\u001b[0mn\u001b[0m\u001b[0;34m)\u001b[0m\u001b[0;34m:\u001b[0m\u001b[0;34m\u001b[0m\u001b[0;34m\u001b[0m\u001b[0m\n\u001b[1;32m      4\u001b[0m   \u001b[0;32mglobal\u001b[0m \u001b[0mfact\u001b[0m\u001b[0;34m\u001b[0m\u001b[0;34m\u001b[0m\u001b[0m\n\u001b[0;32m----> 5\u001b[0;31m   \u001b[0mfact\u001b[0m\u001b[0;34m=\u001b[0m\u001b[0mfact\u001b[0m\u001b[0;34m*\u001b[0m\u001b[0mn\u001b[0m\u001b[0;34m\u001b[0m\u001b[0;34m\u001b[0m\u001b[0m\n\u001b[0m\u001b[1;32m      6\u001b[0m   \u001b[0;32mif\u001b[0m \u001b[0mfact\u001b[0m\u001b[0;34m<=\u001b[0m\u001b[0mn\u001b[0m\u001b[0;34m:\u001b[0m\u001b[0;34m\u001b[0m\u001b[0;34m\u001b[0m\u001b[0m\n\u001b[1;32m      7\u001b[0m     \u001b[0mfact\u001b[0m\u001b[0;34m(\u001b[0m\u001b[0mn\u001b[0m\u001b[0;34m)\u001b[0m\u001b[0;34m\u001b[0m\u001b[0;34m\u001b[0m\u001b[0m\n",
            "\u001b[0;31mTypeError\u001b[0m: unsupported operand type(s) for *: 'function' and 'int'"
          ]
        }
      ]
    },
    {
      "cell_type": "code",
      "source": [
        "#recurssion addition of 5\n",
        "def RecAddition(n):\n",
        "  if n==0:\n",
        "    return 0\n",
        "  else:\n",
        "    return n+RecAddition(n-1)\n",
        "\n",
        "RecAddition(5)"
      ],
      "metadata": {
        "id": "Kfz2NYwCG4tC",
        "colab": {
          "base_uri": "https://localhost:8080/"
        },
        "outputId": "4d687a4e-b561-4c78-f7a0-3b66a2aac1e7"
      },
      "execution_count": null,
      "outputs": [
        {
          "output_type": "execute_result",
          "data": {
            "text/plain": [
              "15"
            ]
          },
          "metadata": {},
          "execution_count": 10
        }
      ]
    },
    {
      "cell_type": "code",
      "source": [
        "#sum of total by while looping\n",
        "def SumOftotal(n):\n",
        "  total =0\n",
        "  if n ==0:\n",
        "    return 0\n",
        "  else:\n",
        "    while n>0:\n",
        "      total = (n%10)+total\n",
        "      n=int(n//10)\n",
        "      #print(n)\n",
        "    return total\n",
        "\n",
        "SumOftotal(1234)"
      ],
      "metadata": {
        "colab": {
          "base_uri": "https://localhost:8080/"
        },
        "id": "hcVQU4rHLwV_",
        "outputId": "444b05c7-3045-4506-f9a8-4eb649907f42"
      },
      "execution_count": null,
      "outputs": [
        {
          "output_type": "execute_result",
          "data": {
            "text/plain": [
              "10"
            ]
          },
          "metadata": {},
          "execution_count": 14
        }
      ]
    },
    {
      "cell_type": "code",
      "source": [
        "#Sum of total using Recurssion function\n",
        "def SumOftotal(no):\n",
        "  if no==0:\n",
        "    return 0\n",
        "  else:\n",
        "    rem=(no%10)\n",
        "    n=int(no//10)\n",
        "    return rem+SumOftotal(n)\n",
        "\n",
        "SumOftotal(1234)"
      ],
      "metadata": {
        "colab": {
          "base_uri": "https://localhost:8080/"
        },
        "id": "_mLboFi2R9Ta",
        "outputId": "0b84a4a2-7160-4e4f-dd90-6112241b9a45"
      },
      "execution_count": null,
      "outputs": [
        {
          "output_type": "execute_result",
          "data": {
            "text/plain": [
              "10"
            ]
          },
          "metadata": {},
          "execution_count": 22
        }
      ]
    },
    {
      "cell_type": "markdown",
      "source": [
        "#Palindrome\n",
        "A palindrome is a word, phrase, number, or other sequence of characters that reads the same forward and backward.\n",
        "\n",
        "For example:\n",
        "\n",
        "kayak\n",
        "\n",
        "racecar\n",
        "\n",
        "1221\n",
        "\n",
        "Go hang a salami, I'm a lasagna hog.\n",
        "\n",
        "Palindromes can be of any length and can contain spaces, punctuation, and other characters.\n",
        "\n",
        "To check if a string is a palindrome in Python, you can use the following steps:\n",
        "\n",
        "Convert the string to lowercase.\n",
        "Remove all non-alphanumeric characters.\n",
        "Compare the string to its reverse.\n",
        "\n"
      ],
      "metadata": {
        "id": "mhHZNOR6C3sP"
      }
    },
    {
      "cell_type": "code",
      "source": [
        "# Palindrome using while looping function\n",
        "def IsPalindrome(no):\n",
        "  if no==0:\n",
        "    return 0\n",
        "\n",
        "  reverse_number= 0\n",
        "  original_number=no\n",
        "  while no>0:\n",
        "    remaind=no%10\n",
        "    reverse_number = ((reverse_number*10)+remaind)\n",
        "    no= int(no//10)\n",
        "    #print(reverse_number)\n",
        "  return original_number==reverse_number\n",
        "number=13531\n",
        "if IsPalindrome(number):\n",
        "  print(number,'is Palindrome')\n",
        "else:\n",
        "  print(number,'is not a Palindrome')"
      ],
      "metadata": {
        "id": "fKdnPbt2ZIEn",
        "colab": {
          "base_uri": "https://localhost:8080/"
        },
        "outputId": "d00d09b7-5067-42c2-97e6-456d5f554461"
      },
      "execution_count": null,
      "outputs": [
        {
          "output_type": "stream",
          "name": "stdout",
          "text": [
            "13531 is Palindrome\n"
          ]
        }
      ]
    },
    {
      "cell_type": "code",
      "source": [
        "# Palindrome using Recurrsion function\n",
        "def IsPalindrome(no):\n",
        "  reverse_number=0\n",
        "  original_number=no\n",
        "  if no<=0:\n",
        "    return 0\n",
        "  else:\n",
        "    remainder=no%10\n",
        "    reverse_number=reverse_number*10 + remainder\n",
        "    no=no//10\n",
        "    return original_number==reverse_number+IsPalindrome(no)\n",
        "\n",
        "number=13531\n",
        "if IsPalindrome(number):\n",
        "  print(number,'is Palindrome')\n",
        "else:\n",
        "  print(number,'is not a Palindrome')\n"
      ],
      "metadata": {
        "colab": {
          "base_uri": "https://localhost:8080/"
        },
        "id": "Wz9h3rdV--TP",
        "outputId": "ad4752ac-b6ef-4555-8f51-a8cbfb366f3a"
      },
      "execution_count": null,
      "outputs": [
        {
          "output_type": "stream",
          "name": "stdout",
          "text": [
            "13531 is not a Palindrome\n"
          ]
        }
      ]
    },
    {
      "cell_type": "code",
      "source": [
        "def IsPalindrome(no):\n",
        "    \"\"\"\n",
        "    This function checks if a number is a palindrome using recursion.\n",
        "\n",
        "    Args:\n",
        "        no: The number to check.\n",
        "\n",
        "    Returns:\n",
        "        True if the number is a palindrome, False otherwise.\n",
        "    \"\"\"\n",
        "    if no < 0:  # Handle negative numbers (not palindromes)\n",
        "        return False\n",
        "\n",
        "    def helper(original_no, reversed_number, current_no):\n",
        "        if current_no == 0:  # Check if all digits processed\n",
        "            return original_no == reversed_number\n",
        "        remainder = current_no % 10\n",
        "        return helper(original_no, reversed_number * 10 + remainder, current_no // 10)\n",
        "\n",
        "    return helper(no, 0, no)  # Start recursion with reversed_number as 0 and original number as no\n",
        "\n",
        "# Example usage\n",
        "number = 13531\n",
        "if IsPalindrome(number):\n",
        "    print(number, \"is a palindrome\")\n",
        "else:\n",
        "    print(number, \"is not a palindrome\")\n"
      ],
      "metadata": {
        "colab": {
          "base_uri": "https://localhost:8080/"
        },
        "id": "tHDlUaZo-_Ew",
        "outputId": "59516fe6-35d8-4c3c-8986-dc885c887859"
      },
      "execution_count": null,
      "outputs": [
        {
          "output_type": "stream",
          "name": "stdout",
          "text": [
            "13531 is a palindrome\n"
          ]
        }
      ]
    },
    {
      "cell_type": "code",
      "source": [
        "def IsPalindrome(no):\n",
        "  if no<0:\n",
        "    return False\n",
        "  else:\n",
        "    def helperFunc(original_number, reversed_number, current_number):\n",
        "      if current_number==0:\n",
        "        return original_number== reversed_number\n",
        "      remainder = current_number%10\n",
        "      return helperFunc(original_number,reversed_number*10+remainder, current_number//10)\n",
        "    return helperFunc(no,0,no)\n",
        "\n",
        "no = 13531\n",
        "if IsPalindrome(no):\n",
        "  print(no,'Is a Palindrome number')\n",
        "else:\n",
        "  print(no, 'not a palindrome number')\n",
        "\n"
      ],
      "metadata": {
        "id": "rCxApQCG_Kcr",
        "colab": {
          "base_uri": "https://localhost:8080/"
        },
        "outputId": "51610515-5845-4773-8dde-238956d6109a"
      },
      "execution_count": null,
      "outputs": [
        {
          "output_type": "stream",
          "name": "stdout",
          "text": [
            "13531 Is a Palindrome number\n"
          ]
        }
      ]
    },
    {
      "cell_type": "markdown",
      "source": [
        "##Lambda function\n",
        "\n",
        "A lambda function in Python is a small, anonymous function defined with the lambda keyword. It can have any number of arguments but only one expression. The expression is evaluated and returned. Lambda functions are often used for short, throwaway functions, typically as arguments to higher-order functions like map(), filter(), and sorted()."
      ],
      "metadata": {
        "id": "-AvEvG5mfNlv"
      }
    },
    {
      "cell_type": "markdown",
      "source": [
        "Structure of Lambda Functions\n",
        "\n",
        "Syntax:"
      ],
      "metadata": {
        "id": "g8muPAyTlrPO"
      }
    },
    {
      "cell_type": "code",
      "source": [
        "lambda arguments: expression"
      ],
      "metadata": {
        "id": "ezae_1zeltc4"
      },
      "execution_count": null,
      "outputs": []
    },
    {
      "cell_type": "markdown",
      "source": [
        "arguments: A comma-separated list of parameters.\n",
        "\n",
        "expression: A single expression evaluated and returned."
      ],
      "metadata": {
        "id": "x_KAKjb9lxvL"
      }
    },
    {
      "cell_type": "code",
      "source": [
        "#Example:\n",
        "# A lambda function that adds two numbers\n",
        "add = lambda x, y: x + y\n",
        "result = add(3, 5)  # result is 8"
      ],
      "metadata": {
        "id": "He74-IhCmkcL"
      },
      "execution_count": null,
      "outputs": []
    },
    {
      "cell_type": "markdown",
      "source": [
        "##Advantages of Lambda Functions\n",
        "**Concise Syntax:** Lambda functions are written in a single line, making them suitable for simple operations.\n",
        "\n",
        "**Anonymous:** No need to formally define a function, which is useful for short-lived operations.\n",
        "\n",
        "**Functional Programming:** Well-integrated with functional programming tools like map(), filter(), and reduce().\n",
        "\n",
        "**Inline Usage:** Can be defined and used immediately, especially useful in situations where defining a full function might be overkill.\n",
        "\n",
        "##Disadvantages of Lambda Functions\n",
        "\n",
        "**Single Expression Limitation:** Can only contain one expression, which limits complexity.\n",
        "\n",
        "**Readability:** Overuse can lead to less readable code, especially for complex operations.\n",
        "\n",
        "**Debugging: **Debugging lambda functions can be more difficult compared to named functions.\n",
        "\n",
        "**No Annotations:** Cannot include type annotations, which can be useful for understanding and maintaining code."
      ],
      "metadata": {
        "id": "AXXu88IImwWQ"
      }
    },
    {
      "cell_type": "markdown",
      "source": [
        "##Real-World Use Cases"
      ],
      "metadata": {
        "id": "AwUy7UdP1vz5"
      }
    },
    {
      "cell_type": "code",
      "source": [
        "# sorting\n",
        "\n",
        "students = [{'name': 'Jane', 'grade': 'B'}, {'name': 'John', 'grade': 'A'}]\n",
        "students_sorted = sorted(students, key=lambda student: student['grade'])\n",
        "print(students_sorted)"
      ],
      "metadata": {
        "colab": {
          "base_uri": "https://localhost:8080/"
        },
        "id": "ZXQTeVzX1zUR",
        "outputId": "6225b170-9158-4720-a322-55b71993a2f6"
      },
      "execution_count": null,
      "outputs": [
        {
          "output_type": "stream",
          "name": "stdout",
          "text": [
            "[{'name': 'John', 'grade': 'A'}, {'name': 'Jane', 'grade': 'B'}]\n"
          ]
        }
      ]
    },
    {
      "cell_type": "code",
      "source": [
        "points = [(1, 2), (3, 1), (5, -1), (2, 2)]\n",
        "points_sorted = sorted(points, key=lambda point: point[1])\n",
        "print(points_sorted)  # Output: [(5, -1), (3, 1), (1, 2), (2, 2)]"
      ],
      "metadata": {
        "colab": {
          "base_uri": "https://localhost:8080/"
        },
        "id": "BFmQXHdf2oDK",
        "outputId": "b25de1af-b23d-4bd1-8f3b-2e23a625313b"
      },
      "execution_count": null,
      "outputs": [
        {
          "output_type": "stream",
          "name": "stdout",
          "text": [
            "[(5, -1), (3, 1), (1, 2), (2, 2)]\n"
          ]
        }
      ]
    },
    {
      "cell_type": "code",
      "source": [
        "#Filtering\n",
        "\n",
        "numbers=[10,11,12,13,14,15]\n",
        "even_numbers=list(filter(lambda x: x%2==0, numbers))\n",
        "print(even_numbers)\n",
        "\n",
        "'''filter function takes two arguments:\n",
        "The first argument is a function that defines the filtering criteria. In this case, it's a lambda function.\n",
        "The second argument is the list to be filtered (numbers).'''"
      ],
      "metadata": {
        "colab": {
          "base_uri": "https://localhost:8080/",
          "height": 70
        },
        "id": "7BL5inNz3t-o",
        "outputId": "bed05350-c6e6-4ff7-ab9b-36fb6c6046af"
      },
      "execution_count": null,
      "outputs": [
        {
          "output_type": "stream",
          "name": "stdout",
          "text": [
            "[10, 12, 14]\n"
          ]
        },
        {
          "output_type": "execute_result",
          "data": {
            "text/plain": [
              "\"filter function takes two arguments:\\nThe first argument is a function that defines the filtering criteria. In this case, it's a lambda function.\\nThe second argument is the list to be filtered (numbers).\""
            ],
            "application/vnd.google.colaboratory.intrinsic+json": {
              "type": "string"
            }
          },
          "metadata": {},
          "execution_count": 18
        }
      ]
    },
    {
      "cell_type": "code",
      "source": [
        "#Mapping:\n",
        "numbers = [1, 2, 3, 4, 5]\n",
        "squares = list(map(lambda x: x**2,numbers))\n",
        "print(squares)\n",
        "# squares is [1, 4, 9, 16, 25]"
      ],
      "metadata": {
        "colab": {
          "base_uri": "https://localhost:8080/"
        },
        "id": "kv2CWMSp3zND",
        "outputId": "ef942fd7-dbd6-4c8e-90a3-05ed289a47fa"
      },
      "execution_count": 3,
      "outputs": [
        {
          "output_type": "stream",
          "name": "stdout",
          "text": [
            "[1, 4, 9, 16, 25]\n"
          ]
        }
      ]
    },
    {
      "cell_type": "code",
      "source": [
        "#Reduction\n",
        "\n",
        "from functools import reduce\n",
        "numbers = [1, 2, 3, 4, 5]\n",
        "product = reduce(lambda x, y: x * y, numbers)\n",
        "product"
      ],
      "metadata": {
        "colab": {
          "base_uri": "https://localhost:8080/"
        },
        "id": "0eJCQSasC7Ss",
        "outputId": "79d55b7c-eb10-4253-b7af-53a901e6ee70"
      },
      "execution_count": null,
      "outputs": [
        {
          "output_type": "execute_result",
          "data": {
            "text/plain": [
              "120"
            ]
          },
          "metadata": {},
          "execution_count": 2
        }
      ]
    },
    {
      "cell_type": "markdown",
      "source": [
        "#Comparison with Other Constructs\n",
        "#Lambda Functions vs. Named Functions"
      ],
      "metadata": {
        "id": "dzEo6wfRs5wE"
      }
    },
    {
      "cell_type": "code",
      "source": [
        "# Lambda\n",
        "add = lambda x, y: x + y"
      ],
      "metadata": {
        "id": "XB2SY6UQs_CW"
      },
      "execution_count": null,
      "outputs": []
    },
    {
      "cell_type": "code",
      "source": [
        "#Named Function:\n",
        "def add(x, y):\n",
        "    return x + y"
      ],
      "metadata": {
        "id": "--t4YfrgtC5e"
      },
      "execution_count": null,
      "outputs": []
    },
    {
      "cell_type": "markdown",
      "source": [
        "#Advantages of Named Functions:\n",
        "\n",
        "Better readability for complex logic.\n",
        "\n",
        "Easier to debug.\n",
        "\n",
        "Can include type annotations.\n",
        "\n",
        "#Advantages of Lambda Functions:\n",
        "\n",
        "More concise for simple operations.\n",
        "\n",
        "No need to pollute the namespace with a function name.\n"
      ],
      "metadata": {
        "id": "fSPNY8J7tKx1"
      }
    },
    {
      "cell_type": "markdown",
      "source": [
        "#Lambda Functions vs. Comprehensions"
      ],
      "metadata": {
        "id": "1O7uPuMOtcNL"
      }
    },
    {
      "cell_type": "code",
      "source": [
        "#Filtering with Lambda:\n",
        "\n",
        "even_numbers = list(filter(lambda x: x % 2 == 0, range(10)))\n",
        "even_numbers"
      ],
      "metadata": {
        "colab": {
          "base_uri": "https://localhost:8080/"
        },
        "id": "53GlL_SFtfsh",
        "outputId": "183d283a-52c1-42ec-dfb0-d389d641d273"
      },
      "execution_count": 5,
      "outputs": [
        {
          "output_type": "execute_result",
          "data": {
            "text/plain": [
              "[0, 2, 4, 6, 8]"
            ]
          },
          "metadata": {},
          "execution_count": 5
        }
      ]
    },
    {
      "cell_type": "code",
      "source": [
        "#Filtering with List Comprehension:\n",
        "even_numbers = [x for x in range(10) if x % 2 == 0]\n",
        "even_numbers"
      ],
      "metadata": {
        "colab": {
          "base_uri": "https://localhost:8080/"
        },
        "id": "g3Kunr54tj9i",
        "outputId": "a6e4f2f8-1d93-48b8-f7be-c2fc3e64d9fc"
      },
      "execution_count": 6,
      "outputs": [
        {
          "output_type": "execute_result",
          "data": {
            "text/plain": [
              "[0, 2, 4, 6, 8]"
            ]
          },
          "metadata": {},
          "execution_count": 6
        }
      ]
    },
    {
      "cell_type": "markdown",
      "source": [
        "#Advantages of Comprehensions:\n",
        "\n",
        "Often more readable.\n",
        "Can be more efficient as they are directly supported by the language.\n",
        "#Advantages of Lambda Functions:\n",
        "\n",
        "Can be passed as arguments to higher-order functions, providing flexibility."
      ],
      "metadata": {
        "id": "6GalcmX3tuuJ"
      }
    },
    {
      "cell_type": "markdown",
      "source": [
        "#Lambda Functions in Functional Programming\n",
        "\n",
        "Lambda functions are a staple in functional programming and are used in conjunction with functions like map(), filter(), and reduce() to perform operations on data structures in a functional manner.\n",
        "\n",
        "#Summary\n",
        "Lambda functions in Python offer a powerful, concise way to create anonymous functions on the fly. They are particularly useful in functional programming paradigms and for simple, short-lived operations. However, for more complex logic, named functions are usually more readable and maintainable. Using lambda functions judiciously can lead to more expressive and cleaner code, especially when combined with Python's built-in higher-order functions."
      ],
      "metadata": {
        "id": "FLJkoIBVtzEx"
      }
    }
  ]
}