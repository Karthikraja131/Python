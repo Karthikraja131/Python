{
  "nbformat": 4,
  "nbformat_minor": 0,
  "metadata": {
    "colab": {
      "provenance": [],
      "authorship_tag": "ABX9TyP7mzk3b+Sc51X8yVAUc9Gx",
      "include_colab_link": true
    },
    "kernelspec": {
      "name": "python3",
      "display_name": "Python 3"
    },
    "language_info": {
      "name": "python"
    }
  },
  "cells": [
    {
      "cell_type": "markdown",
      "metadata": {
        "id": "view-in-github",
        "colab_type": "text"
      },
      "source": [
        "<a href=\"https://colab.research.google.com/github/Karthikraja131/Python/blob/main/Python_Control_Flow_Statements.ipynb\" target=\"_parent\"><img src=\"https://colab.research.google.com/assets/colab-badge.svg\" alt=\"Open In Colab\"/></a>"
      ]
    },
    {
      "cell_type": "markdown",
      "source": [
        "**Control Flow Statements**\n",
        "They allow you to introduce logic, decision-making, and repetition into your code, making it more dynamic and powerful.\n",
        "* **Conditional statements:** if, if-else, if-elif-else\n",
        "* **Looping statements:** for, while\n",
        "* **Other control flow statements:** break, continue, pass.\n",
        "\n",
        "* **1. Conditional statements:**\n",
        "\n",
        "**if statements:** They execute a block of code only if a certain condition is true.\n",
        "**if-else statements:** They provide alternatives based on the truth of a condition. The else block executes if the if condition is false.\n",
        "**if-elif-else ladders:** Allow for multiple conditions to be checked successively, like a decision tree.\n",
        "2. **Looping statements:**\n",
        "\n",
        "**for loops:** They iterate over a sequence of items, executing a block of code for each item.\n",
        "**while loops:** They continue to execute a block of code as long as a certain condition is true.\n",
        "3. **Other control flow statements:**\n",
        "\n",
        "**break statement:** Used within loops to exit the loop prematurely.\n",
        "**continue statement:** Used within loops to skip to the next iteration.\n",
        "**pass statement:** Useful as a placeholder when a block of code is needed syntactically but its content is empty."
      ],
      "metadata": {
        "id": "KhNZOo8rASeM"
      }
    },
    {
      "cell_type": "code",
      "source": [
        "# Eg: if mark is greater than 90, say \"very good\". Otherwire, say \"good\".\n",
        "# See the above sentence we can try the programme for that.\n",
        "\n",
        "mark = 90\n",
        "if mark>= 90:        # the colon(:) is similar to the coma(,) in the sentence.\n",
        "  print(\"very good\")\n",
        "else:                # the colon(:) is similar to the coma(,) in the sentence.\n",
        "  print(\"good\")\n",
        "\n",
        "# So, the above programme is similar the the above sentence.\n"
      ],
      "metadata": {
        "colab": {
          "base_uri": "https://localhost:8080/"
        },
        "id": "1BIAuGwT09B3",
        "outputId": "0d58111e-0748-4d42-eb14-cc99fd00da91"
      },
      "execution_count": null,
      "outputs": [
        {
          "output_type": "stream",
          "name": "stdout",
          "text": [
            "very good\n"
          ]
        }
      ]
    },
    {
      "cell_type": "code",
      "execution_count": null,
      "metadata": {
        "id": "mQlZf9V0AL-E"
      },
      "outputs": [],
      "source": [
        "# There is not neccesary for the else part. if we want to print what we didn't get expected result.\n",
        "mark = 80\n",
        "if mark>= 90:\n",
        "  print(\"very good\")\n"
      ]
    },
    {
      "cell_type": "code",
      "source": [
        "# Eg 2 :-\n",
        "name = input(\"Enter your name\")\n",
        "if name == \"Karthikraja\":\n",
        "  print(\"Glad to meet you\",name)\n",
        "print(\"Hello\")"
      ],
      "metadata": {
        "id": "LpVVGuyHnCW6",
        "colab": {
          "base_uri": "https://localhost:8080/"
        },
        "outputId": "a4676b22-bbe6-4693-cc9a-da89bf8a49e5"
      },
      "execution_count": null,
      "outputs": [
        {
          "output_type": "stream",
          "name": "stdout",
          "text": [
            "Enter your nameKarthikraja\n",
            "Glad to meet you Karthikraja\n",
            "Hello\n"
          ]
        }
      ]
    },
    {
      "cell_type": "code",
      "source": [
        "name = input(\"Enter your name\")\n",
        "if name == \"Karthikraja\":\n",
        "  print(\"Glad to meet you\",name)\n",
        "print(\"Hello\")"
      ],
      "metadata": {
        "id": "Ofwmib6DnIWU",
        "colab": {
          "base_uri": "https://localhost:8080/"
        },
        "outputId": "c69bca49-36e1-45d4-92b0-63f81daa9c64"
      },
      "execution_count": null,
      "outputs": [
        {
          "output_type": "stream",
          "name": "stdout",
          "text": [
            "Enter your nameRaja\n",
            "Hello\n"
          ]
        }
      ]
    },
    {
      "cell_type": "code",
      "source": [
        "# if-elif-else\n",
        "mark = int(input(\"Enter your mark :\"))\n",
        "if  mark>=90:\n",
        "  print(\"O grade\")\n",
        "elif mark>=80:                # so we can give n numbers of elif(else if = for other languages. here elif.\n",
        "  print(\"A grade\")\n",
        "elif mark>=70:\n",
        "  print(\"B grade\")\n",
        "elif mark>=60:\n",
        "  print(\"C grade\")\n",
        "else:\n",
        "  print(\" we are in the same boat\")\n"
      ],
      "metadata": {
        "id": "7qzBcutSAh28",
        "colab": {
          "base_uri": "https://localhost:8080/"
        },
        "outputId": "1895d761-5ecf-42a2-f897-8cfdba684c25"
      },
      "execution_count": null,
      "outputs": [
        {
          "output_type": "stream",
          "name": "stdout",
          "text": [
            "Enter your mark :90\n",
            "O grade\n"
          ]
        }
      ]
    },
    {
      "cell_type": "code",
      "source": [
        "mark = int(input(\"Enter your mark :\"))\n",
        "if  mark>=90:\n",
        "  print(\"O grade\")\n",
        "elif mark>=80:                # so we can give n numbers of elif(else if = for other languages. here elif.\n",
        "  print(\"A grade\")\n",
        "elif mark>=70:\n",
        "  print(\"B grade\")\n",
        "elif mark>=60:\n",
        "  print(\"C grade\")\n",
        "elif mark>=50:\n",
        "  print(\" we are in the same boat1\")\n",
        "else:\n",
        "  print(\"Fail\")\n",
        "  print(\"we are in the same boat1\")\n"
      ],
      "metadata": {
        "id": "GhRGPHVFANZr",
        "colab": {
          "base_uri": "https://localhost:8080/"
        },
        "outputId": "e40ec614-f16d-4200-81d7-49a528118ac6"
      },
      "execution_count": null,
      "outputs": [
        {
          "output_type": "stream",
          "name": "stdout",
          "text": [
            "Enter your mark :30\n",
            "Fail\n",
            "we are in the same boat1\n"
          ]
        }
      ]
    },
    {
      "cell_type": "code",
      "source": [
        "# Comparing the two persons marks and print who is first5\n",
        "mark1 = int(input(\"Enter the 1st person's total 10th mark: \"))\n",
        "mark2 = int(input(\"Enter the 2nd person's total 10th mark: \"))\n",
        "if mark1>mark2:\n",
        "    print(\"1st person got highst marks:\",mark1)\n",
        "elif mark2>mark1:\n",
        "    print(\"2nd person got highst marks:\",mark2)\n",
        "else:\n",
        "    print(\"Both are same marks\",mark1,mark2)\n"
      ],
      "metadata": {
        "id": "im-iKUeZ7mOz",
        "colab": {
          "base_uri": "https://localhost:8080/"
        },
        "outputId": "9f53f496-d9bb-4443-e22c-8fac9a1b8515"
      },
      "execution_count": null,
      "outputs": [
        {
          "output_type": "stream",
          "name": "stdout",
          "text": [
            "Enter the 1st person's total 10th mark: 500\n",
            "Enter the 2nd person's total 10th mark: 000500\n",
            "Both are same marks 500 500\n"
          ]
        }
      ]
    },
    {
      "cell_type": "markdown",
      "source": [
        "##Nested control flow statements\n",
        "* In Python, a nested if statement is a conditional statement (if statement) **that is placed inside another conditional statement**.\n",
        "\n",
        "* This allows for **more complex decision-making** based on multiple conditions."
      ],
      "metadata": {
        "id": "43864q55IYBk"
      }
    },
    {
      "cell_type": "code",
      "source": [
        "total = int(input(\"Enter the total mark: \"))\n",
        "if total>400:\n",
        "  English = int(input(\"Enter the English mark: \"))\n",
        "  if English>90:\n",
        "    print(\"Very good\")\n",
        "  else:\n",
        "    print(\"Good\")\n",
        "else:\n",
        "  Print(\" OK Thanks\")"
      ],
      "metadata": {
        "id": "Fr2lLRjjWl2V",
        "colab": {
          "base_uri": "https://localhost:8080/"
        },
        "outputId": "44ba660c-572d-4419-df61-cf4e8de7f63d"
      },
      "execution_count": null,
      "outputs": [
        {
          "output_type": "stream",
          "name": "stdout",
          "text": [
            "Enter the total mark: 460\n",
            "Enter the English mark: 80\n",
            "Good\n"
          ]
        }
      ]
    },
    {
      "cell_type": "code",
      "source": [
        "total = int(input(\"Enter the total mark: \"))\n",
        "if total>400:\n",
        "  English = int(input(\"Enter the English mark: \"))\n",
        "  if English>90:\n",
        "    print(\"Very good\")\n",
        "  else:\n",
        "    print(\"Good\")\n",
        "else:\n",
        "  Print(\" OK Thanks\")"
      ],
      "metadata": {
        "colab": {
          "base_uri": "https://localhost:8080/"
        },
        "id": "tGcY0GGMH0-2",
        "outputId": "faebeb75-f837-4fcf-a759-cc9bf6b2f293"
      },
      "execution_count": null,
      "outputs": [
        {
          "output_type": "stream",
          "name": "stdout",
          "text": [
            "Enter the total mark: 470\n",
            "Enter the English mark: 95\n",
            "Very good\n"
          ]
        }
      ]
    },
    {
      "cell_type": "markdown",
      "source": [
        "## Iterative Statements:\n",
        "* In Python, Iterative satements used to execute the block of code repeatedly based on some condition or sequence.\n",
        "\n",
        "* **for loop:**\n",
        "The for loop iterates over a sequence (such as lists, tuples, strings, or ranges) and executes the block of code for each element in the sequence until the sequence is exhausted.\n",
        "\n",
        "* **while loop:**\n",
        "It Executes a block of code as long as specified condition is True. It repeatedly checks the condition before executing the block."
      ],
      "metadata": {
        "id": "UPK-S_2uQL5m"
      }
    },
    {
      "cell_type": "markdown",
      "source": [
        "##for loop##"
      ],
      "metadata": {
        "id": "P7DT-w-vIleh"
      }
    },
    {
      "cell_type": "markdown",
      "source": [
        "eg.1: Let us print each element of our list of strings using a for loop statement"
      ],
      "metadata": {
        "id": "xXT1pfdrI7Pp"
      }
    },
    {
      "cell_type": "code",
      "source": [
        "list_names = ['karthik','raja','Ram','Sindhu','Adhavan','Adhitya']\n",
        "for name in list_names[::-1]:   # By reverse side\n",
        "  print(f'The name of member is {name}')"
      ],
      "metadata": {
        "colab": {
          "base_uri": "https://localhost:8080/"
        },
        "id": "bUfqMwzmIpzs",
        "outputId": "7b265ab7-fbfa-4ae0-dc04-3bf861b82994"
      },
      "execution_count": 4,
      "outputs": [
        {
          "output_type": "stream",
          "name": "stdout",
          "text": [
            "The name of member is Adhitya\n",
            "The name of member is Adhavan\n",
            "The name of member is Sindhu\n",
            "The name of member is Ram\n",
            "The name of member is raja\n",
            "The name of member is karthik\n"
          ]
        }
      ]
    },
    {
      "cell_type": "markdown",
      "source": [
        "Eg.2: Another interesting way to loop through the elements of a list is to use the enumerate() function. Using enumerate requires us two iterators index and element"
      ],
      "metadata": {
        "id": "7eQObzFwKIYb"
      }
    },
    {
      "cell_type": "code",
      "source": [
        "list_names = ['karthik','raja','Ram','Sindhu','Adhavan','Adhitya']\n",
        "for index,name in enumerate(list_names):\n",
        "  print(f'The index {index} has the name is {name}')\n"
      ],
      "metadata": {
        "id": "GBdV1udLIOmJ",
        "colab": {
          "base_uri": "https://localhost:8080/"
        },
        "outputId": "a05acbb6-23cf-4361-fe88-89bfd9dbbd8b"
      },
      "execution_count": 6,
      "outputs": [
        {
          "output_type": "stream",
          "name": "stdout",
          "text": [
            "The index 0 has the name is karthik\n",
            "The index 1 has the name is raja\n",
            "The index 2 has the name is Ram\n",
            "The index 3 has the name is Sindhu\n",
            "The index 4 has the name is Adhavan\n",
            "The index 5 has the name is Adhitya\n"
          ]
        }
      ]
    },
    {
      "cell_type": "code",
      "source": [
        "list(enumerate(list_names))"
      ],
      "metadata": {
        "id": "x_kW4gMTIUAv",
        "colab": {
          "base_uri": "https://localhost:8080/"
        },
        "outputId": "6b748c43-0707-457b-c5b1-3c5d3fbf7f65"
      },
      "execution_count": 10,
      "outputs": [
        {
          "output_type": "execute_result",
          "data": {
            "text/plain": [
              "[(0, 'karthik'),\n",
              " (1, 'raja'),\n",
              " (2, 'Ram'),\n",
              " (3, 'Sindhu'),\n",
              " (4, 'Adhavan'),\n",
              " (5, 'Adhitya')]"
            ]
          },
          "metadata": {},
          "execution_count": 10
        }
      ]
    },
    {
      "cell_type": "code",
      "source": [
        "a=1,2\n",
        "a"
      ],
      "metadata": {
        "id": "NvTi_42MIT3-",
        "colab": {
          "base_uri": "https://localhost:8080/"
        },
        "outputId": "a611f557-2e77-4e4d-a026-563c9cd1f5ae"
      },
      "execution_count": 11,
      "outputs": [
        {
          "output_type": "execute_result",
          "data": {
            "text/plain": [
              "(1, 2)"
            ]
          },
          "metadata": {},
          "execution_count": 11
        }
      ]
    },
    {
      "cell_type": "markdown",
      "source": [
        "Eg.3: Given a list of numbers. You need to find the corresponding squares of these numbers and zip them together in a dictionary\n"
      ],
      "metadata": {
        "id": "VB7XrSPsLflM"
      }
    },
    {
      "cell_type": "code",
      "source": [
        "list_numbers = [1, 2, 4, 6, 11, 14, 17, 20]\n",
        "for number in list_numbers:\n",
        "  print(f'The square of {number} is {number**2}')\n"
      ],
      "metadata": {
        "id": "MF-qnWjIIT1K",
        "colab": {
          "base_uri": "https://localhost:8080/"
        },
        "outputId": "c946c284-e3d4-47d4-ed90-4db236079358"
      },
      "execution_count": 14,
      "outputs": [
        {
          "output_type": "stream",
          "name": "stdout",
          "text": [
            "The square of 1 is 1\n",
            "The square of 2 is 4\n",
            "The square of 4 is 16\n",
            "The square of 6 is 36\n",
            "The square of 11 is 121\n",
            "The square of 14 is 196\n",
            "The square of 17 is 289\n",
            "The square of 20 is 400\n"
          ]
        }
      ]
    },
    {
      "cell_type": "code",
      "source": [
        "#Imagine a scenario where we not only needed to print these numbers for each iteration but also we need to store these elements somewhere else\n",
        "list_squares = []\n",
        "for number in list_numbers:\n",
        "  list_squares.append(number**2)      # Use the append method to add the numbers one by one to our list\n",
        "print(f'The list of squared numbers is {list_squares}')\n"
      ],
      "metadata": {
        "id": "U0CsUoFaITzE",
        "colab": {
          "base_uri": "https://localhost:8080/"
        },
        "outputId": "f913118d-780b-4c69-d7d1-c64e2b629c25"
      },
      "execution_count": 16,
      "outputs": [
        {
          "output_type": "stream",
          "name": "stdout",
          "text": [
            "The list of squared numbers is [1, 4, 16, 36, 121, 196, 289, 400]\n"
          ]
        }
      ]
    },
    {
      "cell_type": "code",
      "source": [
        "# to zip them\n",
        "print(list(zip(list_numbers,list_squares)))"
      ],
      "metadata": {
        "id": "XKQeI2rnITZQ",
        "colab": {
          "base_uri": "https://localhost:8080/"
        },
        "outputId": "ab745ba5-ec6c-4fc9-f783-03434c3d7544"
      },
      "execution_count": 17,
      "outputs": [
        {
          "output_type": "execute_result",
          "data": {
            "text/plain": [
              "[(1, 1), (2, 4), (4, 16), (6, 36), (11, 121), (14, 196), (17, 289), (20, 400)]"
            ]
          },
          "metadata": {},
          "execution_count": 17
        }
      ]
    },
    {
      "cell_type": "code",
      "source": [
        "print(dict(zip(list_numbers,list_squares)))"
      ],
      "metadata": {
        "colab": {
          "base_uri": "https://localhost:8080/"
        },
        "id": "2ta5sPoiNuCp",
        "outputId": "d28c448d-d996-4624-ffd0-676d064b979b"
      },
      "execution_count": 18,
      "outputs": [
        {
          "output_type": "stream",
          "name": "stdout",
          "text": [
            "{1: 1, 2: 4, 4: 16, 6: 36, 11: 121, 14: 196, 17: 289, 20: 400}\n"
          ]
        }
      ]
    },
    {
      "cell_type": "code",
      "source": [],
      "metadata": {
        "id": "A4TZpoJmNuGE"
      },
      "execution_count": null,
      "outputs": []
    },
    {
      "cell_type": "code",
      "source": [],
      "metadata": {
        "id": "NKFodYJ7NuLo"
      },
      "execution_count": null,
      "outputs": []
    }
  ]
}