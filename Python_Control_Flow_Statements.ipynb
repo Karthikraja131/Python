{
  "nbformat": 4,
  "nbformat_minor": 0,
  "metadata": {
    "colab": {
      "provenance": [],
      "authorship_tag": "ABX9TyNxrah1dUppyvb++kBOlZU/",
      "include_colab_link": true
    },
    "kernelspec": {
      "name": "python3",
      "display_name": "Python 3"
    },
    "language_info": {
      "name": "python"
    }
  },
  "cells": [
    {
      "cell_type": "markdown",
      "metadata": {
        "id": "view-in-github",
        "colab_type": "text"
      },
      "source": [
        "<a href=\"https://colab.research.google.com/github/Karthikraja131/Python/blob/main/Python_Control_Flow_Statements.ipynb\" target=\"_parent\"><img src=\"https://colab.research.google.com/assets/colab-badge.svg\" alt=\"Open In Colab\"/></a>"
      ]
    },
    {
      "cell_type": "markdown",
      "source": [
        "**Control Flow Statements**\n",
        "They allow you to introduce logic, decision-making, and repetition into your code, making it more dynamic and powerful.\n",
        "* **Conditional statements:** if, if-else, if-elif-else\n",
        "* **Looping statements:** for, while\n",
        "* **Other control flow statements:** break, continue, pass.\n",
        "\n",
        "* **1. Conditional statements:**\n",
        "\n",
        "**if statements:** They execute a block of code only if a certain condition is true.\n",
        "**if-else statements:** They provide alternatives based on the truth of a condition. The else block executes if the if condition is false.\n",
        "**if-elif-else ladders:** Allow for multiple conditions to be checked successively, like a decision tree.\n",
        "2. **Looping statements:**\n",
        "\n",
        "**for loops:** They iterate over a sequence of items, executing a block of code for each item.\n",
        "**while loops:** They continue to execute a block of code as long as a certain condition is true.\n",
        "3. **Other control flow statements:**\n",
        "\n",
        "**break statement:** Used within loops to exit the loop prematurely.\n",
        "**continue statement:** Used within loops to skip to the next iteration.\n",
        "**pass statement:** Useful as a placeholder when a block of code is needed syntactically but its content is empty."
      ],
      "metadata": {
        "id": "KhNZOo8rASeM"
      }
    },
    {
      "cell_type": "code",
      "execution_count": null,
      "metadata": {
        "id": "mQlZf9V0AL-E"
      },
      "outputs": [],
      "source": []
    },
    {
      "cell_type": "code",
      "source": [],
      "metadata": {
        "id": "7qzBcutSAh28"
      },
      "execution_count": null,
      "outputs": []
    },
    {
      "cell_type": "code",
      "source": [],
      "metadata": {
        "id": "GhRGPHVFANZr"
      },
      "execution_count": null,
      "outputs": []
    }
  ]
}