{
  "nbformat": 4,
  "nbformat_minor": 0,
  "metadata": {
    "colab": {
      "provenance": [],
      "authorship_tag": "ABX9TyONTVtw60ks73Lye0t9O3Mh",
      "include_colab_link": true
    },
    "kernelspec": {
      "name": "python3",
      "display_name": "Python 3"
    },
    "language_info": {
      "name": "python"
    }
  },
  "cells": [
    {
      "cell_type": "markdown",
      "metadata": {
        "id": "view-in-github",
        "colab_type": "text"
      },
      "source": [
        "<a href=\"https://colab.research.google.com/github/Karthikraja131/Python/blob/main/Python_Control_Flow_Statements.ipynb\" target=\"_parent\"><img src=\"https://colab.research.google.com/assets/colab-badge.svg\" alt=\"Open In Colab\"/></a>"
      ]
    },
    {
      "cell_type": "markdown",
      "source": [
        "**Control Flow Statements**\n",
        "They allow you to introduce logic, decision-making, and repetition into your code, making it more dynamic and powerful.\n",
        "* **Conditional statements:** if, if-else, if-elif-else\n",
        "* **Looping statements:** for, while\n",
        "* **Other control flow statements:** break, continue, pass.\n",
        "\n",
        "* **1. Conditional statements:**\n",
        "\n",
        "**if statements:** They execute a block of code only if a certain condition is true.\n",
        "**if-else statements:** They provide alternatives based on the truth of a condition. The else block executes if the if condition is false.\n",
        "**if-elif-else ladders:** Allow for multiple conditions to be checked successively, like a decision tree.\n",
        "2. **Looping statements:**\n",
        "\n",
        "**for loops:** They iterate over a sequence of items, executing a block of code for each item.\n",
        "**while loops:** They continue to execute a block of code as long as a certain condition is true.\n",
        "3. **Other control flow statements:**\n",
        "\n",
        "**break statement:** Used within loops to exit the loop prematurely.\n",
        "**continue statement:** Used within loops to skip to the next iteration.\n",
        "**pass statement:** Useful as a placeholder when a block of code is needed syntactically but its content is empty."
      ],
      "metadata": {
        "id": "KhNZOo8rASeM"
      }
    },
    {
      "cell_type": "code",
      "source": [
        "# Eg: if mark is greater than 90, say \"very good\". Otherwire, say \"good\".\n",
        "# See the above sentence we can try the programme for that.\n",
        "\n",
        "mark = 90\n",
        "if mark>= 90:        # the colon(:) is similar to the coma(,) in the sentence.\n",
        "  print(\"very good\")\n",
        "else:                # the colon(:) is similar to the coma(,) in the sentence.\n",
        "  print(\"good\")\n",
        "\n",
        "# So, the above programme is similar the the above sentence.\n"
      ],
      "metadata": {
        "colab": {
          "base_uri": "https://localhost:8080/"
        },
        "id": "1BIAuGwT09B3",
        "outputId": "0d58111e-0748-4d42-eb14-cc99fd00da91"
      },
      "execution_count": 1,
      "outputs": [
        {
          "output_type": "stream",
          "name": "stdout",
          "text": [
            "very good\n"
          ]
        }
      ]
    },
    {
      "cell_type": "code",
      "execution_count": 4,
      "metadata": {
        "id": "mQlZf9V0AL-E"
      },
      "outputs": [],
      "source": [
        "# There is not neccesary for the else part. if we want to print what we didn't get expected result.\n",
        "mark = 80\n",
        "if mark>= 90:\n",
        "  print(\"very good\")\n"
      ]
    },
    {
      "cell_type": "code",
      "source": [
        "# Eg 2 :-\n",
        "name = input(\"Enter your name\")\n",
        "if name == \"Karthikraja\":\n",
        "  print(\"Glad to meet you\",name)\n",
        "print(\"Hello\")"
      ],
      "metadata": {
        "id": "LpVVGuyHnCW6",
        "colab": {
          "base_uri": "https://localhost:8080/"
        },
        "outputId": "a4676b22-bbe6-4693-cc9a-da89bf8a49e5"
      },
      "execution_count": 7,
      "outputs": [
        {
          "output_type": "stream",
          "name": "stdout",
          "text": [
            "Enter your nameKarthikraja\n",
            "Glad to meet you Karthikraja\n",
            "Hello\n"
          ]
        }
      ]
    },
    {
      "cell_type": "code",
      "source": [
        "name = input(\"Enter your name\")\n",
        "if name == \"Karthikraja\":\n",
        "  print(\"Glad to meet you\",name)\n",
        "print(\"Hello\")"
      ],
      "metadata": {
        "id": "Ofwmib6DnIWU",
        "colab": {
          "base_uri": "https://localhost:8080/"
        },
        "outputId": "c69bca49-36e1-45d4-92b0-63f81daa9c64"
      },
      "execution_count": 8,
      "outputs": [
        {
          "output_type": "stream",
          "name": "stdout",
          "text": [
            "Enter your nameRaja\n",
            "Hello\n"
          ]
        }
      ]
    },
    {
      "cell_type": "code",
      "source": [
        "# if-elif-else\n",
        "mark = int(input(\"Enter your mark :\"))\n",
        "if  mark>=90:\n",
        "  print(\"O grade\")\n",
        "elif mark>=80:                # so we can give n numbers of elif(else if = for other languages. here elif.\n",
        "  print(\"A grade\")\n",
        "elif mark>=70:\n",
        "  print(\"B grade\")\n",
        "elif mark>=60:\n",
        "  print(\"C grade\")\n",
        "else:\n",
        "  print(\" we are in the same boat\")\n"
      ],
      "metadata": {
        "id": "7qzBcutSAh28",
        "colab": {
          "base_uri": "https://localhost:8080/"
        },
        "outputId": "1895d761-5ecf-42a2-f897-8cfdba684c25"
      },
      "execution_count": 9,
      "outputs": [
        {
          "output_type": "stream",
          "name": "stdout",
          "text": [
            "Enter your mark :90\n",
            "O grade\n"
          ]
        }
      ]
    },
    {
      "cell_type": "code",
      "source": [
        "mark = int(input(\"Enter your mark :\"))\n",
        "if  mark>=90:\n",
        "  print(\"O grade\")\n",
        "elif mark>=80:                # so we can give n numbers of elif(else if = for other languages. here elif.\n",
        "  print(\"A grade\")\n",
        "elif mark>=70:\n",
        "  print(\"B grade\")\n",
        "elif mark>=60:\n",
        "  print(\"C grade\")\n",
        "else:\n",
        "  print(\" we are in the same boat\")\n"
      ],
      "metadata": {
        "id": "GhRGPHVFANZr",
        "colab": {
          "base_uri": "https://localhost:8080/"
        },
        "outputId": "1b65d29d-6dbf-4ec3-dc41-000bc4ac0fbd"
      },
      "execution_count": 11,
      "outputs": [
        {
          "output_type": "stream",
          "name": "stdout",
          "text": [
            "Enter your mark :50\n",
            " we are in the same boat\n"
          ]
        }
      ]
    },
    {
      "cell_type": "code",
      "source": [],
      "metadata": {
        "id": "im-iKUeZ7mOz"
      },
      "execution_count": null,
      "outputs": []
    }
  ]
}