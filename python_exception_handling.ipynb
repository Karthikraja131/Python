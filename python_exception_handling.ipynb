{
  "nbformat": 4,
  "nbformat_minor": 0,
  "metadata": {
    "colab": {
      "provenance": [],
      "authorship_tag": "ABX9TyOOpa++LZeotd/emcy+14sp",
      "include_colab_link": true
    },
    "kernelspec": {
      "name": "python3",
      "display_name": "Python 3"
    },
    "language_info": {
      "name": "python"
    }
  },
  "cells": [
    {
      "cell_type": "markdown",
      "metadata": {
        "id": "view-in-github",
        "colab_type": "text"
      },
      "source": [
        "<a href=\"https://colab.research.google.com/github/Karthikraja131/Python/blob/main/python_exception_handling.ipynb\" target=\"_parent\"><img src=\"https://colab.research.google.com/assets/colab-badge.svg\" alt=\"Open In Colab\"/></a>"
      ]
    },
    {
      "cell_type": "markdown",
      "source": [
        "#Python Exception Handling\n",
        "**What is Exception Handling?**\n",
        "\n",
        "---\n",
        "\n",
        "* Exception handling in Python is a mechanism to gracefully respond to runtime\n",
        "errors or unexpected events during the execution of a program.\n",
        "* Instead of crashing the program, exceptions can be caught and handled to maintain smooth execution or provide meaningful error messages.\n",
        "\n",
        "*  **Example:** Dividing a number by zero will raise a ZeroDivisionError. Instead of stopping the program, we can catch this error and display a message.\n",
        "\n",
        "**Why Use Exception Handling?**\n",
        "* Prevent program crashes\n",
        "\n",
        "* Provide meaningful feedback to users\n",
        "\n",
        "* Debug and log errors easily\n",
        "\n",
        "* Handle expected and unexpected errors differently\n",
        "\n",
        "\n",
        "\n",
        "\n",
        "\n",
        "\n"
      ],
      "metadata": {
        "id": "xoijaTW7_AVX"
      }
    },
    {
      "cell_type": "markdown",
      "source": [
        "**Python Exception Handling – Cheat Sheet**\n",
        "\n",
        "---\n",
        "| **Keyword**             | **Use**                                                                |\n",
        "| ----------------------- | ---------------------------------------------------------------------- |\n",
        "| `try`                   | Wrap code that may cause an exception                                  |\n",
        "| `except`                | Handle specific exceptions                                             |\n",
        "| `except Exception as e` | Catch the error object and get details                                 |\n",
        "| `else`                  | Runs if **no exception** occurs                                        |\n",
        "| `finally`               | Always runs (for cleanup actions like closing files or DB connections) |\n",
        "| `raise`                 | Manually raise an exception                                            |\n",
        "\n"
      ],
      "metadata": {
        "id": "9zQmNEsOWujG"
      }
    },
    {
      "cell_type": "markdown",
      "source": [
        "**Common Types of Exceptions**\n",
        "\n",
        "---\n",
        "\n",
        "| Exception Name      | Description                        |\n",
        "| ------------------- | ---------------------------------- |\n",
        "| `ZeroDivisionError` | Raised when dividing by zero       |\n",
        "| `ValueError`        | Invalid value passed to a function |\n",
        "| `TypeError`         | Incompatible data types            |\n",
        "| `IndexError`        | List index out of range            |\n",
        "| `KeyError`          | Dictionary key not found           |\n",
        "| `FileNotFoundError` | File doesn’t exist                 |\n",
        "| `ImportError`       | Failed to import a module          |\n",
        "| `AttributeError`    | Attribute reference fails          |\n"
      ],
      "metadata": {
        "id": "L7FI3ov0CXCb"
      }
    },
    {
      "cell_type": "markdown",
      "source": [
        "**Best Practices**\n",
        "\n",
        "---\n",
        "\n",
        "Catch specific exceptions `(ValueError, FileNotFoundError)` instead of using `except`: blindly.\n",
        "\n",
        "Use `finally` for cleanup (e.g., closing a file or DB connection).\n",
        "\n",
        "Avoid hiding bugs by ignoring exceptions silently.\n",
        "\n",
        "Log exceptions in production systems for debugging.\n",
        "\n"
      ],
      "metadata": {
        "id": "xqqAtqz4WARG"
      }
    },
    {
      "cell_type": "markdown",
      "source": [
        "**Summary**\n",
        "\n",
        "---\n",
        "| Aspect            | Details                                                            |\n",
        "| ----------------- | ------------------------------------------------------------------ |\n",
        "| Purpose           | Handle errors gracefully without crashing the program              |\n",
        "| Main Blocks       | `try`, `except`, `else`, `finally`                                 |\n",
        "| Common Exceptions | `ValueError`, `ZeroDivisionError`, `FileNotFoundError`, etc.       |\n",
        "| Uses              | File handling, user input, network requests, data validation       |\n",
        "| Real-world Impact | Helps build robust, user-friendly, and fault-tolerant applications |\n",
        "\n"
      ],
      "metadata": {
        "id": "2oadpA3DWT-9"
      }
    },
    {
      "cell_type": "code",
      "source": [
        "# Exception Handling Template\n",
        "\n",
        "try:\n",
        "# risky code\n",
        "except SpecificError as e:\n",
        "#print(\"Error:\", e)\n",
        "else:\n",
        "# runs if no error\n",
        "finally:\n",
        "# cleanup code"
      ],
      "metadata": {
        "id": "Ih0wStA5XFmH"
      },
      "execution_count": null,
      "outputs": []
    },
    {
      "cell_type": "markdown",
      "source": [
        "**Real-World Examples**\n",
        "\n",
        "---\n",
        "\n"
      ],
      "metadata": {
        "id": "y8bET2ZPGoCW"
      }
    },
    {
      "cell_type": "code",
      "source": [
        "# 1. File Handling\n",
        "try:\n",
        "  f = open('file.txt', 'r')\n",
        "  print(f.read())\n",
        "except FileNotFoundError:\n",
        "  print(\"File not found.\")\n",
        "finally:\n",
        "  print(\"Files access attempt finished.\")\n",
        "\n",
        "\n",
        "#✅ Use case: Useful when reading logs or data files in a project."
      ],
      "metadata": {
        "colab": {
          "base_uri": "https://localhost:8080/"
        },
        "id": "pKpKWko-EpaB",
        "outputId": "1a2a95b4-290d-40d8-d717-05daa805cf6e"
      },
      "execution_count": null,
      "outputs": [
        {
          "output_type": "stream",
          "name": "stdout",
          "text": [
            "File not found.\n",
            "Files access attempt finished.\n"
          ]
        }
      ]
    },
    {
      "cell_type": "code",
      "source": [
        "# 2. User input validation\n",
        "\n",
        "try:\n",
        "  age = int(input(\"Enter your age: \"))\n",
        "  print(\"you are\", age, \"years old\")\n",
        "except ValueError:\n",
        "  print(\"Invalid Input! Please enter a number\")"
      ],
      "metadata": {
        "colab": {
          "base_uri": "https://localhost:8080/"
        },
        "id": "FqGkONEQIpy7",
        "outputId": "c737e447-b609-46d5-8e27-a6e5dcbca13f"
      },
      "execution_count": null,
      "outputs": [
        {
          "output_type": "stream",
          "name": "stdout",
          "text": [
            "Enter your age: 3\n",
            "you are 3 years old\n"
          ]
        }
      ]
    },
    {
      "cell_type": "code",
      "source": [
        "#API or Web Requests\n",
        "import requests\n",
        "try:\n",
        "  response = requests.get(\"https://api.example.com/data\")\n",
        "  response.raise_for_status()\n",
        "  print(response.json())\n",
        "\n",
        "except requests.exceptions.RequestException as e:\n",
        "  print(\"Request failed:\", e)\n",
        "\n",
        "\n",
        "#Use case: Used in backend applications, data science pipelines."
      ],
      "metadata": {
        "colab": {
          "base_uri": "https://localhost:8080/"
        },
        "id": "3tnszMv9RObU",
        "outputId": "682cddbe-8b27-4d61-fee9-e1141b4f2e3e"
      },
      "execution_count": null,
      "outputs": [
        {
          "output_type": "stream",
          "name": "stdout",
          "text": [
            "Request failed: HTTPSConnectionPool(host='api.example.com', port=443): Max retries exceeded with url: /data (Caused by NameResolutionError(\"<urllib3.connection.HTTPSConnection object at 0x79b1d9379c90>: Failed to resolve 'api.example.com' ([Errno -2] Name or service not known)\"))\n"
          ]
        }
      ]
    },
    {
      "cell_type": "code",
      "source": [
        "# 4. Working with Dictionaries\n",
        "data = {\"name\":\"Karthik\"}\n",
        "\n",
        "try:\n",
        "  print(data[\"age\"])\n",
        "\n",
        "except KeyError:\n",
        "  print(\"Key not found in the Dictionary\")"
      ],
      "metadata": {
        "colab": {
          "base_uri": "https://localhost:8080/"
        },
        "id": "X7Rj6fjGVHcd",
        "outputId": "9588fadd-b889-4439-b5d1-1a63ce8d64be"
      },
      "execution_count": null,
      "outputs": [
        {
          "output_type": "stream",
          "name": "stdout",
          "text": [
            "Key not found in the Dictionary\n"
          ]
        }
      ]
    },
    {
      "cell_type": "code",
      "source": [
        "# 4. Working with Dictionaries\n",
        "data = {\"name\":\"Karthikraja\"}\n",
        "\n",
        "try:\n",
        "  print(data[\"name\"])\n",
        "\n",
        "except KeyError:\n",
        "  print(\"Key not found in the Dictionary\")\n",
        "\n",
        "#Use case: Accessing nested data in APIs or databases."
      ],
      "metadata": {
        "colab": {
          "base_uri": "https://localhost:8080/"
        },
        "id": "6wFWl89dVjrC",
        "outputId": "c0c08903-45a7-42ce-8308-ce6c69ec2006"
      },
      "execution_count": null,
      "outputs": [
        {
          "output_type": "stream",
          "name": "stdout",
          "text": [
            "Karthikraja\n"
          ]
        }
      ]
    },
    {
      "cell_type": "code",
      "source": [
        "#micro program-1\n",
        "try:\n",
        "  file = open(\"/home/picode.txt\")\n",
        "  for each_line in file:\n",
        "    try:\n",
        "      (city,picode) = each_line.split(\"-\")\n",
        "      print(\"The picode of\",city, end=' ')\n",
        "      print(\"is\", picode, end ='')\n",
        "    except:\n",
        "      pass   # If 'try' block presents there should be 'except' or 'finally' should be present, we can't left 'except' block empty, so, shold provide the the 'pass' keyword.\n",
        "  file.close()\n",
        "except:\n",
        "  print('please check the file location')\n"
      ],
      "metadata": {
        "id": "NGMxtO0rVm2c",
        "colab": {
          "base_uri": "https://localhost:8080/"
        },
        "outputId": "cd4c24a6-49f6-4fbf-8533-722105d14af1"
      },
      "execution_count": 10,
      "outputs": [
        {
          "output_type": "stream",
          "name": "stdout",
          "text": [
            "The picode of Tamilnadu is Chennai\n",
            "The picode of Karnataka is Bangalore\n",
            "The picode of Kerala is Trivandaram\n",
            "The picode of Andra is Amaravathi\n"
          ]
        }
      ]
    },
    {
      "cell_type": "code",
      "source": [
        "#micro program-2\n",
        "try:\n",
        "  file = open(\"/home/picode.txt\")\n",
        "  for each_line in file:\n",
        "    try:\n",
        "      (city,picode) = each_line.split(\"-\")\n",
        "      print(\"The picode of\",city,end=' ')\n",
        "      print(\"is\", picode, end ='')\n",
        "    except ValueError:\n",
        "      print(\"Please checkt the split in the doc\")888888888\n",
        "    except:\n",
        "      print(\"Please check some issues\") # the key 'except' is used when does not know the possible runtime error, we can provide 'except' keyword itself. and it should present at last block.\n",
        "\n",
        "  file.close()\n",
        "except:\n",
        "  print('please check the file location')"
      ],
      "metadata": {
        "colab": {
          "base_uri": "https://localhost:8080/"
        },
        "id": "4tUMo8PYLYwh",
        "outputId": "11978d13-50ed-43ed-b120-b68f72c2f043"
      },
      "execution_count": 12,
      "outputs": [
        {
          "output_type": "stream",
          "name": "stdout",
          "text": [
            "The picode of Tamilnadu is Chennai\n",
            "The picode of Karnataka is Bangalore\n",
            "The picode of Kerala is Trivandaram\n",
            "The picode of Andra is Amaravathi\n"
          ]
        }
      ]
    },
    {
      "cell_type": "code",
      "source": [
        "#micro program-3\n",
        "def get_number():\n",
        "    number = int(input(\"Please enter valid number: \"))\n",
        "    return number\n",
        "\n",
        "while True:\n",
        "  try:\n",
        "    print(get_number())\n",
        "    option = input(\"continue the program? Yes | NO\")\n",
        "    if option.lower() == \"no\":\n",
        "      break\n",
        "  except ValueError:\n",
        "    print(\"Please Enter the Valid pin no.\")\n",
        "\n",
        "  except:\n",
        "    print(\"please check some issues\")\n",
        "\n"
      ],
      "metadata": {
        "colab": {
          "base_uri": "https://localhost:8080/"
        },
        "id": "vPsCaP49MoVg",
        "outputId": "2d993eae-28ab-432d-feb6-9fc11d377015"
      },
      "execution_count": 13,
      "outputs": [
        {
          "name": "stdout",
          "output_type": "stream",
          "text": [
            "Please enter valid number: 20\n",
            "20\n",
            "continue the program? Yes | NO \n",
            "Please enter valid number: k\n",
            "Please Enter the Valid pin no.\n",
            "Please enter valid number: 20.3\n",
            "Please Enter the Valid pin no.\n",
            "Please enter valid number: 10-1\n",
            "Please Enter the Valid pin no.\n",
            "Please enter valid number: 10\n",
            "10\n",
            "continue the program? Yes | NOyes\n",
            "Please enter valid number: no\n",
            "Please Enter the Valid pin no.\n",
            "Please enter valid number: no\n",
            "Please Enter the Valid pin no.\n",
            "Please enter valid number: 10\n",
            "10\n",
            "continue the program? Yes | NOno\n"
          ]
        }
      ]
    },
    {
      "cell_type": "code",
      "source": [
        ";"
      ],
      "metadata": {
        "id": "VniRULmJVBYz"
      },
      "execution_count": null,
      "outputs": []
    }
  ]
}