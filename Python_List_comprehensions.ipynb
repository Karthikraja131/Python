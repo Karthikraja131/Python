{
  "nbformat": 4,
  "nbformat_minor": 0,
  "metadata": {
    "colab": {
      "provenance": [],
      "authorship_tag": "ABX9TyPHE8OdqvQHBRYGFFfbQ2MQ",
      "include_colab_link": true
    },
    "kernelspec": {
      "name": "python3",
      "display_name": "Python 3"
    },
    "language_info": {
      "name": "python"
    }
  },
  "cells": [
    {
      "cell_type": "markdown",
      "metadata": {
        "id": "view-in-github",
        "colab_type": "text"
      },
      "source": [
        "<a href=\"https://colab.research.google.com/github/Karthikraja131/Python/blob/main/Python_List_comprehensions.ipynb\" target=\"_parent\"><img src=\"https://colab.research.google.com/assets/colab-badge.svg\" alt=\"Open In Colab\"/></a>"
      ]
    },
    {
      "cell_type": "markdown",
      "source": [
        "##List comprehensions\n",
        "*  List comprehensions are a tool for transforming one list (any iterable actually) into another list. During this transformation, elements can be conditionally included in the new list and each element can be transformed as needed.\n",
        "\n",
        "*  List comprehensions in Python are great, but mastering them can be tricky because they don’t solve a new problem: they **just provide a new syntax** to solve an existing problem.\n",
        "\n",
        "#From loops to comprehensions\n",
        "\n",
        "*  Every list comprehension can be rewritten as a for loop but not every for loop can be rewritten as a list comprehension. The key to understanding when to use list comprehensions is to practice identifying problems that smell like list comprehensions. If you can rewrite your code to look just like this for loop, you can also rewrite it as a list comprehension:\n",
        "\n",
        "#example-1: getting the squares of the numbers in a list"
      ],
      "metadata": {
        "id": "_LZ3WXEdfd5m"
      }
    },
    {
      "cell_type": "code",
      "execution_count": 2,
      "metadata": {
        "id": "OvzY6PLKfMzw"
      },
      "outputs": [],
      "source": [
        "# The list of numbers\n",
        "list_of_numbers = [1, 2, 4, 6, 8, 10, 12, 20]"
      ]
    },
    {
      "cell_type": "markdown",
      "source": [
        "By usual way to do this using  for loop is described below:"
      ],
      "metadata": {
        "id": "h5gPZMqjmtJB"
      }
    },
    {
      "cell_type": "code",
      "source": [
        "squared_list =[]\n",
        "for number in list_of_numbers:\n",
        "  squared_list.append(number**2)\n",
        "print(squared_list)"
      ],
      "metadata": {
        "colab": {
          "base_uri": "https://localhost:8080/"
        },
        "id": "9u3YRedbfcuj",
        "outputId": "1c92d1fd-7579-42ef-8722-9286ba18362d"
      },
      "execution_count": 3,
      "outputs": [
        {
          "output_type": "stream",
          "name": "stdout",
          "text": [
            "[1, 4, 16, 36, 64, 100, 144, 400]\n"
          ]
        }
      ]
    },
    {
      "cell_type": "markdown",
      "source": [
        "By using List-Comprehensions"
      ],
      "metadata": {
        "id": "VGIvsm3yddTW"
      }
    },
    {
      "cell_type": "code",
      "source": [
        "list_of_numbers = [1, 2, 4, 6, 8, 10, 12, 20]\n",
        "squared_list=[number**2 for number in list_of_numbers]\n",
        "print(squared_list)"
      ],
      "metadata": {
        "id": "YfwjUfYNfcwo",
        "colab": {
          "base_uri": "https://localhost:8080/"
        },
        "outputId": "34a2f5e8-1389-470f-8374-be24511e8c1e"
      },
      "execution_count": 5,
      "outputs": [
        {
          "output_type": "stream",
          "name": "stdout",
          "text": [
            "[1, 4, 16, 36, 64, 100, 144, 400]\n"
          ]
        }
      ]
    },
    {
      "cell_type": "markdown",
      "source": [
        "By applying some conditions\n",
        "\n",
        "eg-1: Print the suared numbers only for the even numbers usig list comprehensions"
      ],
      "metadata": {
        "id": "UPeR7sDsl90n"
      }
    },
    {
      "cell_type": "code",
      "source": [
        "list_of_numbers = [1, 2, 4,5, 6,7, 8, 10, 12, 20]\n",
        "\n",
        "suqared_even_list = [number**2 for number in list_of_numbers if number%2==0]\n",
        "print(suqared_even_list)"
      ],
      "metadata": {
        "id": "9ozcbMDXfcyx",
        "colab": {
          "base_uri": "https://localhost:8080/"
        },
        "outputId": "604d37f6-26d3-4798-ed18-70410ba3792c"
      },
      "execution_count": 7,
      "outputs": [
        {
          "output_type": "stream",
          "name": "stdout",
          "text": [
            "[4, 16, 36, 64, 100, 144, 400]\n"
          ]
        }
      ]
    },
    {
      "cell_type": "markdown",
      "source": [
        "eg.2: some other conditions"
      ],
      "metadata": {
        "id": "IFZNMBe4m8Ub"
      }
    },
    {
      "cell_type": "code",
      "source": [
        "list_of_numbers = [1, 2, 4,5, 6,7, 8, 10, 12, 20]\n",
        "\n",
        "new_numbers = [number**2 for number in list_of_numbers if number%2==0 else number**3]\n",
        "print(new_numbers)"
      ],
      "metadata": {
        "id": "xVoPxks5fc04",
        "colab": {
          "base_uri": "https://localhost:8080/",
          "height": 106
        },
        "outputId": "fe036059-7b4e-4c91-9ef6-4e0b5f846cb9"
      },
      "execution_count": 9,
      "outputs": [
        {
          "output_type": "error",
          "ename": "SyntaxError",
          "evalue": "invalid syntax (<ipython-input-9-e418e2b73e8e>, line 3)",
          "traceback": [
            "\u001b[0;36m  File \u001b[0;32m\"<ipython-input-9-e418e2b73e8e>\"\u001b[0;36m, line \u001b[0;32m3\u001b[0m\n\u001b[0;31m    suqared_even_list = [number**2 for number in list_of_numbers if number%2==0 & else number**3]\u001b[0m\n\u001b[0m                                                                                  ^\u001b[0m\n\u001b[0;31mSyntaxError\u001b[0m\u001b[0;31m:\u001b[0m invalid syntax\n"
          ]
        }
      ]
    },
    {
      "cell_type": "code",
      "source": [
        "list_of_numbers = [1, 2, 4,5, 6,7, 8, 10, 12, 20]\n",
        "\n",
        "new_numbers = [number**2 if number%2==0 else  number**3 for number in list_of_numbers]\n",
        "print(new_numbers)"
      ],
      "metadata": {
        "id": "MJJeRAF9fc3F",
        "colab": {
          "base_uri": "https://localhost:8080/"
        },
        "outputId": "bcfe89c2-8396-4ffd-a9da-d326834d6ab4"
      },
      "execution_count": 10,
      "outputs": [
        {
          "output_type": "stream",
          "name": "stdout",
          "text": [
            "[1, 4, 16, 125, 36, 343, 64, 100, 144, 400]\n"
          ]
        }
      ]
    },
    {
      "cell_type": "code",
      "source": [],
      "metadata": {
        "id": "OC7lpd-qfc5P"
      },
      "execution_count": null,
      "outputs": []
    },
    {
      "cell_type": "code",
      "source": [],
      "metadata": {
        "id": "m8r75xt4fc75"
      },
      "execution_count": null,
      "outputs": []
    },
    {
      "cell_type": "code",
      "source": [],
      "metadata": {
        "id": "2dB9g8vJfc-w"
      },
      "execution_count": null,
      "outputs": []
    },
    {
      "cell_type": "markdown",
      "source": [],
      "metadata": {
        "id": "cfIsIQWafdN_"
      }
    }
  ]
}