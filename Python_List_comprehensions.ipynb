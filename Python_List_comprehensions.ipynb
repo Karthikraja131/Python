{
  "nbformat": 4,
  "nbformat_minor": 0,
  "metadata": {
    "colab": {
      "provenance": [],
      "authorship_tag": "ABX9TyPbsnRBK6wgX9Zoujp64UhW",
      "include_colab_link": true
    },
    "kernelspec": {
      "name": "python3",
      "display_name": "Python 3"
    },
    "language_info": {
      "name": "python"
    }
  },
  "cells": [
    {
      "cell_type": "markdown",
      "metadata": {
        "id": "view-in-github",
        "colab_type": "text"
      },
      "source": [
        "<a href=\"https://colab.research.google.com/github/Karthikraja131/Python/blob/main/Python_List_comprehensions.ipynb\" target=\"_parent\"><img src=\"https://colab.research.google.com/assets/colab-badge.svg\" alt=\"Open In Colab\"/></a>"
      ]
    },
    {
      "cell_type": "markdown",
      "source": [
        "##List comprehensions\n",
        "*  List comprehensions are a tool for transforming one list (any iterable actually) into another list. During this transformation, elements can be conditionally included in the new list and each element can be transformed as needed.\n",
        "\n",
        "*  List comprehensions in Python are great, but mastering them can be tricky because they don’t solve a new problem: they **just provide a new syntax** to solve an existing problem.\n",
        "\n",
        "#From loops to comprehensions\n",
        "\n",
        "*  Every list comprehension can be rewritten as a for loop but not every for loop can be rewritten as a list comprehension. The key to understanding when to use list comprehensions is to practice identifying problems that smell like list comprehensions. If you can rewrite your code to look just like this for loop, you can also rewrite it as a list comprehension:\n",
        "\n",
        "#example-1: getting the squares of the numbers in a list"
      ],
      "metadata": {
        "id": "_LZ3WXEdfd5m"
      }
    },
    {
      "cell_type": "code",
      "execution_count": null,
      "metadata": {
        "id": "OvzY6PLKfMzw"
      },
      "outputs": [],
      "source": [
        "# The list of numbers\n",
        "list_of_numbers = [1, 2, 4, 6, 8, 10, 12, 20]"
      ]
    },
    {
      "cell_type": "markdown",
      "source": [
        "By usual way to do this using  for loop is described below:"
      ],
      "metadata": {
        "id": "h5gPZMqjmtJB"
      }
    },
    {
      "cell_type": "code",
      "source": [
        "squared_list =[]\n",
        "for number in list_of_numbers:\n",
        "  squared_list.append(number**2)\n",
        "print(squared_list)"
      ],
      "metadata": {
        "colab": {
          "base_uri": "https://localhost:8080/"
        },
        "id": "9u3YRedbfcuj",
        "outputId": "1c92d1fd-7579-42ef-8722-9286ba18362d"
      },
      "execution_count": null,
      "outputs": [
        {
          "output_type": "stream",
          "name": "stdout",
          "text": [
            "[1, 4, 16, 36, 64, 100, 144, 400]\n"
          ]
        }
      ]
    },
    {
      "cell_type": "markdown",
      "source": [
        "By using List-Comprehensions"
      ],
      "metadata": {
        "id": "VGIvsm3yddTW"
      }
    },
    {
      "cell_type": "code",
      "source": [
        "list_of_numbers = [1, 2, 4, 6, 8, 10, 12, 20]\n",
        "squared_list=[number**2 for number in list_of_numbers]\n",
        "print(squared_list)"
      ],
      "metadata": {
        "id": "YfwjUfYNfcwo",
        "colab": {
          "base_uri": "https://localhost:8080/"
        },
        "outputId": "34a2f5e8-1389-470f-8374-be24511e8c1e"
      },
      "execution_count": null,
      "outputs": [
        {
          "output_type": "stream",
          "name": "stdout",
          "text": [
            "[1, 4, 16, 36, 64, 100, 144, 400]\n"
          ]
        }
      ]
    },
    {
      "cell_type": "markdown",
      "source": [
        "By applying some conditions\n",
        "\n",
        "eg-1: Print the suared numbers only for the even numbers usig list comprehensions"
      ],
      "metadata": {
        "id": "UPeR7sDsl90n"
      }
    },
    {
      "cell_type": "code",
      "source": [
        "list_of_numbers = [1, 2, 4,5, 6,7, 8, 10, 12, 20]\n",
        "\n",
        "suqared_even_list = [number**2 for number in list_of_numbers if number%2==0]\n",
        "print(suqared_even_list)"
      ],
      "metadata": {
        "id": "9ozcbMDXfcyx",
        "colab": {
          "base_uri": "https://localhost:8080/"
        },
        "outputId": "604d37f6-26d3-4798-ed18-70410ba3792c"
      },
      "execution_count": null,
      "outputs": [
        {
          "output_type": "stream",
          "name": "stdout",
          "text": [
            "[4, 16, 36, 64, 100, 144, 400]\n"
          ]
        }
      ]
    },
    {
      "cell_type": "markdown",
      "source": [
        "eg.2: some other conditions"
      ],
      "metadata": {
        "id": "IFZNMBe4m8Ub"
      }
    },
    {
      "cell_type": "code",
      "source": [
        "list_of_numbers = [1, 2, 4,5, 6,7, 8, 10, 12, 20]\n",
        "\n",
        "new_numbers = [number**2 for number in list_of_numbers if number%2==0 else number**3]\n",
        "print(new_numbers)"
      ],
      "metadata": {
        "id": "xVoPxks5fc04",
        "colab": {
          "base_uri": "https://localhost:8080/",
          "height": 106
        },
        "outputId": "fe036059-7b4e-4c91-9ef6-4e0b5f846cb9"
      },
      "execution_count": null,
      "outputs": [
        {
          "output_type": "error",
          "ename": "SyntaxError",
          "evalue": "invalid syntax (<ipython-input-9-e418e2b73e8e>, line 3)",
          "traceback": [
            "\u001b[0;36m  File \u001b[0;32m\"<ipython-input-9-e418e2b73e8e>\"\u001b[0;36m, line \u001b[0;32m3\u001b[0m\n\u001b[0;31m    suqared_even_list = [number**2 for number in list_of_numbers if number%2==0 & else number**3]\u001b[0m\n\u001b[0m                                                                                  ^\u001b[0m\n\u001b[0;31mSyntaxError\u001b[0m\u001b[0;31m:\u001b[0m invalid syntax\n"
          ]
        }
      ]
    },
    {
      "cell_type": "code",
      "source": [
        "list_of_numbers = [1, 2, 4,5, 6,7, 8, 10, 12, 20]\n",
        "\n",
        "new_numbers = [number**2 if number%2==0 else  number**3 for number in list_of_numbers]\n",
        "print(new_numbers)"
      ],
      "metadata": {
        "id": "MJJeRAF9fc3F",
        "colab": {
          "base_uri": "https://localhost:8080/"
        },
        "outputId": "548200cc-fb2a-4ee4-a3df-519293aa5911"
      },
      "execution_count": null,
      "outputs": [
        {
          "output_type": "stream",
          "name": "stdout",
          "text": [
            "[1, 4, 16, 125, 36, 343, 64, 100, 144, 400]\n"
          ]
        }
      ]
    },
    {
      "cell_type": "code",
      "source": [
        "# Using for loop\n",
        "even_squared_numbers = []\n",
        "\n",
        "for number in list_of_numbers:\n",
        "  if number%2 == 0:\n",
        "    even_squared_numbers.append(number**2)\n",
        "print(even_squared_numbers)"
      ],
      "metadata": {
        "colab": {
          "base_uri": "https://localhost:8080/"
        },
        "id": "vd_DskCud5OH",
        "outputId": "e229fe86-8aa5-435f-bcff-214ed4ade5f2"
      },
      "execution_count": null,
      "outputs": [
        {
          "output_type": "stream",
          "name": "stdout",
          "text": [
            "[4, 16, 36, 64, 100, 144, 400]\n"
          ]
        }
      ]
    },
    {
      "cell_type": "markdown",
      "source": [
        "So how did we convert our for loop into a list comprehension?\n",
        "\n",
        "Copying the variable assignment for our new empty list\n",
        "\n",
        "Copying the expression number**2 that we’ve been appending into this new list\n",
        "\n",
        "Copying the for loop line, excluding the final :\n",
        "\n",
        "Copying the if statement line, also without the :"
      ],
      "metadata": {
        "id": "r0HFyOnKdpYG"
      }
    },
    {
      "cell_type": "markdown",
      "source": [
        "#Writing list comprehensions for nested loops\n"
      ],
      "metadata": {
        "id": "qgMaxQpHfHWI"
      }
    },
    {
      "cell_type": "code",
      "source": [
        "range_list= []\n",
        "for num1 in range(4):\n",
        "  for num2 in range(3):\n",
        "   range_list.append(num1)\n",
        "print(range_list)\n",
        "\n"
      ],
      "metadata": {
        "id": "OC7lpd-qfc5P",
        "colab": {
          "base_uri": "https://localhost:8080/"
        },
        "outputId": "d443b3b1-0967-4ad9-8089-88e547035a85"
      },
      "execution_count": null,
      "outputs": [
        {
          "output_type": "stream",
          "name": "stdout",
          "text": [
            "[0, 0, 0, 1, 1, 1, 2, 2, 2, 3, 3, 3]\n"
          ]
        }
      ]
    },
    {
      "cell_type": "code",
      "source": [
        "range_list= []\n",
        "for num1 in range(4):\n",
        "  for num2 in range(3):\n",
        "   range_list.append(num2)\n",
        "print(range_list)"
      ],
      "metadata": {
        "id": "m8r75xt4fc75",
        "colab": {
          "base_uri": "https://localhost:8080/"
        },
        "outputId": "b239295a-6451-433e-dd3c-194cd8dbf58d"
      },
      "execution_count": null,
      "outputs": [
        {
          "output_type": "stream",
          "name": "stdout",
          "text": [
            "[0, 1, 2, 0, 1, 2, 0, 1, 2, 0, 1, 2]\n"
          ]
        }
      ]
    },
    {
      "cell_type": "code",
      "source": [
        "nested_list = [num1 for num1 in range(4) for num2 in range(3)]\n",
        "print(nested_list)"
      ],
      "metadata": {
        "id": "2dB9g8vJfc-w",
        "colab": {
          "base_uri": "https://localhost:8080/"
        },
        "outputId": "40445383-4261-4c3d-ec4d-c91fb4d2316f"
      },
      "execution_count": null,
      "outputs": [
        {
          "output_type": "stream",
          "name": "stdout",
          "text": [
            "[0, 0, 0, 1, 1, 1, 2, 2, 2, 3, 3, 3]\n"
          ]
        }
      ]
    },
    {
      "cell_type": "code",
      "source": [
        "nested_list = [num2 for num1 in range(4) for num2 in range(3)]\n",
        "print(nested_list)"
      ],
      "metadata": {
        "id": "ElGTXWAEnC_C",
        "outputId": "92760bd8-90b8-433b-b82f-595d33030669",
        "colab": {
          "base_uri": "https://localhost:8080/"
        }
      },
      "execution_count": null,
      "outputs": [
        {
          "output_type": "stream",
          "name": "stdout",
          "text": [
            "[0, 1, 2, 0, 1, 2, 0, 1, 2, 0, 1, 2]\n"
          ]
        }
      ]
    },
    {
      "cell_type": "markdown",
      "source": [
        "## But that’s not right! I’ve mistakenly flipped the <code>for</code> loops here. The correct version is the one above. When working with nested loops in list comprehensions remember that the for clauses remain in the same order as in our original for loops."
      ],
      "metadata": {
        "id": "QVbde7yfLKmt"
      }
    },
    {
      "cell_type": "markdown",
      "source": [
        "### Now let us see how we can create list of lists using list comprehension"
      ],
      "metadata": {
        "id": "iuPlcrWrLMoA"
      }
    },
    {
      "cell_type": "code",
      "source": [
        "sample_list= [[]]\n",
        "print(len(sample_list))\n",
        "sample_list[0]"
      ],
      "metadata": {
        "colab": {
          "base_uri": "https://localhost:8080/"
        },
        "id": "Ilv-mt_rBa_P",
        "outputId": "951d2c2c-ee6b-45bd-9de1-9520bf24895d"
      },
      "execution_count": 2,
      "outputs": [
        {
          "output_type": "stream",
          "name": "stdout",
          "text": [
            "1\n"
          ]
        },
        {
          "output_type": "execute_result",
          "data": {
            "text/plain": [
              "[]"
            ]
          },
          "metadata": {},
          "execution_count": 2
        }
      ]
    },
    {
      "cell_type": "code",
      "source": [
        "list_of_lists = []\n",
        "\n",
        "for num1 in range(4):\n",
        "  # Append an empty sublist inside the list\n",
        "  list_of_lists.append([])  # [[0]] , list_of_lists[1]\n",
        "  # print(list_of_lists)\n",
        "\n",
        "  for num2 in range(3):\n",
        "    # Append the elements within the sublist\n",
        "    list_of_lists[num1].append(num2)  #list_of_lists[0]\n",
        "\n",
        "print(list_of_lists)"
      ],
      "metadata": {
        "colab": {
          "base_uri": "https://localhost:8080/"
        },
        "id": "JFCxWfSfTYYI",
        "outputId": "f85549fd-a65a-44e1-f184-359c00ffda83"
      },
      "execution_count": 9,
      "outputs": [
        {
          "output_type": "stream",
          "name": "stdout",
          "text": [
            "[[0, 1, 2], [0, 1, 2], [0, 1, 2], [0, 1, 2]]\n"
          ]
        }
      ]
    },
    {
      "cell_type": "code",
      "source": [
        "# Using list comprehension we can write the same thing\n",
        "nested_list1 = [[num2 for num2 in range(3)] for num1 in range(4)]\n",
        "nested_list1"
      ],
      "metadata": {
        "colab": {
          "base_uri": "https://localhost:8080/"
        },
        "id": "leJEiuxcBbFW",
        "outputId": "7623dc13-05d0-4d64-d683-e390e8947836"
      },
      "execution_count": 4,
      "outputs": [
        {
          "output_type": "execute_result",
          "data": {
            "text/plain": [
              "[[0, 1, 2], [0, 1, 2], [0, 1, 2], [0, 1, 2]]"
            ]
          },
          "metadata": {},
          "execution_count": 4
        }
      ]
    },
    {
      "cell_type": "code",
      "source": [
        "nested_list2 = [[num1 for num2 in range(3)] for num1 in range(4)]\n",
        "nested_list2"
      ],
      "metadata": {
        "colab": {
          "base_uri": "https://localhost:8080/"
        },
        "id": "1qCF3k1WBbGK",
        "outputId": "b130c3e0-0366-4e88-c01a-3d61834eea42"
      },
      "execution_count": 5,
      "outputs": [
        {
          "output_type": "execute_result",
          "data": {
            "text/plain": [
              "[[0, 0, 0], [1, 1, 1], [2, 2, 2], [3, 3, 3]]"
            ]
          },
          "metadata": {},
          "execution_count": 5
        }
      ]
    },
    {
      "cell_type": "code",
      "source": [],
      "metadata": {
        "id": "b6gEfxE0BbR0"
      },
      "execution_count": null,
      "outputs": []
    },
    {
      "cell_type": "code",
      "source": [],
      "metadata": {
        "id": "XSWeGOOxBbWC"
      },
      "execution_count": null,
      "outputs": []
    },
    {
      "cell_type": "code",
      "source": [],
      "metadata": {
        "id": "x5b0Rs_NBbYh"
      },
      "execution_count": null,
      "outputs": []
    },
    {
      "cell_type": "code",
      "source": [],
      "metadata": {
        "id": "SFVUn41MBbbX"
      },
      "execution_count": null,
      "outputs": []
    },
    {
      "cell_type": "markdown",
      "source": [],
      "metadata": {
        "id": "cfIsIQWafdN_"
      }
    }
  ]
}