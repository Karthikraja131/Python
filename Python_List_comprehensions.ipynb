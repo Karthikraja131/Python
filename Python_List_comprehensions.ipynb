{
  "nbformat": 4,
  "nbformat_minor": 0,
  "metadata": {
    "colab": {
      "provenance": [],
      "authorship_tag": "ABX9TyMdK/u8eSshHfhfEWSzPn7B",
      "include_colab_link": true
    },
    "kernelspec": {
      "name": "python3",
      "display_name": "Python 3"
    },
    "language_info": {
      "name": "python"
    }
  },
  "cells": [
    {
      "cell_type": "markdown",
      "metadata": {
        "id": "view-in-github",
        "colab_type": "text"
      },
      "source": [
        "<a href=\"https://colab.research.google.com/github/Karthikraja131/Python/blob/main/Python_List_comprehensions.ipynb\" target=\"_parent\"><img src=\"https://colab.research.google.com/assets/colab-badge.svg\" alt=\"Open In Colab\"/></a>"
      ]
    },
    {
      "cell_type": "markdown",
      "source": [
        "##List comprehensions\n",
        "*  List comprehensions are a tool for transforming one list (any iterable actually) into another list. During this transformation, elements can be conditionally included in the new list and each element can be transformed as needed.\n",
        "\n",
        "*  List comprehensions in Python are great, but mastering them can be tricky because they don’t solve a new problem: they **just provide a new syntax** to solve an existing problem.\n",
        "\n",
        "#From loops to comprehensions\n",
        "\n",
        "*  Every list comprehension can be rewritten as a for loop but not every for loop can be rewritten as a list comprehension. The key to understanding when to use list comprehensions is to practice identifying problems that smell like list comprehensions. If you can rewrite your code to look just like this for loop, you can also rewrite it as a list comprehension:\n",
        "\n",
        "#example-1: getting the squares of the numbers in a list"
      ],
      "metadata": {
        "id": "_LZ3WXEdfd5m"
      }
    },
    {
      "cell_type": "code",
      "execution_count": null,
      "metadata": {
        "id": "OvzY6PLKfMzw"
      },
      "outputs": [],
      "source": [
        "# The list of numbers\n",
        "list_of_numbers = [1, 2, 4, 6, 8, 10, 12, 20]"
      ]
    },
    {
      "cell_type": "markdown",
      "source": [
        "By usual way to do this using  for loop is described below:"
      ],
      "metadata": {
        "id": "h5gPZMqjmtJB"
      }
    },
    {
      "cell_type": "code",
      "source": [
        "squared_list =[]\n",
        "for number in list_of_numbers:\n",
        "  squared_list.append(number**2)\n",
        "print(squared_list)"
      ],
      "metadata": {
        "colab": {
          "base_uri": "https://localhost:8080/"
        },
        "id": "9u3YRedbfcuj",
        "outputId": "2e913803-2e2e-4977-c0c7-ad4a840e8368"
      },
      "execution_count": null,
      "outputs": [
        {
          "output_type": "stream",
          "name": "stdout",
          "text": [
            "[1, 4, 16, 25, 36, 49, 64, 100, 144, 400]\n"
          ]
        }
      ]
    },
    {
      "cell_type": "markdown",
      "source": [
        "By using List-Comprehensions"
      ],
      "metadata": {
        "id": "VGIvsm3yddTW"
      }
    },
    {
      "cell_type": "code",
      "source": [
        "list_of_numbers = [1, 2, 4, 6, 8, 10, 12, 20]\n",
        "squared_list=[number**2 for number in list_of_numbers]\n",
        "print(squared_list)"
      ],
      "metadata": {
        "id": "YfwjUfYNfcwo",
        "colab": {
          "base_uri": "https://localhost:8080/"
        },
        "outputId": "deaf2352-d64a-4803-ac02-974fa274bce2"
      },
      "execution_count": null,
      "outputs": [
        {
          "output_type": "stream",
          "name": "stdout",
          "text": [
            "[1, 4, 16, 36, 64, 100, 144, 400]\n"
          ]
        }
      ]
    },
    {
      "cell_type": "markdown",
      "source": [
        "By applying some conditions\n",
        "\n",
        "eg-1: Print the suared numbers only for the even numbers usig list comprehensions"
      ],
      "metadata": {
        "id": "UPeR7sDsl90n"
      }
    },
    {
      "cell_type": "code",
      "source": [
        "list_of_numbers = [1, 2, 4,5, 6,7, 8, 10, 12, 20]\n",
        "\n",
        "suqared_even_list = [number**2 for number in list_of_numbers if number%2==0]\n",
        "print(suqared_even_list)"
      ],
      "metadata": {
        "id": "9ozcbMDXfcyx",
        "colab": {
          "base_uri": "https://localhost:8080/"
        },
        "outputId": "604d37f6-26d3-4798-ed18-70410ba3792c"
      },
      "execution_count": null,
      "outputs": [
        {
          "output_type": "stream",
          "name": "stdout",
          "text": [
            "[4, 16, 36, 64, 100, 144, 400]\n"
          ]
        }
      ]
    },
    {
      "cell_type": "markdown",
      "source": [
        "eg.2: some other conditions"
      ],
      "metadata": {
        "id": "IFZNMBe4m8Ub"
      }
    },
    {
      "cell_type": "code",
      "source": [
        "list_of_numbers = [1, 2, 4,5, 6,7, 8, 10, 12, 20]\n",
        "\n",
        "new_numbers = [number**2 for number in list_of_numbers if number%2==0 else number**3]\n",
        "print(new_numbers)"
      ],
      "metadata": {
        "id": "xVoPxks5fc04",
        "colab": {
          "base_uri": "https://localhost:8080/",
          "height": 106
        },
        "outputId": "fe036059-7b4e-4c91-9ef6-4e0b5f846cb9"
      },
      "execution_count": null,
      "outputs": [
        {
          "output_type": "error",
          "ename": "SyntaxError",
          "evalue": "invalid syntax (<ipython-input-9-e418e2b73e8e>, line 3)",
          "traceback": [
            "\u001b[0;36m  File \u001b[0;32m\"<ipython-input-9-e418e2b73e8e>\"\u001b[0;36m, line \u001b[0;32m3\u001b[0m\n\u001b[0;31m    suqared_even_list = [number**2 for number in list_of_numbers if number%2==0 & else number**3]\u001b[0m\n\u001b[0m                                                                                  ^\u001b[0m\n\u001b[0;31mSyntaxError\u001b[0m\u001b[0;31m:\u001b[0m invalid syntax\n"
          ]
        }
      ]
    },
    {
      "cell_type": "code",
      "source": [
        "list_of_numbers = [1, 2, 4,5, 6,7, 8, 10, 12, 20]\n",
        "\n",
        "new_numbers = [number**2 if number%2==0 else  number**3 for number in list_of_numbers]\n",
        "print(new_numbers)"
      ],
      "metadata": {
        "id": "MJJeRAF9fc3F",
        "colab": {
          "base_uri": "https://localhost:8080/"
        },
        "outputId": "548200cc-fb2a-4ee4-a3df-519293aa5911"
      },
      "execution_count": null,
      "outputs": [
        {
          "output_type": "stream",
          "name": "stdout",
          "text": [
            "[1, 4, 16, 125, 36, 343, 64, 100, 144, 400]\n"
          ]
        }
      ]
    },
    {
      "cell_type": "code",
      "source": [
        "# Using for loop\n",
        "even_squared_numbers = []\n",
        "\n",
        "for number in list_of_numbers:\n",
        "  if number%2 == 0:\n",
        "    even_squared_numbers.append(number**2)\n",
        "print(even_squared_numbers)"
      ],
      "metadata": {
        "colab": {
          "base_uri": "https://localhost:8080/"
        },
        "id": "vd_DskCud5OH",
        "outputId": "e229fe86-8aa5-435f-bcff-214ed4ade5f2"
      },
      "execution_count": null,
      "outputs": [
        {
          "output_type": "stream",
          "name": "stdout",
          "text": [
            "[4, 16, 36, 64, 100, 144, 400]\n"
          ]
        }
      ]
    },
    {
      "cell_type": "markdown",
      "source": [
        "So how did we convert our for loop into a list comprehension?\n",
        "\n",
        "Copying the variable assignment for our new empty list\n",
        "\n",
        "Copying the expression number**2 that we’ve been appending into this new list\n",
        "\n",
        "Copying the for loop line, excluding the final :\n",
        "\n",
        "Copying the if statement line, also without the :"
      ],
      "metadata": {
        "id": "r0HFyOnKdpYG"
      }
    },
    {
      "cell_type": "markdown",
      "source": [
        "#Writing list comprehensions for nested loops\n"
      ],
      "metadata": {
        "id": "qgMaxQpHfHWI"
      }
    },
    {
      "cell_type": "code",
      "source": [
        "# to obsurve how the values added the list\n",
        "range_list= []\n",
        "for num1 in range(4):\n",
        "  print('\\n',num1)\n",
        "  for num2 in range(3):\n",
        "   print('\\n',num1)\n",
        "   range_list.append(num1)\n",
        "   print(range_list)\n",
        "print('\\n\\n',range_list)"
      ],
      "metadata": {
        "id": "OC7lpd-qfc5P",
        "colab": {
          "base_uri": "https://localhost:8080/"
        },
        "outputId": "c61da519-8e2d-4e83-9a75-3d482d152ab0"
      },
      "execution_count": null,
      "outputs": [
        {
          "output_type": "stream",
          "name": "stdout",
          "text": [
            "\n",
            " 0\n",
            "\n",
            " 0\n",
            "[0]\n",
            "\n",
            " 0\n",
            "[0, 0]\n",
            "\n",
            " 0\n",
            "[0, 0, 0]\n",
            "\n",
            " 1\n",
            "\n",
            " 1\n",
            "[0, 0, 0, 1]\n",
            "\n",
            " 1\n",
            "[0, 0, 0, 1, 1]\n",
            "\n",
            " 1\n",
            "[0, 0, 0, 1, 1, 1]\n",
            "\n",
            " 2\n",
            "\n",
            " 2\n",
            "[0, 0, 0, 1, 1, 1, 2]\n",
            "\n",
            " 2\n",
            "[0, 0, 0, 1, 1, 1, 2, 2]\n",
            "\n",
            " 2\n",
            "[0, 0, 0, 1, 1, 1, 2, 2, 2]\n",
            "\n",
            " 3\n",
            "\n",
            " 3\n",
            "[0, 0, 0, 1, 1, 1, 2, 2, 2, 3]\n",
            "\n",
            " 3\n",
            "[0, 0, 0, 1, 1, 1, 2, 2, 2, 3, 3]\n",
            "\n",
            " 3\n",
            "[0, 0, 0, 1, 1, 1, 2, 2, 2, 3, 3, 3]\n",
            "\n",
            "\n",
            " [0, 0, 0, 1, 1, 1, 2, 2, 2, 3, 3, 3]\n"
          ]
        }
      ]
    },
    {
      "cell_type": "code",
      "source": [
        "# to obsurve how the values added the list\n",
        "range_list= []\n",
        "for num1 in range(4):\n",
        "  print('\\n',num1)\n",
        "  for num2 in range(3):\n",
        "   print('\\n',num1)\n",
        "   range_list.append(num2)\n",
        "   print(range_list)\n",
        "print('\\n\\n',range_list)"
      ],
      "metadata": {
        "colab": {
          "base_uri": "https://localhost:8080/"
        },
        "id": "AxIgnSdEA6Se",
        "outputId": "4bbeef93-6723-4a8d-d6ec-548a478daeef"
      },
      "execution_count": null,
      "outputs": [
        {
          "output_type": "stream",
          "name": "stdout",
          "text": [
            "\n",
            " 0\n",
            "\n",
            " 0\n",
            "[0]\n",
            "\n",
            " 0\n",
            "[0, 1]\n",
            "\n",
            " 0\n",
            "[0, 1, 2]\n",
            "\n",
            " 1\n",
            "\n",
            " 1\n",
            "[0, 1, 2, 0]\n",
            "\n",
            " 1\n",
            "[0, 1, 2, 0, 1]\n",
            "\n",
            " 1\n",
            "[0, 1, 2, 0, 1, 2]\n",
            "\n",
            " 2\n",
            "\n",
            " 2\n",
            "[0, 1, 2, 0, 1, 2, 0]\n",
            "\n",
            " 2\n",
            "[0, 1, 2, 0, 1, 2, 0, 1]\n",
            "\n",
            " 2\n",
            "[0, 1, 2, 0, 1, 2, 0, 1, 2]\n",
            "\n",
            " 3\n",
            "\n",
            " 3\n",
            "[0, 1, 2, 0, 1, 2, 0, 1, 2, 0]\n",
            "\n",
            " 3\n",
            "[0, 1, 2, 0, 1, 2, 0, 1, 2, 0, 1]\n",
            "\n",
            " 3\n",
            "[0, 1, 2, 0, 1, 2, 0, 1, 2, 0, 1, 2]\n",
            "\n",
            "\n",
            " [0, 1, 2, 0, 1, 2, 0, 1, 2, 0, 1, 2]\n"
          ]
        }
      ]
    },
    {
      "cell_type": "code",
      "source": [
        "range_list= []\n",
        "for num1 in range(4):\n",
        "  for num2 in range(3):\n",
        "   range_list.append(num2)\n",
        "print(range_list)"
      ],
      "metadata": {
        "id": "m8r75xt4fc75",
        "colab": {
          "base_uri": "https://localhost:8080/"
        },
        "outputId": "b239295a-6451-433e-dd3c-194cd8dbf58d"
      },
      "execution_count": null,
      "outputs": [
        {
          "output_type": "stream",
          "name": "stdout",
          "text": [
            "[0, 1, 2, 0, 1, 2, 0, 1, 2, 0, 1, 2]\n"
          ]
        }
      ]
    },
    {
      "cell_type": "code",
      "source": [
        "nested_list = [num1 for num1 in range(4) for num2 in range(3)]\n",
        "print(nested_list)"
      ],
      "metadata": {
        "id": "2dB9g8vJfc-w",
        "colab": {
          "base_uri": "https://localhost:8080/"
        },
        "outputId": "40445383-4261-4c3d-ec4d-c91fb4d2316f"
      },
      "execution_count": null,
      "outputs": [
        {
          "output_type": "stream",
          "name": "stdout",
          "text": [
            "[0, 0, 0, 1, 1, 1, 2, 2, 2, 3, 3, 3]\n"
          ]
        }
      ]
    },
    {
      "cell_type": "code",
      "source": [
        "nested_list = [num2 for num1 in range(4) for num2 in range(3)]\n",
        "print(nested_list)"
      ],
      "metadata": {
        "id": "ElGTXWAEnC_C",
        "outputId": "92760bd8-90b8-433b-b82f-595d33030669",
        "colab": {
          "base_uri": "https://localhost:8080/"
        }
      },
      "execution_count": null,
      "outputs": [
        {
          "output_type": "stream",
          "name": "stdout",
          "text": [
            "[0, 1, 2, 0, 1, 2, 0, 1, 2, 0, 1, 2]\n"
          ]
        }
      ]
    },
    {
      "cell_type": "markdown",
      "source": [
        "## But that’s not right! I’ve mistakenly flipped the <code>for</code> loops here. The correct version is the one above. When working with nested loops in list comprehensions remember that the for clauses remain in the same order as in our original for loops."
      ],
      "metadata": {
        "id": "QVbde7yfLKmt"
      }
    },
    {
      "cell_type": "markdown",
      "source": [
        "### Now let us see how we can create list of lists using list comprehension"
      ],
      "metadata": {
        "id": "iuPlcrWrLMoA"
      }
    },
    {
      "cell_type": "code",
      "source": [
        "sample_list= [[]]\n",
        "print(len(sample_list))\n",
        "sample_list[0]"
      ],
      "metadata": {
        "colab": {
          "base_uri": "https://localhost:8080/"
        },
        "id": "Ilv-mt_rBa_P",
        "outputId": "951d2c2c-ee6b-45bd-9de1-9520bf24895d"
      },
      "execution_count": null,
      "outputs": [
        {
          "output_type": "stream",
          "name": "stdout",
          "text": [
            "1\n"
          ]
        },
        {
          "output_type": "execute_result",
          "data": {
            "text/plain": [
              "[]"
            ]
          },
          "metadata": {},
          "execution_count": 2
        }
      ]
    },
    {
      "cell_type": "code",
      "source": [
        "list_of_lists = []\n",
        "\n",
        "for num1 in range(4):\n",
        "  # Append an empty sublist inside the list\n",
        "  list_of_lists.append([])  # [[0]] , list_of_lists[1]\n",
        "  #print(list_of_lists)\n",
        "\n",
        "  for num2 in range(3):\n",
        "    # Append the elements within the sublist\n",
        "    list_of_lists[num1].append(num2)  #list_of_lists[0]\n",
        "\n",
        "print(list_of_lists)"
      ],
      "metadata": {
        "colab": {
          "base_uri": "https://localhost:8080/"
        },
        "id": "JFCxWfSfTYYI",
        "outputId": "ed038bb0-7ed9-4659-a885-66afa0c32735"
      },
      "execution_count": null,
      "outputs": [
        {
          "output_type": "stream",
          "name": "stdout",
          "text": [
            "[[0, 1, 2], [0, 1, 2], [0, 1, 2], [0, 1, 2]]\n"
          ]
        }
      ]
    },
    {
      "cell_type": "code",
      "source": [
        "# Using list comprehension we can write the same thing\n",
        "nested_list1 = [[num2 for num2 in range(3)] for num1 in range(4)]\n",
        "nested_list1"
      ],
      "metadata": {
        "colab": {
          "base_uri": "https://localhost:8080/"
        },
        "id": "leJEiuxcBbFW",
        "outputId": "47e5274c-b6f1-4dea-9fa2-141b328d0f56"
      },
      "execution_count": null,
      "outputs": [
        {
          "output_type": "execute_result",
          "data": {
            "text/plain": [
              "[[0, 1, 2], [0, 1, 2], [0, 1, 2], [0, 1, 2]]"
            ]
          },
          "metadata": {},
          "execution_count": 27
        }
      ]
    },
    {
      "cell_type": "code",
      "source": [
        "nested_list2 = [[num1 for num2 in range(3)] for num1 in range(4)]\n",
        "nested_list2"
      ],
      "metadata": {
        "colab": {
          "base_uri": "https://localhost:8080/"
        },
        "id": "1qCF3k1WBbGK",
        "outputId": "cbe44441-fbd1-49a7-8ce1-b4e0604f43b1"
      },
      "execution_count": null,
      "outputs": [
        {
          "output_type": "execute_result",
          "data": {
            "text/plain": [
              "[[0, 0, 0], [1, 1, 1], [2, 2, 2], [3, 3, 3]]"
            ]
          },
          "metadata": {},
          "execution_count": 2
        }
      ]
    },
    {
      "cell_type": "markdown",
      "source": [
        "##Up till now, we have only implemented list comprehension for list objects. We know that there are other iterables in Python which are sequence of elements such as strings, tuples etc. Let us try and apply list comprehension to iterate over their elements."
      ],
      "metadata": {
        "id": "Z5pVDyVin3g-"
      }
    },
    {
      "cell_type": "code",
      "source": [
        "Lao_Tzu_Quote= \"The journey of a thousand miles begins with a single step.\"\n",
        "words_by_Lao = Lao_Tzu_Quote.split(' ')\n",
        "print(words_by_Lao)\n",
        "for word in words_by_Lao:\n",
        "  print(word)\n",
        "\n",
        "# print the firs letters of the words\n",
        "  print(word[0])\n"
      ],
      "metadata": {
        "id": "XSWeGOOxBbWC",
        "colab": {
          "base_uri": "https://localhost:8080/"
        },
        "outputId": "0c9c8ac8-e5f4-4332-a568-d3db02026a4d"
      },
      "execution_count": null,
      "outputs": [
        {
          "output_type": "stream",
          "name": "stdout",
          "text": [
            "['The', 'journey', 'of', 'a', 'thousand', 'miles', 'begins', 'with', 'a', 'single', 'step.']\n",
            "The\n",
            "T\n",
            "journey\n",
            "j\n",
            "of\n",
            "o\n",
            "a\n",
            "a\n",
            "thousand\n",
            "t\n",
            "miles\n",
            "m\n",
            "begins\n",
            "b\n",
            "with\n",
            "w\n",
            "a\n",
            "a\n",
            "single\n",
            "s\n",
            "step.\n",
            "s\n"
          ]
        }
      ]
    },
    {
      "cell_type": "code",
      "source": [
        "# print the firs letters of the words\n",
        "for word in words_by_Lao:\n",
        "  print(word[0])"
      ],
      "metadata": {
        "id": "x5b0Rs_NBbYh",
        "colab": {
          "base_uri": "https://localhost:8080/"
        },
        "outputId": "3ce013da-d6ab-4b14-e5a7-ceef066bd0fc"
      },
      "execution_count": null,
      "outputs": [
        {
          "output_type": "stream",
          "name": "stdout",
          "text": [
            "T\n",
            "j\n",
            "o\n",
            "a\n",
            "t\n",
            "m\n",
            "b\n",
            "w\n",
            "a\n",
            "s\n",
            "s\n"
          ]
        }
      ]
    },
    {
      "cell_type": "markdown",
      "source": [
        "# By list comprehension"
      ],
      "metadata": {
        "id": "B3A_D1-9upI-"
      }
    },
    {
      "cell_type": "code",
      "source": [
        "Lao_Tzu_Quote= \"The journey of a thousand miles begins with a single step.\"\n",
        "words_by_Lao = Lao_Tzu_Quote.split(' ')\n",
        "print(words_by_Lao)\n",
        "first_letter = [word[0] for word in words_by_Lao]\n",
        "print(first_letter)"
      ],
      "metadata": {
        "colab": {
          "base_uri": "https://localhost:8080/"
        },
        "id": "0G1RL-jOuoHC",
        "outputId": "1ba77680-381e-49ca-b476-a0aa6eaa6c0f"
      },
      "execution_count": null,
      "outputs": [
        {
          "output_type": "stream",
          "name": "stdout",
          "text": [
            "['The', 'journey', 'of', 'a', 'thousand', 'miles', 'begins', 'with', 'a', 'single', 'step.']\n",
            "['T', 'j', 'o', 'a', 't', 'm', 'b', 'w', 'a', 's', 's']\n"
          ]
        }
      ]
    },
    {
      "cell_type": "markdown",
      "source": [
        "#We can also use list comprehension to get a tuple as well.\n",
        "Note we cannot just specify parentheses and get this to work. It would create a generator object so we need to call the tuple function\n"
      ],
      "metadata": {
        "id": "GjiA7qqCuoen"
      }
    },
    {
      "cell_type": "code",
      "source": [
        "days = ('Monday' ,'Tuesday' ,'Wednesday' ,'Thursday' ,'Friday','Saturday','Sunday')\n",
        "first_letter = tuple(word[0] for word in days)\n",
        "print(first_letter)"
      ],
      "metadata": {
        "id": "SFVUn41MBbbX",
        "colab": {
          "base_uri": "https://localhost:8080/"
        },
        "outputId": "0ef6e738-1189-42b6-d764-2684a42e6cbb"
      },
      "execution_count": null,
      "outputs": [
        {
          "output_type": "stream",
          "name": "stdout",
          "text": [
            "('M', 'T', 'W', 'T', 'F', 'S', 'S')\n"
          ]
        }
      ]
    },
    {
      "cell_type": "code",
      "source": [
        "first_letter = tuple(word[:-2] for word in days)\n",
        "print(first_letter)"
      ],
      "metadata": {
        "colab": {
          "base_uri": "https://localhost:8080/"
        },
        "id": "X4u4cvL6wDjQ",
        "outputId": "fb07c663-f5a1-49e4-e463-a48f8576af7d"
      },
      "execution_count": null,
      "outputs": [
        {
          "output_type": "stream",
          "name": "stdout",
          "text": [
            "('Mond', 'Tuesd', 'Wednesd', 'Thursd', 'Frid', 'Saturd', 'Sund')\n"
          ]
        }
      ]
    },
    {
      "cell_type": "markdown",
      "source": [
        "##Set Comprehension"
      ],
      "metadata": {
        "id": "YKcOf9riDSPG"
      }
    },
    {
      "cell_type": "code",
      "source": [
        "Lao_Tzu_Quote= \"The journey of a thousand miles begins with a single step.\"\n",
        "words_in_Lao =Lao_Tzu_Quote.split(' ')\n",
        "print(words_in_Lao)\n",
        "\n",
        "# By Normal for loop\n",
        "set_comprehension = set()\n",
        "for words in words_in_Lao:\n",
        "  set_comprehension.add(words)\n",
        "print(set_comprehension)  # so in the set the words are arranged in uniqe and un positional\n"
      ],
      "metadata": {
        "colab": {
          "base_uri": "https://localhost:8080/"
        },
        "id": "qEKrsYMGqQ5m",
        "outputId": "20260c92-ca60-4cce-b0b7-f4d9b0e6488f"
      },
      "execution_count": 1,
      "outputs": [
        {
          "output_type": "stream",
          "name": "stdout",
          "text": [
            "['The', 'journey', 'of', 'a', 'thousand', 'miles', 'begins', 'with', 'a', 'single', 'step.']\n",
            "{'a', 'with', 'step.', 'of', 'begins', 'thousand', 'single', 'journey', 'miles', 'The'}\n"
          ]
        }
      ]
    },
    {
      "cell_type": "code",
      "source": [
        "for words in words_in_Lao:\n",
        "  set_comprehension.add(words[0])\n",
        "print(set_comprehension)\n"
      ],
      "metadata": {
        "colab": {
          "base_uri": "https://localhost:8080/"
        },
        "id": "qiHD70SUEw06",
        "outputId": "20099f49-3265-4094-8809-3078144644f4"
      },
      "execution_count": null,
      "outputs": [
        {
          "output_type": "stream",
          "name": "stdout",
          "text": [
            "{'w', 'm', 't', 'b', 's', 'a', 'o', 'T', 'j'}\n"
          ]
        }
      ]
    },
    {
      "cell_type": "code",
      "source": [
        "set_comprehension = {words[0] for words in words_in_Lao}\n",
        "set_comprehension"
      ],
      "metadata": {
        "id": "wcZO1zkCEw20",
        "colab": {
          "base_uri": "https://localhost:8080/"
        },
        "outputId": "b0b609ce-a4af-4a7b-ccee-2e1809043b9a"
      },
      "execution_count": 3,
      "outputs": [
        {
          "output_type": "execute_result",
          "data": {
            "text/plain": [
              "{'T', 'a', 'b', 'j', 'm', 'o', 's', 't', 'w'}"
            ]
          },
          "metadata": {},
          "execution_count": 3
        }
      ]
    },
    {
      "cell_type": "code",
      "source": [],
      "metadata": {
        "id": "nFu2mgr0Ew5m"
      },
      "execution_count": null,
      "outputs": []
    },
    {
      "cell_type": "markdown",
      "source": [],
      "metadata": {
        "id": "cfIsIQWafdN_"
      }
    }
  ]
}