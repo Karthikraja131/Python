{
  "nbformat": 4,
  "nbformat_minor": 0,
  "metadata": {
    "colab": {
      "provenance": [],
      "authorship_tag": "ABX9TyPSkGw6xK8G/LAwPWifR+XK",
      "include_colab_link": true
    },
    "kernelspec": {
      "name": "python3",
      "display_name": "Python 3"
    },
    "language_info": {
      "name": "python"
    }
  },
  "cells": [
    {
      "cell_type": "markdown",
      "metadata": {
        "id": "view-in-github",
        "colab_type": "text"
      },
      "source": [
        "<a href=\"https://colab.research.google.com/github/Karthikraja131/Python/blob/main/Python_List_comprehensions.ipynb\" target=\"_parent\"><img src=\"https://colab.research.google.com/assets/colab-badge.svg\" alt=\"Open In Colab\"/></a>"
      ]
    },
    {
      "cell_type": "markdown",
      "source": [
        "##List comprehensions\n",
        "*  List comprehensions are a tool for transforming one list (any iterable actually) into another list. During this transformation, elements can be conditionally included in the new list and each element can be transformed as needed.\n",
        "\n",
        "*  List comprehensions in Python are great, but mastering them can be tricky because they don’t solve a new problem: they **just provide a new syntax** to solve an existing problem.\n",
        "\n",
        "#From loops to comprehensions\n",
        "\n",
        "*  Every list comprehension can be rewritten as a for loop but not every for loop can be rewritten as a list comprehension. The key to understanding when to use list comprehensions is to practice identifying problems that smell like list comprehensions. If you can rewrite your code to look just like this for loop, you can also rewrite it as a list comprehension:\n",
        "\n",
        "#example-1: getting the squares of the numbers in a list"
      ],
      "metadata": {
        "id": "_LZ3WXEdfd5m"
      }
    },
    {
      "cell_type": "code",
      "execution_count": 2,
      "metadata": {
        "id": "OvzY6PLKfMzw"
      },
      "outputs": [],
      "source": [
        "# The list of numbers\n",
        "list_of_numbers = [1, 2, 4, 6, 8, 10, 12, 20]"
      ]
    },
    {
      "cell_type": "markdown",
      "source": [
        "By usual way to do this using  for loop is described below:"
      ],
      "metadata": {
        "id": "h5gPZMqjmtJB"
      }
    },
    {
      "cell_type": "code",
      "source": [
        "squared_list =[]\n",
        "for number in list_of_numbers:\n",
        "  squared_list.append(number**2)\n",
        "print(squared_list)"
      ],
      "metadata": {
        "colab": {
          "base_uri": "https://localhost:8080/"
        },
        "id": "9u3YRedbfcuj",
        "outputId": "aa066e14-93f6-41ef-d53d-623893ce3f26"
      },
      "execution_count": 3,
      "outputs": [
        {
          "output_type": "stream",
          "name": "stdout",
          "text": [
            "[1, 4, 16, 36, 64, 100, 144, 400]\n"
          ]
        }
      ]
    },
    {
      "cell_type": "code",
      "source": [],
      "metadata": {
        "id": "YfwjUfYNfcwo"
      },
      "execution_count": null,
      "outputs": []
    },
    {
      "cell_type": "code",
      "source": [],
      "metadata": {
        "id": "9ozcbMDXfcyx"
      },
      "execution_count": null,
      "outputs": []
    },
    {
      "cell_type": "code",
      "source": [],
      "metadata": {
        "id": "xVoPxks5fc04"
      },
      "execution_count": null,
      "outputs": []
    },
    {
      "cell_type": "code",
      "source": [],
      "metadata": {
        "id": "MJJeRAF9fc3F"
      },
      "execution_count": null,
      "outputs": []
    },
    {
      "cell_type": "code",
      "source": [],
      "metadata": {
        "id": "OC7lpd-qfc5P"
      },
      "execution_count": null,
      "outputs": []
    },
    {
      "cell_type": "code",
      "source": [],
      "metadata": {
        "id": "m8r75xt4fc75"
      },
      "execution_count": null,
      "outputs": []
    },
    {
      "cell_type": "code",
      "source": [],
      "metadata": {
        "id": "2dB9g8vJfc-w"
      },
      "execution_count": null,
      "outputs": []
    },
    {
      "cell_type": "markdown",
      "source": [],
      "metadata": {
        "id": "cfIsIQWafdN_"
      }
    }
  ]
}